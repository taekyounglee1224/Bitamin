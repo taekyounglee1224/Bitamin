{
  "nbformat": 4,
  "nbformat_minor": 0,
  "metadata": {
    "colab": {
      "provenance": [],
      "gpuType": "T4"
    },
    "kernelspec": {
      "name": "python3",
      "display_name": "Python 3"
    },
    "language_info": {
      "name": "python"
    },
    "accelerator": "GPU"
  },
  "cells": [
    {
      "cell_type": "markdown",
      "source": [
        "## 앙상블 학습"
      ],
      "metadata": {
        "id": "EmY7i4m03DCJ"
      }
    },
    {
      "cell_type": "code",
      "source": [
        "import pandas as pd\n",
        "import numpy as np\n",
        "\n",
        "from sklearn.preprocessing import LabelEncoder\n",
        "from sklearn.ensemble import VotingClassifier\n",
        "from sklearn.linear_model import LogisticRegression\n",
        "from sklearn.neighbors import KNeighborsClassifier\n",
        "from sklearn.ensemble import RandomForestClassifier\n",
        "from sklearn.model_selection import train_test_split\n",
        "from sklearn.metrics import accuracy_score\n",
        "from sklearn.ensemble import GradientBoostingClassifier\n",
        "from sklearn.ensemble import AdaBoostClassifier\n",
        "\n",
        "import time\n",
        "import warnings\n",
        "warnings.filterwarnings('ignore')\n",
        "\n",
        "# 데이터 불러오기\n",
        "cancer = load_breast_cancer()\n",
        "df = pd.read_csv('./diabetes.csv')\n",
        "\n",
        "X = df.drop(['Outcome'], axis=1)\n",
        "y = df['Outcome']"
      ],
      "metadata": {
        "id": "6Nwayv_x4jfs"
      },
      "execution_count": 3,
      "outputs": []
    },
    {
      "cell_type": "markdown",
      "source": [
        "다음 실습을 통해 하드 보팅과 소프트 보팅의 정확도를 비교해보고, 앙상블 방식이 아닌 개별 분류기의 예측 성능 또한 출력해서 비교\n",
        "\n",
        "사용할 개별 분류기:\n",
        "1. 로지스틱 회귀\n",
        "2. K 최근접 이웃\n",
        "3. 랜덤 포레스트"
      ],
      "metadata": {
        "id": "1sDBiUp54jiL"
      }
    },
    {
      "cell_type": "code",
      "source": [
        "from sklearn.metrics import confusion_matrix, accuracy_score, precision_score, recall_score\n",
        "from sklearn.metrics import f1_score, roc_auc_score\n",
        "\n",
        "# 성능 평가 함수\n",
        "def get_clf_eval(y_test, pred=None):\n",
        "  confusion = confusion_matrix(y_test, pred)\n",
        "  accuracy = accuracy_score(y_test, pred)\n",
        "  precision = precision_score(y_test, pred)\n",
        "  recall = recall_score(y_test, pred)\n",
        "  print('오차 행렬')\n",
        "  print(confusion)\n",
        "  print('정확도: {0:.4f}, 정밀도: {1:.4f}, 재현율: {2:.4f}'.format(accuracy, precision, recall))"
      ],
      "metadata": {
        "id": "nHC4t50G40l1"
      },
      "execution_count": 4,
      "outputs": []
    },
    {
      "cell_type": "code",
      "source": [
        "# 개별 모델 생성\n",
        "# 로지스틱 회귀의 solver='liblinear' 설정\n",
        "# K 최근접 이웃의 n_neighbors=8 설정\n",
        "# 랜덤포레스트의 random_state=11 고정\n",
        "\n",
        "lr = LogisticRegression(solver='liblinear')\n",
        "knn = KNeighborsClassifier(n_neighbors=8)\n",
        "rf = RandomForestClassifier(random_state=11)\n",
        "\n",
        "# 데이터 세트 분리\n",
        "# test_size=0.2, random_state=11로 설정해줍니다.\n",
        "X_train, X_test, y_train, y_test = train_test_split(X, y, test_size=0.2, random_state=11)\n",
        "\n",
        "# 하드 보팅 기반의 앙상블 모델로 구현한 분류기 생성\n",
        "vo_hard = VotingClassifier(estimators=[('LR', lr), ('KNN', knn), ('RF', rf)], voting='hard')\n",
        "\n",
        "# Hard Voting Classifier 학습/예측/평가\n",
        "# 평가는 get_clf_eval로 출력해주세요\n",
        "vo_hard.fit(X_train, y_train)\n",
        "pred_h = vo_hard.predict(X_test)\n",
        "print('하드 보팅')\n",
        "get_clf_eval(y_test, pred_h)\n",
        "\n",
        "# 소프트 보팅 기반의 앙상블 모델로 구현한 분류기 생성\n",
        "vo_soft = VotingClassifier(estimators=[('LR', lr), ('KNN', knn), ('RF', rf)], voting='soft')\n",
        "\n",
        "# Soft Voting Classifier 학습/예측/평가\n",
        "# 평가는 get_clf_eval로 출력해주세요\n",
        "vo_soft.fit(X_train, y_train)\n",
        "pred_s = vo_soft.predict(X_test)\n",
        "print('소프트 보팅')\n",
        "get_clf_eval(y_test, pred_s)"
      ],
      "metadata": {
        "id": "z8jjdO3C42hi",
        "colab": {
          "base_uri": "https://localhost:8080/"
        },
        "outputId": "a5ce94ac-397b-4f0f-ac54-bf298e49ff63"
      },
      "execution_count": 5,
      "outputs": [
        {
          "output_type": "stream",
          "name": "stdout",
          "text": [
            "하드 보팅\n",
            "오차 행렬\n",
            "[[90 10]\n",
            " [29 25]]\n",
            "정확도: 0.7468, 정밀도: 0.7143, 재현율: 0.4630\n",
            "소프트 보팅\n",
            "오차 행렬\n",
            "[[86 14]\n",
            " [26 28]]\n",
            "정확도: 0.7403, 정밀도: 0.6667, 재현율: 0.5185\n"
          ]
        }
      ]
    },
    {
      "cell_type": "code",
      "source": [
        "# 개별 모델의 학습/예측/평가 (for문 사용)\n",
        "# 세 가지 분류기를 리스트 형태로 저장\n",
        "classifiers = [lr, knn, rf]\n",
        "\n",
        "# for문을 사용하여 분류기 이름과 해당 분류기를 사용했을 때의 get_clf_eval 출력\n",
        "for classifier in classifiers:\n",
        "  classifier.fit(X_train, y_train)\n",
        "  pred = classifier.predict(X_test)\n",
        "  class_name = classifier.__class__.__name__\n",
        "  print(class_name)\n",
        "  get_clf_eval(y_test, pred)"
      ],
      "metadata": {
        "id": "qcSNIrcb44Ed",
        "colab": {
          "base_uri": "https://localhost:8080/"
        },
        "outputId": "fc312bf3-b479-4ba1-beab-78f4adb0bc5b"
      },
      "execution_count": 6,
      "outputs": [
        {
          "output_type": "stream",
          "name": "stdout",
          "text": [
            "LogisticRegression\n",
            "오차 행렬\n",
            "[[90 10]\n",
            " [31 23]]\n",
            "정확도: 0.7338, 정밀도: 0.6970, 재현율: 0.4259\n",
            "KNeighborsClassifier\n",
            "오차 행렬\n",
            "[[88 12]\n",
            " [31 23]]\n",
            "정확도: 0.7208, 정밀도: 0.6571, 재현율: 0.4259\n",
            "RandomForestClassifier\n",
            "오차 행렬\n",
            "[[85 15]\n",
            " [28 26]]\n",
            "정확도: 0.7208, 정밀도: 0.6341, 재현율: 0.4815\n"
          ]
        }
      ]
    },
    {
      "cell_type": "markdown",
      "source": [
        "### 랜덤 포레스트"
      ],
      "metadata": {
        "id": "eYP9z_nWbsHj"
      }
    },
    {
      "cell_type": "code",
      "source": [
        "X_train,X_test,y_train,y_test = train_test_split(X,y, test_size=0.2, random_state=0)"
      ],
      "metadata": {
        "id": "FLxuGSLz5nfM"
      },
      "execution_count": 7,
      "outputs": []
    },
    {
      "cell_type": "markdown",
      "source": [
        "아래의 코드를 실행시켜 주세요."
      ],
      "metadata": {
        "id": "z78wuLrO5nle"
      }
    },
    {
      "cell_type": "code",
      "source": [
        "rf_clf = RandomForestClassifier(random_state=0)\n",
        "\n",
        "rf_clf.fit(X_train,y_train)\n",
        "pred = rf_clf.predict(X_test)\n",
        "\n",
        "accuracy = accuracy_score(y_test,pred)\n",
        "\n",
        "print('랜덤 포레스트 정확도 : {0:.4f}'.format(accuracy))"
      ],
      "metadata": {
        "id": "05wg1GL_5noK",
        "colab": {
          "base_uri": "https://localhost:8080/"
        },
        "outputId": "1a151d41-5a8d-4bf0-83f0-ab0ddb0d6fef"
      },
      "execution_count": 8,
      "outputs": [
        {
          "output_type": "stream",
          "name": "stdout",
          "text": [
            "랜덤 포레스트 정확도 : 0.7857\n"
          ]
        }
      ]
    },
    {
      "cell_type": "markdown",
      "source": [
        "#### 정확도 개선"
      ],
      "metadata": {
        "id": "2ZTZQ7Q15nql"
      }
    },
    {
      "cell_type": "code",
      "source": [
        "# RandomForestClassifier 객체를 생성\n",
        "rf_clf = RandomForestClassifier(random_state=0,max_depth=8,n_estimators=100,min_samples_leaf=10)\n",
        "\n",
        "# rf_clf를 이용하여 랜덤 포레스트 학습 및 예측 성능을 평가\n",
        "rf_clf.fit(X_train,y_train)\n",
        "pred = rf_clf.predict(X_test)\n",
        "\n",
        "# 정확도를 accuracy변수에 저장\n",
        "accuracy = accuracy_score(y_test,pred)\n",
        "\n",
        "print('랜덤 포레스트 정확도 : {0:.4f}'.format(accuracy))"
      ],
      "metadata": {
        "id": "jcLIsYhB5ntY",
        "colab": {
          "base_uri": "https://localhost:8080/"
        },
        "outputId": "f4b16459-1362-4558-975d-fe261ce2db83"
      },
      "execution_count": 9,
      "outputs": [
        {
          "output_type": "stream",
          "name": "stdout",
          "text": [
            "랜덤 포레스트 정확도 : 0.8312\n"
          ]
        }
      ]
    },
    {
      "cell_type": "markdown",
      "source": [
        "X,y를 train_test_split() 함수로 학습 데이터와 테스트 데이터로 분류"
      ],
      "metadata": {
        "id": "JDwUPTEz2upm"
      }
    },
    {
      "cell_type": "code",
      "source": [
        "# X_features와 y_label을 test_size = 0.2로 분리하고 random_state는 156으로 지정\n",
        "X_train, X_test, y_train, y_test = train_test_split(X, y, test_size = 0.2, random_state = 156)"
      ],
      "metadata": {
        "id": "xIHfdQqh2mDu"
      },
      "execution_count": 10,
      "outputs": []
    },
    {
      "cell_type": "markdown",
      "source": [
        "### Adaboost으로 학습"
      ],
      "metadata": {
        "id": "LHoJ9QLc2nro"
      }
    },
    {
      "cell_type": "markdown",
      "source": [
        "\n",
        "- n_estimators=50, learning_rate=1로 지정합니다."
      ],
      "metadata": {
        "id": "mVSHKJwD21m0"
      }
    },
    {
      "cell_type": "code",
      "source": [
        "# 시작 시간 설정\n",
        "start_time = time.time()\n",
        "\n",
        "# Adaboost 학습 및 예측\n",
        "abc = AdaBoostClassifier(n_estimators=50, learning_rate=1)\n",
        "abc.fit(X_train, y_train)\n",
        "pred = abc.predict(X_test)\n",
        "\n",
        "# Adaboost 정확도와 수행시간 출력\n",
        "print('Adaboost 정확도:', np.round(accuracy_score(y_test, pred),4))\n",
        "print('Adaboost 수행 시간: {0:.3f}초'.format(time.time() - start_time))\n"
      ],
      "metadata": {
        "id": "KsUR4Cx_2503",
        "colab": {
          "base_uri": "https://localhost:8080/"
        },
        "outputId": "9f57464c-2135-4b84-8b00-868597591eec"
      },
      "execution_count": 12,
      "outputs": [
        {
          "output_type": "stream",
          "name": "stdout",
          "text": [
            "Adaboost 정확도: 0.7403\n",
            "Adaboost 수행 시간: 0.216초\n"
          ]
        }
      ]
    },
    {
      "cell_type": "markdown",
      "source": [
        "#### GBM으로 학습하여 정확도와 GBM 수행 시간을 측정\n"
      ],
      "metadata": {
        "id": "oqNZ87uf2787"
      }
    },
    {
      "cell_type": "code",
      "source": [
        "from sklearn.model_selection import GridSearchCV\n",
        "\n",
        "# 시작 시간 설정\n",
        "start_time = time.time()\n",
        "\n",
        "# GBM 학습 및 예측\n",
        "gb_clf = GradientBoostingClassifier(n_estimators=100, learning_rate=0.1)\n",
        "gb_clf.fit(X_train, y_train)\n",
        "gb_pred = gb_clf.predict(X_test)\n",
        "\n",
        "# n_estimators 와 learning_rate는 각각 자유롭게 2개씩 설정하여 params 변수에 딕셔너리 형태로 지정하세요.\n",
        "params = {\n",
        "    'n_estimators':[100,500],\n",
        "    'learning_rate':[0.05, 0.1]\n",
        "}\n",
        "\n",
        "# GridSearchCV를 적용하여 하이퍼 파라미터를 최적화해봅니다.\n",
        "grid_cv = GridSearchCV(gb_clf, param_grid=params, cv=2, verbose=1)\n",
        "grid_cv.fit(X_train, y_train)\n",
        "\n",
        "# GMB 최적 하이퍼 파라미터, 최고 예측 정확도와 수행시간을 순서대로 출력하세요.\n",
        "print('GBM 최적 하이퍼 파라미터:\\n', grid_cv.best_params_)\n",
        "print('GBM 최고 예측 정확도: {0:.4f}'.format(grid_cv.best_score_))\n",
        "print('GBM 수행 시간: {0:.3f}초'.format(time.time() - start_time))\n",
        "\n",
        "# 최적으로 학습된 estimator로 예측 수행하고 정확도를 출력하세요.\n",
        "gb_pred = grid_cv.best_estimator_.predict(X_test)\n",
        "gb_accuracy = accuracy_score(y_test, gb_pred)\n",
        "print('GBM 정확도: {0:.4f}'.format(gb_accuracy))\n"
      ],
      "metadata": {
        "id": "qbAHSrn32-q7",
        "colab": {
          "base_uri": "https://localhost:8080/"
        },
        "outputId": "d832ace1-9f89-4e4f-9f69-25d31d177828"
      },
      "execution_count": 13,
      "outputs": [
        {
          "output_type": "stream",
          "name": "stdout",
          "text": [
            "Fitting 2 folds for each of 4 candidates, totalling 8 fits\n",
            "GBM 최적 하이퍼 파라미터:\n",
            " {'learning_rate': 0.1, 'n_estimators': 100}\n",
            "GBM 최고 예측 정확도: 0.7573\n",
            "GBM 수행 시간: 3.073초\n",
            "GBM 정확도: 0.7597\n"
          ]
        }
      ]
    },
    {
      "cell_type": "markdown",
      "source": [
        "### XGBoost"
      ],
      "metadata": {
        "id": "alWWQ9AJ-ga7"
      }
    },
    {
      "cell_type": "markdown",
      "source": [
        "아래 데이터를 로드"
      ],
      "metadata": {
        "id": "GKPqM5o8-iVU"
      }
    },
    {
      "cell_type": "code",
      "source": [
        "import pandas as pd\n",
        "import xgboost as xgb\n",
        "from xgboost import plot_importance\n",
        "import numpy as np\n",
        "from sklearn. model_selection import train_test_split\n",
        "import warnings\n",
        "warnings.filterwarnings('ignore')\n",
        "\n",
        "diabetes = pd.read_csv('diabetes.csv')\n",
        "\n",
        "features = diabetes.iloc[:,:-1]\n",
        "label = diabetes.iloc[:,-1]"
      ],
      "metadata": {
        "id": "lYNUJUYS2C8K"
      },
      "execution_count": 14,
      "outputs": []
    },
    {
      "cell_type": "markdown",
      "source": [
        "파이썬 래퍼 XGBoost로 학습하여 나온 예측 확률 값 출력(10개씩)"
      ],
      "metadata": {
        "id": "lCTOulgm6l7N"
      }
    },
    {
      "cell_type": "code",
      "source": [
        "# X_features와 y_label을 test_size = 0.2로 분리하고, tarin 데이터에서 10%는 검증용으로 분리하기\n",
        "X_train, X_test, y_train, y_test = train_test_split(features, label, test_size = 0.2, random_state = 156)\n",
        "X_tr, X_val, y_tr, y_val = train_test_split(X_train, y_train, test_size = 0.1, random_state = 156)\n",
        "\n",
        "# DMatrix 생성\n",
        "dtr = xgb.DMatrix(data = X_tr, label = y_tr)\n",
        "dval = xgb.DMatrix(data = X_val, label = y_val)\n",
        "dtest = xgb.DMatrix(data = X_test, label = y_test)\n",
        "\n",
        "# 파라미터 지정\n",
        "params = {'max_depth':3, 'eta':0.05, 'objective':'binary:logistic', 'eval_metric':'logloss'}\n",
        "\n",
        "# XGBoost를 이용하여 학습(부스팅 반복 횟수는 300회, 조기 중단 최소 반복 횟수는 50회)\n",
        "xgb_model = xgb.train(params = params, dtrain = dtr, num_boost_round = 300, early_stopping_rounds = 50, evals = [(dtr,'train'),(dval,'eval')])\n",
        "\n",
        "# XGBoost로 학습하여 나온 예측 확률 값과 예측값을 출력\n",
        "pred_probs = xgb_model.predict(dtest)\n",
        "print(\"예측 확률 값 :\", np.round(pred_probs[:10],4))\n",
        "preds = [1 if x >= 0.5 else 0 for x in pred_probs]\n",
        "print(\"예측 값 :\", preds[:10])\n"
      ],
      "metadata": {
        "id": "s2kkkHMY6gmp",
        "colab": {
          "base_uri": "https://localhost:8080/"
        },
        "outputId": "dcfe6a2e-ddb3-4680-9802-5451704b6f71"
      },
      "execution_count": 15,
      "outputs": [
        {
          "output_type": "stream",
          "name": "stdout",
          "text": [
            "[0]\ttrain-logloss:0.61462\teval-logloss:0.76101\n",
            "[1]\ttrain-logloss:0.60162\teval-logloss:0.74479\n",
            "[2]\ttrain-logloss:0.58980\teval-logloss:0.73108\n",
            "[3]\ttrain-logloss:0.57752\teval-logloss:0.71674\n",
            "[4]\ttrain-logloss:0.56627\teval-logloss:0.70301\n",
            "[5]\ttrain-logloss:0.55592\teval-logloss:0.69129\n",
            "[6]\ttrain-logloss:0.54584\teval-logloss:0.68073\n",
            "[7]\ttrain-logloss:0.53703\teval-logloss:0.67041\n",
            "[8]\ttrain-logloss:0.52829\teval-logloss:0.66225\n",
            "[9]\ttrain-logloss:0.52101\teval-logloss:0.65626\n",
            "[10]\ttrain-logloss:0.51344\teval-logloss:0.64967\n",
            "[11]\ttrain-logloss:0.50706\teval-logloss:0.64293\n",
            "[12]\ttrain-logloss:0.50001\teval-logloss:0.63546\n",
            "[13]\ttrain-logloss:0.49349\teval-logloss:0.62863\n",
            "[14]\ttrain-logloss:0.48746\teval-logloss:0.62240\n",
            "[15]\ttrain-logloss:0.48163\teval-logloss:0.61695\n",
            "[16]\ttrain-logloss:0.47580\teval-logloss:0.61113\n",
            "[17]\ttrain-logloss:0.47109\teval-logloss:0.60880\n",
            "[18]\ttrain-logloss:0.46594\teval-logloss:0.60301\n",
            "[19]\ttrain-logloss:0.46116\teval-logloss:0.59857\n",
            "[20]\ttrain-logloss:0.45693\teval-logloss:0.59576\n",
            "[21]\ttrain-logloss:0.45247\teval-logloss:0.59153\n",
            "[22]\ttrain-logloss:0.44868\teval-logloss:0.58917\n",
            "[23]\ttrain-logloss:0.44461\teval-logloss:0.58391\n",
            "[24]\ttrain-logloss:0.44119\teval-logloss:0.58217\n",
            "[25]\ttrain-logloss:0.43734\teval-logloss:0.57697\n",
            "[26]\ttrain-logloss:0.43410\teval-logloss:0.57440\n",
            "[27]\ttrain-logloss:0.43066\teval-logloss:0.57183\n",
            "[28]\ttrain-logloss:0.42727\teval-logloss:0.56838\n",
            "[29]\ttrain-logloss:0.42440\teval-logloss:0.56742\n",
            "[30]\ttrain-logloss:0.42109\teval-logloss:0.56445\n",
            "[31]\ttrain-logloss:0.41798\teval-logloss:0.56161\n",
            "[32]\ttrain-logloss:0.41496\teval-logloss:0.55952\n",
            "[33]\ttrain-logloss:0.41217\teval-logloss:0.55761\n",
            "[34]\ttrain-logloss:0.40948\teval-logloss:0.55497\n",
            "[35]\ttrain-logloss:0.40673\teval-logloss:0.55275\n",
            "[36]\ttrain-logloss:0.40451\teval-logloss:0.55269\n",
            "[37]\ttrain-logloss:0.40193\teval-logloss:0.55059\n",
            "[38]\ttrain-logloss:0.39956\teval-logloss:0.54900\n",
            "[39]\ttrain-logloss:0.39699\teval-logloss:0.54681\n",
            "[40]\ttrain-logloss:0.39496\teval-logloss:0.54594\n",
            "[41]\ttrain-logloss:0.39260\teval-logloss:0.54522\n",
            "[42]\ttrain-logloss:0.39041\teval-logloss:0.54349\n",
            "[43]\ttrain-logloss:0.38830\teval-logloss:0.54211\n",
            "[44]\ttrain-logloss:0.38616\teval-logloss:0.54179\n",
            "[45]\ttrain-logloss:0.38454\teval-logloss:0.54169\n",
            "[46]\ttrain-logloss:0.38262\teval-logloss:0.54051\n",
            "[47]\ttrain-logloss:0.38077\teval-logloss:0.53946\n",
            "[48]\ttrain-logloss:0.37920\teval-logloss:0.53911\n",
            "[49]\ttrain-logloss:0.37739\teval-logloss:0.53849\n",
            "[50]\ttrain-logloss:0.37549\teval-logloss:0.53801\n",
            "[51]\ttrain-logloss:0.37420\teval-logloss:0.53800\n",
            "[52]\ttrain-logloss:0.37261\teval-logloss:0.53731\n",
            "[53]\ttrain-logloss:0.37091\teval-logloss:0.53698\n",
            "[54]\ttrain-logloss:0.36924\teval-logloss:0.53650\n",
            "[55]\ttrain-logloss:0.36809\teval-logloss:0.53672\n",
            "[56]\ttrain-logloss:0.36667\teval-logloss:0.53638\n",
            "[57]\ttrain-logloss:0.36565\teval-logloss:0.53712\n",
            "[58]\ttrain-logloss:0.36396\teval-logloss:0.53613\n",
            "[59]\ttrain-logloss:0.36286\teval-logloss:0.53677\n",
            "[60]\ttrain-logloss:0.36112\teval-logloss:0.53554\n",
            "[61]\ttrain-logloss:0.36018\teval-logloss:0.53577\n",
            "[62]\ttrain-logloss:0.35890\teval-logloss:0.53499\n",
            "[63]\ttrain-logloss:0.35802\teval-logloss:0.53526\n",
            "[64]\ttrain-logloss:0.35651\teval-logloss:0.53439\n",
            "[65]\ttrain-logloss:0.35558\teval-logloss:0.53510\n",
            "[66]\ttrain-logloss:0.35469\teval-logloss:0.53554\n",
            "[67]\ttrain-logloss:0.35347\teval-logloss:0.53519\n",
            "[68]\ttrain-logloss:0.35265\teval-logloss:0.53601\n",
            "[69]\ttrain-logloss:0.35103\teval-logloss:0.53448\n",
            "[70]\ttrain-logloss:0.34984\teval-logloss:0.53177\n",
            "[71]\ttrain-logloss:0.34907\teval-logloss:0.53243\n",
            "[72]\ttrain-logloss:0.34829\teval-logloss:0.53258\n",
            "[73]\ttrain-logloss:0.34701\teval-logloss:0.53190\n",
            "[74]\ttrain-logloss:0.34627\teval-logloss:0.53185\n",
            "[75]\ttrain-logloss:0.34546\teval-logloss:0.53315\n",
            "[76]\ttrain-logloss:0.34419\teval-logloss:0.53202\n",
            "[77]\ttrain-logloss:0.34357\teval-logloss:0.53281\n",
            "[78]\ttrain-logloss:0.34288\teval-logloss:0.53303\n",
            "[79]\ttrain-logloss:0.34164\teval-logloss:0.53311\n",
            "[80]\ttrain-logloss:0.34103\teval-logloss:0.53389\n",
            "[81]\ttrain-logloss:0.33972\teval-logloss:0.53397\n",
            "[82]\ttrain-logloss:0.33908\teval-logloss:0.53421\n",
            "[83]\ttrain-logloss:0.33787\teval-logloss:0.53477\n",
            "[84]\ttrain-logloss:0.33729\teval-logloss:0.53406\n",
            "[85]\ttrain-logloss:0.33679\teval-logloss:0.53491\n",
            "[86]\ttrain-logloss:0.33506\teval-logloss:0.53591\n",
            "[87]\ttrain-logloss:0.33453\teval-logloss:0.53524\n",
            "[88]\ttrain-logloss:0.33367\teval-logloss:0.53606\n",
            "[89]\ttrain-logloss:0.33319\teval-logloss:0.53690\n",
            "[90]\ttrain-logloss:0.33225\teval-logloss:0.53637\n",
            "[91]\ttrain-logloss:0.33175\teval-logloss:0.53559\n",
            "[92]\ttrain-logloss:0.33067\teval-logloss:0.53615\n",
            "[93]\ttrain-logloss:0.33022\teval-logloss:0.53687\n",
            "[94]\ttrain-logloss:0.32961\teval-logloss:0.53734\n",
            "[95]\ttrain-logloss:0.32913\teval-logloss:0.53675\n",
            "[96]\ttrain-logloss:0.32871\teval-logloss:0.53749\n",
            "[97]\ttrain-logloss:0.32814\teval-logloss:0.53775\n",
            "[98]\ttrain-logloss:0.32692\teval-logloss:0.53633\n",
            "[99]\ttrain-logloss:0.32647\teval-logloss:0.53577\n",
            "[100]\ttrain-logloss:0.32579\teval-logloss:0.53703\n",
            "[101]\ttrain-logloss:0.32504\teval-logloss:0.53775\n",
            "[102]\ttrain-logloss:0.32405\teval-logloss:0.53788\n",
            "[103]\ttrain-logloss:0.32328\teval-logloss:0.53612\n",
            "[104]\ttrain-logloss:0.32285\teval-logloss:0.53563\n",
            "[105]\ttrain-logloss:0.32167\teval-logloss:0.53499\n",
            "[106]\ttrain-logloss:0.32112\teval-logloss:0.53511\n",
            "[107]\ttrain-logloss:0.32040\teval-logloss:0.53347\n",
            "[108]\ttrain-logloss:0.31946\teval-logloss:0.53272\n",
            "[109]\ttrain-logloss:0.31906\teval-logloss:0.53258\n",
            "[110]\ttrain-logloss:0.31867\teval-logloss:0.53339\n",
            "[111]\ttrain-logloss:0.31721\teval-logloss:0.53700\n",
            "[112]\ttrain-logloss:0.31685\teval-logloss:0.53701\n",
            "[113]\ttrain-logloss:0.31633\teval-logloss:0.53711\n",
            "[114]\ttrain-logloss:0.31557\teval-logloss:0.53715\n",
            "[115]\ttrain-logloss:0.31520\teval-logloss:0.53795\n",
            "[116]\ttrain-logloss:0.31420\teval-logloss:0.53841\n",
            "[117]\ttrain-logloss:0.31382\teval-logloss:0.53803\n",
            "[118]\ttrain-logloss:0.31333\teval-logloss:0.53797\n",
            "[119]\ttrain-logloss:0.31269\teval-logloss:0.53668\n",
            "[120]\ttrain-logloss:0.31175\teval-logloss:0.53735\n",
            "예측 확률 값 : [0.4446 0.4775 0.0757 0.5956 0.0081 0.7939 0.8703 0.1371 0.755  0.0153]\n",
            "예측 값 : [0, 0, 0, 1, 0, 1, 1, 0, 1, 0]\n"
          ]
        }
      ]
    },
    {
      "cell_type": "markdown",
      "source": [
        "사이킷런 래퍼 XGBoost로 학습하여 나온 예측값을 10개 출력"
      ],
      "metadata": {
        "id": "9K8X-5Yf6gqs"
      }
    },
    {
      "cell_type": "code",
      "source": [
        "from xgboost import XGBClassifier\n",
        "\n",
        "xgb_wrapper = XGBClassifier(n_estimators = 300, learning_rate = 0.05, max_depth = 3, eval_metric = 'logloss')\n",
        "xgb_wrapper.fit(X_tr, y_tr, early_stopping_rounds = 50, eval_set = [(X_tr, y_tr),(X_val, y_val)], verbose = True)\n",
        "\n",
        "xgb_preds = xgb_wrapper.predict(X_test)\n",
        "print(\"예측 확률 값 :\", np.round(xgb_preds[:10],4))\n"
      ],
      "metadata": {
        "id": "Qic9AUuu6gt7",
        "colab": {
          "base_uri": "https://localhost:8080/"
        },
        "outputId": "4a72a05c-27de-41de-e713-4c7088c44f27"
      },
      "execution_count": 16,
      "outputs": [
        {
          "output_type": "stream",
          "name": "stdout",
          "text": [
            "[0]\tvalidation_0-logloss:0.61462\tvalidation_1-logloss:0.76101\n",
            "[1]\tvalidation_0-logloss:0.60162\tvalidation_1-logloss:0.74479\n",
            "[2]\tvalidation_0-logloss:0.58980\tvalidation_1-logloss:0.73108\n",
            "[3]\tvalidation_0-logloss:0.57752\tvalidation_1-logloss:0.71674\n",
            "[4]\tvalidation_0-logloss:0.56627\tvalidation_1-logloss:0.70301\n",
            "[5]\tvalidation_0-logloss:0.55592\tvalidation_1-logloss:0.69129\n",
            "[6]\tvalidation_0-logloss:0.54584\tvalidation_1-logloss:0.68073\n",
            "[7]\tvalidation_0-logloss:0.53703\tvalidation_1-logloss:0.67041\n",
            "[8]\tvalidation_0-logloss:0.52829\tvalidation_1-logloss:0.66225\n",
            "[9]\tvalidation_0-logloss:0.52101\tvalidation_1-logloss:0.65626\n",
            "[10]\tvalidation_0-logloss:0.51344\tvalidation_1-logloss:0.64967\n",
            "[11]\tvalidation_0-logloss:0.50706\tvalidation_1-logloss:0.64293\n",
            "[12]\tvalidation_0-logloss:0.50001\tvalidation_1-logloss:0.63546\n",
            "[13]\tvalidation_0-logloss:0.49349\tvalidation_1-logloss:0.62863\n",
            "[14]\tvalidation_0-logloss:0.48746\tvalidation_1-logloss:0.62240\n",
            "[15]\tvalidation_0-logloss:0.48163\tvalidation_1-logloss:0.61695\n",
            "[16]\tvalidation_0-logloss:0.47580\tvalidation_1-logloss:0.61113\n",
            "[17]\tvalidation_0-logloss:0.47109\tvalidation_1-logloss:0.60880\n",
            "[18]\tvalidation_0-logloss:0.46594\tvalidation_1-logloss:0.60301\n",
            "[19]\tvalidation_0-logloss:0.46116\tvalidation_1-logloss:0.59857\n",
            "[20]\tvalidation_0-logloss:0.45693\tvalidation_1-logloss:0.59576\n",
            "[21]\tvalidation_0-logloss:0.45247\tvalidation_1-logloss:0.59153\n",
            "[22]\tvalidation_0-logloss:0.44868\tvalidation_1-logloss:0.58917\n",
            "[23]\tvalidation_0-logloss:0.44461\tvalidation_1-logloss:0.58391\n",
            "[24]\tvalidation_0-logloss:0.44119\tvalidation_1-logloss:0.58217\n",
            "[25]\tvalidation_0-logloss:0.43734\tvalidation_1-logloss:0.57697\n",
            "[26]\tvalidation_0-logloss:0.43410\tvalidation_1-logloss:0.57440\n",
            "[27]\tvalidation_0-logloss:0.43066\tvalidation_1-logloss:0.57183\n",
            "[28]\tvalidation_0-logloss:0.42727\tvalidation_1-logloss:0.56838\n",
            "[29]\tvalidation_0-logloss:0.42440\tvalidation_1-logloss:0.56742\n",
            "[30]\tvalidation_0-logloss:0.42109\tvalidation_1-logloss:0.56445\n",
            "[31]\tvalidation_0-logloss:0.41798\tvalidation_1-logloss:0.56161\n",
            "[32]\tvalidation_0-logloss:0.41496\tvalidation_1-logloss:0.55952\n",
            "[33]\tvalidation_0-logloss:0.41217\tvalidation_1-logloss:0.55761\n",
            "[34]\tvalidation_0-logloss:0.40948\tvalidation_1-logloss:0.55497\n",
            "[35]\tvalidation_0-logloss:0.40673\tvalidation_1-logloss:0.55275\n",
            "[36]\tvalidation_0-logloss:0.40451\tvalidation_1-logloss:0.55269\n",
            "[37]\tvalidation_0-logloss:0.40193\tvalidation_1-logloss:0.55059\n",
            "[38]\tvalidation_0-logloss:0.39956\tvalidation_1-logloss:0.54900\n",
            "[39]\tvalidation_0-logloss:0.39699\tvalidation_1-logloss:0.54681\n",
            "[40]\tvalidation_0-logloss:0.39496\tvalidation_1-logloss:0.54594\n",
            "[41]\tvalidation_0-logloss:0.39260\tvalidation_1-logloss:0.54522\n",
            "[42]\tvalidation_0-logloss:0.39041\tvalidation_1-logloss:0.54349\n",
            "[43]\tvalidation_0-logloss:0.38830\tvalidation_1-logloss:0.54211\n",
            "[44]\tvalidation_0-logloss:0.38616\tvalidation_1-logloss:0.54179\n",
            "[45]\tvalidation_0-logloss:0.38454\tvalidation_1-logloss:0.54169\n",
            "[46]\tvalidation_0-logloss:0.38262\tvalidation_1-logloss:0.54051\n",
            "[47]\tvalidation_0-logloss:0.38077\tvalidation_1-logloss:0.53946\n",
            "[48]\tvalidation_0-logloss:0.37920\tvalidation_1-logloss:0.53911\n",
            "[49]\tvalidation_0-logloss:0.37739\tvalidation_1-logloss:0.53849\n",
            "[50]\tvalidation_0-logloss:0.37549\tvalidation_1-logloss:0.53801\n",
            "[51]\tvalidation_0-logloss:0.37420\tvalidation_1-logloss:0.53800\n",
            "[52]\tvalidation_0-logloss:0.37261\tvalidation_1-logloss:0.53731\n",
            "[53]\tvalidation_0-logloss:0.37091\tvalidation_1-logloss:0.53698\n",
            "[54]\tvalidation_0-logloss:0.36924\tvalidation_1-logloss:0.53650\n",
            "[55]\tvalidation_0-logloss:0.36809\tvalidation_1-logloss:0.53672\n",
            "[56]\tvalidation_0-logloss:0.36667\tvalidation_1-logloss:0.53638\n",
            "[57]\tvalidation_0-logloss:0.36565\tvalidation_1-logloss:0.53712\n",
            "[58]\tvalidation_0-logloss:0.36396\tvalidation_1-logloss:0.53613\n",
            "[59]\tvalidation_0-logloss:0.36286\tvalidation_1-logloss:0.53677\n",
            "[60]\tvalidation_0-logloss:0.36112\tvalidation_1-logloss:0.53554\n",
            "[61]\tvalidation_0-logloss:0.36018\tvalidation_1-logloss:0.53577\n",
            "[62]\tvalidation_0-logloss:0.35890\tvalidation_1-logloss:0.53499\n",
            "[63]\tvalidation_0-logloss:0.35802\tvalidation_1-logloss:0.53526\n",
            "[64]\tvalidation_0-logloss:0.35651\tvalidation_1-logloss:0.53439\n",
            "[65]\tvalidation_0-logloss:0.35558\tvalidation_1-logloss:0.53510\n",
            "[66]\tvalidation_0-logloss:0.35469\tvalidation_1-logloss:0.53554\n",
            "[67]\tvalidation_0-logloss:0.35347\tvalidation_1-logloss:0.53519\n",
            "[68]\tvalidation_0-logloss:0.35265\tvalidation_1-logloss:0.53601\n",
            "[69]\tvalidation_0-logloss:0.35103\tvalidation_1-logloss:0.53448\n",
            "[70]\tvalidation_0-logloss:0.34984\tvalidation_1-logloss:0.53177\n",
            "[71]\tvalidation_0-logloss:0.34907\tvalidation_1-logloss:0.53243\n",
            "[72]\tvalidation_0-logloss:0.34829\tvalidation_1-logloss:0.53258\n",
            "[73]\tvalidation_0-logloss:0.34701\tvalidation_1-logloss:0.53190\n",
            "[74]\tvalidation_0-logloss:0.34627\tvalidation_1-logloss:0.53185\n",
            "[75]\tvalidation_0-logloss:0.34546\tvalidation_1-logloss:0.53315\n",
            "[76]\tvalidation_0-logloss:0.34419\tvalidation_1-logloss:0.53202\n",
            "[77]\tvalidation_0-logloss:0.34357\tvalidation_1-logloss:0.53281\n",
            "[78]\tvalidation_0-logloss:0.34288\tvalidation_1-logloss:0.53303\n",
            "[79]\tvalidation_0-logloss:0.34164\tvalidation_1-logloss:0.53311\n",
            "[80]\tvalidation_0-logloss:0.34103\tvalidation_1-logloss:0.53389\n",
            "[81]\tvalidation_0-logloss:0.33972\tvalidation_1-logloss:0.53397\n",
            "[82]\tvalidation_0-logloss:0.33908\tvalidation_1-logloss:0.53421\n",
            "[83]\tvalidation_0-logloss:0.33787\tvalidation_1-logloss:0.53477\n",
            "[84]\tvalidation_0-logloss:0.33729\tvalidation_1-logloss:0.53406\n",
            "[85]\tvalidation_0-logloss:0.33679\tvalidation_1-logloss:0.53491\n",
            "[86]\tvalidation_0-logloss:0.33506\tvalidation_1-logloss:0.53591\n",
            "[87]\tvalidation_0-logloss:0.33453\tvalidation_1-logloss:0.53524\n",
            "[88]\tvalidation_0-logloss:0.33367\tvalidation_1-logloss:0.53606\n",
            "[89]\tvalidation_0-logloss:0.33319\tvalidation_1-logloss:0.53690\n",
            "[90]\tvalidation_0-logloss:0.33225\tvalidation_1-logloss:0.53637\n",
            "[91]\tvalidation_0-logloss:0.33175\tvalidation_1-logloss:0.53559\n",
            "[92]\tvalidation_0-logloss:0.33067\tvalidation_1-logloss:0.53615\n",
            "[93]\tvalidation_0-logloss:0.33022\tvalidation_1-logloss:0.53687\n",
            "[94]\tvalidation_0-logloss:0.32961\tvalidation_1-logloss:0.53734\n",
            "[95]\tvalidation_0-logloss:0.32913\tvalidation_1-logloss:0.53675\n",
            "[96]\tvalidation_0-logloss:0.32871\tvalidation_1-logloss:0.53749\n",
            "[97]\tvalidation_0-logloss:0.32814\tvalidation_1-logloss:0.53775\n",
            "[98]\tvalidation_0-logloss:0.32692\tvalidation_1-logloss:0.53633\n",
            "[99]\tvalidation_0-logloss:0.32647\tvalidation_1-logloss:0.53577\n",
            "[100]\tvalidation_0-logloss:0.32579\tvalidation_1-logloss:0.53703\n",
            "[101]\tvalidation_0-logloss:0.32504\tvalidation_1-logloss:0.53775\n",
            "[102]\tvalidation_0-logloss:0.32405\tvalidation_1-logloss:0.53788\n",
            "[103]\tvalidation_0-logloss:0.32328\tvalidation_1-logloss:0.53612\n",
            "[104]\tvalidation_0-logloss:0.32285\tvalidation_1-logloss:0.53563\n",
            "[105]\tvalidation_0-logloss:0.32167\tvalidation_1-logloss:0.53499\n",
            "[106]\tvalidation_0-logloss:0.32112\tvalidation_1-logloss:0.53511\n",
            "[107]\tvalidation_0-logloss:0.32040\tvalidation_1-logloss:0.53347\n",
            "[108]\tvalidation_0-logloss:0.31946\tvalidation_1-logloss:0.53272\n",
            "[109]\tvalidation_0-logloss:0.31906\tvalidation_1-logloss:0.53258\n",
            "[110]\tvalidation_0-logloss:0.31867\tvalidation_1-logloss:0.53339\n",
            "[111]\tvalidation_0-logloss:0.31721\tvalidation_1-logloss:0.53700\n",
            "[112]\tvalidation_0-logloss:0.31685\tvalidation_1-logloss:0.53701\n",
            "[113]\tvalidation_0-logloss:0.31633\tvalidation_1-logloss:0.53711\n",
            "[114]\tvalidation_0-logloss:0.31557\tvalidation_1-logloss:0.53715\n",
            "[115]\tvalidation_0-logloss:0.31520\tvalidation_1-logloss:0.53795\n",
            "[116]\tvalidation_0-logloss:0.31420\tvalidation_1-logloss:0.53841\n",
            "[117]\tvalidation_0-logloss:0.31382\tvalidation_1-logloss:0.53803\n",
            "[118]\tvalidation_0-logloss:0.31333\tvalidation_1-logloss:0.53797\n",
            "[119]\tvalidation_0-logloss:0.31269\tvalidation_1-logloss:0.53668\n",
            "예측 확률 값 : [0 0 0 1 0 1 1 0 1 0]\n"
          ]
        }
      ]
    },
    {
      "cell_type": "code",
      "source": [],
      "metadata": {
        "id": "PhidM5v0aBxw"
      },
      "execution_count": null,
      "outputs": []
    }
  ]
}