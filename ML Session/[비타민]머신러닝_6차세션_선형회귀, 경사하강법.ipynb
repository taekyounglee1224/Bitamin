{
 "cells": [
  {
   "cell_type": "markdown",
   "metadata": {
    "id": "RWyEo6sGQ4Uc"
   },
   "source": [
    "## Gradient Descent Implementation"
   ]
  },
  {
   "cell_type": "markdown",
   "metadata": {
    "id": "SwsQpQPbQ4Uf"
   },
   "source": [
    "### 문제 1\n",
    "Real Estate 데이터셋 Housing.csv으로 Gradient Descent를 구현하세요."
   ]
  },
  {
   "cell_type": "code",
   "execution_count": null,
   "metadata": {
    "id": "Zi1O8OlqQ4Ug"
   },
   "outputs": [],
   "source": [
    "import numpy as np\n",
    "import pandas as pd\n",
    "import seaborn as sns\n",
    "from sklearn.preprocessing import StandardScaler\n",
    "%matplotlib inline"
   ]
  },
  {
   "cell_type": "markdown",
   "metadata": {
    "id": "A8xafojGQ4Uh"
   },
   "source": [
    "다음의 코드들을 실행하여 housing 변수에 데이터를 로드하고 데이터 전처리를 수행합니다."
   ]
  },
  {
   "cell_type": "code",
   "execution_count": null,
   "metadata": {
    "id": "G3jrhrGqQ4Ui",
    "outputId": "90efc14a-43aa-45dc-ffa6-e085e7be690e"
   },
   "outputs": [
    {
     "data": {
      "text/html": [
       "<div>\n",
       "<style scoped>\n",
       "    .dataframe tbody tr th:only-of-type {\n",
       "        vertical-align: middle;\n",
       "    }\n",
       "\n",
       "    .dataframe tbody tr th {\n",
       "        vertical-align: top;\n",
       "    }\n",
       "\n",
       "    .dataframe thead th {\n",
       "        text-align: right;\n",
       "    }\n",
       "</style>\n",
       "<table border=\"1\" class=\"dataframe\">\n",
       "  <thead>\n",
       "    <tr style=\"text-align: right;\">\n",
       "      <th></th>\n",
       "      <th>price</th>\n",
       "      <th>area</th>\n",
       "      <th>bedrooms</th>\n",
       "      <th>bathrooms</th>\n",
       "      <th>stories</th>\n",
       "      <th>mainroad</th>\n",
       "      <th>guestroom</th>\n",
       "      <th>basement</th>\n",
       "      <th>hotwaterheating</th>\n",
       "      <th>airconditioning</th>\n",
       "      <th>parking</th>\n",
       "      <th>prefarea</th>\n",
       "      <th>furnishingstatus</th>\n",
       "    </tr>\n",
       "  </thead>\n",
       "  <tbody>\n",
       "    <tr>\n",
       "      <th>0</th>\n",
       "      <td>13300000</td>\n",
       "      <td>7420</td>\n",
       "      <td>4</td>\n",
       "      <td>2</td>\n",
       "      <td>3</td>\n",
       "      <td>yes</td>\n",
       "      <td>no</td>\n",
       "      <td>no</td>\n",
       "      <td>no</td>\n",
       "      <td>yes</td>\n",
       "      <td>2</td>\n",
       "      <td>yes</td>\n",
       "      <td>furnished</td>\n",
       "    </tr>\n",
       "    <tr>\n",
       "      <th>1</th>\n",
       "      <td>12250000</td>\n",
       "      <td>8960</td>\n",
       "      <td>4</td>\n",
       "      <td>4</td>\n",
       "      <td>4</td>\n",
       "      <td>yes</td>\n",
       "      <td>no</td>\n",
       "      <td>no</td>\n",
       "      <td>no</td>\n",
       "      <td>yes</td>\n",
       "      <td>3</td>\n",
       "      <td>no</td>\n",
       "      <td>furnished</td>\n",
       "    </tr>\n",
       "    <tr>\n",
       "      <th>2</th>\n",
       "      <td>12250000</td>\n",
       "      <td>9960</td>\n",
       "      <td>3</td>\n",
       "      <td>2</td>\n",
       "      <td>2</td>\n",
       "      <td>yes</td>\n",
       "      <td>no</td>\n",
       "      <td>yes</td>\n",
       "      <td>no</td>\n",
       "      <td>no</td>\n",
       "      <td>2</td>\n",
       "      <td>yes</td>\n",
       "      <td>semi-furnished</td>\n",
       "    </tr>\n",
       "    <tr>\n",
       "      <th>3</th>\n",
       "      <td>12215000</td>\n",
       "      <td>7500</td>\n",
       "      <td>4</td>\n",
       "      <td>2</td>\n",
       "      <td>2</td>\n",
       "      <td>yes</td>\n",
       "      <td>no</td>\n",
       "      <td>yes</td>\n",
       "      <td>no</td>\n",
       "      <td>yes</td>\n",
       "      <td>3</td>\n",
       "      <td>yes</td>\n",
       "      <td>furnished</td>\n",
       "    </tr>\n",
       "    <tr>\n",
       "      <th>4</th>\n",
       "      <td>11410000</td>\n",
       "      <td>7420</td>\n",
       "      <td>4</td>\n",
       "      <td>1</td>\n",
       "      <td>2</td>\n",
       "      <td>yes</td>\n",
       "      <td>yes</td>\n",
       "      <td>yes</td>\n",
       "      <td>no</td>\n",
       "      <td>yes</td>\n",
       "      <td>2</td>\n",
       "      <td>no</td>\n",
       "      <td>furnished</td>\n",
       "    </tr>\n",
       "  </tbody>\n",
       "</table>\n",
       "</div>"
      ],
      "text/plain": [
       "      price  area  bedrooms  bathrooms  stories mainroad guestroom basement  \\\n",
       "0  13300000  7420         4          2        3      yes        no       no   \n",
       "1  12250000  8960         4          4        4      yes        no       no   \n",
       "2  12250000  9960         3          2        2      yes        no      yes   \n",
       "3  12215000  7500         4          2        2      yes        no      yes   \n",
       "4  11410000  7420         4          1        2      yes       yes      yes   \n",
       "\n",
       "  hotwaterheating airconditioning  parking prefarea furnishingstatus  \n",
       "0              no             yes        2      yes        furnished  \n",
       "1              no             yes        3       no        furnished  \n",
       "2              no              no        2      yes   semi-furnished  \n",
       "3              no             yes        3      yes        furnished  \n",
       "4              no             yes        2       no        furnished  "
      ]
     },
     "execution_count": 29,
     "metadata": {},
     "output_type": "execute_result"
    }
   ],
   "source": [
    "# 데이터셋을 불러옵니다\n",
    "import pandas as pd\n",
    "\n",
    "housing = pd.read_csv(\"./Housing.csv\")\n",
    "housing.head()"
   ]
  },
  {
   "cell_type": "code",
   "execution_count": null,
   "metadata": {
    "id": "ZfQQZNVBQ4Uj"
   },
   "outputs": [],
   "source": [
    "# Yes를 1로, No를 0으로 변환\n",
    "housing[\"mainroad\"] = housing[\"mainroad\"].map({\"yes\": 1, \"no\": 0})\n",
    "housing[\"guestroom\"] = housing[\"guestroom\"].map({\"yes\": 1, \"no\": 0})\n",
    "housing[\"basement\"] = housing[\"basement\"].map({\"yes\": 1, \"no\": 0})\n",
    "housing[\"hotwaterheating\"] = housing[\"hotwaterheating\"].map({\"yes\": 1, \"no\": 0})\n",
    "housing[\"airconditioning\"] = housing[\"airconditioning\"].map({\"yes\": 1, \"no\": 0})\n",
    "housing[\"prefarea\"] = housing[\"prefarea\"].map({\"yes\": 1, \"no\": 0})"
   ]
  },
  {
   "cell_type": "markdown",
   "metadata": {
    "id": "6mDygCk0Q4Uk"
   },
   "source": [
    "### 1-1 (7점) - 전처리\n",
    "'furnishingstatus' 칼럼을 pd.get_dummies()를 이용하여 binary DataFrame으로 변환해주세요.(3점)\n",
    "</br>\n",
    "</br>\n",
    "그 후 drop_first 파라미터를 이용하여 'furnished' 칼럼을 제거 후, concat을 이용하여 변환한 binary DataFrame과 기존의 housing DataFrame을 결합해주세요. (2점)\n",
    "</br>\n",
    "</br>\n",
    "결합 후, 전체 DataFrame의 'furnishingstatus' 칼럼을 제거해주세요. (2점)"
   ]
  },
  {
   "cell_type": "code",
   "execution_count": null,
   "metadata": {
    "id": "ypG_BC-zQ4Un"
   },
   "outputs": [],
   "source": [
    "# 'furnishingstatus' 칼럼을 pd.get_dummies()를 이용하여 binary DataFrame으로 변환\n",
    "status = pd.get_dummies(housing[\"furnishingstatus\"], drop_first=True)\n",
    "\n",
    "# drop_first 파라미터를 이용하여 'furnished' 칼럼을 제거 후, concat을 이용하여 변환한 binary DataFrame과 기존의 housing DataFrame을 결합\n",
    "housing = pd.concat([housing, status], axis=1)\n",
    "\n",
    "# 결합 후, 전체 DataFrame의 'furnishingstatus' 칼럼을 제거\n",
    "housing.drop([\"furnishingstatus\"], axis=1, inplace=True)"
   ]
  },
  {
   "cell_type": "code",
   "execution_count": null,
   "metadata": {
    "id": "ltAiv_fTQ4Un",
    "outputId": "18251868-3136-49bb-b7b3-115222ff9ca8"
   },
   "outputs": [
    {
     "data": {
      "text/html": [
       "<div>\n",
       "<style scoped>\n",
       "    .dataframe tbody tr th:only-of-type {\n",
       "        vertical-align: middle;\n",
       "    }\n",
       "\n",
       "    .dataframe tbody tr th {\n",
       "        vertical-align: top;\n",
       "    }\n",
       "\n",
       "    .dataframe thead th {\n",
       "        text-align: right;\n",
       "    }\n",
       "</style>\n",
       "<table border=\"1\" class=\"dataframe\">\n",
       "  <thead>\n",
       "    <tr style=\"text-align: right;\">\n",
       "      <th></th>\n",
       "      <th>price</th>\n",
       "      <th>area</th>\n",
       "      <th>bedrooms</th>\n",
       "      <th>bathrooms</th>\n",
       "      <th>stories</th>\n",
       "      <th>mainroad</th>\n",
       "      <th>guestroom</th>\n",
       "      <th>basement</th>\n",
       "      <th>hotwaterheating</th>\n",
       "      <th>airconditioning</th>\n",
       "      <th>parking</th>\n",
       "      <th>prefarea</th>\n",
       "      <th>semi-furnished</th>\n",
       "      <th>unfurnished</th>\n",
       "    </tr>\n",
       "  </thead>\n",
       "  <tbody>\n",
       "    <tr>\n",
       "      <th>0</th>\n",
       "      <td>13300000</td>\n",
       "      <td>7420</td>\n",
       "      <td>4</td>\n",
       "      <td>2</td>\n",
       "      <td>3</td>\n",
       "      <td>1</td>\n",
       "      <td>0</td>\n",
       "      <td>0</td>\n",
       "      <td>0</td>\n",
       "      <td>1</td>\n",
       "      <td>2</td>\n",
       "      <td>1</td>\n",
       "      <td>False</td>\n",
       "      <td>False</td>\n",
       "    </tr>\n",
       "    <tr>\n",
       "      <th>1</th>\n",
       "      <td>12250000</td>\n",
       "      <td>8960</td>\n",
       "      <td>4</td>\n",
       "      <td>4</td>\n",
       "      <td>4</td>\n",
       "      <td>1</td>\n",
       "      <td>0</td>\n",
       "      <td>0</td>\n",
       "      <td>0</td>\n",
       "      <td>1</td>\n",
       "      <td>3</td>\n",
       "      <td>0</td>\n",
       "      <td>False</td>\n",
       "      <td>False</td>\n",
       "    </tr>\n",
       "    <tr>\n",
       "      <th>2</th>\n",
       "      <td>12250000</td>\n",
       "      <td>9960</td>\n",
       "      <td>3</td>\n",
       "      <td>2</td>\n",
       "      <td>2</td>\n",
       "      <td>1</td>\n",
       "      <td>0</td>\n",
       "      <td>1</td>\n",
       "      <td>0</td>\n",
       "      <td>0</td>\n",
       "      <td>2</td>\n",
       "      <td>1</td>\n",
       "      <td>True</td>\n",
       "      <td>False</td>\n",
       "    </tr>\n",
       "    <tr>\n",
       "      <th>3</th>\n",
       "      <td>12215000</td>\n",
       "      <td>7500</td>\n",
       "      <td>4</td>\n",
       "      <td>2</td>\n",
       "      <td>2</td>\n",
       "      <td>1</td>\n",
       "      <td>0</td>\n",
       "      <td>1</td>\n",
       "      <td>0</td>\n",
       "      <td>1</td>\n",
       "      <td>3</td>\n",
       "      <td>1</td>\n",
       "      <td>False</td>\n",
       "      <td>False</td>\n",
       "    </tr>\n",
       "    <tr>\n",
       "      <th>4</th>\n",
       "      <td>11410000</td>\n",
       "      <td>7420</td>\n",
       "      <td>4</td>\n",
       "      <td>1</td>\n",
       "      <td>2</td>\n",
       "      <td>1</td>\n",
       "      <td>1</td>\n",
       "      <td>1</td>\n",
       "      <td>0</td>\n",
       "      <td>1</td>\n",
       "      <td>2</td>\n",
       "      <td>0</td>\n",
       "      <td>False</td>\n",
       "      <td>False</td>\n",
       "    </tr>\n",
       "  </tbody>\n",
       "</table>\n",
       "</div>"
      ],
      "text/plain": [
       "      price  area  bedrooms  bathrooms  stories  mainroad  guestroom  \\\n",
       "0  13300000  7420         4          2        3         1          0   \n",
       "1  12250000  8960         4          4        4         1          0   \n",
       "2  12250000  9960         3          2        2         1          0   \n",
       "3  12215000  7500         4          2        2         1          0   \n",
       "4  11410000  7420         4          1        2         1          1   \n",
       "\n",
       "   basement  hotwaterheating  airconditioning  parking  prefarea  \\\n",
       "0         0                0                1        2         1   \n",
       "1         0                0                1        3         0   \n",
       "2         1                0                0        2         1   \n",
       "3         1                0                1        3         1   \n",
       "4         1                0                1        2         0   \n",
       "\n",
       "   semi-furnished  unfurnished  \n",
       "0           False        False  \n",
       "1           False        False  \n",
       "2            True        False  \n",
       "3           False        False  \n",
       "4           False        False  "
      ]
     },
     "execution_count": 32,
     "metadata": {},
     "output_type": "execute_result"
    }
   ],
   "source": [
    "housing.head()"
   ]
  },
  {
   "cell_type": "markdown",
   "metadata": {
    "id": "18IJAvFIQ4Uo"
   },
   "source": [
    "### 1-2 (5점) - 전처리\n",
    "\n",
    " <span style='color:orange'>두 방법의 결과가 반드시 같아야 합니다!!</span>\n",
    "\n",
    "StandardScalar를 이용하여 housing DataFrame전체를 standardization 수행해주세요 .(2점)\n",
    "</br>\n",
    "</br>\n",
    "동일한 과정을 수식을 이용하여 직접 구현해주세요. (2점)\n",
    "</br>\n",
    "* (힌트: 표본표준편차가 아닌 모표준편차로 계산하도록 파라미터를 조정하세요)\n",
    "* $Z  = \\frac {(X - m)}  {\\sigma} $\n",
    "\n",
    "두 방법이 같게 나오는지 첫 5행만 확인해보세요. (1점)\n",
    "\n"
   ]
  },
  {
   "cell_type": "code",
   "execution_count": null,
   "metadata": {
    "id": "OunqGcC7Q4Uo",
    "outputId": "cf3faf16-607b-4a09-89b3-b00caeed93b6"
   },
   "outputs": [
    {
     "data": {
      "text/html": [
       "<div>\n",
       "<style scoped>\n",
       "    .dataframe tbody tr th:only-of-type {\n",
       "        vertical-align: middle;\n",
       "    }\n",
       "\n",
       "    .dataframe tbody tr th {\n",
       "        vertical-align: top;\n",
       "    }\n",
       "\n",
       "    .dataframe thead th {\n",
       "        text-align: right;\n",
       "    }\n",
       "</style>\n",
       "<table border=\"1\" class=\"dataframe\">\n",
       "  <thead>\n",
       "    <tr style=\"text-align: right;\">\n",
       "      <th></th>\n",
       "      <th>price</th>\n",
       "      <th>area</th>\n",
       "      <th>bedrooms</th>\n",
       "      <th>bathrooms</th>\n",
       "      <th>stories</th>\n",
       "      <th>mainroad</th>\n",
       "      <th>guestroom</th>\n",
       "      <th>basement</th>\n",
       "      <th>hotwaterheating</th>\n",
       "      <th>airconditioning</th>\n",
       "      <th>parking</th>\n",
       "      <th>prefarea</th>\n",
       "      <th>semi-furnished</th>\n",
       "      <th>unfurnished</th>\n",
       "    </tr>\n",
       "  </thead>\n",
       "  <tbody>\n",
       "    <tr>\n",
       "      <th>0</th>\n",
       "      <td>4.566365</td>\n",
       "      <td>1.046726</td>\n",
       "      <td>1.403419</td>\n",
       "      <td>1.421812</td>\n",
       "      <td>1.378217</td>\n",
       "      <td>0.405623</td>\n",
       "      <td>-0.465315</td>\n",
       "      <td>-0.734539</td>\n",
       "      <td>-0.219265</td>\n",
       "      <td>1.472618</td>\n",
       "      <td>1.517692</td>\n",
       "      <td>1.804941</td>\n",
       "      <td>-0.844888</td>\n",
       "      <td>-0.696429</td>\n",
       "    </tr>\n",
       "    <tr>\n",
       "      <th>1</th>\n",
       "      <td>4.004484</td>\n",
       "      <td>1.757010</td>\n",
       "      <td>1.403419</td>\n",
       "      <td>5.405809</td>\n",
       "      <td>2.532024</td>\n",
       "      <td>0.405623</td>\n",
       "      <td>-0.465315</td>\n",
       "      <td>-0.734539</td>\n",
       "      <td>-0.219265</td>\n",
       "      <td>1.472618</td>\n",
       "      <td>2.679409</td>\n",
       "      <td>-0.554035</td>\n",
       "      <td>-0.844888</td>\n",
       "      <td>-0.696429</td>\n",
       "    </tr>\n",
       "    <tr>\n",
       "      <th>2</th>\n",
       "      <td>4.004484</td>\n",
       "      <td>2.218232</td>\n",
       "      <td>0.047278</td>\n",
       "      <td>1.421812</td>\n",
       "      <td>0.224410</td>\n",
       "      <td>0.405623</td>\n",
       "      <td>-0.465315</td>\n",
       "      <td>1.361397</td>\n",
       "      <td>-0.219265</td>\n",
       "      <td>-0.679063</td>\n",
       "      <td>1.517692</td>\n",
       "      <td>1.804941</td>\n",
       "      <td>1.183588</td>\n",
       "      <td>-0.696429</td>\n",
       "    </tr>\n",
       "    <tr>\n",
       "      <th>3</th>\n",
       "      <td>3.985755</td>\n",
       "      <td>1.083624</td>\n",
       "      <td>1.403419</td>\n",
       "      <td>1.421812</td>\n",
       "      <td>0.224410</td>\n",
       "      <td>0.405623</td>\n",
       "      <td>-0.465315</td>\n",
       "      <td>1.361397</td>\n",
       "      <td>-0.219265</td>\n",
       "      <td>1.472618</td>\n",
       "      <td>2.679409</td>\n",
       "      <td>1.804941</td>\n",
       "      <td>-0.844888</td>\n",
       "      <td>-0.696429</td>\n",
       "    </tr>\n",
       "    <tr>\n",
       "      <th>4</th>\n",
       "      <td>3.554979</td>\n",
       "      <td>1.046726</td>\n",
       "      <td>1.403419</td>\n",
       "      <td>-0.570187</td>\n",
       "      <td>0.224410</td>\n",
       "      <td>0.405623</td>\n",
       "      <td>2.149083</td>\n",
       "      <td>1.361397</td>\n",
       "      <td>-0.219265</td>\n",
       "      <td>1.472618</td>\n",
       "      <td>1.517692</td>\n",
       "      <td>-0.554035</td>\n",
       "      <td>-0.844888</td>\n",
       "      <td>-0.696429</td>\n",
       "    </tr>\n",
       "  </tbody>\n",
       "</table>\n",
       "</div>"
      ],
      "text/plain": [
       "      price      area  bedrooms  bathrooms   stories  mainroad  guestroom  \\\n",
       "0  4.566365  1.046726  1.403419   1.421812  1.378217  0.405623  -0.465315   \n",
       "1  4.004484  1.757010  1.403419   5.405809  2.532024  0.405623  -0.465315   \n",
       "2  4.004484  2.218232  0.047278   1.421812  0.224410  0.405623  -0.465315   \n",
       "3  3.985755  1.083624  1.403419   1.421812  0.224410  0.405623  -0.465315   \n",
       "4  3.554979  1.046726  1.403419  -0.570187  0.224410  0.405623   2.149083   \n",
       "\n",
       "   basement  hotwaterheating  airconditioning   parking  prefarea  \\\n",
       "0 -0.734539        -0.219265         1.472618  1.517692  1.804941   \n",
       "1 -0.734539        -0.219265         1.472618  2.679409 -0.554035   \n",
       "2  1.361397        -0.219265        -0.679063  1.517692  1.804941   \n",
       "3  1.361397        -0.219265         1.472618  2.679409  1.804941   \n",
       "4  1.361397        -0.219265         1.472618  1.517692 -0.554035   \n",
       "\n",
       "   semi-furnished  unfurnished  \n",
       "0       -0.844888    -0.696429  \n",
       "1       -0.844888    -0.696429  \n",
       "2        1.183588    -0.696429  \n",
       "3       -0.844888    -0.696429  \n",
       "4       -0.844888    -0.696429  "
      ]
     },
     "metadata": {},
     "output_type": "display_data"
    }
   ],
   "source": [
    "# StandardScalar를 사용해주세요.\n",
    "scalar = StandardScaler()\n",
    "scaled_housing = scalar.fit_transform(housing)\n",
    "housing = pd.DataFrame(scaled_housing, columns=housing.columns)\n",
    "\n",
    "# 첫 5개의 행만 확인해주세요.\n",
    "housing.head()"
   ]
  },
  {
   "cell_type": "code",
   "execution_count": null,
   "metadata": {
    "id": "A5xRsyvqQ4Up",
    "outputId": "f6f7440b-4ab9-4e9b-db78-e60ce9329d62"
   },
   "outputs": [
    {
     "data": {
      "text/html": [
       "<div>\n",
       "<style scoped>\n",
       "    .dataframe tbody tr th:only-of-type {\n",
       "        vertical-align: middle;\n",
       "    }\n",
       "\n",
       "    .dataframe tbody tr th {\n",
       "        vertical-align: top;\n",
       "    }\n",
       "\n",
       "    .dataframe thead th {\n",
       "        text-align: right;\n",
       "    }\n",
       "</style>\n",
       "<table border=\"1\" class=\"dataframe\">\n",
       "  <thead>\n",
       "    <tr style=\"text-align: right;\">\n",
       "      <th></th>\n",
       "      <th>price</th>\n",
       "      <th>area</th>\n",
       "      <th>bedrooms</th>\n",
       "      <th>bathrooms</th>\n",
       "      <th>stories</th>\n",
       "      <th>mainroad</th>\n",
       "      <th>guestroom</th>\n",
       "      <th>basement</th>\n",
       "      <th>hotwaterheating</th>\n",
       "      <th>airconditioning</th>\n",
       "      <th>parking</th>\n",
       "      <th>prefarea</th>\n",
       "      <th>semi-furnished</th>\n",
       "      <th>unfurnished</th>\n",
       "    </tr>\n",
       "  </thead>\n",
       "  <tbody>\n",
       "    <tr>\n",
       "      <th>0</th>\n",
       "      <td>4.566365</td>\n",
       "      <td>1.046726</td>\n",
       "      <td>1.403419</td>\n",
       "      <td>1.421812</td>\n",
       "      <td>1.378217</td>\n",
       "      <td>0.405623</td>\n",
       "      <td>-0.465315</td>\n",
       "      <td>-0.734539</td>\n",
       "      <td>-0.219265</td>\n",
       "      <td>1.472618</td>\n",
       "      <td>1.517692</td>\n",
       "      <td>1.804941</td>\n",
       "      <td>-0.844888</td>\n",
       "      <td>-0.696429</td>\n",
       "    </tr>\n",
       "    <tr>\n",
       "      <th>1</th>\n",
       "      <td>4.004484</td>\n",
       "      <td>1.757010</td>\n",
       "      <td>1.403419</td>\n",
       "      <td>5.405809</td>\n",
       "      <td>2.532024</td>\n",
       "      <td>0.405623</td>\n",
       "      <td>-0.465315</td>\n",
       "      <td>-0.734539</td>\n",
       "      <td>-0.219265</td>\n",
       "      <td>1.472618</td>\n",
       "      <td>2.679409</td>\n",
       "      <td>-0.554035</td>\n",
       "      <td>-0.844888</td>\n",
       "      <td>-0.696429</td>\n",
       "    </tr>\n",
       "    <tr>\n",
       "      <th>2</th>\n",
       "      <td>4.004484</td>\n",
       "      <td>2.218232</td>\n",
       "      <td>0.047278</td>\n",
       "      <td>1.421812</td>\n",
       "      <td>0.224410</td>\n",
       "      <td>0.405623</td>\n",
       "      <td>-0.465315</td>\n",
       "      <td>1.361397</td>\n",
       "      <td>-0.219265</td>\n",
       "      <td>-0.679063</td>\n",
       "      <td>1.517692</td>\n",
       "      <td>1.804941</td>\n",
       "      <td>1.183588</td>\n",
       "      <td>-0.696429</td>\n",
       "    </tr>\n",
       "    <tr>\n",
       "      <th>3</th>\n",
       "      <td>3.985755</td>\n",
       "      <td>1.083624</td>\n",
       "      <td>1.403419</td>\n",
       "      <td>1.421812</td>\n",
       "      <td>0.224410</td>\n",
       "      <td>0.405623</td>\n",
       "      <td>-0.465315</td>\n",
       "      <td>1.361397</td>\n",
       "      <td>-0.219265</td>\n",
       "      <td>1.472618</td>\n",
       "      <td>2.679409</td>\n",
       "      <td>1.804941</td>\n",
       "      <td>-0.844888</td>\n",
       "      <td>-0.696429</td>\n",
       "    </tr>\n",
       "    <tr>\n",
       "      <th>4</th>\n",
       "      <td>3.554979</td>\n",
       "      <td>1.046726</td>\n",
       "      <td>1.403419</td>\n",
       "      <td>-0.570187</td>\n",
       "      <td>0.224410</td>\n",
       "      <td>0.405623</td>\n",
       "      <td>2.149083</td>\n",
       "      <td>1.361397</td>\n",
       "      <td>-0.219265</td>\n",
       "      <td>1.472618</td>\n",
       "      <td>1.517692</td>\n",
       "      <td>-0.554035</td>\n",
       "      <td>-0.844888</td>\n",
       "      <td>-0.696429</td>\n",
       "    </tr>\n",
       "  </tbody>\n",
       "</table>\n",
       "</div>"
      ],
      "text/plain": [
       "      price      area  bedrooms  bathrooms   stories  mainroad  guestroom  \\\n",
       "0  4.566365  1.046726  1.403419   1.421812  1.378217  0.405623  -0.465315   \n",
       "1  4.004484  1.757010  1.403419   5.405809  2.532024  0.405623  -0.465315   \n",
       "2  4.004484  2.218232  0.047278   1.421812  0.224410  0.405623  -0.465315   \n",
       "3  3.985755  1.083624  1.403419   1.421812  0.224410  0.405623  -0.465315   \n",
       "4  3.554979  1.046726  1.403419  -0.570187  0.224410  0.405623   2.149083   \n",
       "\n",
       "   basement  hotwaterheating  airconditioning   parking  prefarea  \\\n",
       "0 -0.734539        -0.219265         1.472618  1.517692  1.804941   \n",
       "1 -0.734539        -0.219265         1.472618  2.679409 -0.554035   \n",
       "2  1.361397        -0.219265        -0.679063  1.517692  1.804941   \n",
       "3  1.361397        -0.219265         1.472618  2.679409  1.804941   \n",
       "4  1.361397        -0.219265         1.472618  1.517692 -0.554035   \n",
       "\n",
       "   semi-furnished  unfurnished  \n",
       "0       -0.844888    -0.696429  \n",
       "1       -0.844888    -0.696429  \n",
       "2        1.183588    -0.696429  \n",
       "3       -0.844888    -0.696429  \n",
       "4       -0.844888    -0.696429  "
      ]
     },
     "metadata": {},
     "output_type": "display_data"
    }
   ],
   "source": [
    "# 수식으로 직접 구현해주세요.\n",
    "housing = (housing - housing.mean()) / housing.std(ddof=0)\n",
    "\n",
    "# 첫 5개의 행만 확인해주세요.\n",
    "housing.head()"
   ]
  },
  {
   "cell_type": "markdown",
   "metadata": {
    "id": "3hyZ7zd5Q4Uq"
   },
   "source": [
    "### 1-3 (15점) - Simple linear Regression\n",
    "featue 데이터 세트 X에 'area' 칼럼을, target값 y에 'price'칼럼을 assign해주세요.(1점)\n",
    "</br>\n",
    "</br>\n",
    "pairplot을 사용하여 <span style='color:orange'> 다음 그림과 같이 </span> 나타내주세요. (size=7, aspect=0.7로 지정해주세요) (2점)\n",
    "</br>\n",
    "</br>\n"
   ]
  },
  {
   "cell_type": "code",
   "execution_count": null,
   "metadata": {
    "id": "nLOwJkozQ4Uq"
   },
   "outputs": [],
   "source": [
    "# Assign X\n",
    "X = housing[\"area\"]\n",
    "\n",
    "# Assign y\n",
    "y = housing[\"price\"]"
   ]
  },
  {
   "cell_type": "code",
   "execution_count": null,
   "metadata": {
    "id": "RbGjmr77Q4Uq",
    "outputId": "e1b85de7-0a04-4d50-faf5-1b141b790803"
   },
   "outputs": [
    {
     "name": "stderr",
     "output_type": "stream",
     "text": [
      "/Users/eric/anaconda3/lib/python3.11/site-packages/seaborn/axisgrid.py:2095: UserWarning: The `size` parameter has been renamed to `height`; please update your code.\n",
      "  warnings.warn(msg, UserWarning)\n",
      "/Users/eric/anaconda3/lib/python3.11/site-packages/seaborn/axisgrid.py:118: UserWarning: The figure layout has changed to tight\n",
      "  self._figure.tight_layout(*args, **kwargs)\n"
     ]
    },
    {
     "data": {
      "text/plain": [
       "<seaborn.axisgrid.PairGrid at 0x16a3e8d10>"
      ]
     },
     "metadata": {},
     "output_type": "display_data"
    },
    {
     "data": {
      "image/png": "[encoded data removed]",
      "text/plain": [
       "<Figure size 490x700 with 1 Axes>"
      ]
     },
     "metadata": {},
     "output_type": "display_data"
    }
   ],
   "source": [
    "# pairplot을 이용하여 그림과 동일하게 시각화해주세요.\n",
    "sns.pairplot(housing, x_vars=\"area\", y_vars=\"price\", size=7, aspect=0.7, kind=\"scatter\")"
   ]
  },
  {
   "cell_type": "code",
   "execution_count": null,
   "metadata": {
    "id": "KyVzHHP6Q4Uq",
    "outputId": "85a618ed-ff6c-4a34-d0e7-666ae61ad1c7"
   },
   "outputs": [
    {
     "data": {
      "text/plain": [
       "((545, 1), (545, 1))"
      ]
     },
     "execution_count": 37,
     "metadata": {},
     "output_type": "execute_result"
    }
   ],
   "source": [
    "# X, y를 각각 2차원 ndarray로 변환해줍니다.\n",
    "import numpy as np\n",
    "\n",
    "X = np.array(X).reshape(-1, 1)\n",
    "y = np.array(y).reshape(-1, 1)\n",
    "\n",
    "X.shape, y.shape"
   ]
  },
  {
   "cell_type": "markdown",
   "metadata": {
    "id": "4MK3C9k5Q4Ur"
   },
   "source": [
    "예측 오차 비용 계산을 수행하는 함수 get_cost를 생성해주세요. (1점)"
   ]
  },
  {
   "cell_type": "code",
   "execution_count": null,
   "metadata": {
    "id": "P8ZKomYLQ4Ur"
   },
   "outputs": [],
   "source": [
    "# 예측 오차 비용 계산을 수행하는 함수 생성\n",
    "def get_cost(y, y_pred):\n",
    "    N = len(y)\n",
    "    cost = np.sum(np.square(y - y_pred)) / N\n",
    "    return cost"
   ]
  },
  {
   "cell_type": "markdown",
   "metadata": {
    "id": "Mvj8WfXYQ4Ur"
   },
   "source": [
    "각 iteration 마다 w1, w0를 업데이트하고 cost를 계산할 get_weight_updates 함수를 생성해주세요. (3점)"
   ]
  },
  {
   "cell_type": "code",
   "execution_count": null,
   "metadata": {
    "id": "nOKVOSezQ4Ur"
   },
   "outputs": [],
   "source": [
    "\n",
    "# w1 과 w0 를 업데이트 할 w1_update, w0_update를 반환.\n",
    "\n",
    "def get_weight_updates(w1, w0, X, y, learning_rate=0.01):\n",
    "    N = len(y)\n",
    "\n",
    "    # 먼저 w1_update, w0_update를 각각 w1, w0의 shape와 동일한 크기를 가진 0 값으로 초기화\n",
    "    w1_update = np.zeros_like(w1)\n",
    "    w0_update = np.zeros_like(w0)\n",
    "\n",
    "    # 예측 배열 계산하고 예측과 실제 값의 차이 계산\n",
    "    y_pred = np.dot(X, w1.T) + w0\n",
    "    diff = y - y_pred\n",
    "\n",
    "    # w0_update를 dot 행렬 연산으로 구하기 위해 모두 1값을 가진 행렬 생성\n",
    "    w0_factor = np.ones((N, 1))\n",
    "\n",
    "    # w1과 w0을 업데이트할 w1_update와 w0_update 계산\n",
    "    w1_update = -(2 / N) * (learning_rate) * (np.dot(X.T, diff))\n",
    "    w0_update = -(2 / N) * (learning_rate) * (np.dot(w0_factor.T, diff))\n",
    "\n",
    "    # get_cost function을 이용하여 cost 변수에 예측 오차 비용을 assign\n",
    "    cost = get_cost(y, y_pred)\n",
    "\n",
    "    return w1_update, w0_update, cost"
   ]
  },
  {
   "cell_type": "markdown",
   "metadata": {
    "id": "UzuJPXkQQ4Ur"
   },
   "source": [
    "각 iteration별 w1, w0, cost를 기록할 gd_df DataFrame을 반환하는 함수 gradient_descent_steps를 생성해주세요. (4점)"
   ]
  },
  {
   "cell_type": "code",
   "execution_count": null,
   "metadata": {
    "id": "GmpBJxnuQ4Us"
   },
   "outputs": [],
   "source": [
    "\n",
    "# 입력 인자 iters로 주어진 횟수만큼 반복적으로 w1과 w0를 업데이트 적용함.\n",
    "def gradient_descent_steps(X, y, iters=1000):\n",
    "    # w0와 w1을 모두 0으로 초기화.\n",
    "    w0 = np.zeros((1, 1))\n",
    "    w1 = np.zeros((1, 1))\n",
    "\n",
    "    # 'w1', 'w0', 'cost'를 column으로 가지는 새로운 DataFrame gd_df 생성.\n",
    "    gd_df = pd.DataFrame(columns=[\"w1\", \"w0\", \"cost\"])\n",
    "\n",
    "    # 인자로 주어진 iters 만큼 반복적으로 get_weight_updates() 호출하여 w1, w0 업데이트 수행하고 cost 반환\n",
    "    for ind in range(iters):\n",
    "        w1_update, w0_update, cost = get_weight_updates(\n",
    "            w1, w0, X, y, learning_rate=0.01\n",
    "        )\n",
    "        w1 -= w1_update\n",
    "        w0 -= w0_update\n",
    "\n",
    "        # gd_df에 각 iteration별 'w1', 'w0', 'cost'를 기재\n",
    "        gd_df.loc[ind] = [w1[0, 0], w0[0, 0], cost]\n",
    "\n",
    "    # gd_df를 반환\n",
    "    return gd_df"
   ]
  },
  {
   "cell_type": "markdown",
   "metadata": {
    "id": "0QhtNbm6Q4Us"
   },
   "source": [
    "gradient_descent_steps의 반환값을 이용하여 gd_df에 assign 해주세요."
   ]
  },
  {
   "cell_type": "code",
   "execution_count": null,
   "metadata": {
    "id": "dXMhpHkeQ4Us"
   },
   "outputs": [],
   "source": [
    "gd_df = gradient_descent_steps(X, y)"
   ]
  },
  {
   "cell_type": "markdown",
   "metadata": {
    "id": "zF-yvNiWQ4Us"
   },
   "source": [
    "gd_df의 상위 5개 행의 정보가 다음과 일치하는지 확인하세요. (2점)"
   ]
  },
  {
   "cell_type": "code",
   "execution_count": null,
   "metadata": {
    "id": "OLN98lr9Q4Ut",
    "outputId": "800d6eaf-149e-4c91-ee69-9cd8a3bdb349"
   },
   "outputs": [
    {
     "data": {
      "text/html": [
       "<div>\n",
       "<style scoped>\n",
       "    .dataframe tbody tr th:only-of-type {\n",
       "        vertical-align: middle;\n",
       "    }\n",
       "\n",
       "    .dataframe tbody tr th {\n",
       "        vertical-align: top;\n",
       "    }\n",
       "\n",
       "    .dataframe thead th {\n",
       "        text-align: right;\n",
       "    }\n",
       "</style>\n",
       "<table border=\"1\" class=\"dataframe\">\n",
       "  <thead>\n",
       "    <tr style=\"text-align: right;\">\n",
       "      <th></th>\n",
       "      <th>w1</th>\n",
       "      <th>w0</th>\n",
       "      <th>cost</th>\n",
       "    </tr>\n",
       "  </thead>\n",
       "  <tbody>\n",
       "    <tr>\n",
       "      <th>0</th>\n",
       "      <td>0.010720</td>\n",
       "      <td>1.100037e-18</td>\n",
       "      <td>1.000000</td>\n",
       "    </tr>\n",
       "    <tr>\n",
       "      <th>1</th>\n",
       "      <td>0.021225</td>\n",
       "      <td>-1.279303e-18</td>\n",
       "      <td>0.988623</td>\n",
       "    </tr>\n",
       "    <tr>\n",
       "      <th>2</th>\n",
       "      <td>0.031521</td>\n",
       "      <td>2.966027e-18</td>\n",
       "      <td>0.977697</td>\n",
       "    </tr>\n",
       "    <tr>\n",
       "      <th>3</th>\n",
       "      <td>0.041610</td>\n",
       "      <td>1.906732e-18</td>\n",
       "      <td>0.967203</td>\n",
       "    </tr>\n",
       "    <tr>\n",
       "      <th>4</th>\n",
       "      <td>0.051498</td>\n",
       "      <td>-1.874138e-19</td>\n",
       "      <td>0.957125</td>\n",
       "    </tr>\n",
       "  </tbody>\n",
       "</table>\n",
       "</div>"
      ],
      "text/plain": [
       "         w1            w0      cost\n",
       "0  0.010720  1.100037e-18  1.000000\n",
       "1  0.021225 -1.279303e-18  0.988623\n",
       "2  0.031521  2.966027e-18  0.977697\n",
       "3  0.041610  1.906732e-18  0.967203\n",
       "4  0.051498 -1.874138e-19  0.957125"
      ]
     },
     "execution_count": 43,
     "metadata": {},
     "output_type": "execute_result"
    }
   ],
   "source": [
    "# 다음의 코드를 실행해주세요: 그림과 같기만 하면 됩니다.\n",
    "\n",
    "gd_df.head()"
   ]
  },
  {
   "cell_type": "markdown",
   "metadata": {
    "id": "LjVgTkrnQ4Ut"
   },
   "source": [
    "gd_df를 이용하여 다음의 그래프를 그려주세요. (x축: 'index' y축: 'cost', 힌트: reset_index()를 사용하세요) (2점)"
   ]
  },
  {
   "cell_type": "code",
   "execution_count": null,
   "metadata": {
    "id": "jyfAxCJSQ4Ut",
    "outputId": "cbf63f3e-9a11-4563-d0c7-120afe306d78"
   },
   "outputs": [
    {
     "data": {
      "text/plain": [
       "<Axes: xlabel='index'>"
      ]
     },
     "metadata": {},
     "output_type": "display_data"
    },
    {
     "data": {
      "image/png": "[encoded data removed]",
      "text/plain": [
       "<Figure size 640x480 with 1 Axes>"
      ]
     },
     "metadata": {},
     "output_type": "display_data"
    }
   ],
   "source": [
    "# 그래프를 그려주세요\n",
    "gd_df.reset_index().plot.line(x=\"index\", y=[\"cost\"])"
   ]
  },
  {
   "cell_type": "markdown",
   "metadata": {
    "id": "IsW-M3L5Q4Ut"
   },
   "source": [
    "### 1-4 (23점) - Linear Regression w/ Multiple Features\n",
    "featue 데이터 세트 X에 'area', 'bedroom' 칼럼을, target값 y에 'price'칼럼을 assign해주세요.(1점)\n",
    "</br>\n",
    "</br>\n",
    "값이 1만으로 되어있는 X에 'intercept' 칼럼을 추가해주시고, reindex를 이용하여 X의 칼럼 순서를 \"intercept\", \"area\", \"bedrooms\"으로 바꿔주세요 (1점)\n",
    "</br>\n",
    "</br>\n"
   ]
  },
  {
   "cell_type": "code",
   "execution_count": null,
   "metadata": {
    "id": "exodFygeQ4Uu"
   },
   "outputs": [],
   "source": [
    "# Assign X\n",
    "X = housing[[\"area\", \"bedrooms\"]]\n",
    "\n",
    "# Assign y\n",
    "y = housing[\"price\"]"
   ]
  },
  {
   "cell_type": "code",
   "execution_count": null,
   "metadata": {
    "id": "Of-_1BDxQ4Uu",
    "outputId": "e250eb1b-0d87-49a9-a4f7-96d5ea213ba2"
   },
   "outputs": [
    {
     "name": "stderr",
     "output_type": "stream",
     "text": [
      "/var/folders/xx/t2g6ggws01d3pfwzk8m969kr0000gn/T/ipykernel_76635/2832820216.py:2: SettingWithCopyWarning: \n",
      "A value is trying to be set on a copy of a slice from a DataFrame.\n",
      "Try using .loc[row_indexer,col_indexer] = value instead\n",
      "\n",
      "See the caveats in the documentation: https://pandas.pydata.org/pandas-docs/stable/user_guide/indexing.html#returning-a-view-versus-a-copy\n",
      "  X[\"intercept\"] = 1\n"
     ]
    },
    {
     "data": {
      "text/html": [
       "<div>\n",
       "<style scoped>\n",
       "    .dataframe tbody tr th:only-of-type {\n",
       "        vertical-align: middle;\n",
       "    }\n",
       "\n",
       "    .dataframe tbody tr th {\n",
       "        vertical-align: top;\n",
       "    }\n",
       "\n",
       "    .dataframe thead th {\n",
       "        text-align: right;\n",
       "    }\n",
       "</style>\n",
       "<table border=\"1\" class=\"dataframe\">\n",
       "  <thead>\n",
       "    <tr style=\"text-align: right;\">\n",
       "      <th></th>\n",
       "      <th>intercept</th>\n",
       "      <th>area</th>\n",
       "      <th>bedrooms</th>\n",
       "    </tr>\n",
       "  </thead>\n",
       "  <tbody>\n",
       "    <tr>\n",
       "      <th>0</th>\n",
       "      <td>1</td>\n",
       "      <td>1.046726</td>\n",
       "      <td>1.403419</td>\n",
       "    </tr>\n",
       "    <tr>\n",
       "      <th>1</th>\n",
       "      <td>1</td>\n",
       "      <td>1.757010</td>\n",
       "      <td>1.403419</td>\n",
       "    </tr>\n",
       "    <tr>\n",
       "      <th>2</th>\n",
       "      <td>1</td>\n",
       "      <td>2.218232</td>\n",
       "      <td>0.047278</td>\n",
       "    </tr>\n",
       "    <tr>\n",
       "      <th>3</th>\n",
       "      <td>1</td>\n",
       "      <td>1.083624</td>\n",
       "      <td>1.403419</td>\n",
       "    </tr>\n",
       "    <tr>\n",
       "      <th>4</th>\n",
       "      <td>1</td>\n",
       "      <td>1.046726</td>\n",
       "      <td>1.403419</td>\n",
       "    </tr>\n",
       "  </tbody>\n",
       "</table>\n",
       "</div>"
      ],
      "text/plain": [
       "   intercept      area  bedrooms\n",
       "0          1  1.046726  1.403419\n",
       "1          1  1.757010  1.403419\n",
       "2          1  2.218232  0.047278\n",
       "3          1  1.083624  1.403419\n",
       "4          1  1.046726  1.403419"
      ]
     },
     "metadata": {},
     "output_type": "display_data"
    }
   ],
   "source": [
    "\n",
    "# columns of 1s을 X의 intercept 칼럼으로 추가해주세요.\n",
    "X[\"intercept\"] = 1\n",
    "\n",
    "# reindex를 사용하여 X의 칼럼 순서를 바꿔주세요.\n",
    "X = X.reindex([\"intercept\", \"area\", \"bedrooms\"], axis=1)\n",
    "X.head()"
   ]
  },
  {
   "cell_type": "code",
   "execution_count": null,
   "metadata": {
    "id": "w845gjIFQ4Uu"
   },
   "outputs": [],
   "source": [
    "# X, y를 2차원 ndarray로 변환\n",
    "import numpy as np\n",
    "\n",
    "X = np.array(X)\n",
    "y = np.array(y).reshape(-1, 1)\n",
    "\n"
   ]
  },
  {
   "cell_type": "markdown",
   "metadata": {
    "id": "OvojIIQ9Q4Uv"
   },
   "source": [
    "예측 오차 비용 계산을 수행하는 함수 get_cost를 생성해주세요. (1점)"
   ]
  },
  {
   "cell_type": "code",
   "execution_count": null,
   "metadata": {
    "id": "5AFG-MIVQ4Uv"
   },
   "outputs": [],
   "source": [
    "\n",
    "# 예측 오차 비용 계산을 수행하는 함수 생성\n",
    "def get_cost(y, y_pred):\n",
    "    N = len(y)\n",
    "    cost = np.sum(np.square(y - y_pred)) / N\n",
    "    return cost"
   ]
  },
  {
   "cell_type": "markdown",
   "metadata": {
    "id": "pFLNlMb3Q4Uv"
   },
   "source": [
    "(참고사항)"
   ]
  },
  {
   "cell_type": "markdown",
   "metadata": {
    "id": "zw0si9-MQ4Uw"
   },
   "source": [
    "각 iteration 마다 w를 업데이트하고 cost를 계산할 get_weight_updates 함수를 생성해주세요. (5점)"
   ]
  },
  {
   "cell_type": "code",
   "execution_count": null,
   "metadata": {
    "id": "palMeUZIQ4Uw"
   },
   "outputs": [],
   "source": [
    "\n",
    "# w를 업데이트 할 w_update를 반환.\n",
    "def get_weight_updates(w, X, y, learning_rate=0.01):\n",
    "    N = len(y)\n",
    "\n",
    "    # 먼저 w_update를 w의 shape와 동일한 크기를 가진 0 값으로 초기화\n",
    "    w_update = np.zeros_like(w)\n",
    "\n",
    "    # 예측 배열 계산하고 예측과 실제 값의 차이 계산\n",
    "    y_pred = np.dot(X, w)\n",
    "    diff = y - y_pred\n",
    "\n",
    "    # w을 업데이트할 w_update 계산\n",
    "    w_update = -(1 / N) * (learning_rate) * (np.dot(X.T, diff))\n",
    "\n",
    "    # get_cost function을 이용하여 cost 변수에 예측 오차 비용을 assign\n",
    "    cost = get_cost(y, y_pred)\n",
    "\n",
    "    return w_update, cost"
   ]
  },
  {
   "cell_type": "markdown",
   "metadata": {
    "id": "sqrPmT4GQ4Uw"
   },
   "source": [
    "각 iteration별 w, cost를 기록할 gd_df DataFrame을 반환하는 함수 gradient_descent_steps를 생성해주세요. (7점)"
   ]
  },
  {
   "cell_type": "code",
   "execution_count": null,
   "metadata": {
    "id": "609HMg1uQ4Ux"
   },
   "outputs": [],
   "source": [
    "\n",
    "# 입력 인자 iters로 주어진 횟수만큼 반복적으로 w를 업데이트 적용함.\n",
    "def gradient_descent_steps(X, y, iters=1000):\n",
    "    # w을 모두 0으로 초기화.\n",
    "    w = np.zeros((3, 1))\n",
    "\n",
    "    # 'w', 'cost'를 column으로 가지는 새로운 DataFrame gd_df 생성.\n",
    "    gd_df = pd.DataFrame(columns=[\"w\", \"cost\"])\n",
    "\n",
    "    # 인자로 주어진 iters 만큼 반복적으로 get_weight_updates() 호출하여 w 업데이트 수행하고 cost 반환\n",
    "    for ind in range(iters):\n",
    "        w_update, cost = get_weight_updates(w, X, y, learning_rate=0.01)\n",
    "        w -= w_update\n",
    "        # gd_df에 각 iteration별 'w', 'cost'를 기재\n",
    "        gd_df.loc[ind] = [w.flatten(), cost]\n",
    "\n",
    "    # gd_df를 반환\n",
    "    return gd_df"
   ]
  },
  {
   "cell_type": "code",
   "execution_count": null,
   "metadata": {
    "id": "yDBL-E6SQ4Ux"
   },
   "outputs": [],
   "source": [
    "pd.set_option('display.max_colwidth', 100)"
   ]
  },
  {
   "cell_type": "markdown",
   "metadata": {
    "id": "4g00a02aQ4Ux"
   },
   "source": [
    "gd_df의 상위 5개 행의 정보가 다음과 일치하는지 확인하세요. (6점)"
   ]
  },
  {
   "cell_type": "code",
   "execution_count": null,
   "metadata": {
    "id": "9Hs8mwt0Q4Uy",
    "outputId": "bcfd57e1-8813-475f-cae7-a5990e553b6a"
   },
   "outputs": [
    {
     "data": {
      "text/html": [
       "<div>\n",
       "<style scoped>\n",
       "    .dataframe tbody tr th:only-of-type {\n",
       "        vertical-align: middle;\n",
       "    }\n",
       "\n",
       "    .dataframe tbody tr th {\n",
       "        vertical-align: top;\n",
       "    }\n",
       "\n",
       "    .dataframe thead th {\n",
       "        text-align: right;\n",
       "    }\n",
       "</style>\n",
       "<table border=\"1\" class=\"dataframe\">\n",
       "  <thead>\n",
       "    <tr style=\"text-align: right;\">\n",
       "      <th></th>\n",
       "      <th>w</th>\n",
       "      <th>cost</th>\n",
       "    </tr>\n",
       "  </thead>\n",
       "  <tbody>\n",
       "    <tr>\n",
       "      <th>0</th>\n",
       "      <td>[1.7519115617938253e-19, 0.005359973457780798, 0.003664940257738677]</td>\n",
       "      <td>1.000000</td>\n",
       "    </tr>\n",
       "    <tr>\n",
       "      <th>1</th>\n",
       "      <td>[-9.370689749129762e-20, 0.010660781658211174, 0.007285091538379784]</td>\n",
       "      <td>0.991616</td>\n",
       "    </tr>\n",
       "    <tr>\n",
       "      <th>2</th>\n",
       "      <td>[-1.8333958204819102e-19, 0.015903084269726957, 0.010860991579158095]</td>\n",
       "      <td>0.983422</td>\n",
       "    </tr>\n",
       "    <tr>\n",
       "      <th>3</th>\n",
       "      <td>[1.4667166563855279e-19, 0.021087533547479997, 0.01439317173817354]</td>\n",
       "      <td>0.975414</td>\n",
       "    </tr>\n",
       "    <tr>\n",
       "      <th>4</th>\n",
       "      <td>[5.785382366854027e-19, 0.026214774417158263, 0.017882157069440255]</td>\n",
       "      <td>0.967588</td>\n",
       "    </tr>\n",
       "  </tbody>\n",
       "</table>\n",
       "</div>"
      ],
      "text/plain": [
       "                                                                       w  \\\n",
       "0   [1.7519115617938253e-19, 0.005359973457780798, 0.003664940257738677]   \n",
       "1   [-9.370689749129762e-20, 0.010660781658211174, 0.007285091538379784]   \n",
       "2  [-1.8333958204819102e-19, 0.015903084269726957, 0.010860991579158095]   \n",
       "3    [1.4667166563855279e-19, 0.021087533547479997, 0.01439317173817354]   \n",
       "4    [5.785382366854027e-19, 0.026214774417158263, 0.017882157069440255]   \n",
       "\n",
       "       cost  \n",
       "0  1.000000  \n",
       "1  0.991616  \n",
       "2  0.983422  \n",
       "3  0.975414  \n",
       "4  0.967588  "
      ]
     },
     "metadata": {},
     "output_type": "display_data"
    }
   ],
   "source": [
    "# 다음의 코드를 실행해주세요: 사진과 결과만 같으면 됩니다.\n",
    "\n",
    "gd_df = gradient_descent_steps(X, y)\n",
    "gd_df.head()"
   ]
  },
  {
   "cell_type": "markdown",
   "metadata": {
    "id": "4L4MFtwNQ4Uy"
   },
   "source": [
    "gd_df를 이용하여 다음의 그래프를 그려주세요. (x축: 'index' y축: 'cost', 힌트: reset_index()를 사용하세요) (2점)"
   ]
  },
  {
   "cell_type": "code",
   "execution_count": null,
   "metadata": {
    "id": "Crz74N0gQ4Uy",
    "outputId": "d4a55053-9129-4762-8798-5d1caaa061a4"
   },
   "outputs": [
    {
     "data": {
      "text/plain": [
       "<Axes: xlabel='index'>"
      ]
     },
     "metadata": {},
     "output_type": "display_data"
    },
    {
     "data": {
      "image/png": "[encoded data removed]",
      "text/plain": [
       "<Figure size 640x480 with 1 Axes>"
      ]
     },
     "metadata": {},
     "output_type": "display_data"
    }
   ],
   "source": [
    "\n",
    "# print cost\n",
    "gradient_descent_steps(X, y).reset_index().plot.line(\n",
    "    x=\"index\", y=[\"cost\"]\n",
    ")"
   ]
  },
  {
   "cell_type": "markdown",
   "metadata": {
    "id": "QgZayGrsQ-xh"
   },
   "source": [
    "## 문제2"
   ]
  },
  {
   "cell_type": "markdown",
   "metadata": {
    "id": "NtXRL3IZStOY"
   },
   "source": [
    "### 사이킷런 LinearRegression을 이용한 보스턴 주택 가격 예측"
   ]
  },
  {
   "cell_type": "markdown",
   "metadata": {
    "id": "8AXoObO5SyYH"
   },
   "source": [
    "#2. LinearRegression 클래스 - Ordinary Least Squares & 회귀 평가 지표"
   ]
  },
  {
   "cell_type": "markdown",
   "metadata": {
    "id": "9nbOALjgS6vz"
   },
   "source": [
    "### 2-1. 아래 문제의 알파벳 값을 채워넣어 주세요. (6점, 각 2점)\n",
    "\n",
    "(1) fit_intercept 파라미터에서 intercept 절편 값을 계산하지 않고 0으로 지정하고 싶다면 fit_intercept를 (a)로 지정해야한다.\n",
    "\n",
    "(2) Ordinary Least Squeares 기반의 회귀 계수 계산은 입력 피처의 (b)에 많은 영향을 받는다.\n",
    "\n",
    "(3) 피처 간의 상관 관계가 매우 높은 경우 분산이 매우 커져서 오류에 매우 민감해지는데, 이러한 현상을 (c) 문제라고 한다.\n",
    "\n"
   ]
  },
  {
   "cell_type": "markdown",
   "metadata": {
    "id": "OarRb5LAS9Ti"
   },
   "source": [
    "답)\n",
    "(a) False\n",
    "(b) 독립성\n",
    "(c) 다중공선성"
   ]
  },
  {
   "cell_type": "markdown",
   "metadata": {
    "id": "u57zLmZpS-qS"
   },
   "source": [
    "### 2-2. 회귀의 평가를 위한 지표는 실제 값과 회귀 예측값의 차이 값을 기반으로 합니다. 그런데, 이 두 값의 차이를 그냥 더하지 않고 절댓값 평균이나 제곱하여 지표로 사용하는 이유는 무엇일까요? (2점)"
   ]
  },
  {
   "cell_type": "markdown",
   "metadata": {
    "id": "6IkxcxtXTAjL"
   },
   "source": [
    "답) 실제값과 예측값의 차이를 그냥 더하면 +와 -가 섞여서 오류가 상쇄되기 때문에 정확한 지표가 될 수 없다."
   ]
  },
  {
   "cell_type": "markdown",
   "metadata": {
    "id": "4MafHaWXTB7k"
   },
   "source": [
    "### 2-3. cross_val_score나 GridSearchCV와 같은 Scoring 함수에 MAE, MSE, RMSE와 같은 회귀 평가 지표를 적용할 때, 'neg_', 즉 '-1'을 원래 평가 지표 값에 곱해서 음수로 만드는 이유는 무엇일까요? (2점)"
   ]
  },
  {
   "cell_type": "markdown",
   "metadata": {
    "id": "HLSDcXoLTD2h"
   },
   "source": [
    "답) 사이킷런의 scoring 함수가 score 값이 클수록 좋은 평가 결과로 자동 평가하는데, 실제값과 예측값의 오류 차이를 기반으로 하는 회귀 평가 지표의 경우 값이 커지면 오히려 나쁜 모델이라는 의미이므로, -1을 원래 평가 지표 값에 곱해서 음수를 만들어 작은 오류 값이 더 큰 숫자로 인식하게 한다."
   ]
  },
  {
   "cell_type": "markdown",
   "metadata": {
    "id": "3jHa7VgCTFX-"
   },
   "source": [
    "#문제3.  LinearRegression을 이용해 캘리포니아 주택 가격 회귀 구현"
   ]
  },
  {
   "cell_type": "markdown",
   "metadata": {
    "id": "SsL9Q-xuTH4w"
   },
   "source": [
    "### 3-0. 아래의 코드를 실행하여 캘리포니아 주택 가격을 불러와주세요."
   ]
  },
  {
   "cell_type": "code",
   "execution_count": null,
   "metadata": {
    "colab": {
     "base_uri": "https://localhost:8080/",
     "height": 224
    },
    "id": "0R84sUGfSmrI",
    "outputId": "c14fffe8-1554-4727-d6aa-ae9c5b86c14f"
   },
   "outputs": [
    {
     "name": "stdout",
     "output_type": "stream",
     "text": [
      "California 데이터 세트 크기 : (20640, 9)\n"
     ]
    },
    {
     "data": {
      "text/html": [
       "\n",
       "  <div id=\"df-5589d39f-395b-40d0-b531-df28c6a95d2b\" class=\"colab-df-container\">\n",
       "    <div>\n",
       "<style scoped>\n",
       "    .dataframe tbody tr th:only-of-type {\n",
       "        vertical-align: middle;\n",
       "    }\n",
       "\n",
       "    .dataframe tbody tr th {\n",
       "        vertical-align: top;\n",
       "    }\n",
       "\n",
       "    .dataframe thead th {\n",
       "        text-align: right;\n",
       "    }\n",
       "</style>\n",
       "<table border=\"1\" class=\"dataframe\">\n",
       "  <thead>\n",
       "    <tr style=\"text-align: right;\">\n",
       "      <th></th>\n",
       "      <th>MedInc</th>\n",
       "      <th>HouseAge</th>\n",
       "      <th>AveRooms</th>\n",
       "      <th>AveBedrms</th>\n",
       "      <th>Population</th>\n",
       "      <th>AveOccup</th>\n",
       "      <th>Latitude</th>\n",
       "      <th>Longitude</th>\n",
       "      <th>PRICE</th>\n",
       "    </tr>\n",
       "  </thead>\n",
       "  <tbody>\n",
       "    <tr>\n",
       "      <th>0</th>\n",
       "      <td>8.3252</td>\n",
       "      <td>41.0</td>\n",
       "      <td>6.984127</td>\n",
       "      <td>1.023810</td>\n",
       "      <td>322.0</td>\n",
       "      <td>2.555556</td>\n",
       "      <td>37.88</td>\n",
       "      <td>-122.23</td>\n",
       "      <td>4.526</td>\n",
       "    </tr>\n",
       "    <tr>\n",
       "      <th>1</th>\n",
       "      <td>8.3014</td>\n",
       "      <td>21.0</td>\n",
       "      <td>6.238137</td>\n",
       "      <td>0.971880</td>\n",
       "      <td>2401.0</td>\n",
       "      <td>2.109842</td>\n",
       "      <td>37.86</td>\n",
       "      <td>-122.22</td>\n",
       "      <td>3.585</td>\n",
       "    </tr>\n",
       "    <tr>\n",
       "      <th>2</th>\n",
       "      <td>7.2574</td>\n",
       "      <td>52.0</td>\n",
       "      <td>8.288136</td>\n",
       "      <td>1.073446</td>\n",
       "      <td>496.0</td>\n",
       "      <td>2.802260</td>\n",
       "      <td>37.85</td>\n",
       "      <td>-122.24</td>\n",
       "      <td>3.521</td>\n",
       "    </tr>\n",
       "    <tr>\n",
       "      <th>3</th>\n",
       "      <td>5.6431</td>\n",
       "      <td>52.0</td>\n",
       "      <td>5.817352</td>\n",
       "      <td>1.073059</td>\n",
       "      <td>558.0</td>\n",
       "      <td>2.547945</td>\n",
       "      <td>37.85</td>\n",
       "      <td>-122.25</td>\n",
       "      <td>3.413</td>\n",
       "    </tr>\n",
       "    <tr>\n",
       "      <th>4</th>\n",
       "      <td>3.8462</td>\n",
       "      <td>52.0</td>\n",
       "      <td>6.281853</td>\n",
       "      <td>1.081081</td>\n",
       "      <td>565.0</td>\n",
       "      <td>2.181467</td>\n",
       "      <td>37.85</td>\n",
       "      <td>-122.25</td>\n",
       "      <td>3.422</td>\n",
       "    </tr>\n",
       "  </tbody>\n",
       "</table>\n",
       "</div>\n",
       "    <div class=\"colab-df-buttons\">\n",
       "\n",
       "  <div class=\"colab-df-container\">\n",
       "    <button class=\"colab-df-convert\" onclick=\"convertToInteractive('df-5589d39f-395b-40d0-b531-df28c6a95d2b')\"\n",
       "            title=\"Convert this dataframe to an interactive table.\"\n",
       "            style=\"display:none;\">\n",
       "\n",
       "  <svg xmlns=\"http://www.w3.org/2000/svg\" height=\"24px\" viewBox=\"0 -960 960 960\">\n",
       "    <path d=\"M120-120v-720h720v720H120Zm60-500h600v-160H180v160Zm220 220h160v-160H400v160Zm0 220h160v-160H400v160ZM180-400h160v-160H180v160Zm440 0h160v-160H620v160ZM180-180h160v-160H180v160Zm440 0h160v-160H620v160Z\"/>\n",
       "  </svg>\n",
       "    </button>\n",
       "\n",
       "  <style>\n",
       "    .colab-df-container {\n",
       "      display:flex;\n",
       "      gap: 12px;\n",
       "    }\n",
       "\n",
       "    .colab-df-convert {\n",
       "      background-color: #E8F0FE;\n",
       "      border: none;\n",
       "      border-radius: 50%;\n",
       "      cursor: pointer;\n",
       "      display: none;\n",
       "      fill: #1967D2;\n",
       "      height: 32px;\n",
       "      padding: 0 0 0 0;\n",
       "      width: 32px;\n",
       "    }\n",
       "\n",
       "    .colab-df-convert:hover {\n",
       "      background-color: #E2EBFA;\n",
       "      box-shadow: 0px 1px 2px rgba(60, 64, 67, 0.3), 0px 1px 3px 1px rgba(60, 64, 67, 0.15);\n",
       "      fill: #174EA6;\n",
       "    }\n",
       "\n",
       "    .colab-df-buttons div {\n",
       "      margin-bottom: 4px;\n",
       "    }\n",
       "\n",
       "    [theme=dark] .colab-df-convert {\n",
       "      background-color: #3B4455;\n",
       "      fill: #D2E3FC;\n",
       "    }\n",
       "\n",
       "    [theme=dark] .colab-df-convert:hover {\n",
       "      background-color: #434B5C;\n",
       "      box-shadow: 0px 1px 3px 1px rgba(0, 0, 0, 0.15);\n",
       "      filter: drop-shadow(0px 1px 2px rgba(0, 0, 0, 0.3));\n",
       "      fill: #FFFFFF;\n",
       "    }\n",
       "  </style>\n",
       "\n",
       "    <script>\n",
       "      const buttonEl =\n",
       "        document.querySelector('#df-5589d39f-395b-40d0-b531-df28c6a95d2b button.colab-df-convert');\n",
       "      buttonEl.style.display =\n",
       "        google.colab.kernel.accessAllowed ? 'block' : 'none';\n",
       "\n",
       "      async function convertToInteractive(key) {\n",
       "        const element = document.querySelector('#df-5589d39f-395b-40d0-b531-df28c6a95d2b');\n",
       "        const dataTable =\n",
       "          await google.colab.kernel.invokeFunction('convertToInteractive',\n",
       "                                                    [key], {});\n",
       "        if (!dataTable) return;\n",
       "\n",
       "        const docLinkHtml = 'Like what you see? Visit the ' +\n",
       "          '<a target=\"_blank\" href=https://colab.research.google.com/notebooks/data_table.ipynb>data table notebook</a>'\n",
       "          + ' to learn more about interactive tables.';\n",
       "        element.innerHTML = '';\n",
       "        dataTable['output_type'] = 'display_data';\n",
       "        await google.colab.output.renderOutput(dataTable, element);\n",
       "        const docLink = document.createElement('div');\n",
       "        docLink.innerHTML = docLinkHtml;\n",
       "        element.appendChild(docLink);\n",
       "      }\n",
       "    </script>\n",
       "  </div>\n",
       "\n",
       "\n",
       "<div id=\"df-db828a10-88df-4cf6-bb09-f501c6afe719\">\n",
       "  <button class=\"colab-df-quickchart\" onclick=\"quickchart('df-db828a10-88df-4cf6-bb09-f501c6afe719')\"\n",
       "            title=\"Suggest charts.\"\n",
       "            style=\"display:none;\">\n",
       "\n",
       "<svg xmlns=\"http://www.w3.org/2000/svg\" height=\"24px\"viewBox=\"0 0 24 24\"\n",
       "     width=\"24px\">\n",
       "    <g>\n",
       "        <path d=\"M19 3H5c-1.1 0-2 .9-2 2v14c0 1.1.9 2 2 2h14c1.1 0 2-.9 2-2V5c0-1.1-.9-2-2-2zM9 17H7v-7h2v7zm4 0h-2V7h2v10zm4 0h-2v-4h2v4z\"/>\n",
       "    </g>\n",
       "</svg>\n",
       "  </button>\n",
       "\n",
       "<style>\n",
       "  .colab-df-quickchart {\n",
       "      --bg-color: #E8F0FE;\n",
       "      --fill-color: #1967D2;\n",
       "      --hover-bg-color: #E2EBFA;\n",
       "      --hover-fill-color: #174EA6;\n",
       "      --disabled-fill-color: #AAA;\n",
       "      --disabled-bg-color: #DDD;\n",
       "  }\n",
       "\n",
       "  [theme=dark] .colab-df-quickchart {\n",
       "      --bg-color: #3B4455;\n",
       "      --fill-color: #D2E3FC;\n",
       "      --hover-bg-color: #434B5C;\n",
       "      --hover-fill-color: #FFFFFF;\n",
       "      --disabled-bg-color: #3B4455;\n",
       "      --disabled-fill-color: #666;\n",
       "  }\n",
       "\n",
       "  .colab-df-quickchart {\n",
       "    background-color: var(--bg-color);\n",
       "    border: none;\n",
       "    border-radius: 50%;\n",
       "    cursor: pointer;\n",
       "    display: none;\n",
       "    fill: var(--fill-color);\n",
       "    height: 32px;\n",
       "    padding: 0;\n",
       "    width: 32px;\n",
       "  }\n",
       "\n",
       "  .colab-df-quickchart:hover {\n",
       "    background-color: var(--hover-bg-color);\n",
       "    box-shadow: 0 1px 2px rgba(60, 64, 67, 0.3), 0 1px 3px 1px rgba(60, 64, 67, 0.15);\n",
       "    fill: var(--button-hover-fill-color);\n",
       "  }\n",
       "\n",
       "  .colab-df-quickchart-complete:disabled,\n",
       "  .colab-df-quickchart-complete:disabled:hover {\n",
       "    background-color: var(--disabled-bg-color);\n",
       "    fill: var(--disabled-fill-color);\n",
       "    box-shadow: none;\n",
       "  }\n",
       "\n",
       "  .colab-df-spinner {\n",
       "    border: 2px solid var(--fill-color);\n",
       "    border-color: transparent;\n",
       "    border-bottom-color: var(--fill-color);\n",
       "    animation:\n",
       "      spin 1s steps(1) infinite;\n",
       "  }\n",
       "\n",
       "  @keyframes spin {\n",
       "    0% {\n",
       "      border-color: transparent;\n",
       "      border-bottom-color: var(--fill-color);\n",
       "      border-left-color: var(--fill-color);\n",
       "    }\n",
       "    20% {\n",
       "      border-color: transparent;\n",
       "      border-left-color: var(--fill-color);\n",
       "      border-top-color: var(--fill-color);\n",
       "    }\n",
       "    30% {\n",
       "      border-color: transparent;\n",
       "      border-left-color: var(--fill-color);\n",
       "      border-top-color: var(--fill-color);\n",
       "      border-right-color: var(--fill-color);\n",
       "    }\n",
       "    40% {\n",
       "      border-color: transparent;\n",
       "      border-right-color: var(--fill-color);\n",
       "      border-top-color: var(--fill-color);\n",
       "    }\n",
       "    60% {\n",
       "      border-color: transparent;\n",
       "      border-right-color: var(--fill-color);\n",
       "    }\n",
       "    80% {\n",
       "      border-color: transparent;\n",
       "      border-right-color: var(--fill-color);\n",
       "      border-bottom-color: var(--fill-color);\n",
       "    }\n",
       "    90% {\n",
       "      border-color: transparent;\n",
       "      border-bottom-color: var(--fill-color);\n",
       "    }\n",
       "  }\n",
       "</style>\n",
       "\n",
       "  <script>\n",
       "    async function quickchart(key) {\n",
       "      const quickchartButtonEl =\n",
       "        document.querySelector('#' + key + ' button');\n",
       "      quickchartButtonEl.disabled = true;  // To prevent multiple clicks.\n",
       "      quickchartButtonEl.classList.add('colab-df-spinner');\n",
       "      try {\n",
       "        const charts = await google.colab.kernel.invokeFunction(\n",
       "            'suggestCharts', [key], {});\n",
       "      } catch (error) {\n",
       "        console.error('Error during call to suggestCharts:', error);\n",
       "      }\n",
       "      quickchartButtonEl.classList.remove('colab-df-spinner');\n",
       "      quickchartButtonEl.classList.add('colab-df-quickchart-complete');\n",
       "    }\n",
       "    (() => {\n",
       "      let quickchartButtonEl =\n",
       "        document.querySelector('#df-db828a10-88df-4cf6-bb09-f501c6afe719 button');\n",
       "      quickchartButtonEl.style.display =\n",
       "        google.colab.kernel.accessAllowed ? 'block' : 'none';\n",
       "    })();\n",
       "  </script>\n",
       "</div>\n",
       "    </div>\n",
       "  </div>\n"
      ],
      "text/plain": [
       "   MedInc  HouseAge  AveRooms  AveBedrms  Population  AveOccup  Latitude  \\\n",
       "0  8.3252      41.0  6.984127   1.023810       322.0  2.555556     37.88   \n",
       "1  8.3014      21.0  6.238137   0.971880      2401.0  2.109842     37.86   \n",
       "2  7.2574      52.0  8.288136   1.073446       496.0  2.802260     37.85   \n",
       "3  5.6431      52.0  5.817352   1.073059       558.0  2.547945     37.85   \n",
       "4  3.8462      52.0  6.281853   1.081081       565.0  2.181467     37.85   \n",
       "\n",
       "   Longitude  PRICE  \n",
       "0    -122.23  4.526  \n",
       "1    -122.22  3.585  \n",
       "2    -122.24  3.521  \n",
       "3    -122.25  3.413  \n",
       "4    -122.25  3.422  "
      ]
     },
     "execution_count": 1,
     "metadata": {},
     "output_type": "execute_result"
    }
   ],
   "source": [
    "import numpy as np\n",
    "import matplotlib.pyplot as plt\n",
    "import pandas as pd\n",
    "import seaborn as sns\n",
    "from scipy import stats\n",
    "from sklearn.datasets import fetch_california_housing\n",
    "import warnings\n",
    "warnings.filterwarnings('ignore')\n",
    "\n",
    "%matplotlib inline\n",
    "\n",
    "# boston 데이터 세트 로드\n",
    "california = fetch_california_housing()\n",
    "\n",
    "# boston 데이터 세트 DataFrame 변환\n",
    "californiaDF = pd.DataFrame(california.data, columns = california.feature_names)\n",
    "\n",
    "# boston 데이터 세트의 target 배열은 주택 가격임. 이를 PRICE 칼럼으로 DataFrame에 추가함.\n",
    "californiaDF['PRICE'] = california.target\n",
    "print('California 데이터 세트 크기 :', californiaDF.shape)\n",
    "californiaDF.head()"
   ]
  },
  {
   "cell_type": "markdown",
   "metadata": {
    "id": "rwpUVatNTLK6"
   },
   "source": [
    "### 3-1. 아래 코드에서 종속변수와 독립변수를 나누고, 선형회귀OLS로 학습 및 예측을 진행해주세요.(4점)"
   ]
  },
  {
   "cell_type": "code",
   "execution_count": null,
   "metadata": {
    "colab": {
     "base_uri": "https://localhost:8080/"
    },
    "id": "9gbGvK7HTKAz",
    "outputId": "482db836-ba4e-4d55-d6a4-07d26c91296d"
   },
   "outputs": [
    {
     "name": "stdout",
     "output_type": "stream",
     "text": [
      "MSE : 0.539090, RMSE : 0.734\n",
      "Variance score : 0.602\n"
     ]
    }
   ],
   "source": [
    "from sklearn.model_selection import train_test_split\n",
    "from sklearn.linear_model import LinearRegression\n",
    "from sklearn.metrics import mean_squared_error, r2_score\n",
    "\n",
    "y_target = californiaDF['PRICE'] # y_target에 종속변수를 넣어주세요.\n",
    "X_data = californiaDF.drop(['PRICE'], axis = 1, inplace = False) # X_data에 독립변수를 넣어주세요.(힌트 : 종속변수를 제외한 모든 변수가 독립변수가 됩니다!)\n",
    "\n",
    "X_train, X_test, y_train, y_test = train_test_split(X_data, y_target, test_size=0.3, random_state=2)\n",
    "\n",
    "# 선형 회귀 OLS로 학습/예측/평가 수행.\n",
    "lr = LinearRegression()\n",
    "lr.fit(X_train, y_train)\n",
    "\n",
    "y_preds = lr.predict(X_test)\n",
    "mse = mean_squared_error(y_test, y_preds)\n",
    "rmse = np.sqrt(mse)\n",
    "\n",
    "print('MSE : {0:3f}, RMSE : {1:.3F}'.format(mse,rmse))\n",
    "print('Variance score : {0:.3f}'.format(r2_score(y_test, y_preds)))"
   ]
  },
  {
   "cell_type": "markdown",
   "metadata": {
    "id": "2Rw5nPkMTOte"
   },
   "source": [
    "### 3-2. 아래 코드에서 회귀 계수들을 Series로 만들어서 회귀계수가 가장 큰 변수와 회귀계수가 가장 작은 변수 하나를 작성해주세요.(6점)"
   ]
  },
  {
   "cell_type": "code",
   "execution_count": null,
   "metadata": {
    "colab": {
     "base_uri": "https://localhost:8080/"
    },
    "id": "aQPh52_CTNOR",
    "outputId": "09a0e6e9-2c16-4075-e687-96b5e5a4af56"
   },
   "outputs": [
    {
     "data": {
      "text/plain": [
       "AveBedrms     0.611526\n",
       "MedInc        0.442798\n",
       "HouseAge      0.009073\n",
       "Population   -0.000004\n",
       "AveOccup     -0.003927\n",
       "AveRooms     -0.115072\n",
       "Latitude     -0.407213\n",
       "Longitude    -0.420488\n",
       "dtype: float64"
      ]
     },
     "execution_count": 3,
     "metadata": {},
     "output_type": "execute_result"
    }
   ],
   "source": [
    "# 회귀 계수를 큰 값 순으로 정렬하기 위해 Series로 생성. 인덱스 칼럼명에 유의\n",
    "coeff = pd.Series(data= lr.coef_, index= X_data.columns)\n",
    "coeff.sort_values(ascending=False)"
   ]
  },
  {
   "cell_type": "markdown",
   "metadata": {
    "id": "X9z4DmepTRpF"
   },
   "source": [
    "### 정답 작성\n",
    "#### 가장 큰 회귀 계수의 변수 : AveBedrms\n",
    "#### 가장 작은 회귀 계수의 변수 : Longitude"
   ]
  },
  {
   "cell_type": "markdown",
   "metadata": {
    "id": "-OE1-QmvTS_w"
   },
   "source": [
    "## 문제4. 다항 회귀 이해"
   ]
  },
  {
   "cell_type": "markdown",
   "metadata": {
    "id": "LtmdwAwGTWGF"
   },
   "source": [
    "#### 4-1 주어진 행렬을 4차 다항식으로 변환하고 변환된 다항식 계수 피처를 출력하세요"
   ]
  },
  {
   "cell_type": "code",
   "execution_count": null,
   "metadata": {
    "colab": {
     "base_uri": "https://localhost:8080/"
    },
    "id": "uTCtQUSnTQRg",
    "outputId": "99059efc-1552-48ed-9cc6-9699a2c45400"
   },
   "outputs": [
    {
     "name": "stdout",
     "output_type": "stream",
     "text": [
      "[[ 1.  0.  1.  0.  0.  1.  0.  0.  0.  1.  0.  0.  0.  0.  1.]\n",
      " [ 1.  2.  3.  4.  6.  9.  8. 12. 18. 27. 16. 24. 36. 54. 81.]]\n"
     ]
    }
   ],
   "source": [
    "from sklearn.preprocessing import PolynomialFeatures\n",
    "import numpy as np\n",
    "\n",
    "X = np.arange(4).reshape(2, 2)\n",
    "\n",
    "#변환된 4차 다항식 계수 feature:\n",
    "poly = PolynomialFeatures(degree=4)\n",
    "poly.fit(X)\n",
    "poly_ftr = poly.transform(X)\n",
    "#poly_ftr = PolynomialFeatures(degree=4).fit_transform(X)\n",
    "print( poly_ftr)"
   ]
  },
  {
   "cell_type": "markdown",
   "metadata": {
    "id": "L3c-vcA5TYzb"
   },
   "source": [
    "#### 4-2. 다음 3차 다항 회귀 함수에 대해 3차 다항식으로 변환하고 회귀 계수를 출력하세요(소수점 아래 세번쨰 자리까지 나타내세요)"
   ]
  },
  {
   "cell_type": "code",
   "execution_count": null,
   "metadata": {
    "colab": {
     "base_uri": "https://localhost:8080/"
    },
    "id": "jf5mcy4CTXh_",
    "outputId": "e57ed5c6-6f0d-4597-ff3b-a66b15080d5c"
   },
   "outputs": [
    {
     "name": "stdout",
     "output_type": "stream",
     "text": [
      "Polynomial 회귀 계수 [0.    0.219 0.219 0.438 0.658 0.877 0.877 1.315 1.973 2.85 ]\n"
     ]
    }
   ],
   "source": [
    "from sklearn.linear_model import LinearRegression\n",
    "from sklearn.preprocessing import PolynomialFeatures\n",
    "import numpy as np\n",
    "\n",
    "def polynomial_func(X):\n",
    "    y = 1 + 2*X[:,0] + 3*X[:,0]**2 + 5*X[:,1]**3\n",
    "    return(y)\n",
    "X = np.arange(0,4).reshape(2,2)\n",
    "y = polynomial_func(X)\n",
    "poly_ftr = PolynomialFeatures(degree=3).fit_transform(X)\n",
    "\n",
    "# Linear Regression에 3차 다항식 계수 feature와 3차 다항식 결정값으로 학습 후 회귀 계수 확인\\n\",\n",
    "model = LinearRegression()\n",
    "model.fit(poly_ftr,y)\n",
    "print('Polynomial 회귀 계수' , np.round(model.coef_, 3))"
   ]
  },
  {
   "cell_type": "markdown",
   "metadata": {
    "id": "0ecOsXk5Tbqu"
   },
   "source": [
    "#### 4-3사이킷런의 Pipeline 객체를 이용해 회귀계수를 구하겠습니다. 코드를 채워 넣어서 다음 함수의 회귀계수를 소수점 아래 둘째자리 까지 나타내세요."
   ]
  },
  {
   "cell_type": "code",
   "execution_count": null,
   "metadata": {
    "colab": {
     "base_uri": "https://localhost:8080/"
    },
    "id": "IzaEbEfWTaQ_",
    "outputId": "6986d2d8-d0a9-492f-8fbb-9324967cc940"
   },
   "outputs": [
    {
     "name": "stdout",
     "output_type": "stream",
     "text": [
      "Polynomial 회귀 계수 [0.   0.06 0.06 0.12 0.18 0.24 0.24 0.36 0.54 0.78]\n"
     ]
    }
   ],
   "source": [
    "from sklearn.preprocessing import PolynomialFeatures\n",
    "from sklearn.linear_model import LinearRegression\n",
    "from sklearn.pipeline import Pipeline\n",
    "import numpy as np\n",
    "def polynomial_func(X):\n",
    "    y = 4 + 3*X[:,0] + 2*X[:,0]**2 + 1*X[:,1]**3\n",
    "    return y\n",
    "\n",
    "# Pipeline 객체로 Streamline 하게 Polynomial Feature변환과 Linear Regression을 연결\\n\",\n",
    "model = Pipeline([('poly', PolynomialFeatures(degree=3)),\n",
    "                 ('linear', LinearRegression())])\n",
    "X = np.arange(4).reshape(2,2)\n",
    "y = polynomial_func(X)\n",
    "model = model.fit(X, y)\n",
    "print('Polynomial 회귀 계수', np.round(model.named_steps['linear'].coef_, 2))"
   ]
  },
  {
   "cell_type": "markdown",
   "metadata": {
    "id": "iclJzOhSTyrX"
   },
   "source": [
    "## 문제5. 다항회귀를 이용한 과소적합 및 과적합 이해"
   ]
  },
  {
   "cell_type": "markdown",
   "metadata": {
    "id": "TWOk4YddT0zy"
   },
   "source": [
    "### 1. 다음의 빈칸을 채우시오. (3점)"
   ]
  },
  {
   "cell_type": "markdown",
   "metadata": {
    "id": "K6Z96lJGT1-0"
   },
   "source": [
    "다항식의 차수가 높아질수록 학습데이터에만 너무 맞춘 학습이 이뤄져서 정작 테스트 데이터 환경에서는 오히려 예측 정확도가 떨어지는 과적합이 나타난다.\n"
   ]
  },
  {
   "cell_type": "markdown",
   "metadata": {
    "id": "CIdhU7LnT31o"
   },
   "source": [
    "### 다음의 코드를 실행하시오"
   ]
  },
  {
   "cell_type": "code",
   "execution_count": null,
   "metadata": {
    "colab": {
     "base_uri": "https://localhost:8080/",
     "height": 448
    },
    "id": "J-3YdTfkTdFR",
    "outputId": "88908df3-f1f3-40bd-e5bd-d2384d7a5609"
   },
   "outputs": [
    {
     "data": {
      "text/plain": [
       "<matplotlib.collections.PathCollection at 0x7adc52b8f6d0>"
      ]
     },
     "execution_count": 7,
     "metadata": {},
     "output_type": "execute_result"
    },
    {
     "data": {
      "image/png": "[encoded data removed]",
      "text/plain": [
       "<Figure size 640x480 with 1 Axes>"
      ]
     },
     "metadata": {},
     "output_type": "display_data"
    }
   ],
   "source": [
    "import numpy as np\n",
    "import matplotlib.pyplot as plt\n",
    "from sklearn.pipeline import Pipeline\n",
    "from sklearn.preprocessing import PolynomialFeatures\n",
    "from sklearn.linear_model import LinearRegression\n",
    "from sklearn.model_selection import cross_val_score\n",
    "%matplotlib inline\n",
    "\n",
    "# 임의의 값으로 구성된 X값에 대해 코사인 변환 값을 반환.\n",
    "def true_fun(X):\n",
    "    return np.cos(1.5 * np.pi * X)\n",
    "\n",
    "# X는 0부터 1까지 30개의 임의의 값을 순서대로 샘플링한 데이터입니다.\n",
    "np.random.seed(0)\n",
    "n_samples = 30\n",
    "X = np.sort(np.random.rand(n_samples))\n",
    "\n",
    "# y 값은 코사인 기반의 true_fun()에서 약간의 노이즈 변동 값을 더한 값입니다.\n",
    "y = true_fun(X) + np.random.randn(n_samples) * 0.1\n",
    "plt.scatter(X, y)"
   ]
  },
  {
   "cell_type": "markdown",
   "metadata": {
    "id": "xC5Imo8IT6rU"
   },
   "source": [
    "### 2. 다음코드의 None값을 채워 예측 결과를 비교할 다항식 차수를 각각 1, 3, 13 으로 변경하면서 예측 결과를 비교하고, 차수별로 학습을 수행한 뒤 cross_val_score로 MSE 값을 구해 차수별 예측 성능을 평가하시오. 마지막으로 차수별 회귀 예측 곡선을 그리는 코드를 완성하시오. (4점)"
   ]
  },
  {
   "cell_type": "code",
   "execution_count": null,
   "metadata": {
    "colab": {
     "base_uri": "https://localhost:8080/",
     "height": 702
    },
    "id": "HaPubG4cT62Y",
    "outputId": "fff52631-adfc-49be-f4a0-0e49e88d2958"
   },
   "outputs": [
    {
     "name": "stdout",
     "output_type": "stream",
     "text": [
      "\n",
      "Degree 1 회귀 계수는 [-1.61] 입니다.\n",
      "Degree 1 MSE 는 0.4077289625098685 입니다.\n",
      "\n",
      "Degree 3 회귀 계수는 [-2.2  -7.06  8.2 ] 입니다.\n",
      "Degree 3 MSE 는 0.018747943073096025 입니다.\n",
      "\n",
      "Degree 13 회귀 계수는 [ 1.82130000e+02 -6.20606000e+03  1.04045610e+05 -9.98445540e+05\n",
      "  5.93307294e+06 -2.30761904e+07  6.08726077e+07 -1.10896334e+08\n",
      "  1.39728876e+08 -1.19631136e+08  6.64603089e+07 -2.16163311e+07\n",
      "  3.12555082e+06] 입니다.\n",
      "Degree 13 MSE 는 1323101.407958284 입니다.\n"
     ]
    },
    {
     "data": {
      "image/png": "[encoded data removed]",
      "text/plain": [
       "<Figure size 1400x500 with 3 Axes>"
      ]
     },
     "metadata": {},
     "output_type": "display_data"
    }
   ],
   "source": [
    "plt.figure(figsize=(14, 5))\n",
    "degrees = [1, 3, 13]\n",
    "\n",
    "# 다항 회귀의 차수(degree)를 1, 3, 13로 각각 변화시키면서 비교합니다.\n",
    "for i in range(len(degrees)):\n",
    "    ax = plt.subplot(1, len(degrees), i + 1)\n",
    "    plt.setp(ax, xticks=(), yticks=())\n",
    "\n",
    "    # 개별 degree별로 Polynomial 변환합니다.\n",
    "    polynomial_features = PolynomialFeatures(degree=degrees[i], include_bias=False)\n",
    "    linear_regression = LinearRegression()\n",
    "    pipeline = Pipeline([(\"polynomial_features\", polynomial_features),\n",
    "                         (\"linear_regression\", linear_regression)])\n",
    "    pipeline.fit(X.reshape(-1, 1), y)\n",
    "\n",
    "    # 교차 검증으로 다항 회귀를 평가합니다.\n",
    "    scores = cross_val_score(pipeline, X.reshape(-1, 1), y, scoring=\"neg_mean_squared_error\", cv=10)\n",
    "    # Pipeline을 구성하는 세부 객체를 접근하는 named_steps['객체명']을 이용해 회귀계수 추출\n",
    "    coefficients = pipeline.named_steps['linear_regression'].coef_\n",
    "    print('\\nDegree {0} 회귀 계수는 {1} 입니다.'.format(degrees[i], np.round(coefficients, 2)))\n",
    "    print('Degree {0} MSE 는 {1} 입니다.'.format(degrees[i], -1*np.mean(scores)))\n",
    "\n",
    "    # 0 부터 1까지 테스트 데이터 세트를 100개로 나눠 예측을 수행합니다.\n",
    "    # 테스트 데이터 세트에 회귀 예측을 수행하고 예측 곡선과 실제 곡선을 그려서 비교합니다.\n",
    "    X_test = np.linspace(0, 1, 100)\n",
    "    # 예측값 곡선\n",
    "    plt.plot(X_test, pipeline.predict(X_test[:, np.newaxis]), label=\"Model\")\n",
    "    # 실제 값 곡선\n",
    "    plt.plot(X_test, true_fun(X_test), '--', label=\"True function\")\n",
    "    plt.scatter(X, y, edgecolor='b', s=20, label=\"Samples\")\n",
    "    plt.xlabel(\"x\"); plt.ylabel(\"y\"); plt.xlim((0, 1)); plt.ylim((-2, 2)); plt.legend(loc=\"best\")\n",
    "    plt.title(\"Degree {}\\nMSE = {:.2e}(+/- {:.2e})\".format(degrees[i], -scores.mean(), scores.std()))\n",
    "\n",
    "plt.show()"
   ]
  },
  {
   "cell_type": "markdown",
   "metadata": {
    "id": "nm4Xd8dxT9VD"
   },
   "source": [
    "### 3. 위의 2번의 결과 중 과적합이 일어난 그래프는 어떤것인가? 또한 각각의 그래프를 보며 차수에 따른 예측곡선의 결과를 실제 데이터 세트와 비교하여 설명하고 성능에 관해서도 설명하시오. (3점)"
   ]
  },
  {
   "cell_type": "markdown",
   "metadata": {
    "id": "7BZ6eqojT-rp"
   },
   "source": [
    "세개의 그래프 중 과적합이 발생한 것은 degree13일때의 그래프이다. degree 1의 예측곡선은 단순한 직선서 선형회귀와 같으며 실제 데이터 세트에 비해 단순하다. degree3의 경우 실제 데이터 세트와 예측곡선이 가장 유사한 모습을 보여주며 MSE값도 가장 뛰어난 성능을 보여주고 있다. degree가 13일때의 예측곡선은 MSE값을 비교하였을때 성능이 가장 떨어지며, 학습 데이터만을 지나치게 반영하여 과적합이 심한 모델이 되었다."
   ]
  },
  {
   "cell_type": "markdown",
   "metadata": {
    "id": "CV2WvhhRUAAI"
   },
   "source": [
    "## 문제6. 편향-분산 트레이드오프"
   ]
  },
  {
   "cell_type": "markdown",
   "metadata": {
    "id": "MeI1sHnAUEb1"
   },
   "source": [
    "### 다음 글을 읽고 @ 에 알맞은 말이 편향이면 1 분산이면 0으로 답해주세요. 답안 예) 1101101011 (각 1점)"
   ]
  },
  {
   "cell_type": "markdown",
   "metadata": {
    "id": "Jh3rlDfDUFeP"
   },
   "source": [
    "1. 의사결정 트리의 가장 간단한 버전을 그루터기(stump) 라고 합니다. 그루터기는 고@@성을 가졌다고 표현합니다.\n",
    "2. 지나치게 복잡한 트리는 @@으로 인한 오류가 발생합니다.  \n",
    "3. @@으로 인한 오류를 줄이려면 트리에 추가 분할을 추가할 수 있습니다.\n",
    "4. 고@@모델은 훈련데이터의 특이성에 과적합 하여 실수를 범합니다.\n",
    "5. 모델이 덜 복잡하면 관련 정보를 무시하고 @@으로 인한 오류가 높습니다.\n",
    "6. 모델이 복잡해질수록 @@으로 인한 오차는 줄어듭니다.\n",
    "7. 모델이 덜 복잡하면 @@으로 인한 오류가 낮습니다.\n",
    "8. 복잡성이 증가할수록 @@으로 인한 오류가 증가합니다.\n",
    "9. 높은 @@ 낮은 @@에서 과소적합되기 쉽습니다.\n",
    "10. 낮은 @@ 높은 @@에서 과적합 되기 쉽습니다."
   ]
  },
  {
   "cell_type": "markdown",
   "metadata": {
    "id": "ZoT1xKbrUI9J"
   },
   "source": [
    "## 문제7."
   ]
  },
  {
   "cell_type": "code",
   "execution_count": null,
   "metadata": {
    "id": "1TXlqy-XT79W"
   },
   "outputs": [],
   "source": [
    "import numpy as np\n",
    "import matplotlib.pyplot as plt\n",
    "%matplotlib inline"
   ]
  },
  {
   "cell_type": "markdown",
   "metadata": {
    "id": "pd4n3bFnUNIi"
   },
   "source": [
    "7. 경사하강법 실습 (20점)\n"
   ]
  },
  {
   "cell_type": "code",
   "execution_count": null,
   "metadata": {
    "id": "SOpQeOIKUMBI"
   },
   "outputs": [],
   "source": [
    "np.random.seed(0)\n",
    "X=2*np.random.rand(200,1)\n",
    "y=3+2*X+np.random.randn(200,1)"
   ]
  },
  {
   "cell_type": "markdown",
   "metadata": {
    "id": "F17P6A48UQ0g"
   },
   "source": [
    "7-1) xy데이터 세트를 산점도로 시각화하세요 (1점)"
   ]
  },
  {
   "cell_type": "code",
   "execution_count": null,
   "metadata": {
    "colab": {
     "base_uri": "https://localhost:8080/",
     "height": 448
    },
    "id": "cQwAmXqmUP0u",
    "outputId": "8f07a74b-7cf3-4529-9d8a-074878daefc0"
   },
   "outputs": [
    {
     "data": {
      "text/plain": [
       "<matplotlib.collections.PathCollection at 0x7adc529e3550>"
      ]
     },
     "execution_count": 11,
     "metadata": {},
     "output_type": "execute_result"
    },
    {
     "data": {
      "image/png": "[encoded data removed]",
      "text/plain": [
       "<Figure size 640x480 with 1 Axes>"
      ]
     },
     "metadata": {},
     "output_type": "display_data"
    }
   ],
   "source": [
    "#정답\n",
    "plt.scatter(X,y)"
   ]
  },
  {
   "cell_type": "markdown",
   "metadata": {
    "id": "_SFbXHwnUUbr"
   },
   "source": [
    "7-2) 비용함수 정의 (3점)"
   ]
  },
  {
   "cell_type": "code",
   "execution_count": null,
   "metadata": {
    "id": "W_-bSl4jUSP2"
   },
   "outputs": [],
   "source": [
    "#정답\n",
    "\n",
    "def get_cost(y,y_pred):\n",
    "    N=len(y)\n",
    "    cost=np.sum(np.square(y-y_pred))/N\n",
    "    return cost"
   ]
  },
  {
   "cell_type": "markdown",
   "metadata": {
    "id": "-nk_KRgFUYGW"
   },
   "source": [
    "7-3) get_weight_updates 함수 생성하기 (5점)"
   ]
  },
  {
   "cell_type": "code",
   "execution_count": null,
   "metadata": {
    "id": "5D9Vw0MPUW2P"
   },
   "outputs": [],
   "source": [
    "#정답\n",
    "\n",
    "def get_weight_updates(w1,w0,X,y,learning_rate=0.01):\n",
    "    N=len(y)\n",
    "    w1_update=np.zeros_like(w1)\n",
    "    w0_update=np.zeros_like(w0)\n",
    "    y_pred=np.dot(X,w1.T)+w0\n",
    "    diff=y-y_pred\n",
    "\n",
    "    w0_factors=np.ones((N,1))\n",
    "    w1_update=-(2/N)*learning_rate*(np.dot(X.T,diff))\n",
    "    w0_update=-(2/N)*learning_rate*(np.dot(w0_factors.T,diff))\n",
    "\n",
    "    return w1_update,w0_update"
   ]
  },
  {
   "cell_type": "markdown",
   "metadata": {
    "id": "0ttQlVIpUbXf"
   },
   "source": [
    "7-4)  gradient_descent 함수 생성 (5점)\n",
    "\n",
    "\n",
    "경사하강 수행으로 w1 w0 을 업데이트 하는 함수를 생성해주세요\n",
    "\n",
    "입력인자인 iters 는 10000으로 learning_rate는 0.05로 설정해주세요"
   ]
  },
  {
   "cell_type": "code",
   "execution_count": null,
   "metadata": {
    "id": "mbpDVDZyUZmO"
   },
   "outputs": [],
   "source": [
    "#정답\n",
    "\n",
    "def gradient_des(X,y,iters=10000):\n",
    "    w0=np.zeros((1,1))\n",
    "    w1=np.zeros((1,1))\n",
    "    for ind in range(iters):\n",
    "        w1_update,w0_update=get_weight_updates(w1,w0,X,y,learning_rate=0.05)\n",
    "        w1=w1-w1_update\n",
    "        w0=w0-w0_update\n",
    "\n",
    "    return w1,w0"
   ]
  },
  {
   "cell_type": "markdown",
   "metadata": {
    "id": "5UvlzBJeUeli"
   },
   "source": [
    "7-5)  예측값과 실제값의 rss차이를 구하는 함수를 생성하세요\n",
    "\n",
    "생성한 함수를 이용해 w1 w0 값과 경사 하강법의 에측오류를 구해주세요(5점)"
   ]
  },
  {
   "cell_type": "code",
   "execution_count": null,
   "metadata": {
    "colab": {
     "base_uri": "https://localhost:8080/"
    },
    "id": "CgvFyUgDUfNA",
    "outputId": "65e2b4f3-8cad-48ad-c64b-5dd847cc55c0"
   },
   "outputs": [
    {
     "name": "stdout",
     "output_type": "stream",
     "text": [
      "w1:1.781w0:3.107\n",
      "경사하강 예측오류: 0.9130640526827253\n"
     ]
    }
   ],
   "source": [
    "#정답\n",
    "\n",
    "def get_cost(y,y_pred):\n",
    "    N=len(y)\n",
    "    cost=np.sum(np.square(y-y_pred))/N\n",
    "    return cost\n",
    "\n",
    "w1,w0= gradient_des(X,y,iters=1000)\n",
    "\n",
    "print(\"w1:{0:.3f}w0:{1:.3f}\".format(w1[0,0],w0[0,0]))\n",
    "\n",
    "y_pred=w1[0,0]*X+w0\n",
    "\n",
    "print('경사하강 예측오류:' ,get_cost(y,y_pred))"
   ]
  },
  {
   "cell_type": "markdown",
   "metadata": {
    "id": "AL8jVl46UjQR"
   },
   "source": [
    "7-6) 위에서 구한 값에 근거해 산점도 위에 회귀선을 그려주세요 (1점)"
   ]
  },
  {
   "cell_type": "code",
   "execution_count": null,
   "metadata": {
    "colab": {
     "base_uri": "https://localhost:8080/",
     "height": 448
    },
    "id": "PZyEyV-kUgIA",
    "outputId": "fcc5d2af-2df2-4754-cfa7-e74d7f30ab17"
   },
   "outputs": [
    {
     "data": {
      "text/plain": [
       "[<matplotlib.lines.Line2D at 0x7adc511275e0>]"
      ]
     },
     "execution_count": 17,
     "metadata": {},
     "output_type": "execute_result"
    },
    {
     "data": {
      "image/png": "[encoded data removed]",
      "text/plain": [
       "<Figure size 640x480 with 1 Axes>"
      ]
     },
     "metadata": {},
     "output_type": "display_data"
    }
   ],
   "source": [
    "#정답\n",
    "plt.scatter(X,y)\n",
    "plt.plot(X,y_pred)"
   ]
  },
  {
   "cell_type": "markdown",
   "metadata": {
    "id": "O2C73azxUl9Q"
   },
   "source": [
    "## 문제8.회귀분석 실습 (30점)\n",
    "\n",
    "아래코드를 실행해주세요"
   ]
  },
  {
   "cell_type": "code",
   "execution_count": null,
   "metadata": {
    "colab": {
     "base_uri": "https://localhost:8080/",
     "height": 354
    },
    "id": "mT1Jv4HXV6y_",
    "outputId": "50a757e8-45c8-4e6b-f092-6ce6b08942cc"
   },
   "outputs": [
    {
     "name": "stdout",
     "output_type": "stream",
     "text": [
      "Collecting scikit-learn==1.0.2\n",
      "  Downloading scikit_learn-1.0.2-cp310-cp310-manylinux_2_17_x86_64.manylinux2014_x86_64.whl (26.5 MB)\n",
      "\u001b[2K     \u001b[90m━━━━━━━━━━━━━━━━━━━━━━━━━━━━━━━━━━━━━━━━\u001b[0m \u001b[32m26.5/26.5 MB\u001b[0m \u001b[31m24.0 MB/s\u001b[0m eta \u001b[36m0:00:00\u001b[0m\n",
      "\u001b[?25hRequirement already satisfied: numpy>=1.14.6 in /usr/local/lib/python3.10/dist-packages (from scikit-learn==1.0.2) (1.23.5)\n",
      "Requirement already satisfied: scipy>=1.1.0 in /usr/local/lib/python3.10/dist-packages (from scikit-learn==1.0.2) (1.11.3)\n",
      "Requirement already satisfied: joblib>=0.11 in /usr/local/lib/python3.10/dist-packages (from scikit-learn==1.0.2) (1.3.2)\n",
      "Requirement already satisfied: threadpoolctl>=2.0.0 in /usr/local/lib/python3.10/dist-packages (from scikit-learn==1.0.2) (3.2.0)\n",
      "Installing collected packages: scikit-learn\n",
      "  Attempting uninstall: scikit-learn\n",
      "    Found existing installation: scikit-learn 1.2.2\n",
      "    Uninstalling scikit-learn-1.2.2:\n",
      "      Successfully uninstalled scikit-learn-1.2.2\n",
      "Successfully installed scikit-learn-1.0.2\n"
     ]
    },
    {
     "data": {
      "application/vnd.colab-display-data+json": {
       "pip_warning": {
        "packages": [
         "sklearn"
        ]
       }
      }
     },
     "metadata": {},
     "output_type": "display_data"
    }
   ],
   "source": [
    "!pip install scikit-learn==1.0.2"
   ]
  },
  {
   "cell_type": "code",
   "execution_count": null,
   "metadata": {
    "colab": {
     "base_uri": "https://localhost:8080/"
    },
    "id": "mGIIPEbbVQgz",
    "outputId": "3a5ad1b2-4642-4969-d1b7-27198c3886f6"
   },
   "outputs": [
    {
     "name": "stdout",
     "output_type": "stream",
     "text": [
      "1.0.2\n"
     ]
    }
   ],
   "source": [
    "import sklearn\n",
    "print(sklearn.__version__)"
   ]
  },
  {
   "cell_type": "code",
   "execution_count": null,
   "metadata": {
    "colab": {
     "base_uri": "https://localhost:8080/",
     "height": 859
    },
    "id": "6CuGzRR8UkwI",
    "outputId": "d0946254-04df-4c03-8db4-bcf218e73d99"
   },
   "outputs": [
    {
     "name": "stderr",
     "output_type": "stream",
     "text": [
      "/usr/local/lib/python3.10/dist-packages/sklearn/utils/deprecation.py:87: FutureWarning: Function load_boston is deprecated; `load_boston` is deprecated in 1.0 and will be removed in 1.2.\n",
      "\n",
      "    The Boston housing prices dataset has an ethical problem. You can refer to\n",
      "    the documentation of this function for further details.\n",
      "\n",
      "    The scikit-learn maintainers therefore strongly discourage the use of this\n",
      "    dataset unless the purpose of the code is to study and educate about\n",
      "    ethical issues in data science and machine learning.\n",
      "\n",
      "    In this special case, you can fetch the dataset from the original\n",
      "    source::\n",
      "\n",
      "        import pandas as pd\n",
      "        import numpy as np\n",
      "\n",
      "\n",
      "        data_url = \"http://lib.stat.cmu.edu/datasets/boston\"\n",
      "        raw_df = pd.read_csv(data_url, sep=\"\\s+\", skiprows=22, header=None)\n",
      "        data = np.hstack([raw_df.values[::2, :], raw_df.values[1::2, :2]])\n",
      "        target = raw_df.values[1::2, 2]\n",
      "\n",
      "    Alternative datasets include the California housing dataset (i.e.\n",
      "    :func:`~sklearn.datasets.fetch_california_housing`) and the Ames housing\n",
      "    dataset. You can load the datasets as follows::\n",
      "\n",
      "        from sklearn.datasets import fetch_california_housing\n",
      "        housing = fetch_california_housing()\n",
      "\n",
      "    for the California housing dataset and::\n",
      "\n",
      "        from sklearn.datasets import fetch_openml\n",
      "        housing = fetch_openml(name=\"house_prices\", as_frame=True)\n",
      "\n",
      "    for the Ames housing dataset.\n",
      "    \n",
      "  warnings.warn(msg, category=FutureWarning)\n"
     ]
    },
    {
     "data": {
      "text/html": [
       "\n",
       "  <div id=\"df-5f9c16d9-177f-4e53-b231-d28221d99afc\" class=\"colab-df-container\">\n",
       "    <div>\n",
       "<style scoped>\n",
       "    .dataframe tbody tr th:only-of-type {\n",
       "        vertical-align: middle;\n",
       "    }\n",
       "\n",
       "    .dataframe tbody tr th {\n",
       "        vertical-align: top;\n",
       "    }\n",
       "\n",
       "    .dataframe thead th {\n",
       "        text-align: right;\n",
       "    }\n",
       "</style>\n",
       "<table border=\"1\" class=\"dataframe\">\n",
       "  <thead>\n",
       "    <tr style=\"text-align: right;\">\n",
       "      <th></th>\n",
       "      <th>CRIM</th>\n",
       "      <th>ZN</th>\n",
       "      <th>INDUS</th>\n",
       "      <th>CHAS</th>\n",
       "      <th>NOX</th>\n",
       "      <th>RM</th>\n",
       "      <th>AGE</th>\n",
       "      <th>DIS</th>\n",
       "      <th>RAD</th>\n",
       "      <th>TAX</th>\n",
       "      <th>PTRATIO</th>\n",
       "      <th>B</th>\n",
       "      <th>LSTAT</th>\n",
       "    </tr>\n",
       "  </thead>\n",
       "  <tbody>\n",
       "    <tr>\n",
       "      <th>0</th>\n",
       "      <td>0.00632</td>\n",
       "      <td>18.0</td>\n",
       "      <td>2.31</td>\n",
       "      <td>0.0</td>\n",
       "      <td>0.538</td>\n",
       "      <td>6.575</td>\n",
       "      <td>65.2</td>\n",
       "      <td>4.0900</td>\n",
       "      <td>1.0</td>\n",
       "      <td>296.0</td>\n",
       "      <td>15.3</td>\n",
       "      <td>396.90</td>\n",
       "      <td>4.98</td>\n",
       "    </tr>\n",
       "    <tr>\n",
       "      <th>1</th>\n",
       "      <td>0.02731</td>\n",
       "      <td>0.0</td>\n",
       "      <td>7.07</td>\n",
       "      <td>0.0</td>\n",
       "      <td>0.469</td>\n",
       "      <td>6.421</td>\n",
       "      <td>78.9</td>\n",
       "      <td>4.9671</td>\n",
       "      <td>2.0</td>\n",
       "      <td>242.0</td>\n",
       "      <td>17.8</td>\n",
       "      <td>396.90</td>\n",
       "      <td>9.14</td>\n",
       "    </tr>\n",
       "    <tr>\n",
       "      <th>2</th>\n",
       "      <td>0.02729</td>\n",
       "      <td>0.0</td>\n",
       "      <td>7.07</td>\n",
       "      <td>0.0</td>\n",
       "      <td>0.469</td>\n",
       "      <td>7.185</td>\n",
       "      <td>61.1</td>\n",
       "      <td>4.9671</td>\n",
       "      <td>2.0</td>\n",
       "      <td>242.0</td>\n",
       "      <td>17.8</td>\n",
       "      <td>392.83</td>\n",
       "      <td>4.03</td>\n",
       "    </tr>\n",
       "    <tr>\n",
       "      <th>3</th>\n",
       "      <td>0.03237</td>\n",
       "      <td>0.0</td>\n",
       "      <td>2.18</td>\n",
       "      <td>0.0</td>\n",
       "      <td>0.458</td>\n",
       "      <td>6.998</td>\n",
       "      <td>45.8</td>\n",
       "      <td>6.0622</td>\n",
       "      <td>3.0</td>\n",
       "      <td>222.0</td>\n",
       "      <td>18.7</td>\n",
       "      <td>394.63</td>\n",
       "      <td>2.94</td>\n",
       "    </tr>\n",
       "    <tr>\n",
       "      <th>4</th>\n",
       "      <td>0.06905</td>\n",
       "      <td>0.0</td>\n",
       "      <td>2.18</td>\n",
       "      <td>0.0</td>\n",
       "      <td>0.458</td>\n",
       "      <td>7.147</td>\n",
       "      <td>54.2</td>\n",
       "      <td>6.0622</td>\n",
       "      <td>3.0</td>\n",
       "      <td>222.0</td>\n",
       "      <td>18.7</td>\n",
       "      <td>396.90</td>\n",
       "      <td>5.33</td>\n",
       "    </tr>\n",
       "  </tbody>\n",
       "</table>\n",
       "</div>\n",
       "    <div class=\"colab-df-buttons\">\n",
       "\n",
       "  <div class=\"colab-df-container\">\n",
       "    <button class=\"colab-df-convert\" onclick=\"convertToInteractive('df-5f9c16d9-177f-4e53-b231-d28221d99afc')\"\n",
       "            title=\"Convert this dataframe to an interactive table.\"\n",
       "            style=\"display:none;\">\n",
       "\n",
       "  <svg xmlns=\"http://www.w3.org/2000/svg\" height=\"24px\" viewBox=\"0 -960 960 960\">\n",
       "    <path d=\"M120-120v-720h720v720H120Zm60-500h600v-160H180v160Zm220 220h160v-160H400v160Zm0 220h160v-160H400v160ZM180-400h160v-160H180v160Zm440 0h160v-160H620v160ZM180-180h160v-160H180v160Zm440 0h160v-160H620v160Z\"/>\n",
       "  </svg>\n",
       "    </button>\n",
       "\n",
       "  <style>\n",
       "    .colab-df-container {\n",
       "      display:flex;\n",
       "      gap: 12px;\n",
       "    }\n",
       "\n",
       "    .colab-df-convert {\n",
       "      background-color: #E8F0FE;\n",
       "      border: none;\n",
       "      border-radius: 50%;\n",
       "      cursor: pointer;\n",
       "      display: none;\n",
       "      fill: #1967D2;\n",
       "      height: 32px;\n",
       "      padding: 0 0 0 0;\n",
       "      width: 32px;\n",
       "    }\n",
       "\n",
       "    .colab-df-convert:hover {\n",
       "      background-color: #E2EBFA;\n",
       "      box-shadow: 0px 1px 2px rgba(60, 64, 67, 0.3), 0px 1px 3px 1px rgba(60, 64, 67, 0.15);\n",
       "      fill: #174EA6;\n",
       "    }\n",
       "\n",
       "    .colab-df-buttons div {\n",
       "      margin-bottom: 4px;\n",
       "    }\n",
       "\n",
       "    [theme=dark] .colab-df-convert {\n",
       "      background-color: #3B4455;\n",
       "      fill: #D2E3FC;\n",
       "    }\n",
       "\n",
       "    [theme=dark] .colab-df-convert:hover {\n",
       "      background-color: #434B5C;\n",
       "      box-shadow: 0px 1px 3px 1px rgba(0, 0, 0, 0.15);\n",
       "      filter: drop-shadow(0px 1px 2px rgba(0, 0, 0, 0.3));\n",
       "      fill: #FFFFFF;\n",
       "    }\n",
       "  </style>\n",
       "\n",
       "    <script>\n",
       "      const buttonEl =\n",
       "        document.querySelector('#df-5f9c16d9-177f-4e53-b231-d28221d99afc button.colab-df-convert');\n",
       "      buttonEl.style.display =\n",
       "        google.colab.kernel.accessAllowed ? 'block' : 'none';\n",
       "\n",
       "      async function convertToInteractive(key) {\n",
       "        const element = document.querySelector('#df-5f9c16d9-177f-4e53-b231-d28221d99afc');\n",
       "        const dataTable =\n",
       "          await google.colab.kernel.invokeFunction('convertToInteractive',\n",
       "                                                    [key], {});\n",
       "        if (!dataTable) return;\n",
       "\n",
       "        const docLinkHtml = 'Like what you see? Visit the ' +\n",
       "          '<a target=\"_blank\" href=https://colab.research.google.com/notebooks/data_table.ipynb>data table notebook</a>'\n",
       "          + ' to learn more about interactive tables.';\n",
       "        element.innerHTML = '';\n",
       "        dataTable['output_type'] = 'display_data';\n",
       "        await google.colab.output.renderOutput(dataTable, element);\n",
       "        const docLink = document.createElement('div');\n",
       "        docLink.innerHTML = docLinkHtml;\n",
       "        element.appendChild(docLink);\n",
       "      }\n",
       "    </script>\n",
       "  </div>\n",
       "\n",
       "\n",
       "<div id=\"df-6a5b253a-c6c9-4df6-89b3-f3acde6df5a5\">\n",
       "  <button class=\"colab-df-quickchart\" onclick=\"quickchart('df-6a5b253a-c6c9-4df6-89b3-f3acde6df5a5')\"\n",
       "            title=\"Suggest charts.\"\n",
       "            style=\"display:none;\">\n",
       "\n",
       "<svg xmlns=\"http://www.w3.org/2000/svg\" height=\"24px\"viewBox=\"0 0 24 24\"\n",
       "     width=\"24px\">\n",
       "    <g>\n",
       "        <path d=\"M19 3H5c-1.1 0-2 .9-2 2v14c0 1.1.9 2 2 2h14c1.1 0 2-.9 2-2V5c0-1.1-.9-2-2-2zM9 17H7v-7h2v7zm4 0h-2V7h2v10zm4 0h-2v-4h2v4z\"/>\n",
       "    </g>\n",
       "</svg>\n",
       "  </button>\n",
       "\n",
       "<style>\n",
       "  .colab-df-quickchart {\n",
       "      --bg-color: #E8F0FE;\n",
       "      --fill-color: #1967D2;\n",
       "      --hover-bg-color: #E2EBFA;\n",
       "      --hover-fill-color: #174EA6;\n",
       "      --disabled-fill-color: #AAA;\n",
       "      --disabled-bg-color: #DDD;\n",
       "  }\n",
       "\n",
       "  [theme=dark] .colab-df-quickchart {\n",
       "      --bg-color: #3B4455;\n",
       "      --fill-color: #D2E3FC;\n",
       "      --hover-bg-color: #434B5C;\n",
       "      --hover-fill-color: #FFFFFF;\n",
       "      --disabled-bg-color: #3B4455;\n",
       "      --disabled-fill-color: #666;\n",
       "  }\n",
       "\n",
       "  .colab-df-quickchart {\n",
       "    background-color: var(--bg-color);\n",
       "    border: none;\n",
       "    border-radius: 50%;\n",
       "    cursor: pointer;\n",
       "    display: none;\n",
       "    fill: var(--fill-color);\n",
       "    height: 32px;\n",
       "    padding: 0;\n",
       "    width: 32px;\n",
       "  }\n",
       "\n",
       "  .colab-df-quickchart:hover {\n",
       "    background-color: var(--hover-bg-color);\n",
       "    box-shadow: 0 1px 2px rgba(60, 64, 67, 0.3), 0 1px 3px 1px rgba(60, 64, 67, 0.15);\n",
       "    fill: var(--button-hover-fill-color);\n",
       "  }\n",
       "\n",
       "  .colab-df-quickchart-complete:disabled,\n",
       "  .colab-df-quickchart-complete:disabled:hover {\n",
       "    background-color: var(--disabled-bg-color);\n",
       "    fill: var(--disabled-fill-color);\n",
       "    box-shadow: none;\n",
       "  }\n",
       "\n",
       "  .colab-df-spinner {\n",
       "    border: 2px solid var(--fill-color);\n",
       "    border-color: transparent;\n",
       "    border-bottom-color: var(--fill-color);\n",
       "    animation:\n",
       "      spin 1s steps(1) infinite;\n",
       "  }\n",
       "\n",
       "  @keyframes spin {\n",
       "    0% {\n",
       "      border-color: transparent;\n",
       "      border-bottom-color: var(--fill-color);\n",
       "      border-left-color: var(--fill-color);\n",
       "    }\n",
       "    20% {\n",
       "      border-color: transparent;\n",
       "      border-left-color: var(--fill-color);\n",
       "      border-top-color: var(--fill-color);\n",
       "    }\n",
       "    30% {\n",
       "      border-color: transparent;\n",
       "      border-left-color: var(--fill-color);\n",
       "      border-top-color: var(--fill-color);\n",
       "      border-right-color: var(--fill-color);\n",
       "    }\n",
       "    40% {\n",
       "      border-color: transparent;\n",
       "      border-right-color: var(--fill-color);\n",
       "      border-top-color: var(--fill-color);\n",
       "    }\n",
       "    60% {\n",
       "      border-color: transparent;\n",
       "      border-right-color: var(--fill-color);\n",
       "    }\n",
       "    80% {\n",
       "      border-color: transparent;\n",
       "      border-right-color: var(--fill-color);\n",
       "      border-bottom-color: var(--fill-color);\n",
       "    }\n",
       "    90% {\n",
       "      border-color: transparent;\n",
       "      border-bottom-color: var(--fill-color);\n",
       "    }\n",
       "  }\n",
       "</style>\n",
       "\n",
       "  <script>\n",
       "    async function quickchart(key) {\n",
       "      const quickchartButtonEl =\n",
       "        document.querySelector('#' + key + ' button');\n",
       "      quickchartButtonEl.disabled = true;  // To prevent multiple clicks.\n",
       "      quickchartButtonEl.classList.add('colab-df-spinner');\n",
       "      try {\n",
       "        const charts = await google.colab.kernel.invokeFunction(\n",
       "            'suggestCharts', [key], {});\n",
       "      } catch (error) {\n",
       "        console.error('Error during call to suggestCharts:', error);\n",
       "      }\n",
       "      quickchartButtonEl.classList.remove('colab-df-spinner');\n",
       "      quickchartButtonEl.classList.add('colab-df-quickchart-complete');\n",
       "    }\n",
       "    (() => {\n",
       "      let quickchartButtonEl =\n",
       "        document.querySelector('#df-6a5b253a-c6c9-4df6-89b3-f3acde6df5a5 button');\n",
       "      quickchartButtonEl.style.display =\n",
       "        google.colab.kernel.accessAllowed ? 'block' : 'none';\n",
       "    })();\n",
       "  </script>\n",
       "</div>\n",
       "    </div>\n",
       "  </div>\n"
      ],
      "text/plain": [
       "      CRIM    ZN  INDUS  CHAS    NOX     RM   AGE     DIS  RAD    TAX  \\\n",
       "0  0.00632  18.0   2.31   0.0  0.538  6.575  65.2  4.0900  1.0  296.0   \n",
       "1  0.02731   0.0   7.07   0.0  0.469  6.421  78.9  4.9671  2.0  242.0   \n",
       "2  0.02729   0.0   7.07   0.0  0.469  7.185  61.1  4.9671  2.0  242.0   \n",
       "3  0.03237   0.0   2.18   0.0  0.458  6.998  45.8  6.0622  3.0  222.0   \n",
       "4  0.06905   0.0   2.18   0.0  0.458  7.147  54.2  6.0622  3.0  222.0   \n",
       "\n",
       "   PTRATIO       B  LSTAT  \n",
       "0     15.3  396.90   4.98  \n",
       "1     17.8  396.90   9.14  \n",
       "2     17.8  392.83   4.03  \n",
       "3     18.7  394.63   2.94  \n",
       "4     18.7  396.90   5.33  "
      ]
     },
     "execution_count": 2,
     "metadata": {},
     "output_type": "execute_result"
    }
   ],
   "source": [
    "import numpy as np\n",
    "import matplotlib.pyplot as plt\n",
    "import pandas as pd\n",
    "import seaborn as sns\n",
    "from scipy import stats\n",
    "from sklearn.datasets import load_boston\n",
    "%matplotlib inline\n",
    "\n",
    "boston=load_boston()\n",
    "\n",
    "boston_df=pd.DataFrame(boston.data,columns=boston.feature_names)\n",
    "boston_df.head()"
   ]
  },
  {
   "cell_type": "markdown",
   "metadata": {
    "id": "hU0k9s0nWXbw"
   },
   "source": [
    "8-1) 타겟 칼럼을 프레임에 추가해주세요 (1점)"
   ]
  },
  {
   "cell_type": "code",
   "execution_count": null,
   "metadata": {
    "id": "Mzl7B2GgUon2"
   },
   "outputs": [],
   "source": [
    "#정답\n",
    "boston_df['PRICE']=boston.target"
   ]
  },
  {
   "cell_type": "markdown",
   "metadata": {
    "id": "urgA-d3gWaMx"
   },
   "source": [
    "8-2)각 칼럼이 미치는 영향정도를 시각화해보겠습니다.\n",
    "\n",
    "4개의 행 2개의 열\n",
    "그래프로 총 8개 그래프를 그려주세요 (2점)"
   ]
  },
  {
   "cell_type": "code",
   "execution_count": null,
   "metadata": {
    "colab": {
     "base_uri": "https://localhost:8080/",
     "height": 1000
    },
    "id": "qS9YlmU8WZDh",
    "outputId": "e02e29d7-652d-4e0d-ddf4-ced835817642"
   },
   "outputs": [
    {
     "data": {
      "image/png": "[encoded data removed]",
      "text/plain": [
       "<Figure size 800x1600 with 8 Axes>"
      ]
     },
     "metadata": {},
     "output_type": "display_data"
    }
   ],
   "source": [
    "#정답\n",
    "\n",
    "\n",
    "fig, axs = plt.subplots(figsize=(8,16),ncols=2,nrows=4)\n",
    "lm_features=['RM','ZN','INDUS','NOX','AGE','PTRATIO','LSTAT','RAD']\n",
    "for i, feature in enumerate(lm_features):\n",
    "    row=int(i/2)\n",
    "    col=i%2\n",
    "    sns.regplot(x=feature,y='PRICE',data=boston_df,ax=axs[row][col])"
   ]
  },
  {
   "cell_type": "markdown",
   "metadata": {
    "id": "LDvbwwmzWgg0"
   },
   "source": [
    "8-3) 회귀모델 생성 후 학습과 예측을 수행해주세요\n",
    "그리고 mse,rmse,r2스코어를 각각 출력해주세요\n",
    "\n",
    "(test_size=0.2 , random_state=156)"
   ]
  },
  {
   "cell_type": "code",
   "execution_count": null,
   "metadata": {
    "colab": {
     "base_uri": "https://localhost:8080/"
    },
    "id": "coJT10pkWhHN",
    "outputId": "07a9f86e-53b8-481b-a951-ab8cee64e6c9"
   },
   "outputs": [
    {
     "name": "stdout",
     "output_type": "stream",
     "text": [
      "MSE: 18.140266604383086\n",
      "RMSE: 4.259139185842966\n",
      "Vriance score: 0.7854511954574206\n"
     ]
    }
   ],
   "source": [
    "#정답\n",
    "\n",
    "from sklearn.model_selection import train_test_split\n",
    "from sklearn.linear_model import LinearRegression\n",
    "from sklearn.metrics import mean_squared_error,r2_score\n",
    "\n",
    "y_target=boston_df['PRICE']\n",
    "X_data=boston_df.drop(['PRICE'],axis=1,inplace=False)\n",
    "\n",
    "X_train,X_test,y_train,y_test=train_test_split( X_data, y_target, test_size=0.2,\n",
    "                                               random_state=156)\n",
    "lr=LinearRegression()\n",
    "lr.fit(X_train,y_train)\n",
    "y_pred=lr.predict(X_test)\n",
    "mse=mean_squared_error(y_test,y_pred)\n",
    "rmse=np.sqrt(mse)\n",
    "\n",
    "print('MSE:',mse)\n",
    "print('RMSE:',rmse)\n",
    "print('Vriance score:', r2_score(y_test,y_pred))"
   ]
  },
  {
   "cell_type": "markdown",
   "metadata": {
    "id": "ttAv9ms5Wj91"
   },
   "source": [
    "8-4) coef_를 피처별 회귀 계수값으로 매핑하고 높은값 순으로 출력해주세요 (2점)"
   ]
  },
  {
   "cell_type": "code",
   "execution_count": null,
   "metadata": {
    "colab": {
     "base_uri": "https://localhost:8080/"
    },
    "id": "p7NxLxMrWiL3",
    "outputId": "522addb5-89aa-403b-8529-7e372f1915dc"
   },
   "outputs": [
    {
     "data": {
      "text/plain": [
       "RM          3.4\n",
       "CHAS        2.8\n",
       "RAD         0.3\n",
       "ZN          0.1\n",
       "INDUS       0.0\n",
       "AGE         0.0\n",
       "TAX        -0.0\n",
       "B           0.0\n",
       "CRIM       -0.1\n",
       "LSTAT      -0.5\n",
       "PTRATIO    -0.9\n",
       "DIS        -1.6\n",
       "NOX       -20.1\n",
       "dtype: float64"
      ]
     },
     "execution_count": 6,
     "metadata": {},
     "output_type": "execute_result"
    }
   ],
   "source": [
    "#정답\n",
    "coeff=pd.Series(data=np.round(lr.coef_,1),index=X_data.columns)\n",
    "coeff.sort_values(ascending=False)"
   ]
  },
  {
   "cell_type": "markdown",
   "metadata": {
    "id": "u400Qa2MWmiX"
   },
   "source": [
    "8-5) 교차검증을 통해MSE와 RMSE를 측정해보겠습니다.\n",
    "\n",
    "폴드세트는 6개로 설정한 후\n",
    "\n",
    "6폴드의 개별 NEG MSE SCORE, RMSE SCORE, 평균 RMSE 세가지를 소수점 3자리까지 출력해주세요(5점)"
   ]
  },
  {
   "cell_type": "code",
   "execution_count": null,
   "metadata": {
    "colab": {
     "base_uri": "https://localhost:8080/"
    },
    "id": "eIyql_sRWlXe",
    "outputId": "4694e3e5-1ab3-4d16-de27-ed19ae4388b4"
   },
   "outputs": [
    {
     "name": "stdout",
     "output_type": "stream",
     "text": [
      "6폴드 개별 neg MSE SCORES: [ -10.363  -26.9    -34.966  -15.807 -124.279  -22.388]\n",
      "6폴드 개별 RMSE scores: [ 3.219  5.187  5.913  3.976 11.148  4.732]\n",
      "6폴드 평균 RMSE: 5.695724762400135\n"
     ]
    }
   ],
   "source": [
    "#정답\n",
    "\n",
    "from sklearn.model_selection import cross_val_score\n",
    "\n",
    "y_target=boston_df['PRICE']\n",
    "X_data=boston_df.drop(['PRICE'],axis=1,inplace=False)\n",
    "lr=LinearRegression()\n",
    "\n",
    "neg_mse_scores=cross_val_score(lr,X_data,y_target,scoring=\"neg_mean_squared_error\",cv=6)\n",
    "rmse_scores=np.sqrt(-1*neg_mse_scores)\n",
    "avg_rmse=np.mean(rmse_scores)\n",
    "avg_rmse=np.mean(rmse_scores)\n",
    "\n",
    "print('6폴드 개별 neg MSE SCORES:',np.round(neg_mse_scores,3))\n",
    "print('6폴드 개별 RMSE scores:',np.round(rmse_scores,3))\n",
    "print('6폴드 평균 RMSE:', avg_rmse)"
   ]
  },
  {
   "cell_type": "markdown",
   "metadata": {
    "id": "AbCMIixzWplF"
   },
   "source": [
    "8-6) 파이프라인 객체를 통한 다항회귀 구현 (10점)"
   ]
  },
  {
   "cell_type": "code",
   "execution_count": null,
   "metadata": {
    "colab": {
     "base_uri": "https://localhost:8080/"
    },
    "id": "QZ5DC4qDWoEw",
    "outputId": "3d9b29c8-5987-43e3-d2fa-efb4f8b78b01"
   },
   "outputs": [
    {
     "name": "stdout",
     "output_type": "stream",
     "text": [
      "polynomial 회귀계수 [0.    0.135 0.135 0.27  0.405 0.541 0.541 0.811 1.216 1.757]\n"
     ]
    }
   ],
   "source": [
    "#정답\n",
    "\n",
    "from sklearn.preprocessing import PolynomialFeatures\n",
    "from sklearn.linear_model import LinearRegression\n",
    "from sklearn.pipeline import Pipeline\n",
    "import numpy as np\n",
    "\n",
    "#다항식 Y=1 + 4*X1 + 1*X2**2 + 3*X3**3 을 결정 함수식으로 설정, 함수생성\n",
    "def polynomial_func(X):\n",
    "    y=y=1+4*X[:,0]+1*X[:,0]**2+3*X[:,1]**3\n",
    "    return y\n",
    "\n",
    "#사이킷런의 파이프라인 객체를 이용해 다항회귀를 구현 (degree=3)\n",
    "\n",
    "model_p=Pipeline([('poly',PolynomialFeatures(degree=3)),\n",
    "                  ('linear',LinearRegression())])\n",
    "X=np.arange(4).reshape(2,2)\n",
    "y=polynomial_func(X)\n",
    "\n",
    "#모델학습\n",
    "\n",
    "model_p=model_p.fit(X,y)\n",
    "\n",
    "#회귀계수 출력 (소수점 3자리까지)\n",
    "\n",
    "print('polynomial 회귀계수',np.round(model_p.named_steps['linear'].coef_, 3))"
   ]
  },
  {
   "cell_type": "code",
   "execution_count": null,
   "metadata": {
    "id": "C0yO9su8Wq9X"
   },
   "outputs": [],
   "source": []
  }
 ],
 "metadata": {
  "colab": {
   "provenance": []
  },
  "kernelspec": {
   "display_name": "Python 3 (ipykernel)",
   "language": "python",
   "name": "python3"
  },
  "language_info": {
   "codemirror_mode": {
    "name": "ipython",
    "version": 3
   },
   "file_extension": ".py",
   "mimetype": "text/x-python",
   "name": "python",
   "nbconvert_exporter": "python",
   "pygments_lexer": "ipython3",
   "version": "3.9.7"
  },
  "toc": {
   "base_numbering": 1,
   "nav_menu": {},
   "number_sections": true,
   "sideBar": true,
   "skip_h1_title": false,
   "title_cell": "Table of Contents",
   "title_sidebar": "Contents",
   "toc_cell": false,
   "toc_position": {},
   "toc_section_display": true,
   "toc_window_display": false
  }
 },
 "nbformat": 4,
 "nbformat_minor": 1
}
