{
  "cells": [
    {
      "cell_type": "code",
      "execution_count": 1,
      "id": "83184f71",
      "metadata": {
        "id": "83184f71"
      },
      "outputs": [],
      "source": [
        "import pandas as pd\n",
        "import numpy as np\n",
        "from sklearn.model_selection import train_test_split\n",
        "from sklearn.tree import DecisionTreeClassifier\n",
        "from sklearn.preprocessing import LabelEncoder\n",
        "from sklearn.metrics import accuracy_score,confusion_matrix,classification_report"
      ]
    },
    {
      "cell_type": "markdown",
      "id": "fcb1b157",
      "metadata": {
        "id": "fcb1b157"
      },
      "source": [
        "\n",
        "호주 멜버른의 주택 가격 데이터셋 melb_data.csv으로 주택 가격을 예측하고,   \n",
        "각종 평가지표를 사용하여 결정트리 모델 평가하기."
      ]
    },
    {
      "cell_type": "markdown",
      "id": "4430a667",
      "metadata": {
        "id": "4430a667"
      },
      "source": [
        "#### Data Description\n",
        "\n",
        "* `Rooms`: 방 개수\n",
        "\n",
        "* `Price`: 가격(단위: $ 달러)\n",
        "\n",
        "* `Type`: 주택 유형   \n",
        "br - bedroom(s); h - house,cottage,villa, semi,terrace; u - unit, duplex; t - townhouse; dev site - development site; o res - other residential.\n",
        "\n",
        "* `Distance`: Distance from CBD(Central Business District : 도심 지역)\n",
        "\n",
        "* `Bedroom2` : Scraped # of Bedrooms (from different source) (주요 침실 개수)\n",
        "\n",
        "* `Bathroom`: Number of Bathrooms\n",
        "\n",
        "* `Car`: Number of carspots\n",
        "\n",
        "* `Landsize`: Land Size\n",
        "\n",
        "* `BuildingArea`: Building Size\n",
        "\n",
        "* `CouncilArea`: Governing council for the area\n"
      ]
    },
    {
      "cell_type": "markdown",
      "id": "f6f28d3b",
      "metadata": {
        "id": "f6f28d3b"
      },
      "source": [
        "우선 다음 코드들을 실행하여 melb_data변수명으로 데이터를 로드하고   \n",
        "결정트리 분석에 필요한 컬럼만 남기고 결손값을 처리합니다.      \n",
        "<span style='color:green'>(로컬 환경에 알맞게 file_path를 변경하세요)</span>\n",
        "      \n",
        "* feature 데이터 = [Rooms, Type, Distance, Bedroom2, Bathroom, Car, Landsize, BuildingArea, CouncilArea]   \n",
        "* label 데이터 = Price      \n",
        "   \n",
        "(Price 값이 양적 자료이기 때문에 분류보단 회귀방식의 모델이 더 적합하지만, 결정트리를 사용하기 위해 편의상 Price값을 사분위수에 따라 범주형 자료로 변환하여 사용합니다.)"
      ]
    },
    {
      "cell_type": "code",
      "execution_count": 3,
      "id": "7243bf4a",
      "metadata": {
        "id": "7243bf4a"
      },
      "outputs": [],
      "source": [
        "file_path = 'melb_data.csv'\n",
        "drop_columns=['Date','YearBuilt','Suburb','SellerG','Postcode','Address','Method','Lattitude','Longtitude','Propertycount']\n",
        "melb_data = pd.read_csv(file_path).drop(columns=drop_columns,axis=1)\n",
        "melb_data['CouncilArea'] = melb_data['CouncilArea'].fillna('Moreland')\n",
        "melb_data['BuildingArea'] = melb_data['BuildingArea'].fillna(melb_data['BuildingArea'].mean())\n",
        "melb_data['Car'] = melb_data['Car'].fillna(melb_data['Car'].median())"
      ]
    },
    {
      "cell_type": "code",
      "execution_count": 5,
      "id": "a2d93a04",
      "metadata": {
        "id": "a2d93a04"
      },
      "outputs": [],
      "source": [
        "#melb_data.info()"
      ]
    },
    {
      "cell_type": "markdown",
      "id": "d4334a1f",
      "metadata": {
        "id": "d4334a1f"
      },
      "source": [
        "LabelEncoder를 사용하여 인코딩을 합니다."
      ]
    },
    {
      "cell_type": "code",
      "execution_count": 6,
      "id": "938fd676",
      "metadata": {
        "id": "938fd676"
      },
      "outputs": [],
      "source": [
        "categorical_features = [ 'Type', 'CouncilArea','Regionname']\n",
        "for col in categorical_features:\n",
        "    le = LabelEncoder()\n",
        "    melb_data[col] = le.fit_transform(melb_data[col])"
      ]
    },
    {
      "cell_type": "markdown",
      "id": "9e2d4f00",
      "metadata": {
        "id": "9e2d4f00"
      },
      "source": [
        "### 전처리\n",
        "label 데이터(target)로 Price 를 사용.   \n",
        "아래 규칙과 같이 Price값을 바꾸기.\n",
        "\n",
        "Q1: 25%분위 수 Q2: 50%분위 수, Q3: 75%분위 수\n",
        "   \n",
        "   <span style='color:red'>[ 규칙 ]</span>\n",
        "* 0 이상, Q1 미만 : '0'\n",
        "* Q1 이상, Q2 미만 : '1'\n",
        "* Q2 이상, Q3 미만 : '2'\n",
        "* Q3 이상 : '3'\n",
        "      "
      ]
    },
    {
      "cell_type": "code",
      "execution_count": 7,
      "id": "0f5f6ca1",
      "metadata": {
        "id": "0f5f6ca1"
      },
      "outputs": [],
      "source": [
        "def price_to_level(prices):\n",
        "    Q1,Q2,Q3 = np.percentile(prices,[25,50,75])\n",
        "\n",
        "    intervals = [(0,Q1),(Q1,Q2),(Q2,Q3),(Q3,prices.max()+1)]\n",
        "    p_levels = []\n",
        "    for p in prices:\n",
        "        for i,interval in enumerate(intervals):\n",
        "            if interval[0] <= p < interval[1]:\n",
        "                p_levels.append(f'{i}')\n",
        "\n",
        "    return p_levels\n",
        "\n",
        "# price_to_level() 커스텀 함수를 사용하여 Price컬럼값을 변경\n",
        "melb_data['Price'] = price_to_level(melb_data['Price'])\n",
        "melb_data = melb_data.rename(columns={'Price':'PriceLevel'})\n"
      ]
    },
    {
      "cell_type": "code",
      "execution_count": 8,
      "id": "dc3be5ea",
      "metadata": {
        "colab": {
          "base_uri": "https://localhost:8080/"
        },
        "id": "dc3be5ea",
        "outputId": "ed4bcf10-c38c-485b-ad6b-652f1ef201cf"
      },
      "outputs": [
        {
          "output_type": "stream",
          "name": "stdout",
          "text": [
            "0 1 2 3\n"
          ]
        }
      ],
      "source": [
        "print(melb_data.loc[8,'PriceLevel'],melb_data.loc[3,'PriceLevel'],\n",
        "      melb_data.loc[1,'PriceLevel'],melb_data.loc[0,'PriceLevel'])"
      ]
    },
    {
      "cell_type": "markdown",
      "id": "9f1ef9ac",
      "metadata": {
        "id": "9f1ef9ac"
      },
      "source": [
        "### 정확도\n",
        "train_test_split() 함수로 학습/테스트용 데이터로 분리하고,\n",
        "\n",
        "DecisionTreeClassifier를 사용하여 모델을 학습하고 PriceLevel을 예측하기\n",
        "\n",
        "예측 결과의 정확도(accuracy) 평가\n",
        "\n",
        "<span style='color:green'>(random_state = 10, test_size = 0.25)</span>\n",
        "* features 데이터 : PriceLevel을 제외한 나머지 컬럼   \n",
        "* label 데이터 : PriceLevel 컬럼"
      ]
    },
    {
      "cell_type": "code",
      "execution_count": 9,
      "id": "2d0cf19e",
      "metadata": {
        "colab": {
          "base_uri": "https://localhost:8080/"
        },
        "id": "2d0cf19e",
        "outputId": "80ae34cb-a6da-4813-d72c-efda44dfc75e"
      },
      "outputs": [
        {
          "output_type": "execute_result",
          "data": {
            "text/plain": [
              "0.6236"
            ]
          },
          "metadata": {},
          "execution_count": 9
        }
      ],
      "source": [
        "features = melb_data.drop('PriceLevel',axis=1)\n",
        "label = melb_data['PriceLevel']\n",
        "X_train,X_test,y_train,y_test = train_test_split(features,label,test_size=0.25,random_state=10)\n",
        "\n",
        "dt_clf = DecisionTreeClassifier(random_state=10)\n",
        "dt_clf.fit(X_train,y_train)\n",
        "pred = dt_clf.predict(X_test)\n",
        "\n",
        "np.round(accuracy_score(y_test,pred),4)"
      ]
    },
    {
      "cell_type": "markdown",
      "id": "3d60a76e",
      "metadata": {
        "id": "3d60a76e"
      },
      "source": [
        "### 정밀도와 재현율\n",
        "(pred)값과 실제값(y_test)을 토대로 confusion matrix 구현하기      \n"
      ]
    },
    {
      "cell_type": "code",
      "execution_count": 11,
      "id": "a2b5361a",
      "metadata": {
        "colab": {
          "base_uri": "https://localhost:8080/",
          "height": 175
        },
        "id": "a2b5361a",
        "outputId": "1c90d309-dc5d-42a2-92ec-e354d217557e"
      },
      "outputs": [
        {
          "output_type": "execute_result",
          "data": {
            "text/plain": [
              "     0    1    2    3\n",
              "0  649  183   22    4\n",
              "1  175  434  186   45\n",
              "2   32  186  450  196\n",
              "3    8   31  210  584"
            ],
            "text/html": [
              "\n",
              "  <div id=\"df-930c676a-8373-4790-9285-de7975482edc\" class=\"colab-df-container\">\n",
              "    <div>\n",
              "<style scoped>\n",
              "    .dataframe tbody tr th:only-of-type {\n",
              "        vertical-align: middle;\n",
              "    }\n",
              "\n",
              "    .dataframe tbody tr th {\n",
              "        vertical-align: top;\n",
              "    }\n",
              "\n",
              "    .dataframe thead th {\n",
              "        text-align: right;\n",
              "    }\n",
              "</style>\n",
              "<table border=\"1\" class=\"dataframe\">\n",
              "  <thead>\n",
              "    <tr style=\"text-align: right;\">\n",
              "      <th></th>\n",
              "      <th>0</th>\n",
              "      <th>1</th>\n",
              "      <th>2</th>\n",
              "      <th>3</th>\n",
              "    </tr>\n",
              "  </thead>\n",
              "  <tbody>\n",
              "    <tr>\n",
              "      <th>0</th>\n",
              "      <td>649</td>\n",
              "      <td>183</td>\n",
              "      <td>22</td>\n",
              "      <td>4</td>\n",
              "    </tr>\n",
              "    <tr>\n",
              "      <th>1</th>\n",
              "      <td>175</td>\n",
              "      <td>434</td>\n",
              "      <td>186</td>\n",
              "      <td>45</td>\n",
              "    </tr>\n",
              "    <tr>\n",
              "      <th>2</th>\n",
              "      <td>32</td>\n",
              "      <td>186</td>\n",
              "      <td>450</td>\n",
              "      <td>196</td>\n",
              "    </tr>\n",
              "    <tr>\n",
              "      <th>3</th>\n",
              "      <td>8</td>\n",
              "      <td>31</td>\n",
              "      <td>210</td>\n",
              "      <td>584</td>\n",
              "    </tr>\n",
              "  </tbody>\n",
              "</table>\n",
              "</div>\n",
              "    <div class=\"colab-df-buttons\">\n",
              "\n",
              "  <div class=\"colab-df-container\">\n",
              "    <button class=\"colab-df-convert\" onclick=\"convertToInteractive('df-930c676a-8373-4790-9285-de7975482edc')\"\n",
              "            title=\"Convert this dataframe to an interactive table.\"\n",
              "            style=\"display:none;\">\n",
              "\n",
              "  <svg xmlns=\"http://www.w3.org/2000/svg\" height=\"24px\" viewBox=\"0 -960 960 960\">\n",
              "    <path d=\"M120-120v-720h720v720H120Zm60-500h600v-160H180v160Zm220 220h160v-160H400v160Zm0 220h160v-160H400v160ZM180-400h160v-160H180v160Zm440 0h160v-160H620v160ZM180-180h160v-160H180v160Zm440 0h160v-160H620v160Z\"/>\n",
              "  </svg>\n",
              "    </button>\n",
              "\n",
              "  <style>\n",
              "    .colab-df-container {\n",
              "      display:flex;\n",
              "      gap: 12px;\n",
              "    }\n",
              "\n",
              "    .colab-df-convert {\n",
              "      background-color: #E8F0FE;\n",
              "      border: none;\n",
              "      border-radius: 50%;\n",
              "      cursor: pointer;\n",
              "      display: none;\n",
              "      fill: #1967D2;\n",
              "      height: 32px;\n",
              "      padding: 0 0 0 0;\n",
              "      width: 32px;\n",
              "    }\n",
              "\n",
              "    .colab-df-convert:hover {\n",
              "      background-color: #E2EBFA;\n",
              "      box-shadow: 0px 1px 2px rgba(60, 64, 67, 0.3), 0px 1px 3px 1px rgba(60, 64, 67, 0.15);\n",
              "      fill: #174EA6;\n",
              "    }\n",
              "\n",
              "    .colab-df-buttons div {\n",
              "      margin-bottom: 4px;\n",
              "    }\n",
              "\n",
              "    [theme=dark] .colab-df-convert {\n",
              "      background-color: #3B4455;\n",
              "      fill: #D2E3FC;\n",
              "    }\n",
              "\n",
              "    [theme=dark] .colab-df-convert:hover {\n",
              "      background-color: #434B5C;\n",
              "      box-shadow: 0px 1px 3px 1px rgba(0, 0, 0, 0.15);\n",
              "      filter: drop-shadow(0px 1px 2px rgba(0, 0, 0, 0.3));\n",
              "      fill: #FFFFFF;\n",
              "    }\n",
              "  </style>\n",
              "\n",
              "    <script>\n",
              "      const buttonEl =\n",
              "        document.querySelector('#df-930c676a-8373-4790-9285-de7975482edc button.colab-df-convert');\n",
              "      buttonEl.style.display =\n",
              "        google.colab.kernel.accessAllowed ? 'block' : 'none';\n",
              "\n",
              "      async function convertToInteractive(key) {\n",
              "        const element = document.querySelector('#df-930c676a-8373-4790-9285-de7975482edc');\n",
              "        const dataTable =\n",
              "          await google.colab.kernel.invokeFunction('convertToInteractive',\n",
              "                                                    [key], {});\n",
              "        if (!dataTable) return;\n",
              "\n",
              "        const docLinkHtml = 'Like what you see? Visit the ' +\n",
              "          '<a target=\"_blank\" href=https://colab.research.google.com/notebooks/data_table.ipynb>data table notebook</a>'\n",
              "          + ' to learn more about interactive tables.';\n",
              "        element.innerHTML = '';\n",
              "        dataTable['output_type'] = 'display_data';\n",
              "        await google.colab.output.renderOutput(dataTable, element);\n",
              "        const docLink = document.createElement('div');\n",
              "        docLink.innerHTML = docLinkHtml;\n",
              "        element.appendChild(docLink);\n",
              "      }\n",
              "    </script>\n",
              "  </div>\n",
              "\n",
              "\n",
              "<div id=\"df-9cef8a42-9fe0-44dd-9517-5561ddbf58c5\">\n",
              "  <button class=\"colab-df-quickchart\" onclick=\"quickchart('df-9cef8a42-9fe0-44dd-9517-5561ddbf58c5')\"\n",
              "            title=\"Suggest charts\"\n",
              "            style=\"display:none;\">\n",
              "\n",
              "<svg xmlns=\"http://www.w3.org/2000/svg\" height=\"24px\"viewBox=\"0 0 24 24\"\n",
              "     width=\"24px\">\n",
              "    <g>\n",
              "        <path d=\"M19 3H5c-1.1 0-2 .9-2 2v14c0 1.1.9 2 2 2h14c1.1 0 2-.9 2-2V5c0-1.1-.9-2-2-2zM9 17H7v-7h2v7zm4 0h-2V7h2v10zm4 0h-2v-4h2v4z\"/>\n",
              "    </g>\n",
              "</svg>\n",
              "  </button>\n",
              "\n",
              "<style>\n",
              "  .colab-df-quickchart {\n",
              "      --bg-color: #E8F0FE;\n",
              "      --fill-color: #1967D2;\n",
              "      --hover-bg-color: #E2EBFA;\n",
              "      --hover-fill-color: #174EA6;\n",
              "      --disabled-fill-color: #AAA;\n",
              "      --disabled-bg-color: #DDD;\n",
              "  }\n",
              "\n",
              "  [theme=dark] .colab-df-quickchart {\n",
              "      --bg-color: #3B4455;\n",
              "      --fill-color: #D2E3FC;\n",
              "      --hover-bg-color: #434B5C;\n",
              "      --hover-fill-color: #FFFFFF;\n",
              "      --disabled-bg-color: #3B4455;\n",
              "      --disabled-fill-color: #666;\n",
              "  }\n",
              "\n",
              "  .colab-df-quickchart {\n",
              "    background-color: var(--bg-color);\n",
              "    border: none;\n",
              "    border-radius: 50%;\n",
              "    cursor: pointer;\n",
              "    display: none;\n",
              "    fill: var(--fill-color);\n",
              "    height: 32px;\n",
              "    padding: 0;\n",
              "    width: 32px;\n",
              "  }\n",
              "\n",
              "  .colab-df-quickchart:hover {\n",
              "    background-color: var(--hover-bg-color);\n",
              "    box-shadow: 0 1px 2px rgba(60, 64, 67, 0.3), 0 1px 3px 1px rgba(60, 64, 67, 0.15);\n",
              "    fill: var(--button-hover-fill-color);\n",
              "  }\n",
              "\n",
              "  .colab-df-quickchart-complete:disabled,\n",
              "  .colab-df-quickchart-complete:disabled:hover {\n",
              "    background-color: var(--disabled-bg-color);\n",
              "    fill: var(--disabled-fill-color);\n",
              "    box-shadow: none;\n",
              "  }\n",
              "\n",
              "  .colab-df-spinner {\n",
              "    border: 2px solid var(--fill-color);\n",
              "    border-color: transparent;\n",
              "    border-bottom-color: var(--fill-color);\n",
              "    animation:\n",
              "      spin 1s steps(1) infinite;\n",
              "  }\n",
              "\n",
              "  @keyframes spin {\n",
              "    0% {\n",
              "      border-color: transparent;\n",
              "      border-bottom-color: var(--fill-color);\n",
              "      border-left-color: var(--fill-color);\n",
              "    }\n",
              "    20% {\n",
              "      border-color: transparent;\n",
              "      border-left-color: var(--fill-color);\n",
              "      border-top-color: var(--fill-color);\n",
              "    }\n",
              "    30% {\n",
              "      border-color: transparent;\n",
              "      border-left-color: var(--fill-color);\n",
              "      border-top-color: var(--fill-color);\n",
              "      border-right-color: var(--fill-color);\n",
              "    }\n",
              "    40% {\n",
              "      border-color: transparent;\n",
              "      border-right-color: var(--fill-color);\n",
              "      border-top-color: var(--fill-color);\n",
              "    }\n",
              "    60% {\n",
              "      border-color: transparent;\n",
              "      border-right-color: var(--fill-color);\n",
              "    }\n",
              "    80% {\n",
              "      border-color: transparent;\n",
              "      border-right-color: var(--fill-color);\n",
              "      border-bottom-color: var(--fill-color);\n",
              "    }\n",
              "    90% {\n",
              "      border-color: transparent;\n",
              "      border-bottom-color: var(--fill-color);\n",
              "    }\n",
              "  }\n",
              "</style>\n",
              "\n",
              "  <script>\n",
              "    async function quickchart(key) {\n",
              "      const quickchartButtonEl =\n",
              "        document.querySelector('#' + key + ' button');\n",
              "      quickchartButtonEl.disabled = true;  // To prevent multiple clicks.\n",
              "      quickchartButtonEl.classList.add('colab-df-spinner');\n",
              "      try {\n",
              "        const charts = await google.colab.kernel.invokeFunction(\n",
              "            'suggestCharts', [key], {});\n",
              "      } catch (error) {\n",
              "        console.error('Error during call to suggestCharts:', error);\n",
              "      }\n",
              "      quickchartButtonEl.classList.remove('colab-df-spinner');\n",
              "      quickchartButtonEl.classList.add('colab-df-quickchart-complete');\n",
              "    }\n",
              "    (() => {\n",
              "      let quickchartButtonEl =\n",
              "        document.querySelector('#df-9cef8a42-9fe0-44dd-9517-5561ddbf58c5 button');\n",
              "      quickchartButtonEl.style.display =\n",
              "        google.colab.kernel.accessAllowed ? 'block' : 'none';\n",
              "    })();\n",
              "  </script>\n",
              "</div>\n",
              "    </div>\n",
              "  </div>\n"
            ],
            "application/vnd.google.colaboratory.intrinsic+json": {
              "type": "dataframe",
              "summary": "{\n  \"name\": \"pd\",\n  \"rows\": 4,\n  \"fields\": [\n    {\n      \"column\": \"0\",\n      \"properties\": {\n        \"dtype\": \"number\",\n        \"std\": 297,\n        \"min\": 8,\n        \"max\": 649,\n        \"num_unique_values\": 4,\n        \"samples\": [\n          175,\n          8,\n          649\n        ],\n        \"semantic_type\": \"\",\n        \"description\": \"\"\n      }\n    },\n    {\n      \"column\": \"1\",\n      \"properties\": {\n        \"dtype\": \"number\",\n        \"std\": 166,\n        \"min\": 31,\n        \"max\": 434,\n        \"num_unique_values\": 4,\n        \"samples\": [\n          434,\n          31,\n          183\n        ],\n        \"semantic_type\": \"\",\n        \"description\": \"\"\n      }\n    },\n    {\n      \"column\": \"2\",\n      \"properties\": {\n        \"dtype\": \"number\",\n        \"std\": 176,\n        \"min\": 22,\n        \"max\": 450,\n        \"num_unique_values\": 4,\n        \"samples\": [\n          186,\n          210,\n          22\n        ],\n        \"semantic_type\": \"\",\n        \"description\": \"\"\n      }\n    },\n    {\n      \"column\": \"3\",\n      \"properties\": {\n        \"dtype\": \"number\",\n        \"std\": 264,\n        \"min\": 4,\n        \"max\": 584,\n        \"num_unique_values\": 4,\n        \"samples\": [\n          45,\n          584,\n          4\n        ],\n        \"semantic_type\": \"\",\n        \"description\": \"\"\n      }\n    }\n  ]\n}"
            }
          },
          "metadata": {},
          "execution_count": 11
        }
      ],
      "source": [
        "classes = ['0', '1', '2', '3'] # 레이블 클래스\n",
        "cm = (confusion_matrix(y_test,pred))\n",
        "# pandas DataFrame으로 변환\n",
        "pd.DataFrame(cm,index=classes,columns=classes)"
      ]
    },
    {
      "cell_type": "markdown",
      "id": "0cdbe7ee",
      "metadata": {
        "id": "0cdbe7ee"
      },
      "source": [
        "###  직접 재현율(recall)과 정밀도(precision)를 구해서 확인\n",
        "\n",
        "a) Macro Averaging 방식 사용"
      ]
    },
    {
      "cell_type": "code",
      "execution_count": 12,
      "id": "80fab987",
      "metadata": {
        "colab": {
          "base_uri": "https://localhost:8080/"
        },
        "id": "80fab987",
        "outputId": "046c3c37-961f-40e3-e895-f76fbcafa0df"
      },
      "outputs": [
        {
          "output_type": "stream",
          "name": "stdout",
          "text": [
            "macro_precision: 0.623609372215409\n",
            "macro_recall: 0.6237476721457814\n"
          ]
        }
      ],
      "source": [
        "macro_precisions = []\n",
        "macro_recalls = []\n",
        "TPS = []\n",
        "FPS = []\n",
        "FNS = []\n",
        "for i in range(cm.shape[0]):\n",
        "    TP = cm[i][i]\n",
        "    FP = 0\n",
        "    FN = 0\n",
        "    for j in range(cm.shape[0]):\n",
        "        if i == j :\n",
        "            continue\n",
        "        FP += cm[j][i]\n",
        "        FN += cm[i][j]\n",
        "    macro_precisions.append(TP/(TP+FP))\n",
        "    macro_recalls.append(TP/(TP+FN))\n",
        "    TPS.append(TP)\n",
        "    FPS.append(FP)\n",
        "    FNS.append(FN)\n",
        "macro_precision = np.mean(macro_precisions)\n",
        "print('macro_precision:',macro_precision)\n",
        "macro_recall = np.mean(macro_recalls)\n",
        "print('macro_recall:',macro_recall)"
      ]
    },
    {
      "cell_type": "markdown",
      "id": "6a764bec",
      "metadata": {
        "id": "6a764bec"
      },
      "source": [
        "b) micro-averaging 방식 사용"
      ]
    },
    {
      "cell_type": "code",
      "execution_count": 13,
      "id": "facb9612",
      "metadata": {
        "colab": {
          "base_uri": "https://localhost:8080/"
        },
        "id": "facb9612",
        "outputId": "13064dce-8c86-4e58-ad7c-2854560d39fb"
      },
      "outputs": [
        {
          "output_type": "stream",
          "name": "stdout",
          "text": [
            "micro_precision: 0.6235640648011782\n",
            "micro_recall: 0.6235640648011782\n"
          ]
        }
      ],
      "source": [
        "micro_precision = sum(TPS)/(sum(TPS)+sum(FPS))\n",
        "micro_recall = sum(TPS)/(sum(TPS)+sum(FNS))\n",
        "print('micro_precision:',micro_precision)\n",
        "print('micro_recall:',micro_recall)"
      ]
    },
    {
      "cell_type": "markdown",
      "id": "d1a80ddb",
      "metadata": {
        "id": "d1a80ddb"
      },
      "source": [
        "d) sklearn.metrics의 classification_report() 함수를 사용하여 구한 평가지표 결과를 clf_report 변수에 저장  \n"
      ]
    },
    {
      "cell_type": "code",
      "execution_count": 14,
      "id": "2bc202ed",
      "metadata": {
        "colab": {
          "base_uri": "https://localhost:8080/",
          "height": 175
        },
        "id": "2bc202ed",
        "outputId": "89b8b4bb-0cca-48d7-8672-bcd478dab5d7"
      },
      "outputs": [
        {
          "output_type": "execute_result",
          "data": {
            "text/plain": [
              "                    0           1           2           3  accuracy  \\\n",
              "precision    0.751157    0.520384    0.518433    0.704463  0.623564   \n",
              "recall       0.756410    0.516667    0.520833    0.701080  0.623564   \n",
              "f1-score     0.753775    0.518519    0.519630    0.702768  0.623564   \n",
              "support    858.000000  840.000000  864.000000  833.000000  0.623564   \n",
              "\n",
              "             macro avg  weighted avg  \n",
              "precision     0.623609      0.623375  \n",
              "recall        0.623748      0.623564  \n",
              "f1-score      0.623673      0.623464  \n",
              "support    3395.000000   3395.000000  "
            ],
            "text/html": [
              "\n",
              "  <div id=\"df-d0de3c57-648b-4eda-9e2e-b41421a48f4a\" class=\"colab-df-container\">\n",
              "    <div>\n",
              "<style scoped>\n",
              "    .dataframe tbody tr th:only-of-type {\n",
              "        vertical-align: middle;\n",
              "    }\n",
              "\n",
              "    .dataframe tbody tr th {\n",
              "        vertical-align: top;\n",
              "    }\n",
              "\n",
              "    .dataframe thead th {\n",
              "        text-align: right;\n",
              "    }\n",
              "</style>\n",
              "<table border=\"1\" class=\"dataframe\">\n",
              "  <thead>\n",
              "    <tr style=\"text-align: right;\">\n",
              "      <th></th>\n",
              "      <th>0</th>\n",
              "      <th>1</th>\n",
              "      <th>2</th>\n",
              "      <th>3</th>\n",
              "      <th>accuracy</th>\n",
              "      <th>macro avg</th>\n",
              "      <th>weighted avg</th>\n",
              "    </tr>\n",
              "  </thead>\n",
              "  <tbody>\n",
              "    <tr>\n",
              "      <th>precision</th>\n",
              "      <td>0.751157</td>\n",
              "      <td>0.520384</td>\n",
              "      <td>0.518433</td>\n",
              "      <td>0.704463</td>\n",
              "      <td>0.623564</td>\n",
              "      <td>0.623609</td>\n",
              "      <td>0.623375</td>\n",
              "    </tr>\n",
              "    <tr>\n",
              "      <th>recall</th>\n",
              "      <td>0.756410</td>\n",
              "      <td>0.516667</td>\n",
              "      <td>0.520833</td>\n",
              "      <td>0.701080</td>\n",
              "      <td>0.623564</td>\n",
              "      <td>0.623748</td>\n",
              "      <td>0.623564</td>\n",
              "    </tr>\n",
              "    <tr>\n",
              "      <th>f1-score</th>\n",
              "      <td>0.753775</td>\n",
              "      <td>0.518519</td>\n",
              "      <td>0.519630</td>\n",
              "      <td>0.702768</td>\n",
              "      <td>0.623564</td>\n",
              "      <td>0.623673</td>\n",
              "      <td>0.623464</td>\n",
              "    </tr>\n",
              "    <tr>\n",
              "      <th>support</th>\n",
              "      <td>858.000000</td>\n",
              "      <td>840.000000</td>\n",
              "      <td>864.000000</td>\n",
              "      <td>833.000000</td>\n",
              "      <td>0.623564</td>\n",
              "      <td>3395.000000</td>\n",
              "      <td>3395.000000</td>\n",
              "    </tr>\n",
              "  </tbody>\n",
              "</table>\n",
              "</div>\n",
              "    <div class=\"colab-df-buttons\">\n",
              "\n",
              "  <div class=\"colab-df-container\">\n",
              "    <button class=\"colab-df-convert\" onclick=\"convertToInteractive('df-d0de3c57-648b-4eda-9e2e-b41421a48f4a')\"\n",
              "            title=\"Convert this dataframe to an interactive table.\"\n",
              "            style=\"display:none;\">\n",
              "\n",
              "  <svg xmlns=\"http://www.w3.org/2000/svg\" height=\"24px\" viewBox=\"0 -960 960 960\">\n",
              "    <path d=\"M120-120v-720h720v720H120Zm60-500h600v-160H180v160Zm220 220h160v-160H400v160Zm0 220h160v-160H400v160ZM180-400h160v-160H180v160Zm440 0h160v-160H620v160ZM180-180h160v-160H180v160Zm440 0h160v-160H620v160Z\"/>\n",
              "  </svg>\n",
              "    </button>\n",
              "\n",
              "  <style>\n",
              "    .colab-df-container {\n",
              "      display:flex;\n",
              "      gap: 12px;\n",
              "    }\n",
              "\n",
              "    .colab-df-convert {\n",
              "      background-color: #E8F0FE;\n",
              "      border: none;\n",
              "      border-radius: 50%;\n",
              "      cursor: pointer;\n",
              "      display: none;\n",
              "      fill: #1967D2;\n",
              "      height: 32px;\n",
              "      padding: 0 0 0 0;\n",
              "      width: 32px;\n",
              "    }\n",
              "\n",
              "    .colab-df-convert:hover {\n",
              "      background-color: #E2EBFA;\n",
              "      box-shadow: 0px 1px 2px rgba(60, 64, 67, 0.3), 0px 1px 3px 1px rgba(60, 64, 67, 0.15);\n",
              "      fill: #174EA6;\n",
              "    }\n",
              "\n",
              "    .colab-df-buttons div {\n",
              "      margin-bottom: 4px;\n",
              "    }\n",
              "\n",
              "    [theme=dark] .colab-df-convert {\n",
              "      background-color: #3B4455;\n",
              "      fill: #D2E3FC;\n",
              "    }\n",
              "\n",
              "    [theme=dark] .colab-df-convert:hover {\n",
              "      background-color: #434B5C;\n",
              "      box-shadow: 0px 1px 3px 1px rgba(0, 0, 0, 0.15);\n",
              "      filter: drop-shadow(0px 1px 2px rgba(0, 0, 0, 0.3));\n",
              "      fill: #FFFFFF;\n",
              "    }\n",
              "  </style>\n",
              "\n",
              "    <script>\n",
              "      const buttonEl =\n",
              "        document.querySelector('#df-d0de3c57-648b-4eda-9e2e-b41421a48f4a button.colab-df-convert');\n",
              "      buttonEl.style.display =\n",
              "        google.colab.kernel.accessAllowed ? 'block' : 'none';\n",
              "\n",
              "      async function convertToInteractive(key) {\n",
              "        const element = document.querySelector('#df-d0de3c57-648b-4eda-9e2e-b41421a48f4a');\n",
              "        const dataTable =\n",
              "          await google.colab.kernel.invokeFunction('convertToInteractive',\n",
              "                                                    [key], {});\n",
              "        if (!dataTable) return;\n",
              "\n",
              "        const docLinkHtml = 'Like what you see? Visit the ' +\n",
              "          '<a target=\"_blank\" href=https://colab.research.google.com/notebooks/data_table.ipynb>data table notebook</a>'\n",
              "          + ' to learn more about interactive tables.';\n",
              "        element.innerHTML = '';\n",
              "        dataTable['output_type'] = 'display_data';\n",
              "        await google.colab.output.renderOutput(dataTable, element);\n",
              "        const docLink = document.createElement('div');\n",
              "        docLink.innerHTML = docLinkHtml;\n",
              "        element.appendChild(docLink);\n",
              "      }\n",
              "    </script>\n",
              "  </div>\n",
              "\n",
              "\n",
              "<div id=\"df-a476616c-276d-45d8-863f-ed587effb99c\">\n",
              "  <button class=\"colab-df-quickchart\" onclick=\"quickchart('df-a476616c-276d-45d8-863f-ed587effb99c')\"\n",
              "            title=\"Suggest charts\"\n",
              "            style=\"display:none;\">\n",
              "\n",
              "<svg xmlns=\"http://www.w3.org/2000/svg\" height=\"24px\"viewBox=\"0 0 24 24\"\n",
              "     width=\"24px\">\n",
              "    <g>\n",
              "        <path d=\"M19 3H5c-1.1 0-2 .9-2 2v14c0 1.1.9 2 2 2h14c1.1 0 2-.9 2-2V5c0-1.1-.9-2-2-2zM9 17H7v-7h2v7zm4 0h-2V7h2v10zm4 0h-2v-4h2v4z\"/>\n",
              "    </g>\n",
              "</svg>\n",
              "  </button>\n",
              "\n",
              "<style>\n",
              "  .colab-df-quickchart {\n",
              "      --bg-color: #E8F0FE;\n",
              "      --fill-color: #1967D2;\n",
              "      --hover-bg-color: #E2EBFA;\n",
              "      --hover-fill-color: #174EA6;\n",
              "      --disabled-fill-color: #AAA;\n",
              "      --disabled-bg-color: #DDD;\n",
              "  }\n",
              "\n",
              "  [theme=dark] .colab-df-quickchart {\n",
              "      --bg-color: #3B4455;\n",
              "      --fill-color: #D2E3FC;\n",
              "      --hover-bg-color: #434B5C;\n",
              "      --hover-fill-color: #FFFFFF;\n",
              "      --disabled-bg-color: #3B4455;\n",
              "      --disabled-fill-color: #666;\n",
              "  }\n",
              "\n",
              "  .colab-df-quickchart {\n",
              "    background-color: var(--bg-color);\n",
              "    border: none;\n",
              "    border-radius: 50%;\n",
              "    cursor: pointer;\n",
              "    display: none;\n",
              "    fill: var(--fill-color);\n",
              "    height: 32px;\n",
              "    padding: 0;\n",
              "    width: 32px;\n",
              "  }\n",
              "\n",
              "  .colab-df-quickchart:hover {\n",
              "    background-color: var(--hover-bg-color);\n",
              "    box-shadow: 0 1px 2px rgba(60, 64, 67, 0.3), 0 1px 3px 1px rgba(60, 64, 67, 0.15);\n",
              "    fill: var(--button-hover-fill-color);\n",
              "  }\n",
              "\n",
              "  .colab-df-quickchart-complete:disabled,\n",
              "  .colab-df-quickchart-complete:disabled:hover {\n",
              "    background-color: var(--disabled-bg-color);\n",
              "    fill: var(--disabled-fill-color);\n",
              "    box-shadow: none;\n",
              "  }\n",
              "\n",
              "  .colab-df-spinner {\n",
              "    border: 2px solid var(--fill-color);\n",
              "    border-color: transparent;\n",
              "    border-bottom-color: var(--fill-color);\n",
              "    animation:\n",
              "      spin 1s steps(1) infinite;\n",
              "  }\n",
              "\n",
              "  @keyframes spin {\n",
              "    0% {\n",
              "      border-color: transparent;\n",
              "      border-bottom-color: var(--fill-color);\n",
              "      border-left-color: var(--fill-color);\n",
              "    }\n",
              "    20% {\n",
              "      border-color: transparent;\n",
              "      border-left-color: var(--fill-color);\n",
              "      border-top-color: var(--fill-color);\n",
              "    }\n",
              "    30% {\n",
              "      border-color: transparent;\n",
              "      border-left-color: var(--fill-color);\n",
              "      border-top-color: var(--fill-color);\n",
              "      border-right-color: var(--fill-color);\n",
              "    }\n",
              "    40% {\n",
              "      border-color: transparent;\n",
              "      border-right-color: var(--fill-color);\n",
              "      border-top-color: var(--fill-color);\n",
              "    }\n",
              "    60% {\n",
              "      border-color: transparent;\n",
              "      border-right-color: var(--fill-color);\n",
              "    }\n",
              "    80% {\n",
              "      border-color: transparent;\n",
              "      border-right-color: var(--fill-color);\n",
              "      border-bottom-color: var(--fill-color);\n",
              "    }\n",
              "    90% {\n",
              "      border-color: transparent;\n",
              "      border-bottom-color: var(--fill-color);\n",
              "    }\n",
              "  }\n",
              "</style>\n",
              "\n",
              "  <script>\n",
              "    async function quickchart(key) {\n",
              "      const quickchartButtonEl =\n",
              "        document.querySelector('#' + key + ' button');\n",
              "      quickchartButtonEl.disabled = true;  // To prevent multiple clicks.\n",
              "      quickchartButtonEl.classList.add('colab-df-spinner');\n",
              "      try {\n",
              "        const charts = await google.colab.kernel.invokeFunction(\n",
              "            'suggestCharts', [key], {});\n",
              "      } catch (error) {\n",
              "        console.error('Error during call to suggestCharts:', error);\n",
              "      }\n",
              "      quickchartButtonEl.classList.remove('colab-df-spinner');\n",
              "      quickchartButtonEl.classList.add('colab-df-quickchart-complete');\n",
              "    }\n",
              "    (() => {\n",
              "      let quickchartButtonEl =\n",
              "        document.querySelector('#df-a476616c-276d-45d8-863f-ed587effb99c button');\n",
              "      quickchartButtonEl.style.display =\n",
              "        google.colab.kernel.accessAllowed ? 'block' : 'none';\n",
              "    })();\n",
              "  </script>\n",
              "</div>\n",
              "    </div>\n",
              "  </div>\n"
            ],
            "application/vnd.google.colaboratory.intrinsic+json": {
              "type": "dataframe",
              "variable_name": "clf_report_df",
              "summary": "{\n  \"name\": \"clf_report_df\",\n  \"rows\": 4,\n  \"fields\": [\n    {\n      \"column\": \"0\",\n      \"properties\": {\n        \"dtype\": \"number\",\n        \"std\": 428.6231096146276,\n        \"min\": 0.7511574074074074,\n        \"max\": 858.0,\n        \"num_unique_values\": 4,\n        \"samples\": [\n          0.7564102564102564,\n          858.0,\n          0.7511574074074074\n        ],\n        \"semantic_type\": \"\",\n        \"description\": \"\"\n      }\n    },\n    {\n      \"column\": \"1\",\n      \"properties\": {\n        \"dtype\": \"number\",\n        \"std\": 419.7407385230379,\n        \"min\": 0.5166666666666667,\n        \"max\": 840.0,\n        \"num_unique_values\": 4,\n        \"samples\": [\n          0.5166666666666667,\n          840.0,\n          0.5203836930455635\n        ],\n        \"semantic_type\": \"\",\n        \"description\": \"\"\n      }\n    },\n    {\n      \"column\": \"2\",\n      \"properties\": {\n        \"dtype\": \"number\",\n        \"std\": 431.740183834771,\n        \"min\": 0.5184331797235023,\n        \"max\": 864.0,\n        \"num_unique_values\": 4,\n        \"samples\": [\n          0.5208333333333334,\n          864.0,\n          0.5184331797235023\n        ],\n        \"semantic_type\": \"\",\n        \"description\": \"\"\n      }\n    },\n    {\n      \"column\": \"3\",\n      \"properties\": {\n        \"dtype\": \"number\",\n        \"std\": 416.148614770532,\n        \"min\": 0.7010804321728692,\n        \"max\": 833.0,\n        \"num_unique_values\": 4,\n        \"samples\": [\n          0.7010804321728692,\n          833.0,\n          0.7044632086851629\n        ],\n        \"semantic_type\": \"\",\n        \"description\": \"\"\n      }\n    },\n    {\n      \"column\": \"accuracy\",\n      \"properties\": {\n        \"dtype\": \"number\",\n        \"std\": 0.0,\n        \"min\": 0.6235640648011782,\n        \"max\": 0.6235640648011782,\n        \"num_unique_values\": 1,\n        \"samples\": [\n          0.6235640648011782\n        ],\n        \"semantic_type\": \"\",\n        \"description\": \"\"\n      }\n    },\n    {\n      \"column\": \"macro avg\",\n      \"properties\": {\n        \"dtype\": \"number\",\n        \"std\": 1697.1881616828655,\n        \"min\": 0.623609372215409,\n        \"max\": 3395.0,\n        \"num_unique_values\": 4,\n        \"samples\": [\n          0.6237476721457814\n        ],\n        \"semantic_type\": \"\",\n        \"description\": \"\"\n      }\n    },\n    {\n      \"column\": \"weighted avg\",\n      \"properties\": {\n        \"dtype\": \"number\",\n        \"std\": 1697.1882660783585,\n        \"min\": 0.6233753984770768,\n        \"max\": 3395.0,\n        \"num_unique_values\": 4,\n        \"samples\": [\n          0.6235640648011782\n        ],\n        \"semantic_type\": \"\",\n        \"description\": \"\"\n      }\n    }\n  ]\n}"
            }
          },
          "metadata": {},
          "execution_count": 14
        }
      ],
      "source": [
        "clf_report = classification_report(y_test,pred,labels=classes,target_names=classes,output_dict=True)\n",
        "clf_report_df = pd.DataFrame(clf_report)\n",
        "clf_report_df"
      ]
    },
    {
      "cell_type": "markdown",
      "source": [
        "### 회귀 모델에 대한 평가"
      ],
      "metadata": {
        "id": "DnJijKOwVUzl"
      },
      "id": "DnJijKOwVUzl"
    },
    {
      "cell_type": "code",
      "source": [
        "import numpy as np\n",
        "import pandas as pd\n",
        "from sklearn.model_selection import train_test_split\n",
        "from sklearn.linear_model import LinearRegression\n",
        "from sklearn.metrics import mean_squared_error, mean_absolute_error, mean_absolute_percentage_error\n",
        "\n",
        "# 예시 데이터 생성\n",
        "np.random.seed(0)  # 결과의 재현성을 위해 시드 설정\n",
        "X = 2.5 * np.random.randn(1000) + 1.5  # 독립변수 X 생성\n",
        "res = 0.5 * np.random.randn(1000)       # 잔차 생성\n",
        "y = 2 + 0.3 * X + res                   # 종속변수 y 생성\n",
        "\n",
        "# 데이터프레임 형태로 변환\n",
        "df = pd.DataFrame({\n",
        "    'X': X,\n",
        "    'y': y\n",
        "})\n",
        "\n",
        "# 데이터 분할\n",
        "X_train, X_test, y_train, y_test = train_test_split(df['X'], df['y'], test_size=0.2, random_state=0)\n",
        "\n",
        "# 모델 학습\n",
        "model = LinearRegression()\n",
        "model.fit(X_train.values.reshape(-1, 1), y_train)\n",
        "\n",
        "# 예측\n",
        "y_pred = model.predict(X_test.values.reshape(-1, 1))\n",
        "\n",
        "# 평가\n",
        "mse = mean_squared_error(y_test, y_pred) #MSE\n",
        "rmse = np.sqrt(mse)  #RMSE\n",
        "mae = mean_absolute_error(y_test, y_pred)  #MAE\n",
        "mape = mean_absolute_percentage_error(y_test, y_pred)  #MAPE\n",
        "\n",
        "print(f'MSE: {np.round(mse,4)}')\n",
        "print(f'RMSE:{np.round(rmse,4)}')\n",
        "print(f'MAE: {np.round(mae,4)}')\n",
        "print(f'MAPE: {np.round(mape,4)}')"
      ],
      "metadata": {
        "colab": {
          "base_uri": "https://localhost:8080/"
        },
        "id": "MEAhJL5iVXL6",
        "outputId": "3c20ac83-083f-454c-fa22-6da38678749b"
      },
      "id": "MEAhJL5iVXL6",
      "execution_count": 18,
      "outputs": [
        {
          "output_type": "stream",
          "name": "stdout",
          "text": [
            "MSE: 0.245\n",
            "RMSE:0.495\n",
            "MAE: 0.3776\n",
            "MAPE: 0.2375\n"
          ]
        }
      ]
    }
  ],
  "metadata": {
    "kernelspec": {
      "display_name": "Python 3 (ipykernel)",
      "language": "python",
      "name": "python3"
    },
    "language_info": {
      "codemirror_mode": {
        "name": "ipython",
        "version": 3
      },
      "file_extension": ".py",
      "mimetype": "text/x-python",
      "name": "python",
      "nbconvert_exporter": "python",
      "pygments_lexer": "ipython3",
      "version": "3.9.7"
    },
    "toc": {
      "base_numbering": 1,
      "nav_menu": {},
      "number_sections": true,
      "sideBar": true,
      "skip_h1_title": false,
      "title_cell": "Table of Contents",
      "title_sidebar": "Contents",
      "toc_cell": false,
      "toc_position": {},
      "toc_section_display": true,
      "toc_window_display": false
    },
    "colab": {
      "provenance": []
    }
  },
  "nbformat": 4,
  "nbformat_minor": 5
}