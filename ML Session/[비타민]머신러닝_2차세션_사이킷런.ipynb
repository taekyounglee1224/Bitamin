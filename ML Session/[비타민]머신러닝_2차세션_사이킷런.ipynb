{
  "cells": [
    {
      "cell_type": "markdown",
      "id": "d3d15e66",
      "metadata": {
        "id": "d3d15e66"
      },
      "source": [
        "# 머신러닝 2차세션 복습과제\n",
        "\n",
        "- 8/29 화요일 23:59 까지 제출\n",
        "- 지각 제출은 8/31 목요일 23:59 까지 허용\n",
        "- 제출 파일명 : 비타민_12기_1주차_복습과제_홍길동.ipynb  로 제출\n",
        "- ipynb 파일로 제출.\n"
      ]
    },
    {
      "cell_type": "markdown",
      "source": [
        "## 실습1"
      ],
      "metadata": {
        "id": "RSL_bo8-Bi_E"
      },
      "id": "RSL_bo8-Bi_E"
    },
    {
      "cell_type": "markdown",
      "id": "b4eff3bb",
      "metadata": {
        "id": "b4eff3bb"
      },
      "source": [
        "### 문제1\n",
        "와인 품질을 예측하기 위한 데이터셋인 train.csv 입니다. 다음 코드를 로드하세요."
      ]
    },
    {
      "cell_type": "code",
      "execution_count": null,
      "id": "7a9b9720",
      "metadata": {
        "id": "7a9b9720"
      },
      "outputs": [],
      "source": [
        "from sklearn.ensemble import RandomForestClassifier\n",
        "from sklearn.model_selection import train_test_split\n",
        "from sklearn.metrics import accuracy_score\n",
        "import pandas as pd\n",
        "import numpy as np\n",
        "\n",
        "\n",
        "train=pd.read_csv(\"/content/train.csv\")\n",
        "train = train.drop(['index',\"type\"], axis = 1)\n",
        "\n",
        "train_label=train[\"quality\"]\n",
        "train_data=train.drop([\"quality\"], axis = 1)"
      ]
    },
    {
      "cell_type": "markdown",
      "id": "87fbce34",
      "metadata": {
        "id": "87fbce34"
      },
      "source": [
        "### 1-1 (8점)\n",
        "train_data 에는 feature dataset 이 , train_label 에는 품질 label 입니다.\n",
        "\n",
        "전체 데이터 세트 중에 테스트 데이터 셋의 비율이 0.3 이 되게 하여 테스트 데이터와 학습데이터를 분류 하세요. (힌트 : train_test_split() 함수를 이용하세요.)\n",
        "  \n",
        " - random_state=11로 설정해주세요"
      ]
    },
    {
      "cell_type": "code",
      "execution_count": null,
      "id": "1175d60d",
      "metadata": {
        "id": "1175d60d"
      },
      "outputs": [],
      "source": [
        "X_train, X_test, y_train, y_test =train_test_split(train_data, train_label, test_size=0.3, random_state=11)"
      ]
    },
    {
      "cell_type": "markdown",
      "id": "ce1b2afe",
      "metadata": {
        "id": "ce1b2afe"
      },
      "source": [
        "### 1-2 (7점)\n",
        "랜덤포레스트 분류를 위한 사이킷런 Classifier 클래스를 생성하세요."
      ]
    },
    {
      "cell_type": "code",
      "execution_count": null,
      "id": "b14f8d7e",
      "metadata": {
        "id": "b14f8d7e"
      },
      "outputs": [],
      "source": [
        "rf_clf=RandomForestClassifier(random_state=11)"
      ]
    },
    {
      "cell_type": "markdown",
      "id": "c05167b2",
      "metadata": {
        "id": "c05167b2"
      },
      "source": [
        "### 1-3. (8점)\n",
        "위에서 생성한 클래스를 활용하여 데이터를 학습하고 예측하고 평가하는 코드를 작성하세요 (힌트 : 평가할때는, accuracy_score 을 사용하세요.)"
      ]
    },
    {
      "cell_type": "code",
      "execution_count": null,
      "id": "6747a8ba",
      "metadata": {
        "id": "6747a8ba",
        "colab": {
          "base_uri": "https://localhost:8080/"
        },
        "outputId": "35e3267c-7e24-4b31-d56d-9fc94d7406cf"
      },
      "outputs": [
        {
          "output_type": "stream",
          "name": "stdout",
          "text": [
            "예측 정확도 : 0.6630303030303031\n"
          ]
        }
      ],
      "source": [
        "rf_clf.fit(X_train, y_train)\n",
        "pred=rf_clf.predict(X_test)\n",
        "print(\"예측 정확도 :\",format(accuracy_score(y_test,pred)))"
      ]
    },
    {
      "cell_type": "markdown",
      "id": "e46928a0",
      "metadata": {
        "id": "e46928a0"
      },
      "source": [
        "### 1-4 (13점)\n",
        "KFold 클래스를 이용하여 랜덤 포레스트의 평균 정확도를 소수점 4째 자리까지 출력하세요.\n",
        "- 폴드 개수는 3개로 설정합니다.\n",
        "- 분류기는 위에서 사용한 랜덤포레스트를 이용합니다"
      ]
    },
    {
      "cell_type": "code",
      "execution_count": null,
      "id": "22507a59",
      "metadata": {
        "id": "22507a59",
        "colab": {
          "base_uri": "https://localhost:8080/"
        },
        "outputId": "8f4856e1-c23a-4495-b120-26a0142cc7b2"
      },
      "outputs": [
        {
          "output_type": "stream",
          "name": "stdout",
          "text": [
            "\n",
            " ## 평균 검증 정확도:0.6482\n"
          ]
        }
      ],
      "source": [
        "from sklearn.model_selection import KFold\n",
        "\n",
        "#폴드세트를 3개인 KFold객체를 생성하세요\n",
        "kfold = KFold(n_splits= 3)\n",
        "\n",
        "#폴드 수만큼 예측결과를 저장을 위한 리스트 객체 생성\n",
        "cv_accuracy = []\n",
        "\n",
        "#for문을 이용하여 KFold교차 검증을 수행하는 코드를 작성하세요\n",
        "for inter_n, (train_index, test_index) in enumerate(kfold.split(train_data)):\n",
        "    #kfold.spilt()로 반환된 인덱스를 이용해 학습용, 검증용 테스트 데이터 추출\n",
        "    X_train, X_test = train_data.iloc[train_index], train_data.iloc[test_index]\n",
        "    y_train, y_test = train_label.iloc[train_index], train_label.iloc[test_index]\n",
        "\n",
        "    #학습 및 예측\n",
        "    rf_clf.fit(X_train, y_train)\n",
        "    pred = rf_clf.predict(X_test)\n",
        "    accuracy = np.round(accuracy_score(y_test,pred),4)\n",
        "    cv_accuracy.append(accuracy)\n",
        "\n",
        "\n",
        "# 3개의 fold에서의 평균 정화도 계산후 출력\n",
        "print('\\n ## 평균 검증 정확도:{0:.4f}'.format(np.mean(cv_accuracy)))\n"
      ]
    },
    {
      "cell_type": "markdown",
      "id": "567b40da",
      "metadata": {
        "id": "567b40da"
      },
      "source": [
        "### 1-5 (10점)\n",
        "cross_val_score() 을 이용하여 평균 정확도를 구해보세요.\n",
        "- 폴드개수는 3개로 설정합니다."
      ]
    },
    {
      "cell_type": "code",
      "execution_count": null,
      "id": "0a98db67",
      "metadata": {
        "id": "0a98db67",
        "colab": {
          "base_uri": "https://localhost:8080/"
        },
        "outputId": "fdee5b44-37fd-4d29-d0d7-bcfc88ebf32a"
      },
      "outputs": [
        {
          "output_type": "stream",
          "name": "stdout",
          "text": [
            "교차 검증별 정확도:  [0.6634 0.6485 0.6436]\n",
            "평균 검증별 정확도:  0.6518\n"
          ]
        }
      ],
      "source": [
        "from sklearn.model_selection import cross_val_score\n",
        "scores = cross_val_score(rf_clf,train_data, train_label, cv=3)\n",
        "print('교차 검증별 정확도: ', np.round(scores, 4))\n",
        "print('평균 검증별 정확도: ', np.round(np.mean(scores), 4))"
      ]
    },
    {
      "cell_type": "markdown",
      "id": "0f998582",
      "metadata": {
        "id": "0f998582"
      },
      "source": [
        "### 1-6 (13점)\n",
        "GridSearchCV를 이용하여 랜덤포레스트의 최적하이퍼파라미터 찾고 예측성능을 측정해보세요.\n",
        "- 폴드개수는 3개로 설정합니다."
      ]
    },
    {
      "cell_type": "code",
      "execution_count": null,
      "id": "767341bd",
      "metadata": {
        "id": "767341bd",
        "colab": {
          "base_uri": "https://localhost:8080/"
        },
        "outputId": "7630a92e-1a89-4146-ff77-29588ca80248"
      },
      "outputs": [
        {
          "output_type": "stream",
          "name": "stdout",
          "text": [
            "GridSearchCV 최적 파라미터:  {'max_features': 1, 'n_estimators': 100}\n",
            "GridSearchCV 최적 정확도:0.6420 \n",
            "테스트 데이터 세트 정확도: 0.6479\n"
          ]
        }
      ],
      "source": [
        "from sklearn.model_selection import GridSearchCV\n",
        "\n",
        "params = {'n_estimators' : [90,100,150],\n",
        "          'max_features' : [1,3,5]\n",
        "         }\n",
        "\n",
        "grid_rf = GridSearchCV(rf_clf, param_grid=params, cv=3, refit=True)\n",
        "\n",
        "grid_rf.fit(X_train, y_train)\n",
        "\n",
        "print('GridSearchCV 최적 파라미터: ', grid_rf.best_params_)\n",
        "print('GridSearchCV 최적 정확도:{0:.4f} '.format(grid_rf.best_score_))\n",
        "\n",
        "#GridSearchCV의 refit으로 이미 학습된 최적성능을 나타내는 모델로 테스트 데이터 세트의 정학도 출력하세요\n",
        "estimator = grid_rf.best_estimator_\n",
        "pred = estimator.predict(X_test)\n",
        "print('테스트 데이터 세트 정확도: {0:.4f}'.format(accuracy_score(y_test, pred)))\n"
      ]
    },
    {
      "cell_type": "markdown",
      "id": "0f4b5b64",
      "metadata": {
        "id": "0f4b5b64"
      },
      "source": [
        "### 1-7 (13점) StandardScaler(평균이 0이고 분산이 1인지 확인하는 작업이 필요)"
      ]
    },
    {
      "cell_type": "code",
      "execution_count": null,
      "id": "adb1ec55",
      "metadata": {
        "id": "adb1ec55",
        "outputId": "d5175afc-2ef2-4aa7-8adc-6f3a3f2aceb6",
        "colab": {
          "base_uri": "https://localhost:8080/"
        }
      },
      "outputs": [
        {
          "output_type": "stream",
          "name": "stdout",
          "text": [
            "train mean :  quality                   5.818992\n",
            "fixed acidity             7.210115\n",
            "volatile acidity          0.338163\n",
            "citric acid               0.318543\n",
            "residual sugar            5.438075\n",
            "chlorides                 0.055808\n",
            "free sulfur dioxide      30.417682\n",
            "total sulfur dioxide    115.566491\n",
            "density                   0.994673\n",
            "pH                        3.219502\n",
            "sulphates                 0.530524\n",
            "alcohol                  10.504918\n",
            "dtype: float64\n",
            "train var :  quality                    0.757441\n",
            "fixed acidity              1.657860\n",
            "volatile acidity           0.026642\n",
            "citric acid                0.021055\n",
            "residual sugar            22.625968\n",
            "chlorides                  0.001201\n",
            "free sulfur dioxide      312.366085\n",
            "total sulfur dioxide    3168.364073\n",
            "density                    0.000009\n",
            "pH                         0.025829\n",
            "sulphates                  0.022319\n",
            "alcohol                    1.426887\n",
            "dtype: float64\n",
            "scaledTrainDf mean :  quality                -3.742080e-16\n",
            "fixed acidity          -4.524103e-18\n",
            "volatile acidity       -1.900123e-16\n",
            "citric acid            -5.816704e-17\n",
            "residual sugar         -1.809641e-17\n",
            "chlorides               1.454176e-17\n",
            "free sulfur dioxide    -7.884866e-17\n",
            "total sulfur dioxide    8.014126e-17\n",
            "density                 1.981105e-14\n",
            "pH                      2.274978e-15\n",
            "sulphates               3.877803e-18\n",
            "alcohol                -2.329913e-16\n",
            "dtype: float64\n",
            "scaledTrainDf var :  quality                 1.000182\n",
            "fixed acidity           1.000182\n",
            "volatile acidity        1.000182\n",
            "citric acid             1.000182\n",
            "residual sugar          1.000182\n",
            "chlorides               1.000182\n",
            "free sulfur dioxide     1.000182\n",
            "total sulfur dioxide    1.000182\n",
            "density                 1.000182\n",
            "pH                      1.000182\n",
            "sulphates               1.000182\n",
            "alcohol                 1.000182\n",
            "dtype: float64\n"
          ]
        }
      ],
      "source": [
        "from sklearn.preprocessing import StandardScaler\n",
        "\n",
        "# train데이터에 각 변수의 평균값을 출력해주세요\n",
        "print('train mean : ', train.mean())\n",
        "print('train var : ', train.var())\n",
        "\n",
        "# StandardScaler객체를 이용해서 평균이 0, 분산이 1이 되는지 확인해주세요\n",
        "# variable 변수에 train열의 변수명들을 반환한 다음 scaledTrainDf에 데이터프레임 만들고, 값들은 StandardScaler객체로 스케일링 한 값으로 채워주시고, 열의 변수들은 variable변수를 이용해주세요\n",
        "scaler = StandardScaler()\n",
        "scaler.fit(train)\n",
        "train_scaled = scaler.transform(train) # 반환값이 numpy이기 때문에 DataFrame으로 바꿔야합니다.\n",
        "\n",
        "variable = train.columns.tolist()\n",
        "\n",
        "scaledTrainDf = pd.DataFrame(data = train_scaled, columns = variable)\n",
        "\n",
        "print('scaledTrainDf mean : ', scaledTrainDf.mean())\n",
        "print('scaledTrainDf var : ', scaledTrainDf.var())"
      ]
    },
    {
      "cell_type": "markdown",
      "id": "24899614",
      "metadata": {
        "id": "24899614"
      },
      "source": [
        "### 1-8. (10점) MinMaxScaler (최소값 : 0 , 최대값 : 1이 중요)\n",
        "\n",
        "  MinMaxScaler객체를 이용해서 최소값이 0, 최대값이 1이 되는지 확인해주세요.\n",
        "    \n",
        "결과 값은 앞에서와 같이 데이터프레임으로 만들고 각 변수의 최소값, 최대값을 확인해주세요.\n"
      ]
    },
    {
      "cell_type": "code",
      "execution_count": null,
      "id": "c7243356",
      "metadata": {
        "id": "c7243356",
        "colab": {
          "base_uri": "https://localhost:8080/"
        },
        "outputId": "cdaee26f-7a2e-4419-ec51-8caabbc24691"
      },
      "outputs": [
        {
          "output_type": "stream",
          "name": "stdout",
          "text": [
            "scaledTrainDf min :  quality                 0.0\n",
            "fixed acidity           0.0\n",
            "volatile acidity        0.0\n",
            "citric acid             0.0\n",
            "residual sugar          0.0\n",
            "chlorides               0.0\n",
            "free sulfur dioxide     0.0\n",
            "total sulfur dioxide    0.0\n",
            "density                 0.0\n",
            "pH                      0.0\n",
            "sulphates               0.0\n",
            "alcohol                 0.0\n",
            "dtype: float64\n",
            "scaledTrainDf max :  quality                 1.0\n",
            "fixed acidity           1.0\n",
            "volatile acidity        1.0\n",
            "citric acid             1.0\n",
            "residual sugar          1.0\n",
            "chlorides               1.0\n",
            "free sulfur dioxide     1.0\n",
            "total sulfur dioxide    1.0\n",
            "density                 1.0\n",
            "pH                      1.0\n",
            "sulphates               1.0\n",
            "alcohol                 1.0\n",
            "dtype: float64\n"
          ]
        }
      ],
      "source": [
        "from sklearn.preprocessing import MinMaxScaler\n",
        "scaler = MinMaxScaler()\n",
        "\n",
        "scaler.fit(train)\n",
        "train_scaled = scaler.transform(train)\n",
        "\n",
        "scaledTrainDf = pd.DataFrame(data = train_scaled, columns = variable)\n",
        "\n",
        "print('scaledTrainDf min : ', scaledTrainDf.min())\n",
        "print('scaledTrainDf max : ', scaledTrainDf.max())"
      ]
    },
    {
      "cell_type": "markdown",
      "source": [
        "## 실습2"
      ],
      "metadata": {
        "id": "8ZeshFahBw1j"
      },
      "id": "8ZeshFahBw1j"
    },
    {
      "cell_type": "markdown",
      "id": "98420dfb",
      "metadata": {
        "id": "98420dfb"
      },
      "source": [
        "### 문제 2\n",
        "### 2-1. (8점) 데이터 인코딩"
      ]
    },
    {
      "cell_type": "code",
      "execution_count": null,
      "id": "ae272fc3",
      "metadata": {
        "id": "ae272fc3",
        "colab": {
          "base_uri": "https://localhost:8080/"
        },
        "outputId": "54ab7cc5-33f0-4959-9aa3-508479ae5c52"
      },
      "outputs": [
        {
          "output_type": "stream",
          "name": "stdout",
          "text": [
            "classes_ : ['Ankle boot' 'Bag' 'Coat' 'Dress' 'Pullover' 'Sandal' 'Shirt' 'Sneaker'\n",
            " 'T-shirt/top' 'Trouser']\n",
            "\n",
            "decoding :  ['Ankle boot' 'Bag' 'Coat' 'Dress' 'Pullover' 'Sandal']\n"
          ]
        }
      ],
      "source": [
        "# clothes 데이터를 인코딩하세요.(clothes 데이터는 이미 주어져있음)\n",
        "clothes = ['T-shirt/top', 'Trouser', 'Pullover', 'Dress', 'Coat', 'Sandal', 'Shirt', 'Sneaker', 'Bag', 'Ankle boot','T-shirt/top', 'Sneaker', 'Bag']\n",
        "\n",
        "# items에서 중복된 값을 없애고 clothes변수에 list 자료형으로 반환하세요\n",
        "clothes = list(set(clothes))\n",
        "\n",
        "# items를 LabelEncoder를 이용해서 인코딩해주고 인코딩 한 결과 값을 객체의 classes_ 속성값으로 확인해주세요(from sklearn.preprocessing import LabelEncoder)\n",
        "from sklearn.preprocessing import LabelEncoder\n",
        "encoder = LabelEncoder()\n",
        "encoder.fit(clothes)\n",
        "labels = encoder.transform(clothes)\n",
        "\n",
        "print('classes_ :', encoder.classes_)\n",
        "\n",
        "# 디코딩으로 인코딩이 제대로 되었는지 출력해서 확인해주세요(0,1,2,3,4,5 만 확인해주세요)\n",
        "print('\\ndecoding : ', encoder.inverse_transform([0,1,2,3,4,5]))\n"
      ]
    },
    {
      "cell_type": "markdown",
      "id": "86f0e3fa",
      "metadata": {
        "id": "86f0e3fa"
      },
      "source": [
        "### 2-2. (10점) 데이터 원 핫 인코딩"
      ]
    },
    {
      "cell_type": "code",
      "execution_count": null,
      "id": "a14e6553",
      "metadata": {
        "id": "a14e6553",
        "colab": {
          "base_uri": "https://localhost:8080/",
          "height": 580
        },
        "outputId": "44d4fe3f-0f75-44eb-c6d0-a04cd15ebf2f"
      },
      "outputs": [
        {
          "output_type": "stream",
          "name": "stdout",
          "text": [
            "Clothes type :  (10, 1)\n",
            "oh_labels :  [[0. 0. 0. 0. 1. 0. 0. 0. 0. 0.]\n",
            " [0. 0. 1. 0. 0. 0. 0. 0. 0. 0.]\n",
            " [0. 0. 0. 0. 0. 0. 0. 1. 0. 0.]\n",
            " [0. 0. 0. 0. 0. 1. 0. 0. 0. 0.]\n",
            " [1. 0. 0. 0. 0. 0. 0. 0. 0. 0.]\n",
            " [0. 0. 0. 0. 0. 0. 0. 0. 0. 1.]\n",
            " [0. 0. 0. 1. 0. 0. 0. 0. 0. 0.]\n",
            " [0. 0. 0. 0. 0. 0. 1. 0. 0. 0.]\n",
            " [0. 1. 0. 0. 0. 0. 0. 0. 0. 0.]\n",
            " [0. 0. 0. 0. 0. 0. 0. 0. 1. 0.]]\n",
            "oh_labels :  (10, 10)\n"
          ]
        },
        {
          "output_type": "execute_result",
          "data": {
            "text/plain": [
              "   0_Ankle boot  0_Bag  0_Coat  0_Dress  0_Pullover  0_Sandal  0_Shirt  \\\n",
              "0             0      0       0        0           1         0        0   \n",
              "1             0      0       1        0           0         0        0   \n",
              "2             0      0       0        0           0         0        0   \n",
              "3             0      0       0        0           0         1        0   \n",
              "4             1      0       0        0           0         0        0   \n",
              "5             0      0       0        0           0         0        0   \n",
              "6             0      0       0        1           0         0        0   \n",
              "7             0      0       0        0           0         0        1   \n",
              "8             0      1       0        0           0         0        0   \n",
              "9             0      0       0        0           0         0        0   \n",
              "\n",
              "   0_Sneaker  0_T-shirt/top  0_Trouser  \n",
              "0          0              0          0  \n",
              "1          0              0          0  \n",
              "2          1              0          0  \n",
              "3          0              0          0  \n",
              "4          0              0          0  \n",
              "5          0              0          1  \n",
              "6          0              0          0  \n",
              "7          0              0          0  \n",
              "8          0              0          0  \n",
              "9          0              1          0  "
            ],
            "text/html": [
              "\n",
              "  <div id=\"df-77abcb9e-3ec2-44ad-b702-1168f76967e9\" class=\"colab-df-container\">\n",
              "    <div>\n",
              "<style scoped>\n",
              "    .dataframe tbody tr th:only-of-type {\n",
              "        vertical-align: middle;\n",
              "    }\n",
              "\n",
              "    .dataframe tbody tr th {\n",
              "        vertical-align: top;\n",
              "    }\n",
              "\n",
              "    .dataframe thead th {\n",
              "        text-align: right;\n",
              "    }\n",
              "</style>\n",
              "<table border=\"1\" class=\"dataframe\">\n",
              "  <thead>\n",
              "    <tr style=\"text-align: right;\">\n",
              "      <th></th>\n",
              "      <th>0_Ankle boot</th>\n",
              "      <th>0_Bag</th>\n",
              "      <th>0_Coat</th>\n",
              "      <th>0_Dress</th>\n",
              "      <th>0_Pullover</th>\n",
              "      <th>0_Sandal</th>\n",
              "      <th>0_Shirt</th>\n",
              "      <th>0_Sneaker</th>\n",
              "      <th>0_T-shirt/top</th>\n",
              "      <th>0_Trouser</th>\n",
              "    </tr>\n",
              "  </thead>\n",
              "  <tbody>\n",
              "    <tr>\n",
              "      <th>0</th>\n",
              "      <td>0</td>\n",
              "      <td>0</td>\n",
              "      <td>0</td>\n",
              "      <td>0</td>\n",
              "      <td>1</td>\n",
              "      <td>0</td>\n",
              "      <td>0</td>\n",
              "      <td>0</td>\n",
              "      <td>0</td>\n",
              "      <td>0</td>\n",
              "    </tr>\n",
              "    <tr>\n",
              "      <th>1</th>\n",
              "      <td>0</td>\n",
              "      <td>0</td>\n",
              "      <td>1</td>\n",
              "      <td>0</td>\n",
              "      <td>0</td>\n",
              "      <td>0</td>\n",
              "      <td>0</td>\n",
              "      <td>0</td>\n",
              "      <td>0</td>\n",
              "      <td>0</td>\n",
              "    </tr>\n",
              "    <tr>\n",
              "      <th>2</th>\n",
              "      <td>0</td>\n",
              "      <td>0</td>\n",
              "      <td>0</td>\n",
              "      <td>0</td>\n",
              "      <td>0</td>\n",
              "      <td>0</td>\n",
              "      <td>0</td>\n",
              "      <td>1</td>\n",
              "      <td>0</td>\n",
              "      <td>0</td>\n",
              "    </tr>\n",
              "    <tr>\n",
              "      <th>3</th>\n",
              "      <td>0</td>\n",
              "      <td>0</td>\n",
              "      <td>0</td>\n",
              "      <td>0</td>\n",
              "      <td>0</td>\n",
              "      <td>1</td>\n",
              "      <td>0</td>\n",
              "      <td>0</td>\n",
              "      <td>0</td>\n",
              "      <td>0</td>\n",
              "    </tr>\n",
              "    <tr>\n",
              "      <th>4</th>\n",
              "      <td>1</td>\n",
              "      <td>0</td>\n",
              "      <td>0</td>\n",
              "      <td>0</td>\n",
              "      <td>0</td>\n",
              "      <td>0</td>\n",
              "      <td>0</td>\n",
              "      <td>0</td>\n",
              "      <td>0</td>\n",
              "      <td>0</td>\n",
              "    </tr>\n",
              "    <tr>\n",
              "      <th>5</th>\n",
              "      <td>0</td>\n",
              "      <td>0</td>\n",
              "      <td>0</td>\n",
              "      <td>0</td>\n",
              "      <td>0</td>\n",
              "      <td>0</td>\n",
              "      <td>0</td>\n",
              "      <td>0</td>\n",
              "      <td>0</td>\n",
              "      <td>1</td>\n",
              "    </tr>\n",
              "    <tr>\n",
              "      <th>6</th>\n",
              "      <td>0</td>\n",
              "      <td>0</td>\n",
              "      <td>0</td>\n",
              "      <td>1</td>\n",
              "      <td>0</td>\n",
              "      <td>0</td>\n",
              "      <td>0</td>\n",
              "      <td>0</td>\n",
              "      <td>0</td>\n",
              "      <td>0</td>\n",
              "    </tr>\n",
              "    <tr>\n",
              "      <th>7</th>\n",
              "      <td>0</td>\n",
              "      <td>0</td>\n",
              "      <td>0</td>\n",
              "      <td>0</td>\n",
              "      <td>0</td>\n",
              "      <td>0</td>\n",
              "      <td>1</td>\n",
              "      <td>0</td>\n",
              "      <td>0</td>\n",
              "      <td>0</td>\n",
              "    </tr>\n",
              "    <tr>\n",
              "      <th>8</th>\n",
              "      <td>0</td>\n",
              "      <td>1</td>\n",
              "      <td>0</td>\n",
              "      <td>0</td>\n",
              "      <td>0</td>\n",
              "      <td>0</td>\n",
              "      <td>0</td>\n",
              "      <td>0</td>\n",
              "      <td>0</td>\n",
              "      <td>0</td>\n",
              "    </tr>\n",
              "    <tr>\n",
              "      <th>9</th>\n",
              "      <td>0</td>\n",
              "      <td>0</td>\n",
              "      <td>0</td>\n",
              "      <td>0</td>\n",
              "      <td>0</td>\n",
              "      <td>0</td>\n",
              "      <td>0</td>\n",
              "      <td>0</td>\n",
              "      <td>1</td>\n",
              "      <td>0</td>\n",
              "    </tr>\n",
              "  </tbody>\n",
              "</table>\n",
              "</div>\n",
              "    <div class=\"colab-df-buttons\">\n",
              "\n",
              "  <div class=\"colab-df-container\">\n",
              "    <button class=\"colab-df-convert\" onclick=\"convertToInteractive('df-77abcb9e-3ec2-44ad-b702-1168f76967e9')\"\n",
              "            title=\"Convert this dataframe to an interactive table.\"\n",
              "            style=\"display:none;\">\n",
              "\n",
              "  <svg xmlns=\"http://www.w3.org/2000/svg\" height=\"24px\" viewBox=\"0 -960 960 960\">\n",
              "    <path d=\"M120-120v-720h720v720H120Zm60-500h600v-160H180v160Zm220 220h160v-160H400v160Zm0 220h160v-160H400v160ZM180-400h160v-160H180v160Zm440 0h160v-160H620v160ZM180-180h160v-160H180v160Zm440 0h160v-160H620v160Z\"/>\n",
              "  </svg>\n",
              "    </button>\n",
              "\n",
              "  <style>\n",
              "    .colab-df-container {\n",
              "      display:flex;\n",
              "      gap: 12px;\n",
              "    }\n",
              "\n",
              "    .colab-df-convert {\n",
              "      background-color: #E8F0FE;\n",
              "      border: none;\n",
              "      border-radius: 50%;\n",
              "      cursor: pointer;\n",
              "      display: none;\n",
              "      fill: #1967D2;\n",
              "      height: 32px;\n",
              "      padding: 0 0 0 0;\n",
              "      width: 32px;\n",
              "    }\n",
              "\n",
              "    .colab-df-convert:hover {\n",
              "      background-color: #E2EBFA;\n",
              "      box-shadow: 0px 1px 2px rgba(60, 64, 67, 0.3), 0px 1px 3px 1px rgba(60, 64, 67, 0.15);\n",
              "      fill: #174EA6;\n",
              "    }\n",
              "\n",
              "    .colab-df-buttons div {\n",
              "      margin-bottom: 4px;\n",
              "    }\n",
              "\n",
              "    [theme=dark] .colab-df-convert {\n",
              "      background-color: #3B4455;\n",
              "      fill: #D2E3FC;\n",
              "    }\n",
              "\n",
              "    [theme=dark] .colab-df-convert:hover {\n",
              "      background-color: #434B5C;\n",
              "      box-shadow: 0px 1px 3px 1px rgba(0, 0, 0, 0.15);\n",
              "      filter: drop-shadow(0px 1px 2px rgba(0, 0, 0, 0.3));\n",
              "      fill: #FFFFFF;\n",
              "    }\n",
              "  </style>\n",
              "\n",
              "    <script>\n",
              "      const buttonEl =\n",
              "        document.querySelector('#df-77abcb9e-3ec2-44ad-b702-1168f76967e9 button.colab-df-convert');\n",
              "      buttonEl.style.display =\n",
              "        google.colab.kernel.accessAllowed ? 'block' : 'none';\n",
              "\n",
              "      async function convertToInteractive(key) {\n",
              "        const element = document.querySelector('#df-77abcb9e-3ec2-44ad-b702-1168f76967e9');\n",
              "        const dataTable =\n",
              "          await google.colab.kernel.invokeFunction('convertToInteractive',\n",
              "                                                    [key], {});\n",
              "        if (!dataTable) return;\n",
              "\n",
              "        const docLinkHtml = 'Like what you see? Visit the ' +\n",
              "          '<a target=\"_blank\" href=https://colab.research.google.com/notebooks/data_table.ipynb>data table notebook</a>'\n",
              "          + ' to learn more about interactive tables.';\n",
              "        element.innerHTML = '';\n",
              "        dataTable['output_type'] = 'display_data';\n",
              "        await google.colab.output.renderOutput(dataTable, element);\n",
              "        const docLink = document.createElement('div');\n",
              "        docLink.innerHTML = docLinkHtml;\n",
              "        element.appendChild(docLink);\n",
              "      }\n",
              "    </script>\n",
              "  </div>\n",
              "\n",
              "\n",
              "<div id=\"df-bc829227-f390-4efd-84fe-5ffad9eafc51\">\n",
              "  <button class=\"colab-df-quickchart\" onclick=\"quickchart('df-bc829227-f390-4efd-84fe-5ffad9eafc51')\"\n",
              "            title=\"Suggest charts.\"\n",
              "            style=\"display:none;\">\n",
              "\n",
              "<svg xmlns=\"http://www.w3.org/2000/svg\" height=\"24px\"viewBox=\"0 0 24 24\"\n",
              "     width=\"24px\">\n",
              "    <g>\n",
              "        <path d=\"M19 3H5c-1.1 0-2 .9-2 2v14c0 1.1.9 2 2 2h14c1.1 0 2-.9 2-2V5c0-1.1-.9-2-2-2zM9 17H7v-7h2v7zm4 0h-2V7h2v10zm4 0h-2v-4h2v4z\"/>\n",
              "    </g>\n",
              "</svg>\n",
              "  </button>\n",
              "\n",
              "<style>\n",
              "  .colab-df-quickchart {\n",
              "    background-color: #E8F0FE;\n",
              "    border: none;\n",
              "    border-radius: 50%;\n",
              "    cursor: pointer;\n",
              "    display: none;\n",
              "    fill: #1967D2;\n",
              "    height: 32px;\n",
              "    padding: 0 0 0 0;\n",
              "    width: 32px;\n",
              "  }\n",
              "\n",
              "  .colab-df-quickchart:hover {\n",
              "    background-color: #E2EBFA;\n",
              "    box-shadow: 0px 1px 2px rgba(60, 64, 67, 0.3), 0px 1px 3px 1px rgba(60, 64, 67, 0.15);\n",
              "    fill: #174EA6;\n",
              "  }\n",
              "\n",
              "  [theme=dark] .colab-df-quickchart {\n",
              "    background-color: #3B4455;\n",
              "    fill: #D2E3FC;\n",
              "  }\n",
              "\n",
              "  [theme=dark] .colab-df-quickchart:hover {\n",
              "    background-color: #434B5C;\n",
              "    box-shadow: 0px 1px 3px 1px rgba(0, 0, 0, 0.15);\n",
              "    filter: drop-shadow(0px 1px 2px rgba(0, 0, 0, 0.3));\n",
              "    fill: #FFFFFF;\n",
              "  }\n",
              "</style>\n",
              "\n",
              "  <script>\n",
              "    async function quickchart(key) {\n",
              "      const charts = await google.colab.kernel.invokeFunction(\n",
              "          'suggestCharts', [key], {});\n",
              "    }\n",
              "    (() => {\n",
              "      let quickchartButtonEl =\n",
              "        document.querySelector('#df-bc829227-f390-4efd-84fe-5ffad9eafc51 button');\n",
              "      quickchartButtonEl.style.display =\n",
              "        google.colab.kernel.accessAllowed ? 'block' : 'none';\n",
              "    })();\n",
              "  </script>\n",
              "</div>\n",
              "    </div>\n",
              "  </div>\n"
            ]
          },
          "metadata": {},
          "execution_count": 11
        }
      ],
      "source": [
        "# clothes를 2D numpy array로 변환해주고 clothes변수에 반환해주고 데이터 크기를 출력해주세요(import numpy as np)\n",
        "import numpy as np\n",
        "import pandas as pd\n",
        "\n",
        "clothes = np.array(clothes).reshape(-1, 1)\n",
        "print('Clothes type : ', clothes.shape)\n",
        "\n",
        "# clothes를 원 핫 인코딩 해서 결과 값을 확인해주고, df 변수에 DataFrame으로 반환해주세요\n",
        "from sklearn.preprocessing import OneHotEncoder\n",
        "\n",
        "oh_encoder = OneHotEncoder()\n",
        "oh_encoder.fit(clothes)\n",
        "oh_labels = oh_encoder.transform(clothes)\n",
        "\n",
        "df = pd.DataFrame(clothes)\n",
        "\n",
        "print('oh_labels : ',oh_labels.toarray())\n",
        "print('oh_labels : ', oh_labels.shape)\n",
        "\n",
        "# df 데이터프레임으로 원 핫 인코딩을 해주세요\n",
        "pd.get_dummies(df)"
      ]
    },
    {
      "cell_type": "markdown",
      "source": [
        "## 실습3"
      ],
      "metadata": {
        "id": "loBwDFzhB3LD"
      },
      "id": "loBwDFzhB3LD"
    },
    {
      "cell_type": "markdown",
      "source": [
        "### 3. Data Loading (3점)"
      ],
      "metadata": {
        "id": "pdsx3G6FB9PL"
      },
      "id": "pdsx3G6FB9PL"
    },
    {
      "cell_type": "markdown",
      "source": [
        "**a)** 본 과제에서는 대출신청서에 작성한 정보를 바탕으로 **대출신청 승인여부 (Loan_Status)** 가 결정된 이력 데이터로 사이킷런 머신러닝 학습을 진행합니다.\n",
        "\n",
        "주어진 데이터 *loan.csv* 를 *pandas dataframe* 으로 불러온 후, **loan**으로 저장하고, 확인해주세요.  **(1점)**"
      ],
      "metadata": {
        "id": "8hQInrfJCAnF"
      },
      "id": "8hQInrfJCAnF"
    },
    {
      "cell_type": "code",
      "source": [
        "loan = pd.read_csv('/content/loan.csv')\n",
        "loan.head(3)"
      ],
      "metadata": {
        "id": "kK9EBmhdCA5c",
        "colab": {
          "base_uri": "https://localhost:8080/",
          "height": 163
        },
        "outputId": "cca83ba7-2cb3-42ba-b7a6-e3ffb8128f6e"
      },
      "id": "kK9EBmhdCA5c",
      "execution_count": null,
      "outputs": [
        {
          "output_type": "execute_result",
          "data": {
            "text/plain": [
              "    Loan_ID Gender Married Dependents Education Self_Employed  \\\n",
              "0  LP001002   Male      No          0  Graduate            No   \n",
              "1  LP001003   Male     Yes          1  Graduate            No   \n",
              "2  LP001005   Male     Yes          0  Graduate           Yes   \n",
              "\n",
              "   ApplicantIncome  CoapplicantIncome  LoanAmount  Loan_Amount_Term  \\\n",
              "0             5849                0.0         NaN             360.0   \n",
              "1             4583             1508.0       128.0             360.0   \n",
              "2             3000                0.0        66.0             360.0   \n",
              "\n",
              "   Credit_History Property_Area Loan_Status  \n",
              "0             1.0         Urban           Y  \n",
              "1             1.0         Rural           N  \n",
              "2             1.0         Urban           Y  "
            ],
            "text/html": [
              "\n",
              "  <div id=\"df-9f7a2379-2052-4cf0-ae49-589aa1ffd532\" class=\"colab-df-container\">\n",
              "    <div>\n",
              "<style scoped>\n",
              "    .dataframe tbody tr th:only-of-type {\n",
              "        vertical-align: middle;\n",
              "    }\n",
              "\n",
              "    .dataframe tbody tr th {\n",
              "        vertical-align: top;\n",
              "    }\n",
              "\n",
              "    .dataframe thead th {\n",
              "        text-align: right;\n",
              "    }\n",
              "</style>\n",
              "<table border=\"1\" class=\"dataframe\">\n",
              "  <thead>\n",
              "    <tr style=\"text-align: right;\">\n",
              "      <th></th>\n",
              "      <th>Loan_ID</th>\n",
              "      <th>Gender</th>\n",
              "      <th>Married</th>\n",
              "      <th>Dependents</th>\n",
              "      <th>Education</th>\n",
              "      <th>Self_Employed</th>\n",
              "      <th>ApplicantIncome</th>\n",
              "      <th>CoapplicantIncome</th>\n",
              "      <th>LoanAmount</th>\n",
              "      <th>Loan_Amount_Term</th>\n",
              "      <th>Credit_History</th>\n",
              "      <th>Property_Area</th>\n",
              "      <th>Loan_Status</th>\n",
              "    </tr>\n",
              "  </thead>\n",
              "  <tbody>\n",
              "    <tr>\n",
              "      <th>0</th>\n",
              "      <td>LP001002</td>\n",
              "      <td>Male</td>\n",
              "      <td>No</td>\n",
              "      <td>0</td>\n",
              "      <td>Graduate</td>\n",
              "      <td>No</td>\n",
              "      <td>5849</td>\n",
              "      <td>0.0</td>\n",
              "      <td>NaN</td>\n",
              "      <td>360.0</td>\n",
              "      <td>1.0</td>\n",
              "      <td>Urban</td>\n",
              "      <td>Y</td>\n",
              "    </tr>\n",
              "    <tr>\n",
              "      <th>1</th>\n",
              "      <td>LP001003</td>\n",
              "      <td>Male</td>\n",
              "      <td>Yes</td>\n",
              "      <td>1</td>\n",
              "      <td>Graduate</td>\n",
              "      <td>No</td>\n",
              "      <td>4583</td>\n",
              "      <td>1508.0</td>\n",
              "      <td>128.0</td>\n",
              "      <td>360.0</td>\n",
              "      <td>1.0</td>\n",
              "      <td>Rural</td>\n",
              "      <td>N</td>\n",
              "    </tr>\n",
              "    <tr>\n",
              "      <th>2</th>\n",
              "      <td>LP001005</td>\n",
              "      <td>Male</td>\n",
              "      <td>Yes</td>\n",
              "      <td>0</td>\n",
              "      <td>Graduate</td>\n",
              "      <td>Yes</td>\n",
              "      <td>3000</td>\n",
              "      <td>0.0</td>\n",
              "      <td>66.0</td>\n",
              "      <td>360.0</td>\n",
              "      <td>1.0</td>\n",
              "      <td>Urban</td>\n",
              "      <td>Y</td>\n",
              "    </tr>\n",
              "  </tbody>\n",
              "</table>\n",
              "</div>\n",
              "    <div class=\"colab-df-buttons\">\n",
              "\n",
              "  <div class=\"colab-df-container\">\n",
              "    <button class=\"colab-df-convert\" onclick=\"convertToInteractive('df-9f7a2379-2052-4cf0-ae49-589aa1ffd532')\"\n",
              "            title=\"Convert this dataframe to an interactive table.\"\n",
              "            style=\"display:none;\">\n",
              "\n",
              "  <svg xmlns=\"http://www.w3.org/2000/svg\" height=\"24px\" viewBox=\"0 -960 960 960\">\n",
              "    <path d=\"M120-120v-720h720v720H120Zm60-500h600v-160H180v160Zm220 220h160v-160H400v160Zm0 220h160v-160H400v160ZM180-400h160v-160H180v160Zm440 0h160v-160H620v160ZM180-180h160v-160H180v160Zm440 0h160v-160H620v160Z\"/>\n",
              "  </svg>\n",
              "    </button>\n",
              "\n",
              "  <style>\n",
              "    .colab-df-container {\n",
              "      display:flex;\n",
              "      gap: 12px;\n",
              "    }\n",
              "\n",
              "    .colab-df-convert {\n",
              "      background-color: #E8F0FE;\n",
              "      border: none;\n",
              "      border-radius: 50%;\n",
              "      cursor: pointer;\n",
              "      display: none;\n",
              "      fill: #1967D2;\n",
              "      height: 32px;\n",
              "      padding: 0 0 0 0;\n",
              "      width: 32px;\n",
              "    }\n",
              "\n",
              "    .colab-df-convert:hover {\n",
              "      background-color: #E2EBFA;\n",
              "      box-shadow: 0px 1px 2px rgba(60, 64, 67, 0.3), 0px 1px 3px 1px rgba(60, 64, 67, 0.15);\n",
              "      fill: #174EA6;\n",
              "    }\n",
              "\n",
              "    .colab-df-buttons div {\n",
              "      margin-bottom: 4px;\n",
              "    }\n",
              "\n",
              "    [theme=dark] .colab-df-convert {\n",
              "      background-color: #3B4455;\n",
              "      fill: #D2E3FC;\n",
              "    }\n",
              "\n",
              "    [theme=dark] .colab-df-convert:hover {\n",
              "      background-color: #434B5C;\n",
              "      box-shadow: 0px 1px 3px 1px rgba(0, 0, 0, 0.15);\n",
              "      filter: drop-shadow(0px 1px 2px rgba(0, 0, 0, 0.3));\n",
              "      fill: #FFFFFF;\n",
              "    }\n",
              "  </style>\n",
              "\n",
              "    <script>\n",
              "      const buttonEl =\n",
              "        document.querySelector('#df-9f7a2379-2052-4cf0-ae49-589aa1ffd532 button.colab-df-convert');\n",
              "      buttonEl.style.display =\n",
              "        google.colab.kernel.accessAllowed ? 'block' : 'none';\n",
              "\n",
              "      async function convertToInteractive(key) {\n",
              "        const element = document.querySelector('#df-9f7a2379-2052-4cf0-ae49-589aa1ffd532');\n",
              "        const dataTable =\n",
              "          await google.colab.kernel.invokeFunction('convertToInteractive',\n",
              "                                                    [key], {});\n",
              "        if (!dataTable) return;\n",
              "\n",
              "        const docLinkHtml = 'Like what you see? Visit the ' +\n",
              "          '<a target=\"_blank\" href=https://colab.research.google.com/notebooks/data_table.ipynb>data table notebook</a>'\n",
              "          + ' to learn more about interactive tables.';\n",
              "        element.innerHTML = '';\n",
              "        dataTable['output_type'] = 'display_data';\n",
              "        await google.colab.output.renderOutput(dataTable, element);\n",
              "        const docLink = document.createElement('div');\n",
              "        docLink.innerHTML = docLinkHtml;\n",
              "        element.appendChild(docLink);\n",
              "      }\n",
              "    </script>\n",
              "  </div>\n",
              "\n",
              "\n",
              "<div id=\"df-4d830f32-690b-4c77-93c7-b280dd34025a\">\n",
              "  <button class=\"colab-df-quickchart\" onclick=\"quickchart('df-4d830f32-690b-4c77-93c7-b280dd34025a')\"\n",
              "            title=\"Suggest charts.\"\n",
              "            style=\"display:none;\">\n",
              "\n",
              "<svg xmlns=\"http://www.w3.org/2000/svg\" height=\"24px\"viewBox=\"0 0 24 24\"\n",
              "     width=\"24px\">\n",
              "    <g>\n",
              "        <path d=\"M19 3H5c-1.1 0-2 .9-2 2v14c0 1.1.9 2 2 2h14c1.1 0 2-.9 2-2V5c0-1.1-.9-2-2-2zM9 17H7v-7h2v7zm4 0h-2V7h2v10zm4 0h-2v-4h2v4z\"/>\n",
              "    </g>\n",
              "</svg>\n",
              "  </button>\n",
              "\n",
              "<style>\n",
              "  .colab-df-quickchart {\n",
              "    background-color: #E8F0FE;\n",
              "    border: none;\n",
              "    border-radius: 50%;\n",
              "    cursor: pointer;\n",
              "    display: none;\n",
              "    fill: #1967D2;\n",
              "    height: 32px;\n",
              "    padding: 0 0 0 0;\n",
              "    width: 32px;\n",
              "  }\n",
              "\n",
              "  .colab-df-quickchart:hover {\n",
              "    background-color: #E2EBFA;\n",
              "    box-shadow: 0px 1px 2px rgba(60, 64, 67, 0.3), 0px 1px 3px 1px rgba(60, 64, 67, 0.15);\n",
              "    fill: #174EA6;\n",
              "  }\n",
              "\n",
              "  [theme=dark] .colab-df-quickchart {\n",
              "    background-color: #3B4455;\n",
              "    fill: #D2E3FC;\n",
              "  }\n",
              "\n",
              "  [theme=dark] .colab-df-quickchart:hover {\n",
              "    background-color: #434B5C;\n",
              "    box-shadow: 0px 1px 3px 1px rgba(0, 0, 0, 0.15);\n",
              "    filter: drop-shadow(0px 1px 2px rgba(0, 0, 0, 0.3));\n",
              "    fill: #FFFFFF;\n",
              "  }\n",
              "</style>\n",
              "\n",
              "  <script>\n",
              "    async function quickchart(key) {\n",
              "      const charts = await google.colab.kernel.invokeFunction(\n",
              "          'suggestCharts', [key], {});\n",
              "    }\n",
              "    (() => {\n",
              "      let quickchartButtonEl =\n",
              "        document.querySelector('#df-4d830f32-690b-4c77-93c7-b280dd34025a button');\n",
              "      quickchartButtonEl.style.display =\n",
              "        google.colab.kernel.accessAllowed ? 'block' : 'none';\n",
              "    })();\n",
              "  </script>\n",
              "</div>\n",
              "    </div>\n",
              "  </div>\n"
            ]
          },
          "metadata": {},
          "execution_count": 12
        }
      ]
    },
    {
      "cell_type": "markdown",
      "source": [
        "**Feature Information**\n",
        "* *Loan_ID* :  대출 ID\n",
        "* *Gender* :  성별\n",
        "* *Married* :  결혼 여부\n",
        "* *Dependents* :  부양자 수\n",
        "* *Education*:  대학졸업 여부\n",
        "* *Self_Employed*:  자영업 여부\n",
        "* *ApplicantIncome*:  소득수준\n",
        "* *CoapplicantIncome*:  배우자 소득수준\n",
        "* *LoanAmount*:  대출금액\n",
        "* *Loan_Amount_Term*:  대출 상환 기간\n",
        "* *Credit_History*:  신용(대출 상환, 신용카드 등) 기록 여부\n",
        "* *Property_Area*:  주거 지역\n",
        "* *Loan_Status*:  대출 가능 여부"
      ],
      "metadata": {
        "id": "D8z3o0V6CD0D"
      },
      "id": "D8z3o0V6CD0D"
    },
    {
      "cell_type": "markdown",
      "source": [
        "**b)** loan data 정보를 출력하고 (`info` 이용) loan data의 숫자형 변수의 분포를 알아봅시다. (`describe` 이용) **(1점)**"
      ],
      "metadata": {
        "id": "3Fcnjd3tCGHy"
      },
      "id": "3Fcnjd3tCGHy"
    },
    {
      "cell_type": "code",
      "source": [
        "# loan 데이터 프레임 정보 출력\n",
        "loan.info()"
      ],
      "metadata": {
        "id": "bWABxnfBCGh7",
        "colab": {
          "base_uri": "https://localhost:8080/"
        },
        "outputId": "44c4f198-f1f8-4643-a2d5-2820f21a4a9e"
      },
      "id": "bWABxnfBCGh7",
      "execution_count": null,
      "outputs": [
        {
          "output_type": "stream",
          "name": "stdout",
          "text": [
            "<class 'pandas.core.frame.DataFrame'>\n",
            "RangeIndex: 614 entries, 0 to 613\n",
            "Data columns (total 13 columns):\n",
            " #   Column             Non-Null Count  Dtype  \n",
            "---  ------             --------------  -----  \n",
            " 0   Loan_ID            614 non-null    object \n",
            " 1   Gender             601 non-null    object \n",
            " 2   Married            611 non-null    object \n",
            " 3   Dependents         599 non-null    object \n",
            " 4   Education          614 non-null    object \n",
            " 5   Self_Employed      582 non-null    object \n",
            " 6   ApplicantIncome    614 non-null    int64  \n",
            " 7   CoapplicantIncome  614 non-null    float64\n",
            " 8   LoanAmount         592 non-null    float64\n",
            " 9   Loan_Amount_Term   600 non-null    float64\n",
            " 10  Credit_History     564 non-null    float64\n",
            " 11  Property_Area      614 non-null    object \n",
            " 12  Loan_Status        614 non-null    object \n",
            "dtypes: float64(4), int64(1), object(8)\n",
            "memory usage: 62.5+ KB\n"
          ]
        }
      ]
    },
    {
      "cell_type": "code",
      "source": [
        "# loan 데이터 프레임의 숫자형 변수의 분포 출력\n",
        "loan.describe().transpose()"
      ],
      "metadata": {
        "id": "8GywCY1ICED6",
        "colab": {
          "base_uri": "https://localhost:8080/",
          "height": 206
        },
        "outputId": "06b3e6c9-2c97-4d29-d1cd-93cd1ab4bb78"
      },
      "id": "8GywCY1ICED6",
      "execution_count": null,
      "outputs": [
        {
          "output_type": "execute_result",
          "data": {
            "text/plain": [
              "                   count         mean          std    min     25%     50%  \\\n",
              "ApplicantIncome    614.0  5403.459283  6109.041673  150.0  2877.5  3812.5   \n",
              "CoapplicantIncome  614.0  1621.245798  2926.248369    0.0     0.0  1188.5   \n",
              "LoanAmount         592.0   146.412162    85.587325    9.0   100.0   128.0   \n",
              "Loan_Amount_Term   600.0   342.000000    65.120410   12.0   360.0   360.0   \n",
              "Credit_History     564.0     0.842199     0.364878    0.0     1.0     1.0   \n",
              "\n",
              "                       75%      max  \n",
              "ApplicantIncome    5795.00  81000.0  \n",
              "CoapplicantIncome  2297.25  41667.0  \n",
              "LoanAmount          168.00    700.0  \n",
              "Loan_Amount_Term    360.00    480.0  \n",
              "Credit_History        1.00      1.0  "
            ],
            "text/html": [
              "\n",
              "  <div id=\"df-10e7da25-9a63-4d11-8aa7-503e8f162248\" class=\"colab-df-container\">\n",
              "    <div>\n",
              "<style scoped>\n",
              "    .dataframe tbody tr th:only-of-type {\n",
              "        vertical-align: middle;\n",
              "    }\n",
              "\n",
              "    .dataframe tbody tr th {\n",
              "        vertical-align: top;\n",
              "    }\n",
              "\n",
              "    .dataframe thead th {\n",
              "        text-align: right;\n",
              "    }\n",
              "</style>\n",
              "<table border=\"1\" class=\"dataframe\">\n",
              "  <thead>\n",
              "    <tr style=\"text-align: right;\">\n",
              "      <th></th>\n",
              "      <th>count</th>\n",
              "      <th>mean</th>\n",
              "      <th>std</th>\n",
              "      <th>min</th>\n",
              "      <th>25%</th>\n",
              "      <th>50%</th>\n",
              "      <th>75%</th>\n",
              "      <th>max</th>\n",
              "    </tr>\n",
              "  </thead>\n",
              "  <tbody>\n",
              "    <tr>\n",
              "      <th>ApplicantIncome</th>\n",
              "      <td>614.0</td>\n",
              "      <td>5403.459283</td>\n",
              "      <td>6109.041673</td>\n",
              "      <td>150.0</td>\n",
              "      <td>2877.5</td>\n",
              "      <td>3812.5</td>\n",
              "      <td>5795.00</td>\n",
              "      <td>81000.0</td>\n",
              "    </tr>\n",
              "    <tr>\n",
              "      <th>CoapplicantIncome</th>\n",
              "      <td>614.0</td>\n",
              "      <td>1621.245798</td>\n",
              "      <td>2926.248369</td>\n",
              "      <td>0.0</td>\n",
              "      <td>0.0</td>\n",
              "      <td>1188.5</td>\n",
              "      <td>2297.25</td>\n",
              "      <td>41667.0</td>\n",
              "    </tr>\n",
              "    <tr>\n",
              "      <th>LoanAmount</th>\n",
              "      <td>592.0</td>\n",
              "      <td>146.412162</td>\n",
              "      <td>85.587325</td>\n",
              "      <td>9.0</td>\n",
              "      <td>100.0</td>\n",
              "      <td>128.0</td>\n",
              "      <td>168.00</td>\n",
              "      <td>700.0</td>\n",
              "    </tr>\n",
              "    <tr>\n",
              "      <th>Loan_Amount_Term</th>\n",
              "      <td>600.0</td>\n",
              "      <td>342.000000</td>\n",
              "      <td>65.120410</td>\n",
              "      <td>12.0</td>\n",
              "      <td>360.0</td>\n",
              "      <td>360.0</td>\n",
              "      <td>360.00</td>\n",
              "      <td>480.0</td>\n",
              "    </tr>\n",
              "    <tr>\n",
              "      <th>Credit_History</th>\n",
              "      <td>564.0</td>\n",
              "      <td>0.842199</td>\n",
              "      <td>0.364878</td>\n",
              "      <td>0.0</td>\n",
              "      <td>1.0</td>\n",
              "      <td>1.0</td>\n",
              "      <td>1.00</td>\n",
              "      <td>1.0</td>\n",
              "    </tr>\n",
              "  </tbody>\n",
              "</table>\n",
              "</div>\n",
              "    <div class=\"colab-df-buttons\">\n",
              "\n",
              "  <div class=\"colab-df-container\">\n",
              "    <button class=\"colab-df-convert\" onclick=\"convertToInteractive('df-10e7da25-9a63-4d11-8aa7-503e8f162248')\"\n",
              "            title=\"Convert this dataframe to an interactive table.\"\n",
              "            style=\"display:none;\">\n",
              "\n",
              "  <svg xmlns=\"http://www.w3.org/2000/svg\" height=\"24px\" viewBox=\"0 -960 960 960\">\n",
              "    <path d=\"M120-120v-720h720v720H120Zm60-500h600v-160H180v160Zm220 220h160v-160H400v160Zm0 220h160v-160H400v160ZM180-400h160v-160H180v160Zm440 0h160v-160H620v160ZM180-180h160v-160H180v160Zm440 0h160v-160H620v160Z\"/>\n",
              "  </svg>\n",
              "    </button>\n",
              "\n",
              "  <style>\n",
              "    .colab-df-container {\n",
              "      display:flex;\n",
              "      gap: 12px;\n",
              "    }\n",
              "\n",
              "    .colab-df-convert {\n",
              "      background-color: #E8F0FE;\n",
              "      border: none;\n",
              "      border-radius: 50%;\n",
              "      cursor: pointer;\n",
              "      display: none;\n",
              "      fill: #1967D2;\n",
              "      height: 32px;\n",
              "      padding: 0 0 0 0;\n",
              "      width: 32px;\n",
              "    }\n",
              "\n",
              "    .colab-df-convert:hover {\n",
              "      background-color: #E2EBFA;\n",
              "      box-shadow: 0px 1px 2px rgba(60, 64, 67, 0.3), 0px 1px 3px 1px rgba(60, 64, 67, 0.15);\n",
              "      fill: #174EA6;\n",
              "    }\n",
              "\n",
              "    .colab-df-buttons div {\n",
              "      margin-bottom: 4px;\n",
              "    }\n",
              "\n",
              "    [theme=dark] .colab-df-convert {\n",
              "      background-color: #3B4455;\n",
              "      fill: #D2E3FC;\n",
              "    }\n",
              "\n",
              "    [theme=dark] .colab-df-convert:hover {\n",
              "      background-color: #434B5C;\n",
              "      box-shadow: 0px 1px 3px 1px rgba(0, 0, 0, 0.15);\n",
              "      filter: drop-shadow(0px 1px 2px rgba(0, 0, 0, 0.3));\n",
              "      fill: #FFFFFF;\n",
              "    }\n",
              "  </style>\n",
              "\n",
              "    <script>\n",
              "      const buttonEl =\n",
              "        document.querySelector('#df-10e7da25-9a63-4d11-8aa7-503e8f162248 button.colab-df-convert');\n",
              "      buttonEl.style.display =\n",
              "        google.colab.kernel.accessAllowed ? 'block' : 'none';\n",
              "\n",
              "      async function convertToInteractive(key) {\n",
              "        const element = document.querySelector('#df-10e7da25-9a63-4d11-8aa7-503e8f162248');\n",
              "        const dataTable =\n",
              "          await google.colab.kernel.invokeFunction('convertToInteractive',\n",
              "                                                    [key], {});\n",
              "        if (!dataTable) return;\n",
              "\n",
              "        const docLinkHtml = 'Like what you see? Visit the ' +\n",
              "          '<a target=\"_blank\" href=https://colab.research.google.com/notebooks/data_table.ipynb>data table notebook</a>'\n",
              "          + ' to learn more about interactive tables.';\n",
              "        element.innerHTML = '';\n",
              "        dataTable['output_type'] = 'display_data';\n",
              "        await google.colab.output.renderOutput(dataTable, element);\n",
              "        const docLink = document.createElement('div');\n",
              "        docLink.innerHTML = docLinkHtml;\n",
              "        element.appendChild(docLink);\n",
              "      }\n",
              "    </script>\n",
              "  </div>\n",
              "\n",
              "\n",
              "<div id=\"df-15bc422f-10d7-4f5f-915a-4f9ed7d61a55\">\n",
              "  <button class=\"colab-df-quickchart\" onclick=\"quickchart('df-15bc422f-10d7-4f5f-915a-4f9ed7d61a55')\"\n",
              "            title=\"Suggest charts.\"\n",
              "            style=\"display:none;\">\n",
              "\n",
              "<svg xmlns=\"http://www.w3.org/2000/svg\" height=\"24px\"viewBox=\"0 0 24 24\"\n",
              "     width=\"24px\">\n",
              "    <g>\n",
              "        <path d=\"M19 3H5c-1.1 0-2 .9-2 2v14c0 1.1.9 2 2 2h14c1.1 0 2-.9 2-2V5c0-1.1-.9-2-2-2zM9 17H7v-7h2v7zm4 0h-2V7h2v10zm4 0h-2v-4h2v4z\"/>\n",
              "    </g>\n",
              "</svg>\n",
              "  </button>\n",
              "\n",
              "<style>\n",
              "  .colab-df-quickchart {\n",
              "    background-color: #E8F0FE;\n",
              "    border: none;\n",
              "    border-radius: 50%;\n",
              "    cursor: pointer;\n",
              "    display: none;\n",
              "    fill: #1967D2;\n",
              "    height: 32px;\n",
              "    padding: 0 0 0 0;\n",
              "    width: 32px;\n",
              "  }\n",
              "\n",
              "  .colab-df-quickchart:hover {\n",
              "    background-color: #E2EBFA;\n",
              "    box-shadow: 0px 1px 2px rgba(60, 64, 67, 0.3), 0px 1px 3px 1px rgba(60, 64, 67, 0.15);\n",
              "    fill: #174EA6;\n",
              "  }\n",
              "\n",
              "  [theme=dark] .colab-df-quickchart {\n",
              "    background-color: #3B4455;\n",
              "    fill: #D2E3FC;\n",
              "  }\n",
              "\n",
              "  [theme=dark] .colab-df-quickchart:hover {\n",
              "    background-color: #434B5C;\n",
              "    box-shadow: 0px 1px 3px 1px rgba(0, 0, 0, 0.15);\n",
              "    filter: drop-shadow(0px 1px 2px rgba(0, 0, 0, 0.3));\n",
              "    fill: #FFFFFF;\n",
              "  }\n",
              "</style>\n",
              "\n",
              "  <script>\n",
              "    async function quickchart(key) {\n",
              "      const charts = await google.colab.kernel.invokeFunction(\n",
              "          'suggestCharts', [key], {});\n",
              "    }\n",
              "    (() => {\n",
              "      let quickchartButtonEl =\n",
              "        document.querySelector('#df-15bc422f-10d7-4f5f-915a-4f9ed7d61a55 button');\n",
              "      quickchartButtonEl.style.display =\n",
              "        google.colab.kernel.accessAllowed ? 'block' : 'none';\n",
              "    })();\n",
              "  </script>\n",
              "</div>\n",
              "    </div>\n",
              "  </div>\n"
            ]
          },
          "metadata": {},
          "execution_count": 14
        }
      ]
    },
    {
      "cell_type": "markdown",
      "source": [
        " **c)** 'Dependent' 열의 항목별 분포를 출력해보고, '3+'라고 입력되어 있는 행에 대하여 그 값을 '3'으로 바꿔주세요. (`replace` 이용) **(1점)**"
      ],
      "metadata": {
        "id": "gpHOJhWeCLi2"
      },
      "id": "gpHOJhWeCLi2"
    },
    {
      "cell_type": "code",
      "source": [
        "# 'Dependent'열의 항목별 분포 출력\n",
        "loan['Dependents'].value_counts()"
      ],
      "metadata": {
        "id": "tILRZ7UhCLvC",
        "colab": {
          "base_uri": "https://localhost:8080/"
        },
        "outputId": "79f99a68-cafa-4515-a81d-636914c3fdb2"
      },
      "id": "tILRZ7UhCLvC",
      "execution_count": null,
      "outputs": [
        {
          "output_type": "execute_result",
          "data": {
            "text/plain": [
              "0     345\n",
              "1     102\n",
              "2     101\n",
              "3+     51\n",
              "Name: Dependents, dtype: int64"
            ]
          },
          "metadata": {},
          "execution_count": 15
        }
      ]
    },
    {
      "cell_type": "code",
      "source": [
        "# replace 처리\n",
        "loan['Dependents']=loan['Dependents'].replace('3+','3')"
      ],
      "metadata": {
        "id": "tMLwpTWFB-wh"
      },
      "id": "tMLwpTWFB-wh",
      "execution_count": null,
      "outputs": []
    },
    {
      "cell_type": "markdown",
      "source": [
        "## 실습4"
      ],
      "metadata": {
        "id": "GHuYkU2iCgwO"
      },
      "id": "GHuYkU2iCgwO"
    },
    {
      "cell_type": "markdown",
      "source": [
        "### 4. 결측값 처리 (3점)"
      ],
      "metadata": {
        "id": "vyfbhE74CRPC"
      },
      "id": "vyfbhE74CRPC"
    },
    {
      "cell_type": "markdown",
      "source": [
        "숫자형 변수에 대해서는 null값을 각 열의 **평균값**으로, 문자형 변수에 대해서는 null값을 각 열의 **최빈값**으로 채워주세요"
      ],
      "metadata": {
        "id": "XS7YaySDCk38"
      },
      "id": "XS7YaySDCk38"
    },
    {
      "cell_type": "code",
      "source": [
        "# 숫자형 변수 컬럼 평균값 계산\n",
        "numeric_columns = loan.select_dtypes(include=['number'])\n",
        "numeric_column_means = numeric_columns.mean()\n",
        "\n",
        "# 결측치 컬럼별 평균으로 대체\n",
        "numeric_columns.fillna(numeric_column_means, inplace=True)\n",
        "\n",
        "# 문자형 변수 최빈값 계산\n",
        "text_columns = loan.select_dtypes(include=['object'])\n",
        "\n",
        "#각  컬럼별 최빈값 get\n",
        "text_column_modes = text_columns.mode().iloc[0]\n",
        "text_columns.fillna(text_column_modes, inplace=True)\n",
        "\n",
        "#원본 데이터프레임에 컨캣\n",
        "loan = pd.concat([numeric_columns, text_columns], axis=1)\n",
        "\n",
        "print(loan)"
      ],
      "metadata": {
        "id": "I-Q14IsgClEy",
        "colab": {
          "base_uri": "https://localhost:8080/"
        },
        "outputId": "b9c0c99a-74d8-4a08-d5de-601754ecdba8"
      },
      "id": "I-Q14IsgClEy",
      "execution_count": null,
      "outputs": [
        {
          "output_type": "stream",
          "name": "stdout",
          "text": [
            "     ApplicantIncome  CoapplicantIncome  LoanAmount  Loan_Amount_Term  \\\n",
            "0               5849                0.0  146.412162             360.0   \n",
            "1               4583             1508.0  128.000000             360.0   \n",
            "2               3000                0.0   66.000000             360.0   \n",
            "3               2583             2358.0  120.000000             360.0   \n",
            "4               6000                0.0  141.000000             360.0   \n",
            "..               ...                ...         ...               ...   \n",
            "609             2900                0.0   71.000000             360.0   \n",
            "610             4106                0.0   40.000000             180.0   \n",
            "611             8072              240.0  253.000000             360.0   \n",
            "612             7583                0.0  187.000000             360.0   \n",
            "613             4583                0.0  133.000000             360.0   \n",
            "\n",
            "     Credit_History   Loan_ID  Gender Married Dependents     Education  \\\n",
            "0               1.0  LP001002    Male      No          0      Graduate   \n",
            "1               1.0  LP001003    Male     Yes          1      Graduate   \n",
            "2               1.0  LP001005    Male     Yes          0      Graduate   \n",
            "3               1.0  LP001006    Male     Yes          0  Not Graduate   \n",
            "4               1.0  LP001008    Male      No          0      Graduate   \n",
            "..              ...       ...     ...     ...        ...           ...   \n",
            "609             1.0  LP002978  Female      No          0      Graduate   \n",
            "610             1.0  LP002979    Male     Yes          3      Graduate   \n",
            "611             1.0  LP002983    Male     Yes          1      Graduate   \n",
            "612             1.0  LP002984    Male     Yes          2      Graduate   \n",
            "613             0.0  LP002990  Female      No          0      Graduate   \n",
            "\n",
            "    Self_Employed Property_Area Loan_Status  \n",
            "0              No         Urban           Y  \n",
            "1              No         Rural           N  \n",
            "2             Yes         Urban           Y  \n",
            "3              No         Urban           Y  \n",
            "4              No         Urban           Y  \n",
            "..            ...           ...         ...  \n",
            "609            No         Rural           Y  \n",
            "610            No         Rural           Y  \n",
            "611            No         Urban           Y  \n",
            "612            No         Urban           Y  \n",
            "613           Yes     Semiurban           N  \n",
            "\n",
            "[614 rows x 13 columns]\n"
          ]
        }
      ]
    },
    {
      "cell_type": "markdown",
      "source": [
        "## 실습5"
      ],
      "metadata": {
        "id": "D4GHmg7aCpgH"
      },
      "id": "D4GHmg7aCpgH"
    },
    {
      "cell_type": "markdown",
      "source": [
        "### 5. 이상치 처리 (4점)"
      ],
      "metadata": {
        "id": "Kwytvgi8Cne2"
      },
      "id": "Kwytvgi8Cne2"
    },
    {
      "cell_type": "markdown",
      "source": [
        "**a)** ApplicantIncome, CoapplicantIncome, LoanAmount의 분포를 시각화하세요. (`boxplot` 이용)"
      ],
      "metadata": {
        "id": "Qlc8VcSqCsdk"
      },
      "id": "Qlc8VcSqCsdk"
    },
    {
      "cell_type": "code",
      "source": [
        "#이상치 확인을 위해 사분위수 정보를 포함하는 박스플롯으로 시각화\n",
        "loan.boxplot(column = ['ApplicantIncome', 'CoapplicantIncome', 'LoanAmount'])"
      ],
      "metadata": {
        "id": "8HHlM_ZJCstr",
        "colab": {
          "base_uri": "https://localhost:8080/",
          "height": 448
        },
        "outputId": "e5d08711-b94f-4d4b-db83-9069dbaee90c"
      },
      "id": "8HHlM_ZJCstr",
      "execution_count": null,
      "outputs": [
        {
          "output_type": "execute_result",
          "data": {
            "text/plain": [
              "<Axes: >"
            ]
          },
          "metadata": {},
          "execution_count": 18
        },
        {
          "output_type": "display_data",
          "data": {
            "text/plain": [
              "<Figure size 640x480 with 1 Axes>"
            ],
            "image/png": "[encoded data removed]"
          },
          "metadata": {}
        }
      ]
    },
    {
      "cell_type": "markdown",
      "source": [
        "**b)** ApplicantIncome, CoapplicantIncome, LoanAmount의 분포를 확인 후, 이상치를 탐색하여 drop하세요.\n",
        "\n",
        "각 column에 대하여 이상치가 있다고 판단되는 **모든 행** 을 drop해주시면 됩니다.\n",
        "\n",
        "(이상치 제거는 본인이 선호하는 방법으로 하시거나, *Tukey Fences* 방법 (답안에서 이용 예정) 을 이용해주세요. )"
      ],
      "metadata": {
        "id": "UK7XoFz9CxiN"
      },
      "id": "UK7XoFz9CxiN"
    },
    {
      "cell_type": "code",
      "source": [
        "#Tukey Fences 사용\n",
        "#이상치 제거 함수 생성\n",
        "\n",
        "def handle_outliers(df, column):\n",
        "    q3 = df[column].quantile(0.75)\n",
        "    q1 = df[column].quantile(0.25)\n",
        "\n",
        "    iqr = q3 - q1\n",
        "\n",
        "    boundary = 1.5 * iqr\n",
        "    lower_bound = q1 - boundary\n",
        "    upper_bound = q3 + boundary\n",
        "\n",
        "    df = df[(df[column]<upper_bound)&(df[column]>lower_bound)]\n",
        "\n",
        "    return df"
      ],
      "metadata": {
        "id": "clhgzINZCx2a"
      },
      "id": "clhgzINZCx2a",
      "execution_count": null,
      "outputs": []
    },
    {
      "cell_type": "code",
      "source": [
        "loan = handle_outliers(loan, 'ApplicantIncome')\n",
        "loan = handle_outliers(loan, 'CoapplicantIncome')\n",
        "loan = handle_outliers(loan, 'LoanAmount')"
      ],
      "metadata": {
        "id": "YObmf3w7CShq"
      },
      "id": "YObmf3w7CShq",
      "execution_count": null,
      "outputs": []
    },
    {
      "cell_type": "code",
      "source": [
        "loan.info()"
      ],
      "metadata": {
        "id": "q_uGhXyAB9hp",
        "colab": {
          "base_uri": "https://localhost:8080/"
        },
        "outputId": "3aad4808-5776-49a6-b1a8-59c103f2a881"
      },
      "id": "q_uGhXyAB9hp",
      "execution_count": null,
      "outputs": [
        {
          "output_type": "stream",
          "name": "stdout",
          "text": [
            "<class 'pandas.core.frame.DataFrame'>\n",
            "Int64Index: 520 entries, 0 to 613\n",
            "Data columns (total 13 columns):\n",
            " #   Column             Non-Null Count  Dtype  \n",
            "---  ------             --------------  -----  \n",
            " 0   ApplicantIncome    520 non-null    int64  \n",
            " 1   CoapplicantIncome  520 non-null    float64\n",
            " 2   LoanAmount         520 non-null    float64\n",
            " 3   Loan_Amount_Term   520 non-null    float64\n",
            " 4   Credit_History     520 non-null    float64\n",
            " 5   Loan_ID            520 non-null    object \n",
            " 6   Gender             520 non-null    object \n",
            " 7   Married            520 non-null    object \n",
            " 8   Dependents         520 non-null    object \n",
            " 9   Education          520 non-null    object \n",
            " 10  Self_Employed      520 non-null    object \n",
            " 11  Property_Area      520 non-null    object \n",
            " 12  Loan_Status        520 non-null    object \n",
            "dtypes: float64(4), int64(1), object(8)\n",
            "memory usage: 56.9+ KB\n"
          ]
        }
      ]
    },
    {
      "cell_type": "markdown",
      "source": [
        "## 실습6"
      ],
      "metadata": {
        "id": "-t_G6XnlC0qN"
      },
      "id": "-t_G6XnlC0qN"
    },
    {
      "cell_type": "markdown",
      "source": [
        "### 6. 인코딩 (20점)"
      ],
      "metadata": {
        "id": "XVI4xUfpC3Ro"
      },
      "id": "XVI4xUfpC3Ro"
    },
    {
      "cell_type": "markdown",
      "source": [
        "머신러닝 모델이 데이터를 학습할 수 있도록, Dtype이 **'object'** 인 컬럼들에 대하여 인코딩을 실행해줍니다."
      ],
      "metadata": {
        "id": "etiOOckgC56H"
      },
      "id": "etiOOckgC56H"
    },
    {
      "cell_type": "markdown",
      "source": [
        "**a)** 먼저, 부양가족의 수를 의미하는 'Dependent'열의 dtype을 **object**에서 **int**로 바꿔주세요. (`.astype` 이용) **(4점)**"
      ],
      "metadata": {
        "id": "SZCsYn6nC7v5"
      },
      "id": "SZCsYn6nC7v5"
    },
    {
      "cell_type": "code",
      "source": [
        "loan['Dependents']=loan['Dependents'].astype('int')\n",
        "loan['Dependents'].value_counts()"
      ],
      "metadata": {
        "id": "7dQafnJbC787",
        "colab": {
          "base_uri": "https://localhost:8080/"
        },
        "outputId": "0171f1a0-475d-47eb-d159-e025052e2dea"
      },
      "id": "7dQafnJbC787",
      "execution_count": null,
      "outputs": [
        {
          "output_type": "execute_result",
          "data": {
            "text/plain": [
              "0    315\n",
              "2     86\n",
              "1     81\n",
              "3     38\n",
              "Name: Dependents, dtype: int64"
            ]
          },
          "metadata": {},
          "execution_count": 22
        }
      ]
    },
    {
      "cell_type": "markdown",
      "source": [
        "**b)** 'Yes/No'의 형태로 기록되어 있는 열들 ('Married', 'Education', 'Self_Employed', 'Loan_Status')에 대하여 **Label Encoding**을 시행하세요. **(6점)**"
      ],
      "metadata": {
        "id": "fAyXWCuXC9yF"
      },
      "id": "fAyXWCuXC9yF"
    },
    {
      "cell_type": "code",
      "source": [
        "from sklearn.preprocessing import LabelEncoder\n",
        "\n",
        "def encode_features(df):\n",
        "    features = ['Married', 'Education', 'Self_Employed','Loan_Status']\n",
        "    le = LabelEncoder()\n",
        "    for feature in features:\n",
        "        le.fit(df[feature])\n",
        "        df[feature] = le.transform(df[feature])\n",
        "\n",
        "    return df\n",
        "\n",
        "loan = encode_features(loan)\n",
        "\n",
        "loan.head()"
      ],
      "metadata": {
        "id": "cMcR6Zw5C9_6",
        "colab": {
          "base_uri": "https://localhost:8080/",
          "height": 226
        },
        "outputId": "8422380b-0be9-48b1-91d9-7ecf00f4dfa9"
      },
      "id": "cMcR6Zw5C9_6",
      "execution_count": null,
      "outputs": [
        {
          "output_type": "execute_result",
          "data": {
            "text/plain": [
              "   ApplicantIncome  CoapplicantIncome  LoanAmount  Loan_Amount_Term  \\\n",
              "0             5849                0.0  146.412162             360.0   \n",
              "1             4583             1508.0  128.000000             360.0   \n",
              "2             3000                0.0   66.000000             360.0   \n",
              "3             2583             2358.0  120.000000             360.0   \n",
              "4             6000                0.0  141.000000             360.0   \n",
              "\n",
              "   Credit_History   Loan_ID Gender  Married  Dependents  Education  \\\n",
              "0             1.0  LP001002   Male        0           0          0   \n",
              "1             1.0  LP001003   Male        1           1          0   \n",
              "2             1.0  LP001005   Male        1           0          0   \n",
              "3             1.0  LP001006   Male        1           0          1   \n",
              "4             1.0  LP001008   Male        0           0          0   \n",
              "\n",
              "   Self_Employed Property_Area  Loan_Status  \n",
              "0              0         Urban            1  \n",
              "1              0         Rural            0  \n",
              "2              1         Urban            1  \n",
              "3              0         Urban            1  \n",
              "4              0         Urban            1  "
            ],
            "text/html": [
              "\n",
              "  <div id=\"df-76bc76bd-1661-4647-ba82-6740d830a355\" class=\"colab-df-container\">\n",
              "    <div>\n",
              "<style scoped>\n",
              "    .dataframe tbody tr th:only-of-type {\n",
              "        vertical-align: middle;\n",
              "    }\n",
              "\n",
              "    .dataframe tbody tr th {\n",
              "        vertical-align: top;\n",
              "    }\n",
              "\n",
              "    .dataframe thead th {\n",
              "        text-align: right;\n",
              "    }\n",
              "</style>\n",
              "<table border=\"1\" class=\"dataframe\">\n",
              "  <thead>\n",
              "    <tr style=\"text-align: right;\">\n",
              "      <th></th>\n",
              "      <th>ApplicantIncome</th>\n",
              "      <th>CoapplicantIncome</th>\n",
              "      <th>LoanAmount</th>\n",
              "      <th>Loan_Amount_Term</th>\n",
              "      <th>Credit_History</th>\n",
              "      <th>Loan_ID</th>\n",
              "      <th>Gender</th>\n",
              "      <th>Married</th>\n",
              "      <th>Dependents</th>\n",
              "      <th>Education</th>\n",
              "      <th>Self_Employed</th>\n",
              "      <th>Property_Area</th>\n",
              "      <th>Loan_Status</th>\n",
              "    </tr>\n",
              "  </thead>\n",
              "  <tbody>\n",
              "    <tr>\n",
              "      <th>0</th>\n",
              "      <td>5849</td>\n",
              "      <td>0.0</td>\n",
              "      <td>146.412162</td>\n",
              "      <td>360.0</td>\n",
              "      <td>1.0</td>\n",
              "      <td>LP001002</td>\n",
              "      <td>Male</td>\n",
              "      <td>0</td>\n",
              "      <td>0</td>\n",
              "      <td>0</td>\n",
              "      <td>0</td>\n",
              "      <td>Urban</td>\n",
              "      <td>1</td>\n",
              "    </tr>\n",
              "    <tr>\n",
              "      <th>1</th>\n",
              "      <td>4583</td>\n",
              "      <td>1508.0</td>\n",
              "      <td>128.000000</td>\n",
              "      <td>360.0</td>\n",
              "      <td>1.0</td>\n",
              "      <td>LP001003</td>\n",
              "      <td>Male</td>\n",
              "      <td>1</td>\n",
              "      <td>1</td>\n",
              "      <td>0</td>\n",
              "      <td>0</td>\n",
              "      <td>Rural</td>\n",
              "      <td>0</td>\n",
              "    </tr>\n",
              "    <tr>\n",
              "      <th>2</th>\n",
              "      <td>3000</td>\n",
              "      <td>0.0</td>\n",
              "      <td>66.000000</td>\n",
              "      <td>360.0</td>\n",
              "      <td>1.0</td>\n",
              "      <td>LP001005</td>\n",
              "      <td>Male</td>\n",
              "      <td>1</td>\n",
              "      <td>0</td>\n",
              "      <td>0</td>\n",
              "      <td>1</td>\n",
              "      <td>Urban</td>\n",
              "      <td>1</td>\n",
              "    </tr>\n",
              "    <tr>\n",
              "      <th>3</th>\n",
              "      <td>2583</td>\n",
              "      <td>2358.0</td>\n",
              "      <td>120.000000</td>\n",
              "      <td>360.0</td>\n",
              "      <td>1.0</td>\n",
              "      <td>LP001006</td>\n",
              "      <td>Male</td>\n",
              "      <td>1</td>\n",
              "      <td>0</td>\n",
              "      <td>1</td>\n",
              "      <td>0</td>\n",
              "      <td>Urban</td>\n",
              "      <td>1</td>\n",
              "    </tr>\n",
              "    <tr>\n",
              "      <th>4</th>\n",
              "      <td>6000</td>\n",
              "      <td>0.0</td>\n",
              "      <td>141.000000</td>\n",
              "      <td>360.0</td>\n",
              "      <td>1.0</td>\n",
              "      <td>LP001008</td>\n",
              "      <td>Male</td>\n",
              "      <td>0</td>\n",
              "      <td>0</td>\n",
              "      <td>0</td>\n",
              "      <td>0</td>\n",
              "      <td>Urban</td>\n",
              "      <td>1</td>\n",
              "    </tr>\n",
              "  </tbody>\n",
              "</table>\n",
              "</div>\n",
              "    <div class=\"colab-df-buttons\">\n",
              "\n",
              "  <div class=\"colab-df-container\">\n",
              "    <button class=\"colab-df-convert\" onclick=\"convertToInteractive('df-76bc76bd-1661-4647-ba82-6740d830a355')\"\n",
              "            title=\"Convert this dataframe to an interactive table.\"\n",
              "            style=\"display:none;\">\n",
              "\n",
              "  <svg xmlns=\"http://www.w3.org/2000/svg\" height=\"24px\" viewBox=\"0 -960 960 960\">\n",
              "    <path d=\"M120-120v-720h720v720H120Zm60-500h600v-160H180v160Zm220 220h160v-160H400v160Zm0 220h160v-160H400v160ZM180-400h160v-160H180v160Zm440 0h160v-160H620v160ZM180-180h160v-160H180v160Zm440 0h160v-160H620v160Z\"/>\n",
              "  </svg>\n",
              "    </button>\n",
              "\n",
              "  <style>\n",
              "    .colab-df-container {\n",
              "      display:flex;\n",
              "      gap: 12px;\n",
              "    }\n",
              "\n",
              "    .colab-df-convert {\n",
              "      background-color: #E8F0FE;\n",
              "      border: none;\n",
              "      border-radius: 50%;\n",
              "      cursor: pointer;\n",
              "      display: none;\n",
              "      fill: #1967D2;\n",
              "      height: 32px;\n",
              "      padding: 0 0 0 0;\n",
              "      width: 32px;\n",
              "    }\n",
              "\n",
              "    .colab-df-convert:hover {\n",
              "      background-color: #E2EBFA;\n",
              "      box-shadow: 0px 1px 2px rgba(60, 64, 67, 0.3), 0px 1px 3px 1px rgba(60, 64, 67, 0.15);\n",
              "      fill: #174EA6;\n",
              "    }\n",
              "\n",
              "    .colab-df-buttons div {\n",
              "      margin-bottom: 4px;\n",
              "    }\n",
              "\n",
              "    [theme=dark] .colab-df-convert {\n",
              "      background-color: #3B4455;\n",
              "      fill: #D2E3FC;\n",
              "    }\n",
              "\n",
              "    [theme=dark] .colab-df-convert:hover {\n",
              "      background-color: #434B5C;\n",
              "      box-shadow: 0px 1px 3px 1px rgba(0, 0, 0, 0.15);\n",
              "      filter: drop-shadow(0px 1px 2px rgba(0, 0, 0, 0.3));\n",
              "      fill: #FFFFFF;\n",
              "    }\n",
              "  </style>\n",
              "\n",
              "    <script>\n",
              "      const buttonEl =\n",
              "        document.querySelector('#df-76bc76bd-1661-4647-ba82-6740d830a355 button.colab-df-convert');\n",
              "      buttonEl.style.display =\n",
              "        google.colab.kernel.accessAllowed ? 'block' : 'none';\n",
              "\n",
              "      async function convertToInteractive(key) {\n",
              "        const element = document.querySelector('#df-76bc76bd-1661-4647-ba82-6740d830a355');\n",
              "        const dataTable =\n",
              "          await google.colab.kernel.invokeFunction('convertToInteractive',\n",
              "                                                    [key], {});\n",
              "        if (!dataTable) return;\n",
              "\n",
              "        const docLinkHtml = 'Like what you see? Visit the ' +\n",
              "          '<a target=\"_blank\" href=https://colab.research.google.com/notebooks/data_table.ipynb>data table notebook</a>'\n",
              "          + ' to learn more about interactive tables.';\n",
              "        element.innerHTML = '';\n",
              "        dataTable['output_type'] = 'display_data';\n",
              "        await google.colab.output.renderOutput(dataTable, element);\n",
              "        const docLink = document.createElement('div');\n",
              "        docLink.innerHTML = docLinkHtml;\n",
              "        element.appendChild(docLink);\n",
              "      }\n",
              "    </script>\n",
              "  </div>\n",
              "\n",
              "\n",
              "<div id=\"df-a1421254-3939-46b3-95d3-e10666160312\">\n",
              "  <button class=\"colab-df-quickchart\" onclick=\"quickchart('df-a1421254-3939-46b3-95d3-e10666160312')\"\n",
              "            title=\"Suggest charts.\"\n",
              "            style=\"display:none;\">\n",
              "\n",
              "<svg xmlns=\"http://www.w3.org/2000/svg\" height=\"24px\"viewBox=\"0 0 24 24\"\n",
              "     width=\"24px\">\n",
              "    <g>\n",
              "        <path d=\"M19 3H5c-1.1 0-2 .9-2 2v14c0 1.1.9 2 2 2h14c1.1 0 2-.9 2-2V5c0-1.1-.9-2-2-2zM9 17H7v-7h2v7zm4 0h-2V7h2v10zm4 0h-2v-4h2v4z\"/>\n",
              "    </g>\n",
              "</svg>\n",
              "  </button>\n",
              "\n",
              "<style>\n",
              "  .colab-df-quickchart {\n",
              "    background-color: #E8F0FE;\n",
              "    border: none;\n",
              "    border-radius: 50%;\n",
              "    cursor: pointer;\n",
              "    display: none;\n",
              "    fill: #1967D2;\n",
              "    height: 32px;\n",
              "    padding: 0 0 0 0;\n",
              "    width: 32px;\n",
              "  }\n",
              "\n",
              "  .colab-df-quickchart:hover {\n",
              "    background-color: #E2EBFA;\n",
              "    box-shadow: 0px 1px 2px rgba(60, 64, 67, 0.3), 0px 1px 3px 1px rgba(60, 64, 67, 0.15);\n",
              "    fill: #174EA6;\n",
              "  }\n",
              "\n",
              "  [theme=dark] .colab-df-quickchart {\n",
              "    background-color: #3B4455;\n",
              "    fill: #D2E3FC;\n",
              "  }\n",
              "\n",
              "  [theme=dark] .colab-df-quickchart:hover {\n",
              "    background-color: #434B5C;\n",
              "    box-shadow: 0px 1px 3px 1px rgba(0, 0, 0, 0.15);\n",
              "    filter: drop-shadow(0px 1px 2px rgba(0, 0, 0, 0.3));\n",
              "    fill: #FFFFFF;\n",
              "  }\n",
              "</style>\n",
              "\n",
              "  <script>\n",
              "    async function quickchart(key) {\n",
              "      const charts = await google.colab.kernel.invokeFunction(\n",
              "          'suggestCharts', [key], {});\n",
              "    }\n",
              "    (() => {\n",
              "      let quickchartButtonEl =\n",
              "        document.querySelector('#df-a1421254-3939-46b3-95d3-e10666160312 button');\n",
              "      quickchartButtonEl.style.display =\n",
              "        google.colab.kernel.accessAllowed ? 'block' : 'none';\n",
              "    })();\n",
              "  </script>\n",
              "</div>\n",
              "    </div>\n",
              "  </div>\n"
            ]
          },
          "metadata": {},
          "execution_count": 24
        }
      ]
    },
    {
      "cell_type": "markdown",
      "source": [
        "**c)** 머신러닝 알고리즘에 불필요한 열을 제거해주세요. (*힌트 : 1개의 열만 제거하면 됩니다.*  ) **(3점)**"
      ],
      "metadata": {
        "id": "0MJYWkv-C_xw"
      },
      "id": "0MJYWkv-C_xw"
    },
    {
      "cell_type": "code",
      "source": [
        "# 'Loan_ID' column 삭제\n",
        "loan.drop(columns = 'Loan_ID', axis = 1, inplace = True)"
      ],
      "metadata": {
        "id": "tpi8ZOuBDBBN"
      },
      "id": "tpi8ZOuBDBBN",
      "execution_count": null,
      "outputs": []
    },
    {
      "cell_type": "markdown",
      "source": [
        "**d)** 나머지 문자형 변수 ('Gender'와 'Property_Area')에 대해서는 **OneHotEncoding**을 시행하세요. **(6점)**\n",
        "\n",
        "(`OneHotEncoder` 또는 `pd.get_dummies` 모두 이용 가능)"
      ],
      "metadata": {
        "id": "skENNWosDCnq"
      },
      "id": "skENNWosDCnq"
    },
    {
      "cell_type": "code",
      "source": [
        "loan=pd.get_dummies(loan)\n",
        "loan.head()"
      ],
      "metadata": {
        "id": "SHuUdWwfDC0c",
        "colab": {
          "base_uri": "https://localhost:8080/",
          "height": 226
        },
        "outputId": "82cd9407-b39d-4a71-9638-707015e5b01a"
      },
      "id": "SHuUdWwfDC0c",
      "execution_count": null,
      "outputs": [
        {
          "output_type": "execute_result",
          "data": {
            "text/plain": [
              "   ApplicantIncome  CoapplicantIncome  LoanAmount  Loan_Amount_Term  \\\n",
              "0             5849                0.0  146.412162             360.0   \n",
              "1             4583             1508.0  128.000000             360.0   \n",
              "2             3000                0.0   66.000000             360.0   \n",
              "3             2583             2358.0  120.000000             360.0   \n",
              "4             6000                0.0  141.000000             360.0   \n",
              "\n",
              "   Credit_History  Married  Dependents  Education  Self_Employed  Loan_Status  \\\n",
              "0             1.0        0           0          0              0            1   \n",
              "1             1.0        1           1          0              0            0   \n",
              "2             1.0        1           0          0              1            1   \n",
              "3             1.0        1           0          1              0            1   \n",
              "4             1.0        0           0          0              0            1   \n",
              "\n",
              "   Gender_Female  Gender_Male  Property_Area_Rural  Property_Area_Semiurban  \\\n",
              "0              0            1                    0                        0   \n",
              "1              0            1                    1                        0   \n",
              "2              0            1                    0                        0   \n",
              "3              0            1                    0                        0   \n",
              "4              0            1                    0                        0   \n",
              "\n",
              "   Property_Area_Urban  \n",
              "0                    1  \n",
              "1                    0  \n",
              "2                    1  \n",
              "3                    1  \n",
              "4                    1  "
            ],
            "text/html": [
              "\n",
              "  <div id=\"df-b0e62a56-5ad2-4fde-8200-ca6a50fb8347\" class=\"colab-df-container\">\n",
              "    <div>\n",
              "<style scoped>\n",
              "    .dataframe tbody tr th:only-of-type {\n",
              "        vertical-align: middle;\n",
              "    }\n",
              "\n",
              "    .dataframe tbody tr th {\n",
              "        vertical-align: top;\n",
              "    }\n",
              "\n",
              "    .dataframe thead th {\n",
              "        text-align: right;\n",
              "    }\n",
              "</style>\n",
              "<table border=\"1\" class=\"dataframe\">\n",
              "  <thead>\n",
              "    <tr style=\"text-align: right;\">\n",
              "      <th></th>\n",
              "      <th>ApplicantIncome</th>\n",
              "      <th>CoapplicantIncome</th>\n",
              "      <th>LoanAmount</th>\n",
              "      <th>Loan_Amount_Term</th>\n",
              "      <th>Credit_History</th>\n",
              "      <th>Married</th>\n",
              "      <th>Dependents</th>\n",
              "      <th>Education</th>\n",
              "      <th>Self_Employed</th>\n",
              "      <th>Loan_Status</th>\n",
              "      <th>Gender_Female</th>\n",
              "      <th>Gender_Male</th>\n",
              "      <th>Property_Area_Rural</th>\n",
              "      <th>Property_Area_Semiurban</th>\n",
              "      <th>Property_Area_Urban</th>\n",
              "    </tr>\n",
              "  </thead>\n",
              "  <tbody>\n",
              "    <tr>\n",
              "      <th>0</th>\n",
              "      <td>5849</td>\n",
              "      <td>0.0</td>\n",
              "      <td>146.412162</td>\n",
              "      <td>360.0</td>\n",
              "      <td>1.0</td>\n",
              "      <td>0</td>\n",
              "      <td>0</td>\n",
              "      <td>0</td>\n",
              "      <td>0</td>\n",
              "      <td>1</td>\n",
              "      <td>0</td>\n",
              "      <td>1</td>\n",
              "      <td>0</td>\n",
              "      <td>0</td>\n",
              "      <td>1</td>\n",
              "    </tr>\n",
              "    <tr>\n",
              "      <th>1</th>\n",
              "      <td>4583</td>\n",
              "      <td>1508.0</td>\n",
              "      <td>128.000000</td>\n",
              "      <td>360.0</td>\n",
              "      <td>1.0</td>\n",
              "      <td>1</td>\n",
              "      <td>1</td>\n",
              "      <td>0</td>\n",
              "      <td>0</td>\n",
              "      <td>0</td>\n",
              "      <td>0</td>\n",
              "      <td>1</td>\n",
              "      <td>1</td>\n",
              "      <td>0</td>\n",
              "      <td>0</td>\n",
              "    </tr>\n",
              "    <tr>\n",
              "      <th>2</th>\n",
              "      <td>3000</td>\n",
              "      <td>0.0</td>\n",
              "      <td>66.000000</td>\n",
              "      <td>360.0</td>\n",
              "      <td>1.0</td>\n",
              "      <td>1</td>\n",
              "      <td>0</td>\n",
              "      <td>0</td>\n",
              "      <td>1</td>\n",
              "      <td>1</td>\n",
              "      <td>0</td>\n",
              "      <td>1</td>\n",
              "      <td>0</td>\n",
              "      <td>0</td>\n",
              "      <td>1</td>\n",
              "    </tr>\n",
              "    <tr>\n",
              "      <th>3</th>\n",
              "      <td>2583</td>\n",
              "      <td>2358.0</td>\n",
              "      <td>120.000000</td>\n",
              "      <td>360.0</td>\n",
              "      <td>1.0</td>\n",
              "      <td>1</td>\n",
              "      <td>0</td>\n",
              "      <td>1</td>\n",
              "      <td>0</td>\n",
              "      <td>1</td>\n",
              "      <td>0</td>\n",
              "      <td>1</td>\n",
              "      <td>0</td>\n",
              "      <td>0</td>\n",
              "      <td>1</td>\n",
              "    </tr>\n",
              "    <tr>\n",
              "      <th>4</th>\n",
              "      <td>6000</td>\n",
              "      <td>0.0</td>\n",
              "      <td>141.000000</td>\n",
              "      <td>360.0</td>\n",
              "      <td>1.0</td>\n",
              "      <td>0</td>\n",
              "      <td>0</td>\n",
              "      <td>0</td>\n",
              "      <td>0</td>\n",
              "      <td>1</td>\n",
              "      <td>0</td>\n",
              "      <td>1</td>\n",
              "      <td>0</td>\n",
              "      <td>0</td>\n",
              "      <td>1</td>\n",
              "    </tr>\n",
              "  </tbody>\n",
              "</table>\n",
              "</div>\n",
              "    <div class=\"colab-df-buttons\">\n",
              "\n",
              "  <div class=\"colab-df-container\">\n",
              "    <button class=\"colab-df-convert\" onclick=\"convertToInteractive('df-b0e62a56-5ad2-4fde-8200-ca6a50fb8347')\"\n",
              "            title=\"Convert this dataframe to an interactive table.\"\n",
              "            style=\"display:none;\">\n",
              "\n",
              "  <svg xmlns=\"http://www.w3.org/2000/svg\" height=\"24px\" viewBox=\"0 -960 960 960\">\n",
              "    <path d=\"M120-120v-720h720v720H120Zm60-500h600v-160H180v160Zm220 220h160v-160H400v160Zm0 220h160v-160H400v160ZM180-400h160v-160H180v160Zm440 0h160v-160H620v160ZM180-180h160v-160H180v160Zm440 0h160v-160H620v160Z\"/>\n",
              "  </svg>\n",
              "    </button>\n",
              "\n",
              "  <style>\n",
              "    .colab-df-container {\n",
              "      display:flex;\n",
              "      gap: 12px;\n",
              "    }\n",
              "\n",
              "    .colab-df-convert {\n",
              "      background-color: #E8F0FE;\n",
              "      border: none;\n",
              "      border-radius: 50%;\n",
              "      cursor: pointer;\n",
              "      display: none;\n",
              "      fill: #1967D2;\n",
              "      height: 32px;\n",
              "      padding: 0 0 0 0;\n",
              "      width: 32px;\n",
              "    }\n",
              "\n",
              "    .colab-df-convert:hover {\n",
              "      background-color: #E2EBFA;\n",
              "      box-shadow: 0px 1px 2px rgba(60, 64, 67, 0.3), 0px 1px 3px 1px rgba(60, 64, 67, 0.15);\n",
              "      fill: #174EA6;\n",
              "    }\n",
              "\n",
              "    .colab-df-buttons div {\n",
              "      margin-bottom: 4px;\n",
              "    }\n",
              "\n",
              "    [theme=dark] .colab-df-convert {\n",
              "      background-color: #3B4455;\n",
              "      fill: #D2E3FC;\n",
              "    }\n",
              "\n",
              "    [theme=dark] .colab-df-convert:hover {\n",
              "      background-color: #434B5C;\n",
              "      box-shadow: 0px 1px 3px 1px rgba(0, 0, 0, 0.15);\n",
              "      filter: drop-shadow(0px 1px 2px rgba(0, 0, 0, 0.3));\n",
              "      fill: #FFFFFF;\n",
              "    }\n",
              "  </style>\n",
              "\n",
              "    <script>\n",
              "      const buttonEl =\n",
              "        document.querySelector('#df-b0e62a56-5ad2-4fde-8200-ca6a50fb8347 button.colab-df-convert');\n",
              "      buttonEl.style.display =\n",
              "        google.colab.kernel.accessAllowed ? 'block' : 'none';\n",
              "\n",
              "      async function convertToInteractive(key) {\n",
              "        const element = document.querySelector('#df-b0e62a56-5ad2-4fde-8200-ca6a50fb8347');\n",
              "        const dataTable =\n",
              "          await google.colab.kernel.invokeFunction('convertToInteractive',\n",
              "                                                    [key], {});\n",
              "        if (!dataTable) return;\n",
              "\n",
              "        const docLinkHtml = 'Like what you see? Visit the ' +\n",
              "          '<a target=\"_blank\" href=https://colab.research.google.com/notebooks/data_table.ipynb>data table notebook</a>'\n",
              "          + ' to learn more about interactive tables.';\n",
              "        element.innerHTML = '';\n",
              "        dataTable['output_type'] = 'display_data';\n",
              "        await google.colab.output.renderOutput(dataTable, element);\n",
              "        const docLink = document.createElement('div');\n",
              "        docLink.innerHTML = docLinkHtml;\n",
              "        element.appendChild(docLink);\n",
              "      }\n",
              "    </script>\n",
              "  </div>\n",
              "\n",
              "\n",
              "<div id=\"df-47980fa7-243b-43da-816a-38be4fcaf53c\">\n",
              "  <button class=\"colab-df-quickchart\" onclick=\"quickchart('df-47980fa7-243b-43da-816a-38be4fcaf53c')\"\n",
              "            title=\"Suggest charts.\"\n",
              "            style=\"display:none;\">\n",
              "\n",
              "<svg xmlns=\"http://www.w3.org/2000/svg\" height=\"24px\"viewBox=\"0 0 24 24\"\n",
              "     width=\"24px\">\n",
              "    <g>\n",
              "        <path d=\"M19 3H5c-1.1 0-2 .9-2 2v14c0 1.1.9 2 2 2h14c1.1 0 2-.9 2-2V5c0-1.1-.9-2-2-2zM9 17H7v-7h2v7zm4 0h-2V7h2v10zm4 0h-2v-4h2v4z\"/>\n",
              "    </g>\n",
              "</svg>\n",
              "  </button>\n",
              "\n",
              "<style>\n",
              "  .colab-df-quickchart {\n",
              "    background-color: #E8F0FE;\n",
              "    border: none;\n",
              "    border-radius: 50%;\n",
              "    cursor: pointer;\n",
              "    display: none;\n",
              "    fill: #1967D2;\n",
              "    height: 32px;\n",
              "    padding: 0 0 0 0;\n",
              "    width: 32px;\n",
              "  }\n",
              "\n",
              "  .colab-df-quickchart:hover {\n",
              "    background-color: #E2EBFA;\n",
              "    box-shadow: 0px 1px 2px rgba(60, 64, 67, 0.3), 0px 1px 3px 1px rgba(60, 64, 67, 0.15);\n",
              "    fill: #174EA6;\n",
              "  }\n",
              "\n",
              "  [theme=dark] .colab-df-quickchart {\n",
              "    background-color: #3B4455;\n",
              "    fill: #D2E3FC;\n",
              "  }\n",
              "\n",
              "  [theme=dark] .colab-df-quickchart:hover {\n",
              "    background-color: #434B5C;\n",
              "    box-shadow: 0px 1px 3px 1px rgba(0, 0, 0, 0.15);\n",
              "    filter: drop-shadow(0px 1px 2px rgba(0, 0, 0, 0.3));\n",
              "    fill: #FFFFFF;\n",
              "  }\n",
              "</style>\n",
              "\n",
              "  <script>\n",
              "    async function quickchart(key) {\n",
              "      const charts = await google.colab.kernel.invokeFunction(\n",
              "          'suggestCharts', [key], {});\n",
              "    }\n",
              "    (() => {\n",
              "      let quickchartButtonEl =\n",
              "        document.querySelector('#df-47980fa7-243b-43da-816a-38be4fcaf53c button');\n",
              "      quickchartButtonEl.style.display =\n",
              "        google.colab.kernel.accessAllowed ? 'block' : 'none';\n",
              "    })();\n",
              "  </script>\n",
              "</div>\n",
              "    </div>\n",
              "  </div>\n"
            ]
          },
          "metadata": {},
          "execution_count": 26
        }
      ]
    },
    {
      "cell_type": "markdown",
      "source": [
        "**e)** 마지막으로 `.info()`를 이용하여 object type, null값 확인 등을 통해 모델링에 쓰일 수 있는 data인지 최종 검토합니다! **(1점)**"
      ],
      "metadata": {
        "id": "oFaIjtT8DEbj"
      },
      "id": "oFaIjtT8DEbj"
    },
    {
      "cell_type": "code",
      "source": [
        "loan.info()"
      ],
      "metadata": {
        "id": "1XZDzUhwDEns",
        "colab": {
          "base_uri": "https://localhost:8080/"
        },
        "outputId": "43407d56-e3fd-4aa0-e5b5-b0273d46e16b"
      },
      "id": "1XZDzUhwDEns",
      "execution_count": null,
      "outputs": [
        {
          "output_type": "stream",
          "name": "stdout",
          "text": [
            "<class 'pandas.core.frame.DataFrame'>\n",
            "Int64Index: 520 entries, 0 to 613\n",
            "Data columns (total 15 columns):\n",
            " #   Column                   Non-Null Count  Dtype  \n",
            "---  ------                   --------------  -----  \n",
            " 0   ApplicantIncome          520 non-null    int64  \n",
            " 1   CoapplicantIncome        520 non-null    float64\n",
            " 2   LoanAmount               520 non-null    float64\n",
            " 3   Loan_Amount_Term         520 non-null    float64\n",
            " 4   Credit_History           520 non-null    float64\n",
            " 5   Married                  520 non-null    int64  \n",
            " 6   Dependents               520 non-null    int64  \n",
            " 7   Education                520 non-null    int64  \n",
            " 8   Self_Employed            520 non-null    int64  \n",
            " 9   Loan_Status              520 non-null    int64  \n",
            " 10  Gender_Female            520 non-null    uint8  \n",
            " 11  Gender_Male              520 non-null    uint8  \n",
            " 12  Property_Area_Rural      520 non-null    uint8  \n",
            " 13  Property_Area_Semiurban  520 non-null    uint8  \n",
            " 14  Property_Area_Urban      520 non-null    uint8  \n",
            "dtypes: float64(4), int64(6), uint8(5)\n",
            "memory usage: 47.2 KB\n"
          ]
        }
      ]
    },
    {
      "cell_type": "markdown",
      "source": [
        "## 실습7"
      ],
      "metadata": {
        "id": "qpY0RoOODHkq"
      },
      "id": "qpY0RoOODHkq"
    },
    {
      "cell_type": "markdown",
      "source": [
        "### 7. Train Test Split (15점)"
      ],
      "metadata": {
        "id": "AXG7ntqUDIvS"
      },
      "id": "AXG7ntqUDIvS"
    },
    {
      "cell_type": "markdown",
      "source": [
        "**a)** feature 데이터를 x라는 새로운 데이터프레임으로 불러오고, 테스트용 데이터셋의 사이즈는 0.25로 설정하여 train_test_split을 실행하세요. **(10점)**"
      ],
      "metadata": {
        "id": "MkQpOfxaDMZh"
      },
      "id": "MkQpOfxaDMZh"
    },
    {
      "cell_type": "code",
      "source": [
        "#Spliting the dataset into features and target\n",
        "\n",
        "x=loan.drop('Loan_Status',axis=1)\n",
        "y=loan['Loan_Status']"
      ],
      "metadata": {
        "id": "3wKohQkXDM1g"
      },
      "id": "3wKohQkXDM1g",
      "execution_count": null,
      "outputs": []
    },
    {
      "cell_type": "code",
      "source": [
        "#Train & Test data split\n",
        "\n",
        "from sklearn.model_selection import train_test_split\n",
        "xtrain,xtest,ytrain,ytest= train_test_split(x,y,test_size=0.25)\n",
        "print(xtrain.shape, xtest.shape, ytrain.shape, ytest.shape)"
      ],
      "metadata": {
        "id": "VlGIUZmnDKHa",
        "colab": {
          "base_uri": "https://localhost:8080/"
        },
        "outputId": "457be24b-8e91-4f74-dfb6-45dd44bf51ee"
      },
      "id": "VlGIUZmnDKHa",
      "execution_count": null,
      "outputs": [
        {
          "output_type": "stream",
          "name": "stdout",
          "text": [
            "(390, 14) (130, 14) (390,) (130,)\n"
          ]
        }
      ]
    },
    {
      "cell_type": "markdown",
      "source": [
        "**b)** 아래 코드를 실행해주세요."
      ],
      "metadata": {
        "id": "PfeqnsMrDQBO"
      },
      "id": "PfeqnsMrDQBO"
    },
    {
      "cell_type": "code",
      "source": [
        "from sklearn.tree import DecisionTreeClassifier\n",
        "from sklearn.metrics import accuracy_score\n",
        "\n",
        "dt=DecisionTreeClassifier(random_state=10)"
      ],
      "metadata": {
        "id": "Y0bX45-2DQP3"
      },
      "id": "Y0bX45-2DQP3",
      "execution_count": null,
      "outputs": []
    },
    {
      "cell_type": "markdown",
      "source": [
        "**c)** DecisionTreeClassifier를 이용하여 학습/예측/평가를 해주세요. (`.fit()`, `.predict()`, `accuracy_score()` 이용)  **(5점)**"
      ],
      "metadata": {
        "id": "xxBUQQN_DSt6"
      },
      "id": "xxBUQQN_DSt6"
    },
    {
      "cell_type": "code",
      "source": [
        "dt.fit(xtrain,ytrain)\n",
        "dt_pred = dt.predict(xtest)\n",
        "print(accuracy_score(ytest, dt_pred))"
      ],
      "metadata": {
        "id": "N-CiN17QDTBb",
        "colab": {
          "base_uri": "https://localhost:8080/"
        },
        "outputId": "357b292e-b1a2-4b28-e672-0862a5de13cb"
      },
      "id": "N-CiN17QDTBb",
      "execution_count": null,
      "outputs": [
        {
          "output_type": "stream",
          "name": "stdout",
          "text": [
            "0.7461538461538462\n"
          ]
        }
      ]
    },
    {
      "cell_type": "markdown",
      "source": [
        "## 실습8"
      ],
      "metadata": {
        "id": "JD0SaU42DV1g"
      },
      "id": "JD0SaU42DV1g"
    },
    {
      "cell_type": "markdown",
      "source": [
        "### 8.1. Stratified KFold  (20점)"
      ],
      "metadata": {
        "id": "ZusXf_fTDXDC"
      },
      "id": "ZusXf_fTDXDC"
    },
    {
      "cell_type": "markdown",
      "source": [
        "**a)** 아래 코드를 실행 후 진행해주세요."
      ],
      "metadata": {
        "id": "On9arzZjDZyY"
      },
      "id": "On9arzZjDZyY"
    },
    {
      "cell_type": "code",
      "source": [
        "from sklearn.tree import DecisionTreeClassifier\n",
        "from sklearn.model_selection import KFold\n",
        "from sklearn.metrics import accuracy_score\n",
        "from sklearn.model_selection import StratifiedKFold\n",
        "dt=DecisionTreeClassifier(random_state=10)"
      ],
      "metadata": {
        "id": "KZLGxGHIDaFG"
      },
      "id": "KZLGxGHIDaFG",
      "execution_count": null,
      "outputs": []
    },
    {
      "cell_type": "markdown",
      "source": [
        "**b)** loan data의 index를 재정렬하고 변수 **x**에 loan의 \"Loan_Status\"열을 제외한 모든 데이터를, 변수 **y**에 loan의 \"Loan_Status\"열의 데이터를 저장한 다음 x,y의 길이를 확인해주세요.**(4점, `shape`사용)**"
      ],
      "metadata": {
        "id": "9QWXR9mrDcvR"
      },
      "id": "9QWXR9mrDcvR"
    },
    {
      "cell_type": "code",
      "source": [
        "loan.reset_index(drop=True, inplace=True)\n",
        "x=loan.drop('Loan_Status',axis=1)\n",
        "y=loan['Loan_Status']\n",
        "\n",
        "print(x.shape[0], y.shape[0])"
      ],
      "metadata": {
        "id": "AFAGYP_FDc7S",
        "colab": {
          "base_uri": "https://localhost:8080/"
        },
        "outputId": "77c0072d-c58c-479d-c493-b428a744f79b"
      },
      "id": "AFAGYP_FDc7S",
      "execution_count": null,
      "outputs": [
        {
          "output_type": "stream",
          "name": "stdout",
          "text": [
            "520 520\n"
          ]
        }
      ]
    },
    {
      "cell_type": "markdown",
      "source": [
        "**c)** 변수 **kfold**에 k=4인 KFold 객체를 만들어 주고 **cv_accuracy_1** 리스트에 각 반복의 정확도를 소수점 5째 자리에서 반올림 한 다음 저장한 후 평균을 출력해주세요. **(6점, `split` 이용)**"
      ],
      "metadata": {
        "id": "lcDUStMLDeKp"
      },
      "id": "lcDUStMLDeKp"
    },
    {
      "cell_type": "code",
      "source": [
        "kfold=KFold(n_splits=4)\n",
        "cv_accuracy_1=[]\n",
        "\n",
        "for train_index, test_index in kfold.split(x):\n",
        "    x_train, x_test = x.iloc[train_index], x.iloc[test_index]\n",
        "    y_train, y_test = y[train_index], y[test_index]\n",
        "    dt.fit(x_train, y_train)\n",
        "    pred=dt.predict(x_test)\n",
        "    accuracy=np.round(accuracy_score(y_test, pred),4)\n",
        "    cv_accuracy_1.append(accuracy)\n",
        "print(np.mean(cv_accuracy_1))"
      ],
      "metadata": {
        "id": "FS61MDDzDeWy",
        "colab": {
          "base_uri": "https://localhost:8080/"
        },
        "outputId": "725a6d06-64cc-494d-af08-318d27cb82aa"
      },
      "id": "FS61MDDzDeWy",
      "execution_count": null,
      "outputs": [
        {
          "output_type": "stream",
          "name": "stdout",
          "text": [
            "0.75\n"
          ]
        }
      ]
    },
    {
      "cell_type": "markdown",
      "source": [
        "**d)** 레이블 값의 분포도를 확인해 주세요. **(2점)**"
      ],
      "metadata": {
        "id": "GnALpryFDgW4"
      },
      "id": "GnALpryFDgW4"
    },
    {
      "cell_type": "code",
      "source": [
        "y.value_counts()"
      ],
      "metadata": {
        "id": "SdMJtedmDgka",
        "colab": {
          "base_uri": "https://localhost:8080/"
        },
        "outputId": "180a2dcb-cb5d-4ce5-d62f-2b4242f91ae4"
      },
      "id": "SdMJtedmDgka",
      "execution_count": null,
      "outputs": [
        {
          "output_type": "execute_result",
          "data": {
            "text/plain": [
              "1    362\n",
              "0    158\n",
              "Name: Loan_Status, dtype: int64"
            ]
          },
          "metadata": {},
          "execution_count": 35
        }
      ]
    },
    {
      "cell_type": "markdown",
      "source": [
        "**e)** 변수 **skf**에 k=4인 StratifedKFold 객체를 만들어 주고 **cv_accuracy_2**리스트에 각 반복의 정확도를 소수점 5째 자리에서 반올림 한 다음 저장한 후 평균을 출력해주세요. **(8점, `split` 이용)**"
      ],
      "metadata": {
        "id": "IkLX1Ez-DjfR"
      },
      "id": "IkLX1Ez-DjfR"
    },
    {
      "cell_type": "code",
      "source": [
        "skf=StratifiedKFold(n_splits=4)\n",
        "cv_accuracy_2=[]\n",
        "\n",
        "for train_index, test_index in skf.split(x,y):\n",
        "    label_train=y[train_index]\n",
        "    label_test=y[test_index]\n",
        "    x_train, x_test = x.iloc[train_index], x.iloc[test_index]\n",
        "    y_train, y_test = y[train_index], y[test_index]\n",
        "    dt.fit(x_train, y_train)\n",
        "    pred=dt.predict(x_test)\n",
        "    accuracy=np.round(accuracy_score(y_test, pred),4)\n",
        "    cv_accuracy_2.append(accuracy)\n",
        "print(np.mean(cv_accuracy_2))"
      ],
      "metadata": {
        "id": "Gy2oAZYkDjt7",
        "colab": {
          "base_uri": "https://localhost:8080/"
        },
        "outputId": "b1d432ed-4b3f-4968-bf1d-d3d73e4b713c"
      },
      "id": "Gy2oAZYkDjt7",
      "execution_count": null,
      "outputs": [
        {
          "output_type": "stream",
          "name": "stdout",
          "text": [
            "0.7615500000000001\n"
          ]
        }
      ]
    },
    {
      "cell_type": "markdown",
      "source": [
        "## 8.2. Cross val score  (10점)"
      ],
      "metadata": {
        "id": "-T7DI0LNDlvA"
      },
      "id": "-T7DI0LNDlvA"
    },
    {
      "cell_type": "markdown",
      "source": [
        "위에서 진행한 교차검증을 cross_val_score API를 이용하여 같은 결과를 내세요, 평가지표는 accuaracy를 사용하세요. **(10점)**"
      ],
      "metadata": {
        "id": "JnzttNi6DodK"
      },
      "id": "JnzttNi6DodK"
    },
    {
      "cell_type": "code",
      "source": [
        "from sklearn.model_selection import cross_val_score\n",
        "\n",
        "scores=cross_val_score(dt,x,y,scoring='accuracy',cv=3)\n",
        "\n",
        "print('정확도 평균:',np.mean(scores))"
      ],
      "metadata": {
        "id": "xAcqJqf8DowD",
        "colab": {
          "base_uri": "https://localhost:8080/"
        },
        "outputId": "6c2410d0-fb0c-4ee6-ef4b-d2d6dcef47b6"
      },
      "id": "xAcqJqf8DowD",
      "execution_count": null,
      "outputs": [
        {
          "output_type": "stream",
          "name": "stdout",
          "text": [
            "정확도 평균: 0.7441919695258344\n"
          ]
        }
      ]
    },
    {
      "cell_type": "markdown",
      "source": [
        "## 실습9"
      ],
      "metadata": {
        "id": "TFCgz6vhDq1E"
      },
      "id": "TFCgz6vhDq1E"
    },
    {
      "cell_type": "markdown",
      "source": [
        "### 9. GridSearchCV  (25점)"
      ],
      "metadata": {
        "id": "GiEb0xyoDsUM"
      },
      "id": "GiEb0xyoDsUM"
    },
    {
      "cell_type": "markdown",
      "source": [
        "**a)** 결정트리 모델(dt)의 하이퍼 파라미터를 찾는 코드를 작성하세요.(max_depth 값 3개(값은 자유), min_samples_split 값 3개(값은 자유), cv=3, refit=True 으로 설정) **(15점)**"
      ],
      "metadata": {
        "id": "MulpvE8KDvjG"
      },
      "id": "MulpvE8KDvjG"
    },
    {
      "cell_type": "markdown",
      "source": [
        "fitting은 **6번 문제** 에서 train_test_split을 통해 만든 **train dataset**에 대하여 적용해주시면 됩니다."
      ],
      "metadata": {
        "id": "I1ahzIRlDxor"
      },
      "id": "I1ahzIRlDxor"
    },
    {
      "cell_type": "code",
      "source": [
        "from sklearn.model_selection import GridSearchCV\n",
        "\n",
        "parameters={'max_depth':[2,3,4],'min_samples_split':[4,5,6]}    #숫자는 자유\n",
        "grid=GridSearchCV(dt,param_grid=parameters,cv=3,refit=True)\n",
        "grid.fit(xtrain,ytrain)\n",
        "pd.DataFrame(grid.cv_results_)"
      ],
      "metadata": {
        "id": "dVboyX7FDx2Q",
        "colab": {
          "base_uri": "https://localhost:8080/",
          "height": 664
        },
        "outputId": "f232246b-3fb8-4638-a31b-782dfd7d3733"
      },
      "id": "dVboyX7FDx2Q",
      "execution_count": null,
      "outputs": [
        {
          "output_type": "execute_result",
          "data": {
            "text/plain": [
              "   mean_fit_time  std_fit_time  mean_score_time  std_score_time  \\\n",
              "0       0.002408      0.000450         0.001445        0.000029   \n",
              "1       0.002162      0.000074         0.001779        0.000312   \n",
              "2       0.003315      0.000280         0.001883        0.000362   \n",
              "3       0.002167      0.000031         0.001459        0.000041   \n",
              "4       0.002173      0.000034         0.001478        0.000078   \n",
              "5       0.002227      0.000104         0.001590        0.000111   \n",
              "6       0.002577      0.000103         0.001598        0.000018   \n",
              "7       0.002441      0.000031         0.001547        0.000034   \n",
              "8       0.002688      0.000096         0.001535        0.000021   \n",
              "\n",
              "  param_max_depth param_min_samples_split  \\\n",
              "0               2                       4   \n",
              "1               2                       5   \n",
              "2               2                       6   \n",
              "3               3                       4   \n",
              "4               3                       5   \n",
              "5               3                       6   \n",
              "6               4                       4   \n",
              "7               4                       5   \n",
              "8               4                       6   \n",
              "\n",
              "                                     params  split0_test_score  \\\n",
              "0  {'max_depth': 2, 'min_samples_split': 4}           0.807692   \n",
              "1  {'max_depth': 2, 'min_samples_split': 5}           0.807692   \n",
              "2  {'max_depth': 2, 'min_samples_split': 6}           0.807692   \n",
              "3  {'max_depth': 3, 'min_samples_split': 4}           0.807692   \n",
              "4  {'max_depth': 3, 'min_samples_split': 5}           0.807692   \n",
              "5  {'max_depth': 3, 'min_samples_split': 6}           0.807692   \n",
              "6  {'max_depth': 4, 'min_samples_split': 4}           0.784615   \n",
              "7  {'max_depth': 4, 'min_samples_split': 5}           0.784615   \n",
              "8  {'max_depth': 4, 'min_samples_split': 6}           0.784615   \n",
              "\n",
              "   split1_test_score  split2_test_score  mean_test_score  std_test_score  \\\n",
              "0           0.815385           0.807692         0.810256        0.003626   \n",
              "1           0.815385           0.807692         0.810256        0.003626   \n",
              "2           0.815385           0.807692         0.810256        0.003626   \n",
              "3           0.823077           0.838462         0.823077        0.012561   \n",
              "4           0.823077           0.838462         0.823077        0.012561   \n",
              "5           0.823077           0.807692         0.812821        0.007252   \n",
              "6           0.800000           0.838462         0.807692        0.022646   \n",
              "7           0.800000           0.838462         0.807692        0.022646   \n",
              "8           0.800000           0.807692         0.797436        0.009594   \n",
              "\n",
              "   rank_test_score  \n",
              "0                4  \n",
              "1                4  \n",
              "2                4  \n",
              "3                1  \n",
              "4                1  \n",
              "5                3  \n",
              "6                7  \n",
              "7                7  \n",
              "8                9  "
            ],
            "text/html": [
              "\n",
              "  <div id=\"df-4c1cebde-37d3-4092-8400-e0a77b99a7af\" class=\"colab-df-container\">\n",
              "    <div>\n",
              "<style scoped>\n",
              "    .dataframe tbody tr th:only-of-type {\n",
              "        vertical-align: middle;\n",
              "    }\n",
              "\n",
              "    .dataframe tbody tr th {\n",
              "        vertical-align: top;\n",
              "    }\n",
              "\n",
              "    .dataframe thead th {\n",
              "        text-align: right;\n",
              "    }\n",
              "</style>\n",
              "<table border=\"1\" class=\"dataframe\">\n",
              "  <thead>\n",
              "    <tr style=\"text-align: right;\">\n",
              "      <th></th>\n",
              "      <th>mean_fit_time</th>\n",
              "      <th>std_fit_time</th>\n",
              "      <th>mean_score_time</th>\n",
              "      <th>std_score_time</th>\n",
              "      <th>param_max_depth</th>\n",
              "      <th>param_min_samples_split</th>\n",
              "      <th>params</th>\n",
              "      <th>split0_test_score</th>\n",
              "      <th>split1_test_score</th>\n",
              "      <th>split2_test_score</th>\n",
              "      <th>mean_test_score</th>\n",
              "      <th>std_test_score</th>\n",
              "      <th>rank_test_score</th>\n",
              "    </tr>\n",
              "  </thead>\n",
              "  <tbody>\n",
              "    <tr>\n",
              "      <th>0</th>\n",
              "      <td>0.002408</td>\n",
              "      <td>0.000450</td>\n",
              "      <td>0.001445</td>\n",
              "      <td>0.000029</td>\n",
              "      <td>2</td>\n",
              "      <td>4</td>\n",
              "      <td>{'max_depth': 2, 'min_samples_split': 4}</td>\n",
              "      <td>0.807692</td>\n",
              "      <td>0.815385</td>\n",
              "      <td>0.807692</td>\n",
              "      <td>0.810256</td>\n",
              "      <td>0.003626</td>\n",
              "      <td>4</td>\n",
              "    </tr>\n",
              "    <tr>\n",
              "      <th>1</th>\n",
              "      <td>0.002162</td>\n",
              "      <td>0.000074</td>\n",
              "      <td>0.001779</td>\n",
              "      <td>0.000312</td>\n",
              "      <td>2</td>\n",
              "      <td>5</td>\n",
              "      <td>{'max_depth': 2, 'min_samples_split': 5}</td>\n",
              "      <td>0.807692</td>\n",
              "      <td>0.815385</td>\n",
              "      <td>0.807692</td>\n",
              "      <td>0.810256</td>\n",
              "      <td>0.003626</td>\n",
              "      <td>4</td>\n",
              "    </tr>\n",
              "    <tr>\n",
              "      <th>2</th>\n",
              "      <td>0.003315</td>\n",
              "      <td>0.000280</td>\n",
              "      <td>0.001883</td>\n",
              "      <td>0.000362</td>\n",
              "      <td>2</td>\n",
              "      <td>6</td>\n",
              "      <td>{'max_depth': 2, 'min_samples_split': 6}</td>\n",
              "      <td>0.807692</td>\n",
              "      <td>0.815385</td>\n",
              "      <td>0.807692</td>\n",
              "      <td>0.810256</td>\n",
              "      <td>0.003626</td>\n",
              "      <td>4</td>\n",
              "    </tr>\n",
              "    <tr>\n",
              "      <th>3</th>\n",
              "      <td>0.002167</td>\n",
              "      <td>0.000031</td>\n",
              "      <td>0.001459</td>\n",
              "      <td>0.000041</td>\n",
              "      <td>3</td>\n",
              "      <td>4</td>\n",
              "      <td>{'max_depth': 3, 'min_samples_split': 4}</td>\n",
              "      <td>0.807692</td>\n",
              "      <td>0.823077</td>\n",
              "      <td>0.838462</td>\n",
              "      <td>0.823077</td>\n",
              "      <td>0.012561</td>\n",
              "      <td>1</td>\n",
              "    </tr>\n",
              "    <tr>\n",
              "      <th>4</th>\n",
              "      <td>0.002173</td>\n",
              "      <td>0.000034</td>\n",
              "      <td>0.001478</td>\n",
              "      <td>0.000078</td>\n",
              "      <td>3</td>\n",
              "      <td>5</td>\n",
              "      <td>{'max_depth': 3, 'min_samples_split': 5}</td>\n",
              "      <td>0.807692</td>\n",
              "      <td>0.823077</td>\n",
              "      <td>0.838462</td>\n",
              "      <td>0.823077</td>\n",
              "      <td>0.012561</td>\n",
              "      <td>1</td>\n",
              "    </tr>\n",
              "    <tr>\n",
              "      <th>5</th>\n",
              "      <td>0.002227</td>\n",
              "      <td>0.000104</td>\n",
              "      <td>0.001590</td>\n",
              "      <td>0.000111</td>\n",
              "      <td>3</td>\n",
              "      <td>6</td>\n",
              "      <td>{'max_depth': 3, 'min_samples_split': 6}</td>\n",
              "      <td>0.807692</td>\n",
              "      <td>0.823077</td>\n",
              "      <td>0.807692</td>\n",
              "      <td>0.812821</td>\n",
              "      <td>0.007252</td>\n",
              "      <td>3</td>\n",
              "    </tr>\n",
              "    <tr>\n",
              "      <th>6</th>\n",
              "      <td>0.002577</td>\n",
              "      <td>0.000103</td>\n",
              "      <td>0.001598</td>\n",
              "      <td>0.000018</td>\n",
              "      <td>4</td>\n",
              "      <td>4</td>\n",
              "      <td>{'max_depth': 4, 'min_samples_split': 4}</td>\n",
              "      <td>0.784615</td>\n",
              "      <td>0.800000</td>\n",
              "      <td>0.838462</td>\n",
              "      <td>0.807692</td>\n",
              "      <td>0.022646</td>\n",
              "      <td>7</td>\n",
              "    </tr>\n",
              "    <tr>\n",
              "      <th>7</th>\n",
              "      <td>0.002441</td>\n",
              "      <td>0.000031</td>\n",
              "      <td>0.001547</td>\n",
              "      <td>0.000034</td>\n",
              "      <td>4</td>\n",
              "      <td>5</td>\n",
              "      <td>{'max_depth': 4, 'min_samples_split': 5}</td>\n",
              "      <td>0.784615</td>\n",
              "      <td>0.800000</td>\n",
              "      <td>0.838462</td>\n",
              "      <td>0.807692</td>\n",
              "      <td>0.022646</td>\n",
              "      <td>7</td>\n",
              "    </tr>\n",
              "    <tr>\n",
              "      <th>8</th>\n",
              "      <td>0.002688</td>\n",
              "      <td>0.000096</td>\n",
              "      <td>0.001535</td>\n",
              "      <td>0.000021</td>\n",
              "      <td>4</td>\n",
              "      <td>6</td>\n",
              "      <td>{'max_depth': 4, 'min_samples_split': 6}</td>\n",
              "      <td>0.784615</td>\n",
              "      <td>0.800000</td>\n",
              "      <td>0.807692</td>\n",
              "      <td>0.797436</td>\n",
              "      <td>0.009594</td>\n",
              "      <td>9</td>\n",
              "    </tr>\n",
              "  </tbody>\n",
              "</table>\n",
              "</div>\n",
              "    <div class=\"colab-df-buttons\">\n",
              "\n",
              "  <div class=\"colab-df-container\">\n",
              "    <button class=\"colab-df-convert\" onclick=\"convertToInteractive('df-4c1cebde-37d3-4092-8400-e0a77b99a7af')\"\n",
              "            title=\"Convert this dataframe to an interactive table.\"\n",
              "            style=\"display:none;\">\n",
              "\n",
              "  <svg xmlns=\"http://www.w3.org/2000/svg\" height=\"24px\" viewBox=\"0 -960 960 960\">\n",
              "    <path d=\"M120-120v-720h720v720H120Zm60-500h600v-160H180v160Zm220 220h160v-160H400v160Zm0 220h160v-160H400v160ZM180-400h160v-160H180v160Zm440 0h160v-160H620v160ZM180-180h160v-160H180v160Zm440 0h160v-160H620v160Z\"/>\n",
              "  </svg>\n",
              "    </button>\n",
              "\n",
              "  <style>\n",
              "    .colab-df-container {\n",
              "      display:flex;\n",
              "      gap: 12px;\n",
              "    }\n",
              "\n",
              "    .colab-df-convert {\n",
              "      background-color: #E8F0FE;\n",
              "      border: none;\n",
              "      border-radius: 50%;\n",
              "      cursor: pointer;\n",
              "      display: none;\n",
              "      fill: #1967D2;\n",
              "      height: 32px;\n",
              "      padding: 0 0 0 0;\n",
              "      width: 32px;\n",
              "    }\n",
              "\n",
              "    .colab-df-convert:hover {\n",
              "      background-color: #E2EBFA;\n",
              "      box-shadow: 0px 1px 2px rgba(60, 64, 67, 0.3), 0px 1px 3px 1px rgba(60, 64, 67, 0.15);\n",
              "      fill: #174EA6;\n",
              "    }\n",
              "\n",
              "    .colab-df-buttons div {\n",
              "      margin-bottom: 4px;\n",
              "    }\n",
              "\n",
              "    [theme=dark] .colab-df-convert {\n",
              "      background-color: #3B4455;\n",
              "      fill: #D2E3FC;\n",
              "    }\n",
              "\n",
              "    [theme=dark] .colab-df-convert:hover {\n",
              "      background-color: #434B5C;\n",
              "      box-shadow: 0px 1px 3px 1px rgba(0, 0, 0, 0.15);\n",
              "      filter: drop-shadow(0px 1px 2px rgba(0, 0, 0, 0.3));\n",
              "      fill: #FFFFFF;\n",
              "    }\n",
              "  </style>\n",
              "\n",
              "    <script>\n",
              "      const buttonEl =\n",
              "        document.querySelector('#df-4c1cebde-37d3-4092-8400-e0a77b99a7af button.colab-df-convert');\n",
              "      buttonEl.style.display =\n",
              "        google.colab.kernel.accessAllowed ? 'block' : 'none';\n",
              "\n",
              "      async function convertToInteractive(key) {\n",
              "        const element = document.querySelector('#df-4c1cebde-37d3-4092-8400-e0a77b99a7af');\n",
              "        const dataTable =\n",
              "          await google.colab.kernel.invokeFunction('convertToInteractive',\n",
              "                                                    [key], {});\n",
              "        if (!dataTable) return;\n",
              "\n",
              "        const docLinkHtml = 'Like what you see? Visit the ' +\n",
              "          '<a target=\"_blank\" href=https://colab.research.google.com/notebooks/data_table.ipynb>data table notebook</a>'\n",
              "          + ' to learn more about interactive tables.';\n",
              "        element.innerHTML = '';\n",
              "        dataTable['output_type'] = 'display_data';\n",
              "        await google.colab.output.renderOutput(dataTable, element);\n",
              "        const docLink = document.createElement('div');\n",
              "        docLink.innerHTML = docLinkHtml;\n",
              "        element.appendChild(docLink);\n",
              "      }\n",
              "    </script>\n",
              "  </div>\n",
              "\n",
              "\n",
              "<div id=\"df-12b80649-36b6-4e9f-9392-81a1b4c3fa7f\">\n",
              "  <button class=\"colab-df-quickchart\" onclick=\"quickchart('df-12b80649-36b6-4e9f-9392-81a1b4c3fa7f')\"\n",
              "            title=\"Suggest charts.\"\n",
              "            style=\"display:none;\">\n",
              "\n",
              "<svg xmlns=\"http://www.w3.org/2000/svg\" height=\"24px\"viewBox=\"0 0 24 24\"\n",
              "     width=\"24px\">\n",
              "    <g>\n",
              "        <path d=\"M19 3H5c-1.1 0-2 .9-2 2v14c0 1.1.9 2 2 2h14c1.1 0 2-.9 2-2V5c0-1.1-.9-2-2-2zM9 17H7v-7h2v7zm4 0h-2V7h2v10zm4 0h-2v-4h2v4z\"/>\n",
              "    </g>\n",
              "</svg>\n",
              "  </button>\n",
              "\n",
              "<style>\n",
              "  .colab-df-quickchart {\n",
              "    background-color: #E8F0FE;\n",
              "    border: none;\n",
              "    border-radius: 50%;\n",
              "    cursor: pointer;\n",
              "    display: none;\n",
              "    fill: #1967D2;\n",
              "    height: 32px;\n",
              "    padding: 0 0 0 0;\n",
              "    width: 32px;\n",
              "  }\n",
              "\n",
              "  .colab-df-quickchart:hover {\n",
              "    background-color: #E2EBFA;\n",
              "    box-shadow: 0px 1px 2px rgba(60, 64, 67, 0.3), 0px 1px 3px 1px rgba(60, 64, 67, 0.15);\n",
              "    fill: #174EA6;\n",
              "  }\n",
              "\n",
              "  [theme=dark] .colab-df-quickchart {\n",
              "    background-color: #3B4455;\n",
              "    fill: #D2E3FC;\n",
              "  }\n",
              "\n",
              "  [theme=dark] .colab-df-quickchart:hover {\n",
              "    background-color: #434B5C;\n",
              "    box-shadow: 0px 1px 3px 1px rgba(0, 0, 0, 0.15);\n",
              "    filter: drop-shadow(0px 1px 2px rgba(0, 0, 0, 0.3));\n",
              "    fill: #FFFFFF;\n",
              "  }\n",
              "</style>\n",
              "\n",
              "  <script>\n",
              "    async function quickchart(key) {\n",
              "      const charts = await google.colab.kernel.invokeFunction(\n",
              "          'suggestCharts', [key], {});\n",
              "    }\n",
              "    (() => {\n",
              "      let quickchartButtonEl =\n",
              "        document.querySelector('#df-12b80649-36b6-4e9f-9392-81a1b4c3fa7f button');\n",
              "      quickchartButtonEl.style.display =\n",
              "        google.colab.kernel.accessAllowed ? 'block' : 'none';\n",
              "    })();\n",
              "  </script>\n",
              "</div>\n",
              "    </div>\n",
              "  </div>\n"
            ]
          },
          "metadata": {},
          "execution_count": 38
        }
      ]
    },
    {
      "cell_type": "markdown",
      "source": [
        "**b)** 위에서 진행한 GridSearchCV의 결과를 출력하고 그를 해석하세요.\n",
        "\n",
        "(최적의 하이퍼파라미터가 무엇인지, 출력되는 정확도의 개수 및 어떻게 그 개수가 나오는지 등..) **(10점)**"
      ],
      "metadata": {
        "id": "XIDaG7YTDz4h"
      },
      "id": "XIDaG7YTDz4h"
    },
    {
      "cell_type": "code",
      "source": [
        "# 답: 최적의 하이퍼파라미터는 max_depth=3인 경우,\n",
        "# 정확도의 개수는 각각 파라미터 3개씩, fold수 3개로 3x3x3=27개가 출력됨"
      ],
      "metadata": {
        "id": "P242P82TD0eT"
      },
      "id": "P242P82TD0eT",
      "execution_count": null,
      "outputs": []
    }
  ],
  "metadata": {
    "kernelspec": {
      "display_name": "Python 3",
      "name": "python3"
    },
    "language_info": {
      "codemirror_mode": {
        "name": "ipython",
        "version": 3
      },
      "file_extension": ".py",
      "mimetype": "text/x-python",
      "name": "python",
      "nbconvert_exporter": "python",
      "pygments_lexer": "ipython3",
      "version": "3.10.7"
    },
    "colab": {
      "provenance": [],
      "gpuType": "T4"
    },
    "accelerator": "GPU"
  },
  "nbformat": 4,
  "nbformat_minor": 5
}