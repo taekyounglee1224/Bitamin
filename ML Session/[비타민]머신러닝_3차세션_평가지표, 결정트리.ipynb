{
 "cells": [
  {
   "cell_type": "code",
   "execution_count": 1,
   "id": "83184f71",
   "metadata": {},
   "outputs": [],
   "source": [
    "import pandas as pd\n",
    "import numpy as np\n",
    "from sklearn.model_selection import train_test_split\n",
    "from sklearn.tree import DecisionTreeClassifier\n",
    "from sklearn.preprocessing import LabelEncoder\n",
    "from sklearn.metrics import accuracy_score,confusion_matrix,classification_report"
   ]
  },
  {
   "cell_type": "markdown",
   "id": "fcb1b157",
   "metadata": {},
   "source": [
    "### 문제 1\n",
    "호주 멜버른의 주택 가격 데이터셋 melb_data.csv으로 주택 가격을 예측하고,   \n",
    "각종 평가지표를 사용하여 결정트리 모델을 평가하세요."
   ]
  },
  {
   "cell_type": "markdown",
   "id": "4430a667",
   "metadata": {},
   "source": [
    "#### Data Description \n",
    "\n",
    "* `Rooms`: 방 개수\n",
    "\n",
    "* `Price`: 가격(단위: $ 달러)\n",
    "\n",
    "* `Type`: 주택 유형   \n",
    "br - bedroom(s); h - house,cottage,villa, semi,terrace; u - unit, duplex; t - townhouse; dev site - development site; o res - other residential.\n",
    "\n",
    "* `Distance`: Distance from CBD(Central Business District : 도심 지역)\n",
    "\n",
    "* `Bedroom2` : Scraped # of Bedrooms (from different source) (주요 침실 개수)\n",
    "\n",
    "* `Bathroom`: Number of Bathrooms\n",
    "\n",
    "* `Car`: Number of carspots\n",
    "\n",
    "* `Landsize`: Land Size\n",
    "\n",
    "* `BuildingArea`: Building Size\n",
    "\n",
    "* `CouncilArea`: Governing council for the area\n"
   ]
  },
  {
   "cell_type": "markdown",
   "id": "f6f28d3b",
   "metadata": {},
   "source": [
    "우선 다음 코드들을 실행하여 melb_data변수명으로 데이터를 로드하고   \n",
    "결정트리 분석에 필요한 컬럼만 남기고 결손값을 처리합니다.      \n",
    "<span style='color:green'>(로컬 환경에 알맞게 file_path를 변경하세요)</span>\n",
    "      \n",
    "* feature 데이터 = [Rooms, Type, Distance, Bedroom2, Bathroom, Car, Landsize, BuildingArea, CouncilArea]   \n",
    "* label 데이터 = Price      \n",
    "   \n",
    "(Price 값이 양적 자료이기 때문에 분류보단 회귀방식의 모델이 더 적합하지만, 결정트리를 사용하기 위해 편의상 Price값을 사분위수에 따라 범주형 자료로 변환하여 사용합니다.)"
   ]
  },
  {
   "cell_type": "code",
   "execution_count": 3,
   "id": "7243bf4a",
   "metadata": {},
   "outputs": [],
   "source": [
    "#(문제 아님)\n",
    "file_path = 'csv/melb_data.csv'\n",
    "drop_columns=['Date','YearBuilt','Suburb','SellerG','Postcode','Address','Method','Lattitude','Longtitude','Propertycount']\n",
    "melb_data = pd.read_csv(file_path).drop(columns=drop_columns,axis=1)\n",
    "melb_data['CouncilArea'] = melb_data['CouncilArea'].fillna('Moreland')\n",
    "melb_data['BuildingArea'] = melb_data['BuildingArea'].fillna(melb_data['BuildingArea'].mean())\n",
    "melb_data['Car'] = melb_data['Car'].fillna(melb_data['Car'].median())"
   ]
  },
  {
   "cell_type": "code",
   "execution_count": 4,
   "id": "a2d93a04",
   "metadata": {},
   "outputs": [
    {
     "name": "stdout",
     "output_type": "stream",
     "text": [
      "<class 'pandas.core.frame.DataFrame'>\n",
      "RangeIndex: 13580 entries, 0 to 13579\n",
      "Data columns (total 11 columns):\n",
      " #   Column        Non-Null Count  Dtype  \n",
      "---  ------        --------------  -----  \n",
      " 0   Rooms         13580 non-null  int64  \n",
      " 1   Type          13580 non-null  object \n",
      " 2   Price         13580 non-null  float64\n",
      " 3   Distance      13580 non-null  float64\n",
      " 4   Bedroom2      13580 non-null  float64\n",
      " 5   Bathroom      13580 non-null  float64\n",
      " 6   Car           13580 non-null  float64\n",
      " 7   Landsize      13580 non-null  float64\n",
      " 8   BuildingArea  13580 non-null  float64\n",
      " 9   CouncilArea   13580 non-null  object \n",
      " 10  Regionname    13580 non-null  object \n",
      "dtypes: float64(7), int64(1), object(3)\n",
      "memory usage: 1.1+ MB\n"
     ]
    }
   ],
   "source": [
    "melb_data.info()"
   ]
  },
  {
   "cell_type": "markdown",
   "id": "d4334a1f",
   "metadata": {},
   "source": [
    "LabelEncoder를 사용하여 인코딩을 합니다."
   ]
  },
  {
   "cell_type": "code",
   "execution_count": 5,
   "id": "938fd676",
   "metadata": {},
   "outputs": [],
   "source": [
    "#(문제 아님)\n",
    "categorical_features = [ 'Type', 'CouncilArea','Regionname']\n",
    "for col in categorical_features:\n",
    "    le = LabelEncoder()\n",
    "    melb_data[col] = le.fit_transform(melb_data[col])"
   ]
  },
  {
   "cell_type": "markdown",
   "id": "9e2d4f00",
   "metadata": {},
   "source": [
    "### 1-1 (5점) - 전처리\n",
    "label 데이터(target)로 Price 를 사용할 것입니다.   \n",
    "그러나 양적 자료인 Price를 결정트리에 알맞게 범주형 자료로 변형하기 위해서 사분위수(quartile)와 2차세션 복습과제 때 학습했던 Tukey Fences 개념을 활용할 것입니다.   \n",
    "아래 규칙과 같이 Price값을 바꾸세요.\n",
    "   \n",
    "   <span style='color:red'>[ 규칙 ]</span>\n",
    "* 0 이상, Q1 미만 : '0' \n",
    "* Q1 이상, Q2 미만 : '1' \n",
    "* Q2 이상, Q3 미만 : '2' \n",
    "* Q3 이상 : '3' \n",
    "      \n",
    "다음은 커스텀 함수 price_to_level()입니다. 위의 규칙에 맞게 빈칸을 알맞게 채우세요.   \n",
    "   (문제에 적힌 대로 함수를 작성하지 않아도 됩니다. 아래 함수 출력 결과(0 1 2 3)가 일치하기만 하면 됩니다.)"
   ]
  },
  {
   "cell_type": "code",
   "execution_count": 7,
   "id": "0f5f6ca1",
   "metadata": {},
   "outputs": [],
   "source": [
    "def price_to_level(prices): # prices : pd.Series객체로 전달해주세요\n",
    "    # 사분위수와 LF, UF\n",
    "    Q1,Q2,Q3 = np.percentile(prices,[25,50,75])\n",
    "    # 문제) 위의 규칙에 맞게 Price값에 따라 레벨로 변환하도록 코드를 작성하세요\n",
    "    intervals = [(0,Q1),(Q1,Q2),(Q2,Q3),(Q3,prices.max()+1)]\n",
    "    p_levels = []\n",
    "    for p in prices:\n",
    "        for i,interval in enumerate(intervals):\n",
    "            if interval[0] <= p < interval[1]:\n",
    "                p_levels.append(f'{i}')\n",
    "    # Price_Level 데이터를 반환하세요.\n",
    "    return p_levels    \n",
    "\n",
    "# price_to_level() 커스텀 함수를 사용하여 Price컬럼값을 변경합니다.\n",
    "melb_data['Price'] = price_to_level(melb_data['Price'])\n",
    "# 문제) Price 컬럼명을 PriceLevel로 변경하세요. (힌트: pandas의 rename() 사용)\n",
    "melb_data = melb_data.rename(columns={'Price':'PriceLevel'})\n"
   ]
  },
  {
   "cell_type": "markdown",
   "id": "a47e79c3",
   "metadata": {},
   "source": [
    "아래 코드를 실행하여 데이터 변환이 제대로 이루어졌는지 확인하세요."
   ]
  },
  {
   "cell_type": "code",
   "execution_count": 8,
   "id": "dc3be5ea",
   "metadata": {},
   "outputs": [
    {
     "name": "stdout",
     "output_type": "stream",
     "text": [
      "0 1 2 3\n"
     ]
    }
   ],
   "source": [
    "#(문제아님)\n",
    "### 간단하게 price_to_level() 커스텀 함수를 확인하세요 ###\n",
    "print(melb_data.loc[8,'PriceLevel'],melb_data.loc[3,'PriceLevel'],\n",
    "      melb_data.loc[1,'PriceLevel'],melb_data.loc[0,'PriceLevel'])\n",
    "### 출력 결과가 0 1 2 3 이면, 커스텀 함수를 올바르게 작성한 것입니다. ###"
   ]
  },
  {
   "cell_type": "markdown",
   "id": "9f1ef9ac",
   "metadata": {},
   "source": [
    "### 1-2 (5점) - 정확도\n",
    "melb_data 를 train_test_split() 함수로 학습/테스트용 데이터로 분리하고, 간단하게 DecisionTreeClassifier 를 사용하여 모델을 학습하고 PriceLevel을 예측해보세요. 그리고 예측 결과의 정확도(accuracy)를 평가해서 소수점 5번째 자리에서 반올림하여 출력해보세요.   \n",
    "<span style='color:green'>(DecisionTreeClassfier 생성자 함수와 train_test_split의 random_state 파라미터값은 모두 10을 전달해주세요, test_size는 0.25로 설정해주세요.)</span>\n",
    "* features 데이터 : PriceLevel을 제외한 나머지 컬럼   \n",
    "* label 데이터 : PriceLevel 컬럼"
   ]
  },
  {
   "cell_type": "code",
   "execution_count": 9,
   "id": "2d0cf19e",
   "metadata": {},
   "outputs": [
    {
     "data": {
      "text/plain": [
       "0.6236"
      ]
     },
     "execution_count": 9,
     "metadata": {},
     "output_type": "execute_result"
    }
   ],
   "source": [
    "# features 변수명에 해당 데이터를, label 변수명에 해당 데이터를 저장하고,\n",
    "# train_test_split()으로 데이터를 분리하세요.\n",
    "features = melb_data.drop('PriceLevel',axis=1)\n",
    "label = melb_data['PriceLevel']\n",
    "X_train,X_test,y_train,y_test = train_test_split(features,label,test_size=0.25,random_state=10)\n",
    "\n",
    "# 결정트리 객체를 생성하고 학습, 예측을 수행하세요. (예측값은 'pred' 변수명으로 저장하세요.)\n",
    "dt_clf = DecisionTreeClassifier(random_state=10)\n",
    "dt_clf.fit(X_train,y_train)\n",
    "pred = dt_clf.predict(X_test)\n",
    "\n",
    "# 예측 결과를 정확도로 평가하고 평가 결과를 위의 조건대로 반올림하여 출력하세요\n",
    "np.round(accuracy_score(y_test,pred),4)\n"
   ]
  },
  {
   "cell_type": "markdown",
   "id": "3d60a76e",
   "metadata": {},
   "source": [
    "### 1-3 (40점) - 정밀도와 재현율\n",
    "위의 예측값(pred)과 실제값(y_test)을 토대로 confusion matrix를 구현해보세요.   (다중 분류일 때의 confusion matrix를 학습해봅시다)   \n",
    "다음과 같은 모양으로 DataFrame객체를 생성해서 출력해보세요.   \n",
    "   (개수는 해당 경우의 수를 의미)\n",
    "|          | 0 | 1 | 2 | 3 |\n",
    "|----------|----------|----------|----------|----------|\n",
    "| 0 | 개수 | 개수 |개수  |개수  |\n",
    "| 1 | 개수 | 개수 | 개수 | 개수 |\n",
    "| 2 | 개수 | 개수 | 개수 | 개수 |\n",
    "| 3 | 개수 | 개수 | 개수 | 개수 |"
   ]
  },
  {
   "cell_type": "markdown",
   "id": "51a3af1f",
   "metadata": {},
   "source": [
    "**a)**\n",
    "sklearn.metrics의 confusion_matrix() 함수로 생성한 오차행렬을 cm 변수에 저장하고,\n",
    "이를 DataFrame객체로 변환해 위의 예시처럼 예쁘게 출력하세요.   \n",
    "**(5점)**"
   ]
  },
  {
   "cell_type": "code",
   "execution_count": 10,
   "id": "a2b5361a",
   "metadata": {},
   "outputs": [
    {
     "data": {
      "text/html": [
       "<div>\n",
       "<style scoped>\n",
       "    .dataframe tbody tr th:only-of-type {\n",
       "        vertical-align: middle;\n",
       "    }\n",
       "\n",
       "    .dataframe tbody tr th {\n",
       "        vertical-align: top;\n",
       "    }\n",
       "\n",
       "    .dataframe thead th {\n",
       "        text-align: right;\n",
       "    }\n",
       "</style>\n",
       "<table border=\"1\" class=\"dataframe\">\n",
       "  <thead>\n",
       "    <tr style=\"text-align: right;\">\n",
       "      <th></th>\n",
       "      <th>0</th>\n",
       "      <th>1</th>\n",
       "      <th>2</th>\n",
       "      <th>3</th>\n",
       "    </tr>\n",
       "  </thead>\n",
       "  <tbody>\n",
       "    <tr>\n",
       "      <th>0</th>\n",
       "      <td>649</td>\n",
       "      <td>183</td>\n",
       "      <td>22</td>\n",
       "      <td>4</td>\n",
       "    </tr>\n",
       "    <tr>\n",
       "      <th>1</th>\n",
       "      <td>175</td>\n",
       "      <td>434</td>\n",
       "      <td>186</td>\n",
       "      <td>45</td>\n",
       "    </tr>\n",
       "    <tr>\n",
       "      <th>2</th>\n",
       "      <td>32</td>\n",
       "      <td>186</td>\n",
       "      <td>450</td>\n",
       "      <td>196</td>\n",
       "    </tr>\n",
       "    <tr>\n",
       "      <th>3</th>\n",
       "      <td>8</td>\n",
       "      <td>31</td>\n",
       "      <td>210</td>\n",
       "      <td>584</td>\n",
       "    </tr>\n",
       "  </tbody>\n",
       "</table>\n",
       "</div>"
      ],
      "text/plain": [
       "     0    1    2    3\n",
       "0  649  183   22    4\n",
       "1  175  434  186   45\n",
       "2   32  186  450  196\n",
       "3    8   31  210  584"
      ]
     },
     "execution_count": 10,
     "metadata": {},
     "output_type": "execute_result"
    }
   ],
   "source": [
    "classes = ['0', '1', '2', '3'] # 레이블 클래스\n",
    "# 변수 cm에 confusion_matrix를 저장하세요\n",
    "cm = (confusion_matrix(y_test,pred))\n",
    "# pandas DataFrame으로 변환하여 예쁘게 출력하세요\n",
    "pd.DataFrame(cm,index=classes,columns=classes)"
   ]
  },
  {
   "cell_type": "markdown",
   "id": "0cdbe7ee",
   "metadata": {},
   "source": [
    "####  직접 재현율(recall)과 정밀도(precision)를 구해서 확인해보세요\n",
    "힌트: 다중분류의 confusion matrix를 학습하고 macro-averaging과 micro-averaging을 학습하세요."
   ]
  },
  {
   "cell_type": "markdown",
   "id": "7a66f53a",
   "metadata": {},
   "source": [
    "**b)** macro-averaging(macro-mean) 방식을 사용하여 macro_precision과 macro_recall 값을 구하고 출력하세요.   \n",
    "(반복문을 사용하여 해결하세요, 변수명도 각각 macro_precision과 macro_recall을 사용하세요.)      \n",
    "**(13점)**"
   ]
  },
  {
   "cell_type": "code",
   "execution_count": 11,
   "id": "80fab987",
   "metadata": {},
   "outputs": [
    {
     "name": "stdout",
     "output_type": "stream",
     "text": [
      "macro_precision: 0.623609372215409\n",
      "macro_recall: 0.6237476721457814\n"
     ]
    }
   ],
   "source": [
    "macro_precisions = []\n",
    "macro_recalls = []\n",
    "TPS = []\n",
    "FPS = []\n",
    "FNS = []\n",
    "for i in range(cm.shape[0]):\n",
    "    TP = cm[i][i]\n",
    "    FP = 0\n",
    "    FN = 0\n",
    "    for j in range(cm.shape[0]):\n",
    "        if i == j :\n",
    "            continue\n",
    "        FP += cm[j][i]\n",
    "        FN += cm[i][j]\n",
    "    macro_precisions.append(TP/(TP+FP))\n",
    "    macro_recalls.append(TP/(TP+FN))\n",
    "    TPS.append(TP)\n",
    "    FPS.append(FP)\n",
    "    FNS.append(FN)\n",
    "macro_precision = np.mean(macro_precisions)\n",
    "print('macro_precision:',macro_precision)\n",
    "macro_recall = np.mean(macro_recalls)\n",
    "print('macro_recall:',macro_recall) "
   ]
  },
  {
   "cell_type": "markdown",
   "id": "6a764bec",
   "metadata": {},
   "source": [
    "**c)** micro-averaging 방식을 사용하여 micro_precision과 micro_recall 값을 구하고 출력하세요.   \n",
    "(변수명도 각각 micro_precision과 micro_recall을 사용하세요.)   \n",
    "(힌트: 위의 반복문에서 미리 TP,FP,FN들을 저장하면 여기선 계산만 하면 됩니다.)   \n",
    "**(13점)**"
   ]
  },
  {
   "cell_type": "code",
   "execution_count": 12,
   "id": "facb9612",
   "metadata": {},
   "outputs": [
    {
     "name": "stdout",
     "output_type": "stream",
     "text": [
      "micro_precision: 0.6235640648011782\n",
      "micro_recall: 0.6235640648011782\n"
     ]
    }
   ],
   "source": [
    "micro_precision = sum(TPS)/(sum(TPS)+sum(FPS))\n",
    "micro_recall = sum(TPS)/(sum(TPS)+sum(FNS))\n",
    "print('micro_precision:',micro_precision)\n",
    "print('micro_recall:',micro_recall)"
   ]
  },
  {
   "cell_type": "markdown",
   "id": "d1a80ddb",
   "metadata": {},
   "source": [
    "**d)** sklearn.metrics의 classification_report() 함수를 사용하여 구한 평가지표 결과를 clf_report 변수에 저장하세요  \n",
    "그리고 해당 변수를 DataFrame 객체로 변환하여 출력하세요.   \n",
    "(힌트 : classification_report()함수의 파라미터들을 학습하고 데이터프레임 객체로 쉽게 변환하는 방법을 찾아보세요)   \n",
    "**(4점)**"
   ]
  },
  {
   "cell_type": "code",
   "execution_count": 13,
   "id": "2bc202ed",
   "metadata": {},
   "outputs": [
    {
     "data": {
      "text/html": [
       "<div>\n",
       "<style scoped>\n",
       "    .dataframe tbody tr th:only-of-type {\n",
       "        vertical-align: middle;\n",
       "    }\n",
       "\n",
       "    .dataframe tbody tr th {\n",
       "        vertical-align: top;\n",
       "    }\n",
       "\n",
       "    .dataframe thead th {\n",
       "        text-align: right;\n",
       "    }\n",
       "</style>\n",
       "<table border=\"1\" class=\"dataframe\">\n",
       "  <thead>\n",
       "    <tr style=\"text-align: right;\">\n",
       "      <th></th>\n",
       "      <th>0</th>\n",
       "      <th>1</th>\n",
       "      <th>2</th>\n",
       "      <th>3</th>\n",
       "      <th>accuracy</th>\n",
       "      <th>macro avg</th>\n",
       "      <th>weighted avg</th>\n",
       "    </tr>\n",
       "  </thead>\n",
       "  <tbody>\n",
       "    <tr>\n",
       "      <th>precision</th>\n",
       "      <td>0.751157</td>\n",
       "      <td>0.520384</td>\n",
       "      <td>0.518433</td>\n",
       "      <td>0.704463</td>\n",
       "      <td>0.623564</td>\n",
       "      <td>0.623609</td>\n",
       "      <td>0.623375</td>\n",
       "    </tr>\n",
       "    <tr>\n",
       "      <th>recall</th>\n",
       "      <td>0.756410</td>\n",
       "      <td>0.516667</td>\n",
       "      <td>0.520833</td>\n",
       "      <td>0.701080</td>\n",
       "      <td>0.623564</td>\n",
       "      <td>0.623748</td>\n",
       "      <td>0.623564</td>\n",
       "    </tr>\n",
       "    <tr>\n",
       "      <th>f1-score</th>\n",
       "      <td>0.753775</td>\n",
       "      <td>0.518519</td>\n",
       "      <td>0.519630</td>\n",
       "      <td>0.702768</td>\n",
       "      <td>0.623564</td>\n",
       "      <td>0.623673</td>\n",
       "      <td>0.623464</td>\n",
       "    </tr>\n",
       "    <tr>\n",
       "      <th>support</th>\n",
       "      <td>858.000000</td>\n",
       "      <td>840.000000</td>\n",
       "      <td>864.000000</td>\n",
       "      <td>833.000000</td>\n",
       "      <td>0.623564</td>\n",
       "      <td>3395.000000</td>\n",
       "      <td>3395.000000</td>\n",
       "    </tr>\n",
       "  </tbody>\n",
       "</table>\n",
       "</div>"
      ],
      "text/plain": [
       "                    0           1           2           3  accuracy  \\\n",
       "precision    0.751157    0.520384    0.518433    0.704463  0.623564   \n",
       "recall       0.756410    0.516667    0.520833    0.701080  0.623564   \n",
       "f1-score     0.753775    0.518519    0.519630    0.702768  0.623564   \n",
       "support    858.000000  840.000000  864.000000  833.000000  0.623564   \n",
       "\n",
       "             macro avg  weighted avg  \n",
       "precision     0.623609      0.623375  \n",
       "recall        0.623748      0.623564  \n",
       "f1-score      0.623673      0.623464  \n",
       "support    3395.000000   3395.000000  "
      ]
     },
     "execution_count": 13,
     "metadata": {},
     "output_type": "execute_result"
    }
   ],
   "source": [
    "clf_report = classification_report(y_test,pred,labels=classes,target_names=classes,output_dict=True)\n",
    "clf_report_df = pd.DataFrame(clf_report)\n",
    "clf_report_df"
   ]
  },
  {
   "cell_type": "markdown",
   "id": "7ea60c15",
   "metadata": {},
   "source": [
    "**e)** 위에서 직접 구한 macro_precision, macro_recall, micro_precision, micro_recall값이 clf_report의 내용과 같은지 소수점 4번째 자리까지 비교하여 출력하세요.\n",
    "* 출력용 코드 예시   \n",
    "<code>print('[Macro_P] my_score:{:.4f}, report_score:{:.4f}'.format(macro_precision,report_mac_precision))</code>   \n",
    "<code>print('[Macro_R] my_score:{:.4f}, report_score:{:.4f}'.format(macro_recall,report_mac_recall))</code>   \n",
    "<code>print('[Micro_P] my_score:{:.4f}, report_score:{:.4f}'.format(micro_precision,report_mic_precision))</code>   \n",
    "<code>print('[Micro_R] my_score:{:.4f}, report_score:{:.4f}'.format(micro_recall,report_mic_recall))</code>\n",
    "      \n",
    "(힌트: classification_report를 출력해보면 micro averaging한 데이터가 없다! 그러나 micro averaging의 수식을 잘 살펴보면 어떤 평가지표와 의미가 같다는 사실을 알 수 있다.)   \n",
    "**(5점)**"
   ]
  },
  {
   "cell_type": "code",
   "execution_count": 15,
   "id": "298d7eba",
   "metadata": {},
   "outputs": [
    {
     "name": "stdout",
     "output_type": "stream",
     "text": [
      "[Macro_P] my_score:0.6236, report_score:0.6236\n",
      "[Macro_R] my_score:0.6237, report_score:0.6237\n",
      "[Micro_P] my_score:0.6236, report_score:0.6236\n",
      "[Micro_R] my_score:0.6236, report_score:0.6236\n"
     ]
    }
   ],
   "source": [
    "report_mac_precision,report_mac_recall = clf_report_df['macro avg'][[0,1]]\n",
    "report_mic_precision,report_mic_recall = clf_report_df['accuracy'][[0,1]]\n",
    "print('[Macro_P] my_score:{:.4f}, report_score:{:.4f}'.format(macro_precision,report_mac_precision))\n",
    "print('[Macro_R] my_score:{:.4f}, report_score:{:.4f}'.format(macro_recall,report_mac_recall))\n",
    "print('[Micro_P] my_score:{:.4f}, report_score:{:.4f}'.format(micro_precision,report_mic_precision))\n",
    "print('[Micro_R] my_score:{:.4f}, report_score:{:.4f}'.format(micro_recall,report_mic_recall))"
   ]
  },
  {
   "cell_type": "markdown",
   "id": "e3538fe9",
   "metadata": {},
   "source": [
    "### 문제2 (50점)\n",
    "위스콘신 유방암 데이터 세트는 종양의 크기, 모양 등의 다양한 속성 값을 기반으로 해당 종양이 악성인지 양성인지를 분류한 데이터 세트입니다. 종양의 양성 여부는 class 컬럼에서 확인할 수 있으며, 양성은 2, 악성은 4로 표시되어 있습니다.  "
   ]
  },
  {
   "cell_type": "markdown",
   "id": "8757f879",
   "metadata": {},
   "source": [
    "아래의 코드를 실행해주세요."
   ]
  },
  {
   "cell_type": "code",
   "execution_count": 16,
   "id": "bf61b561",
   "metadata": {},
   "outputs": [],
   "source": [
    "import numpy as np\n",
    "import pandas as pd\n",
    "import matplotlib.pyplot as plt\n",
    "%matplotlib inline\n",
    "from sklearn import model_selection\n",
    "from sklearn.linear_model import LogisticRegression\n",
    "from sklearn.preprocessing import StandardScaler\n",
    "from sklearn import metrics\n",
    "from sklearn.model_selection import train_test_split\n",
    "from sklearn.metrics import accuracy_score, precision_score, recall_score, roc_auc_score\n",
    "from sklearn.metrics import f1_score, confusion_matrix, precision_recall_curve, roc_curve\n",
    "from sklearn.metrics import roc_auc_score"
   ]
  },
  {
   "attachments": {
    "image-2.png": {
     "image/png": "[encoded data removed]"
    }
   },
   "cell_type": "markdown",
   "id": "6c5aa844",
   "metadata": {},
   "source": [
    "2-1. *breast_cancer* 데이터셋을 데이터프레임으로 불러온 후 df 변수에 저장해주세요. 상위 5개의 행을 확인할 수 있도록 출력해주세요.  **(3점)**  \n",
    "(데이터셋의 첫 번째, 두 번째 열을 삭제한 후, 아래의 사진과 같은 결과가 나오도록 출력해주세요.)\n",
    "![image-2.png](attachment:image-2.png)"
   ]
  },
  {
   "cell_type": "code",
   "execution_count": 18,
   "id": "63b90ca9",
   "metadata": {},
   "outputs": [
    {
     "data": {
      "text/html": [
       "<div>\n",
       "<style scoped>\n",
       "    .dataframe tbody tr th:only-of-type {\n",
       "        vertical-align: middle;\n",
       "    }\n",
       "\n",
       "    .dataframe tbody tr th {\n",
       "        vertical-align: top;\n",
       "    }\n",
       "\n",
       "    .dataframe thead th {\n",
       "        text-align: right;\n",
       "    }\n",
       "</style>\n",
       "<table border=\"1\" class=\"dataframe\">\n",
       "  <thead>\n",
       "    <tr style=\"text-align: right;\">\n",
       "      <th></th>\n",
       "      <th>Unnamed: 0</th>\n",
       "      <th>0</th>\n",
       "      <th>1</th>\n",
       "      <th>2</th>\n",
       "      <th>3</th>\n",
       "      <th>4</th>\n",
       "      <th>5</th>\n",
       "      <th>6</th>\n",
       "      <th>7</th>\n",
       "      <th>8</th>\n",
       "      <th>9</th>\n",
       "      <th>10</th>\n",
       "    </tr>\n",
       "  </thead>\n",
       "  <tbody>\n",
       "    <tr>\n",
       "      <th>0</th>\n",
       "      <td>0</td>\n",
       "      <td>1000025</td>\n",
       "      <td>5</td>\n",
       "      <td>1</td>\n",
       "      <td>1</td>\n",
       "      <td>1</td>\n",
       "      <td>2</td>\n",
       "      <td>1</td>\n",
       "      <td>3</td>\n",
       "      <td>1</td>\n",
       "      <td>1</td>\n",
       "      <td>2</td>\n",
       "    </tr>\n",
       "    <tr>\n",
       "      <th>1</th>\n",
       "      <td>1</td>\n",
       "      <td>1002945</td>\n",
       "      <td>5</td>\n",
       "      <td>4</td>\n",
       "      <td>4</td>\n",
       "      <td>5</td>\n",
       "      <td>7</td>\n",
       "      <td>10</td>\n",
       "      <td>3</td>\n",
       "      <td>2</td>\n",
       "      <td>1</td>\n",
       "      <td>2</td>\n",
       "    </tr>\n",
       "    <tr>\n",
       "      <th>2</th>\n",
       "      <td>2</td>\n",
       "      <td>1015425</td>\n",
       "      <td>3</td>\n",
       "      <td>1</td>\n",
       "      <td>1</td>\n",
       "      <td>1</td>\n",
       "      <td>2</td>\n",
       "      <td>2</td>\n",
       "      <td>3</td>\n",
       "      <td>1</td>\n",
       "      <td>1</td>\n",
       "      <td>2</td>\n",
       "    </tr>\n",
       "    <tr>\n",
       "      <th>3</th>\n",
       "      <td>3</td>\n",
       "      <td>1016277</td>\n",
       "      <td>6</td>\n",
       "      <td>8</td>\n",
       "      <td>8</td>\n",
       "      <td>1</td>\n",
       "      <td>3</td>\n",
       "      <td>4</td>\n",
       "      <td>3</td>\n",
       "      <td>7</td>\n",
       "      <td>1</td>\n",
       "      <td>2</td>\n",
       "    </tr>\n",
       "    <tr>\n",
       "      <th>4</th>\n",
       "      <td>4</td>\n",
       "      <td>1017023</td>\n",
       "      <td>4</td>\n",
       "      <td>1</td>\n",
       "      <td>1</td>\n",
       "      <td>3</td>\n",
       "      <td>2</td>\n",
       "      <td>1</td>\n",
       "      <td>3</td>\n",
       "      <td>1</td>\n",
       "      <td>1</td>\n",
       "      <td>2</td>\n",
       "    </tr>\n",
       "  </tbody>\n",
       "</table>\n",
       "</div>"
      ],
      "text/plain": [
       "   Unnamed: 0        0  1  2  3  4  5   6  7  8  9  10\n",
       "0           0  1000025  5  1  1  1  2   1  3  1  1   2\n",
       "1           1  1002945  5  4  4  5  7  10  3  2  1   2\n",
       "2           2  1015425  3  1  1  1  2   2  3  1  1   2\n",
       "3           3  1016277  6  8  8  1  3   4  3  7  1   2\n",
       "4           4  1017023  4  1  1  3  2   1  3  1  1   2"
      ]
     },
     "execution_count": 18,
     "metadata": {},
     "output_type": "execute_result"
    }
   ],
   "source": [
    "df = pd.read_csv('csv/breast_cancer.csv')\n",
    "df.head()"
   ]
  },
  {
   "cell_type": "code",
   "execution_count": 19,
   "id": "6c6ab769",
   "metadata": {},
   "outputs": [],
   "source": [
    "# df 데이터셋의 첫 번째, 두 번째 열을 삭제해주세요.\n",
    "df.drop(df.columns[0:2], axis = 1, inplace = True)"
   ]
  },
  {
   "attachments": {
    "image.png": {
     "image/png": "[encoded data removed]"
    }
   },
   "cell_type": "markdown",
   "id": "c26d3376",
   "metadata": {},
   "source": [
    "2-2. 아래의 colums_name 변수를 활용하여 0~10까지의 숫자로 되어 있는 컬럼명을 변경해주세요. **(3점)**  \n",
    "(각각의 컬럼과 columns_name 변수 안의 컬럼명의 순서는 동일합니다. 아래의 사진과 같은 데이터셋의 형태를 띌 수 있도록 컬럼명을 변경해주세요. 아래의 columns_name 변수를 복사해서 코드를 작성해주세요.)\n",
    "\n",
    "columns_name = ['clump', 'cell_size', 'cell_shape', 'adhesion', 'epithlial', 'bare_nuclei', \n",
    "                'chromatin', 'normal_nucleoli', 'mitoses', 'class']\n",
    "![image.png](attachment:image.png)"
   ]
  },
  {
   "cell_type": "code",
   "execution_count": 20,
   "id": "93be2e83",
   "metadata": {},
   "outputs": [],
   "source": [
    "columns_name = ['clump', 'cell_size', 'cell_shape', 'adhesion', 'epithlial', 'bare_nuclei', \n",
    "                'chromatin', 'normal_nucleoli', 'mitoses', 'class']"
   ]
  },
  {
   "cell_type": "code",
   "execution_count": 21,
   "id": "78557147",
   "metadata": {},
   "outputs": [],
   "source": [
    "df.columns = columns_name"
   ]
  },
  {
   "cell_type": "markdown",
   "id": "568e6250",
   "metadata": {},
   "source": [
    "2-3. 다음의 설명에 따라 전처리를 진행해주세요. **(6점)**"
   ]
  },
  {
   "cell_type": "code",
   "execution_count": 22,
   "id": "3635e869",
   "metadata": {},
   "outputs": [
    {
     "name": "stdout",
     "output_type": "stream",
     "text": [
      "<class 'pandas.core.frame.DataFrame'>\n",
      "RangeIndex: 699 entries, 0 to 698\n",
      "Data columns (total 10 columns):\n",
      " #   Column           Non-Null Count  Dtype \n",
      "---  ------           --------------  ----- \n",
      " 0   clump            699 non-null    int64 \n",
      " 1   cell_size        699 non-null    int64 \n",
      " 2   cell_shape       699 non-null    int64 \n",
      " 3   adhesion         699 non-null    int64 \n",
      " 4   epithlial        699 non-null    int64 \n",
      " 5   bare_nuclei      699 non-null    object\n",
      " 6   chromatin        699 non-null    int64 \n",
      " 7   normal_nucleoli  699 non-null    int64 \n",
      " 8   mitoses          699 non-null    int64 \n",
      " 9   class            699 non-null    int64 \n",
      "dtypes: int64(9), object(1)\n",
      "memory usage: 54.7+ KB\n"
     ]
    }
   ],
   "source": [
    "# info를 활용하여 데이터타입을 확인해주세요.\n",
    "df.info()"
   ]
  },
  {
   "cell_type": "code",
   "execution_count": 23,
   "id": "75ceef02",
   "metadata": {},
   "outputs": [
    {
     "data": {
      "text/plain": [
       "1     402\n",
       "10    132\n",
       "2      30\n",
       "5      30\n",
       "3      28\n",
       "8      21\n",
       "4      19\n",
       "?      16\n",
       "9       9\n",
       "7       8\n",
       "6       4\n",
       "Name: bare_nuclei, dtype: int64"
      ]
     },
     "execution_count": 23,
     "metadata": {},
     "output_type": "execute_result"
    }
   ],
   "source": [
    "# df 데이터 중 bare_nuclei 컬럼의 값 분포를 확인해주세요. (value_counts 활용)\n",
    "df['bare_nuclei'].value_counts()"
   ]
  },
  {
   "cell_type": "code",
   "execution_count": 24,
   "id": "4cff9f55",
   "metadata": {},
   "outputs": [],
   "source": [
    "\n",
    "# 'bare_nuclei'컬럼에 있는 값 중'?'를 'bare_nuclei' 컬럼의 최빈값으로 바꿔주세요.\n",
    "df['bare_nuclei'].replace('?', df['bare_nuclei'].mode()[0], inplace=True)"
   ]
  },
  {
   "cell_type": "code",
   "execution_count": 25,
   "id": "fc061b00",
   "metadata": {},
   "outputs": [],
   "source": [
    "\n",
    "# 'bare_nuclei'컬럼의 데이터 타입을 숫자형(int)으로 바꿔주세요.\n",
    "df['bare_nuclei'] = df['bare_nuclei'].astype('int')"
   ]
  },
  {
   "cell_type": "code",
   "execution_count": 26,
   "id": "e4ad30f3",
   "metadata": {},
   "outputs": [],
   "source": [
    "\n",
    "# 양성은 2, 악성은 4로 표시되어 있는 df['class'] 값 중 2(양성)는 숫자 0으로, 4(음성)는 숫자 1로 바꿔주세요.\n",
    "df['class'] = df['class'].replace(2, 0)\n",
    "df['class'] = df['class'].replace(4, 1)"
   ]
  },
  {
   "cell_type": "markdown",
   "id": "00404afd",
   "metadata": {},
   "source": [
    "2-4. 아래의 설명에 따라 데이터를 분리해주세요. **(3점)**"
   ]
  },
  {
   "cell_type": "code",
   "execution_count": 27,
   "id": "e9eba063",
   "metadata": {},
   "outputs": [],
   "source": [
    "# 피처 데이터 세트 x, 레이블 데이터 세트 y를 추출해주세요. (레이블 데이터는 class컬럼에 담겨있습니다.)\n",
    "x = df.drop(['class'], axis = 1)\n",
    "y = df['class']"
   ]
  },
  {
   "cell_type": "markdown",
   "id": "2a3b525d",
   "metadata": {},
   "source": [
    "2-5. StandardScaler를 활용하여 개별 피처의 평균이 0이고, 분산이 1인 값으로 변환해주세요. 또한, 변환된 데이터 세트를 DataFrame으로 변환해 data_df라는 변수에 저장해주세요. data_df 데이터프레임의 컬럼명은 아래의 columns_name2 변수를 그대로 활용하여 설정해주세요. **(8점)**  \n",
    "columns_name2 = ['clump', 'cell_size', 'cell_shape', 'adhesion', 'epithlial', 'bare_nuclei', \n",
    "                'chromatin', 'normal_nucleoli', 'mitoses']\n",
    "\n",
    "(columns_name2 변수에 담겨있는 컬럼명의 순서와 데이터프레임 각 열의 순서는 동일하기 때문에 columns_name2 변수를 수정할 필요는 없습니다.)"
   ]
  },
  {
   "cell_type": "code",
   "execution_count": 28,
   "id": "d18ff7e8",
   "metadata": {},
   "outputs": [],
   "source": [
    "# StandardScaler 객체 생성\n",
    "scaler = StandardScaler()\n",
    "# StandardScaler로 데이터 세트 변환. fit()과 transform() 호출\n",
    "scaler.fit(x)\n",
    "x = scaler.transform(x)"
   ]
  },
  {
   "cell_type": "code",
   "execution_count": 29,
   "id": "8505f3d2",
   "metadata": {},
   "outputs": [
    {
     "data": {
      "text/html": [
       "<div>\n",
       "<style scoped>\n",
       "    .dataframe tbody tr th:only-of-type {\n",
       "        vertical-align: middle;\n",
       "    }\n",
       "\n",
       "    .dataframe tbody tr th {\n",
       "        vertical-align: top;\n",
       "    }\n",
       "\n",
       "    .dataframe thead th {\n",
       "        text-align: right;\n",
       "    }\n",
       "</style>\n",
       "<table border=\"1\" class=\"dataframe\">\n",
       "  <thead>\n",
       "    <tr style=\"text-align: right;\">\n",
       "      <th></th>\n",
       "      <th>clump</th>\n",
       "      <th>cell_size</th>\n",
       "      <th>cell_shape</th>\n",
       "      <th>adhesion</th>\n",
       "      <th>epithlial</th>\n",
       "      <th>bare_nuclei</th>\n",
       "      <th>chromatin</th>\n",
       "      <th>normal_nucleoli</th>\n",
       "      <th>mitoses</th>\n",
       "    </tr>\n",
       "  </thead>\n",
       "  <tbody>\n",
       "    <tr>\n",
       "      <th>694</th>\n",
       "      <td>-0.503866</td>\n",
       "      <td>-0.699995</td>\n",
       "      <td>-0.743299</td>\n",
       "      <td>-0.633247</td>\n",
       "      <td>-0.097628</td>\n",
       "      <td>-0.410685</td>\n",
       "      <td>-1.000471</td>\n",
       "      <td>-0.611825</td>\n",
       "      <td>-0.343912</td>\n",
       "    </tr>\n",
       "    <tr>\n",
       "      <th>695</th>\n",
       "      <td>-0.859266</td>\n",
       "      <td>-0.699995</td>\n",
       "      <td>-0.743299</td>\n",
       "      <td>-0.633247</td>\n",
       "      <td>-0.549561</td>\n",
       "      <td>-0.686979</td>\n",
       "      <td>-1.000471</td>\n",
       "      <td>-0.611825</td>\n",
       "      <td>-0.343912</td>\n",
       "    </tr>\n",
       "    <tr>\n",
       "      <th>696</th>\n",
       "      <td>0.206936</td>\n",
       "      <td>2.251526</td>\n",
       "      <td>2.287222</td>\n",
       "      <td>0.067687</td>\n",
       "      <td>1.710106</td>\n",
       "      <td>-0.134392</td>\n",
       "      <td>1.872361</td>\n",
       "      <td>2.337594</td>\n",
       "      <td>0.239570</td>\n",
       "    </tr>\n",
       "    <tr>\n",
       "      <th>697</th>\n",
       "      <td>-0.148465</td>\n",
       "      <td>1.595632</td>\n",
       "      <td>0.940324</td>\n",
       "      <td>0.418154</td>\n",
       "      <td>-0.097628</td>\n",
       "      <td>0.141902</td>\n",
       "      <td>2.693171</td>\n",
       "      <td>1.026741</td>\n",
       "      <td>-0.343912</td>\n",
       "    </tr>\n",
       "    <tr>\n",
       "      <th>698</th>\n",
       "      <td>-0.148465</td>\n",
       "      <td>1.595632</td>\n",
       "      <td>1.613773</td>\n",
       "      <td>0.768621</td>\n",
       "      <td>0.354305</td>\n",
       "      <td>0.418196</td>\n",
       "      <td>2.693171</td>\n",
       "      <td>0.371315</td>\n",
       "      <td>-0.343912</td>\n",
       "    </tr>\n",
       "  </tbody>\n",
       "</table>\n",
       "</div>"
      ],
      "text/plain": [
       "        clump  cell_size  cell_shape  adhesion  epithlial  bare_nuclei  \\\n",
       "694 -0.503866  -0.699995   -0.743299 -0.633247  -0.097628    -0.410685   \n",
       "695 -0.859266  -0.699995   -0.743299 -0.633247  -0.549561    -0.686979   \n",
       "696  0.206936   2.251526    2.287222  0.067687   1.710106    -0.134392   \n",
       "697 -0.148465   1.595632    0.940324  0.418154  -0.097628     0.141902   \n",
       "698 -0.148465   1.595632    1.613773  0.768621   0.354305     0.418196   \n",
       "\n",
       "     chromatin  normal_nucleoli   mitoses  \n",
       "694  -1.000471        -0.611825 -0.343912  \n",
       "695  -1.000471        -0.611825 -0.343912  \n",
       "696   1.872361         2.337594  0.239570  \n",
       "697   2.693171         1.026741 -0.343912  \n",
       "698   2.693171         0.371315 -0.343912  "
      ]
     },
     "execution_count": 29,
     "metadata": {},
     "output_type": "execute_result"
    }
   ],
   "source": [
    "# columns_name2 변수를 생성해주세요.\n",
    "columns_name2 = ['clump', 'cell_size', 'cell_shape', \n",
    "                 'adhesion', 'epithlial', 'bare_nuclei', 'chromatin', 'normal_nucleoli', 'mitoses']\n",
    "# data_df 변수에 변환된 데이터프레임을 저장해주세요.\n",
    "x = pd.DataFrame(x, columns = columns_name2)\n",
    "# data_df 데이터프레임의 하위 5개 행을 출력해주세요.\n",
    "x.tail()"
   ]
  },
  {
   "cell_type": "markdown",
   "id": "b34f8bd7",
   "metadata": {},
   "source": [
    "2-6. 아래의 설명에 따라 데이터를 분리해주세요. **(4점)**"
   ]
  },
  {
   "cell_type": "code",
   "execution_count": 30,
   "id": "dc78ac63",
   "metadata": {},
   "outputs": [],
   "source": [
    "# 학습데이터와 테스트 데이터를 나눠주세요. (random_state는 11로 설정해주세요.)\n",
    "x_train, x_test, y_train, y_test = train_test_split(x, y, test_size=0.2, random_state=11)"
   ]
  },
  {
   "cell_type": "code",
   "execution_count": 31,
   "id": "dd501aff",
   "metadata": {},
   "outputs": [
    {
     "name": "stdout",
     "output_type": "stream",
     "text": [
      "(559, 9) (140, 9) (559,) (140,)\n"
     ]
    }
   ],
   "source": [
    "# 분리한 데이터의 형태를 출력해주세요. (shape 활용)\n",
    "print(x_train.shape, x_test.shape, y_train.shape, y_test.shape)"
   ]
  },
  {
   "cell_type": "markdown",
   "id": "da0c5bfe",
   "metadata": {},
   "source": [
    "2-7. 로지스틱 회귀로 학습, 예측 및 평가 수행 **(13점)**"
   ]
  },
  {
   "cell_type": "code",
   "execution_count": 32,
   "id": "6894085a",
   "metadata": {},
   "outputs": [],
   "source": [
    "# LogisticRegression 객체를 생성해주세요. 해당 객체의 파라미터 중 solver는 'liblinear'로 설정하고 random_state는 11로 설정해주세요.\n",
    "lr_clf = LogisticRegression(solver='liblinear', random_state=11)\n",
    "# LogisticRegression 객체를 활용한 학습\n",
    "lr_clf.fit(x_train, y_train)\n",
    "# LogisticRegression 객체를 활용한 예측 (LogisticRegression 객체의 predict 메서드 활용)\n",
    "lr_pred = lr_clf.predict(x_test)\n"
   ]
  },
  {
   "cell_type": "code",
   "execution_count": 33,
   "id": "0f82e598",
   "metadata": {},
   "outputs": [],
   "source": [
    "# pred_proba 변수를 생성하고 이 변수에 클래스별 확률값을 저장하세요. (LogisticRegression 객체의 predict_proba() 메서드를 활용)\n",
    "pred_proba = lr_clf.predict_proba(x_test)\n",
    "# pred_proba_class1 변수를 만들고 이 변수에 레이블 값이 1일때의 예측 확률을 저장해주세요.(LogisticRegression 객체의 predict_proba() 메서드를 활용)\n",
    "pred_proba_class1 = lr_clf.predict_proba(x_test)[:,1]"
   ]
  },
  {
   "cell_type": "code",
   "execution_count": 34,
   "id": "26ec99ee",
   "metadata": {},
   "outputs": [
    {
     "name": "stdout",
     "output_type": "stream",
     "text": [
      "샘플 추출을 위한 임곗값 배열의 index:  [ 1  5  9 13 17 21 25]\n",
      "샘플 index로 추출한 임곗값:  [1.    0.642 0.178 0.015 0.007 0.004 0.003]\n",
      "샘플 임곗값별 FPR:  [0.    0.024 0.048 0.262 0.524 0.714 0.881]\n",
      "샘플 임곗값별 TPR:  [0.018 0.911 0.964 1.    1.    1.    1.   ]\n"
     ]
    }
   ],
   "source": [
    "#roc_curve API를 이용해 예측 모델의 FPR, TPR, 임계값을 구해주세요.\n",
    "fprs, tprs, thresholds = roc_curve(y_test, pred_proba_class1)\n",
    "\n",
    "# 반환된 임곗값 배열에서 샘플로 데이터를 추출하되, 임곗값을 4 Step으로 추출해주세요. np.arange는 1부터 시작할 수 있도록 설정해주세요.\n",
    "thr_index = np.arange(1, thresholds.shape[0], 4)\n",
    "\n",
    "# '샘플 추출을 위한 임곗값 배열의 index'과 '샘플 index로 추출한 임곗값'을 출력해주세요. 각각의 값은 소수점 넷째 자리에서 반올림하여 출력해주세요.\n",
    "print('샘플 추출을 위한 임곗값 배열의 index: ', thr_index)\n",
    "print('샘플 index로 추출한 임곗값: ', np.round(thresholds[thr_index], 3))\n",
    "\n",
    "# 4 Step 단위로 추출된 임곗값에 따른 FPR, TPR 값을 출력해주세요. 각각의 값은 소수점 넷째 자리에서 반올림하여 출력해주세요.\n",
    "print('샘플 임곗값별 FPR: ', np.round(fprs[thr_index], 3))\n",
    "print('샘플 임곗값별 TPR: ', np.round(tprs[thr_index], 3))"
   ]
  },
  {
   "cell_type": "code",
   "execution_count": 128,
   "id": "317ee9e0",
   "metadata": {},
   "outputs": [],
   "source": [
    "# roc_auc_score API를 활용하여 roc auc 값을 출력해주세요.(소수점 넷째 자리에서 반올림하여 출력)\n",
    "\n"
   ]
  },
  {
   "cell_type": "code",
   "execution_count": 129,
   "id": "161b154f",
   "metadata": {},
   "outputs": [
    {
     "name": "stdout",
     "output_type": "stream",
     "text": [
      "ROC AUC 값:  0.994\n"
     ]
    }
   ],
   "source": [
    "#답)\n",
    "# roc_auc_score API를 활용하여 roc auc 값을 출력해주세요.(소수점 넷째 자리에서 반올림하여 출력)\n",
    "roc_score = roc_auc_score(y_test, pred_proba_class1)\n",
    "print('ROC AUC 값: ', np.round(roc_score,3))"
   ]
  },
  {
   "attachments": {
    "image.png": {
     "image/png": "[encoded data removed]"
    }
   },
   "cell_type": "markdown",
   "id": "684f38fa",
   "metadata": {},
   "source": [
    "2-8. 이전 문제에서 LogisticRegression 객체의 solver 파라미터를 'lbfgs'로만 설정했던 것과 달리 이번에는 서로 다른 solver 값으로 LogisticRegression을 학습해보고 얻은 성능 평가를 비교해보려고 합니다. 아래의 코드를 완성해주세요.   **(10점)**  \n",
    "(아래의 사진과 같은 형태로 출력될 수 있도록 코드를 작성해주세요.)\n",
    "\n",
    "![image.png](attachment:image.png)  \n",
    "(성능 평가 결과값은 사진 속 값과 다르게 나올 수 있습니다.)"
   ]
  },
  {
   "cell_type": "code",
   "execution_count": 35,
   "id": "189a8811",
   "metadata": {},
   "outputs": [
    {
     "name": "stdout",
     "output_type": "stream",
     "text": [
      "solver:lbfgs, accuracy: 0.964, roc_auc:0.961\n",
      "solver:liblinear, accuracy: 0.964, roc_auc:0.961\n",
      "solver:newton-cg, accuracy: 0.964, roc_auc:0.961\n",
      "solver:sag, accuracy: 0.964, roc_auc:0.961\n",
      "solver:saga, accuracy: 0.964, roc_auc:0.961\n"
     ]
    }
   ],
   "source": [
    "solver_list = ['lbfgs','liblinear','newton-cg', 'sag', 'saga']\n",
    "\n",
    "# solver_list에 담겨있는 각각의 solver 값을 한 번씩 적용하여 LogisticRegression을 학습하고 성능을 평가해주세요. (힌트: for 구문 활용)\n",
    "# 출력 결과에서 5가지 solver 값에 대한 성능 평과 결과를 각각 얻을 수 있도록 for 구문을 활용하여 코드를 완성해주세요.\n",
    "# LogisticRegression 객체의 파라미터는 solver, max_iter, random_state만 설정해주세요. max_iter는 300으로 설정하고 random_state는 11로 설정해주세요.\n",
    "\n",
    "#for구문 작성\n",
    "for i in solver_list:\n",
    "    # 로지스틱 회귀 객체를 생성해주세요.\n",
    "    lr_clf = LogisticRegression(solver = i, max_iter=300, random_state=11)\n",
    "    # fit을 사용하여 학습해주세요.\n",
    "    lr_clf.fit(x_train, y_train)\n",
    "    # 예측\n",
    "    lr_preds = lr_clf.predict(x_test)\n",
    "    # accuracy와 roc_auc 측정\n",
    "    print('solver:{0}, accuracy: {1:.3f}, roc_auc:{2:.3f}'.format(i, accuracy_score(y_test, lr_preds), \n",
    "                                                                  roc_auc_score(y_test, lr_preds)))"
   ]
  },
  {
   "cell_type": "markdown",
   "id": "fdd76d0d",
   "metadata": {},
   "source": [
    "-----"
   ]
  },
  {
   "cell_type": "markdown",
   "id": "4a5c0150",
   "metadata": {},
   "source": [
    "# 1. 결정 트리 모델의 특징"
   ]
  },
  {
   "cell_type": "markdown",
   "id": "bfd1fdad",
   "metadata": {},
   "source": [
    "### 1-0. 앙상블은 배깅과 부스팅 방식으로 나뉩니다. 부스팅 방식의 알고리즘 중 두개를 말해보세요.  (5점)"
   ]
  },
  {
   "cell_type": "markdown",
   "id": "cff138a2",
   "metadata": {},
   "source": [
    "AdaBoost, Gradient Boosting, XGBoost, LightGBM, CatBoost, LGBM... 중 2개"
   ]
  },
  {
   "cell_type": "markdown",
   "id": "9192a453",
   "metadata": {},
   "source": [
    "### 1-1. 아래 사진 속 결정 트리의 리프 노드는 몇개인가요?  (5점)"
   ]
  },
  {
   "cell_type": "markdown",
   "id": "1e775da1",
   "metadata": {},
   "source": [
    "5개"
   ]
  },
  {
   "cell_type": "markdown",
   "id": "f28cfa80",
   "metadata": {},
   "source": [
    "### 1-2. 결정 트리 모델의 정확도가 떨어질 수 있는 가장 대표적 요인은 무엇인가요?  (10점)"
   ]
  },
  {
   "cell_type": "markdown",
   "id": "a97c342f",
   "metadata": {},
   "source": [
    "과적합"
   ]
  },
  {
   "cell_type": "markdown",
   "id": "12200f0b",
   "metadata": {},
   "source": [
    "---"
   ]
  },
  {
   "cell_type": "markdown",
   "id": "7503eaa9",
   "metadata": {},
   "source": [
    "# 2. 결정 트리 파라미터"
   ]
  },
  {
   "cell_type": "markdown",
   "id": "a6f5f1fb",
   "metadata": {},
   "source": [
    "### 2-0. 아래의 answer 리스트를 실행시켜주세요. 2번 문제의 답안이 담길 리스트입니다. 순서가 중요하니 꼭!! 순서를 지켜주세요 :)"
   ]
  },
  {
   "cell_type": "code",
   "execution_count": 36,
   "id": "0d4d7e62",
   "metadata": {},
   "outputs": [],
   "source": [
    "answer = []"
   ]
  },
  {
   "cell_type": "markdown",
   "id": "488030a0",
   "metadata": {},
   "source": [
    "#### 📌 보기 <br><br> a = max_samples_split <br> b = min_samples_split <br> c = max_samples_leaf <br> d = min_samples_leaf <br> e = max_features <br> f = min_features <br> g = max_depth <br> h = min_depth <br> i = max_leaf_nodes <br> j = min_leaf_nodes"
   ]
  },
  {
   "cell_type": "markdown",
   "id": "9cb776e1",
   "metadata": {},
   "source": [
    "#### 다음 문제들의 답을 리스트에 넣을 때 **answer.append()** 를 사용해주세요. 그렇게 해야 순서가 달라지지 않습니다.<br> (예 : answer.append('a')) <br><br>"
   ]
  },
  {
   "cell_type": "markdown",
   "id": "4cd5a213",
   "metadata": {},
   "source": [
    "### 2-1. 다음에 해당하는 파라미터의 변수를 answer리스트에 넣어주세요.  (4점)\n",
    "<br><br> ☞ 트리의 최대 깊이를 규정합니다. \n",
    "<br> ☞ 디폴트는 None. None으로 설정하면 완벽하게 클래스 결정 값이 될 때까지 깊이를 계속 키우며 분할하기도 한다."
   ]
  },
  {
   "cell_type": "markdown",
   "id": "c63dba15",
   "metadata": {},
   "source": [
    "2-1. 답\n",
    "g"
   ]
  },
  {
   "cell_type": "markdown",
   "id": "07ad6154",
   "metadata": {},
   "source": [
    "### 2-2. 다음에 해당하는 파라미터의 변수를 answer리스트에 넣어주세요.  (4점)\n",
    "<br><br> ☞ 분할이 될 경우 왼쪽과 오른쪽의 브랜치 노드에서 가져야 할 최소한의 샘플 데이터 수를 뜻한다. \n",
    "<br> ☞ 큰 값으로 설정될수록, 분할될 경우 왼쪽과 오른쪽의 브랜치 노드에서 가져야 할 최소한의 샘플 데이터 수 조건을 만족시키기가 어려우므로 노드 분할을 상대적으로 덜 수행한다."
   ]
  },
  {
   "cell_type": "markdown",
   "id": "145df065",
   "metadata": {},
   "source": [
    "2-2. 답 d\n"
   ]
  },
  {
   "cell_type": "markdown",
   "id": "2f6e5596",
   "metadata": {},
   "source": [
    "### 2-3. 다음에 해당하는 파라미터의 변수를 answer리스트에 넣어주세요.  (4점)\n",
    "<br><br> ☞ 노드르르 분할하기 위한 최소한의 샘플 데이터 수로 과적합을 제어하는 데 사용된다. \n",
    "<br> ☞ 디폴트는 2이고 작게 설정할수록 분할되는 노드가 많아져서 과적합 가능성이 증가한다."
   ]
  },
  {
   "cell_type": "markdown",
   "id": "89c18732",
   "metadata": {},
   "source": [
    "2-3. 답 b\n"
   ]
  },
  {
   "cell_type": "markdown",
   "id": "b130a3ad",
   "metadata": {},
   "source": [
    "### 2-4. 다음에 해당하는 파라미터의 변수를 answer리스트에 넣어주세요.  (4점)\n",
    "<br><br> ☞ 말단 노드(Leaf)의 최대 개수를 뜻한다. "
   ]
  },
  {
   "cell_type": "markdown",
   "id": "7e022822",
   "metadata": {},
   "source": [
    "2-4. 답 i\n"
   ]
  },
  {
   "cell_type": "markdown",
   "id": "63ad89fe",
   "metadata": {},
   "source": [
    "### 2-5. 다음에 해당하는 파라미터의 변수를 answer리스트에 넣어주세요.  (4점)\n",
    "<br><br> ☞ 최적의 분할을 위해 고려할 최대 피처 개수이다. 디폴트는 None으로 데이터 세트의 모든 피처를 사용해 분할 수행한다. \n",
    "<br> ☞ int형으로 지정하면 대상 피처의 개수, float형으로 지정하면 전체 피처 중 대상 피처의 퍼센트이다."
   ]
  },
  {
   "cell_type": "markdown",
   "id": "21a6dfcc",
   "metadata": {},
   "source": [
    " 2-5. 답 e\n"
   ]
  },
  {
   "cell_type": "markdown",
   "id": "be1d5dee",
   "metadata": {},
   "source": [
    "### 2번 문제가 모두 끝났습니다. len(answer)을 실행하여 answer의 길이가 5인지 다시 한번 확인해주세요."
   ]
  },
  {
   "cell_type": "markdown",
   "id": "a923f511",
   "metadata": {},
   "source": [
    "---"
   ]
  },
  {
   "cell_type": "markdown",
   "id": "4da1cfd8",
   "metadata": {},
   "source": [
    "# 3. 결정 트리 모델의 시각화"
   ]
  },
  {
   "cell_type": "markdown",
   "id": "ad7c9ddd",
   "metadata": {},
   "source": [
    "## 당신은 결정 트리 모델의 시각화를 하려는데 한글 깨짐 현상이 발생했습니다. 위와 같은 문제를 해결하고, 결정 트리 모델을 한글로 시각화 해봅시다. "
   ]
  },
  {
   "cell_type": "code",
   "execution_count": 37,
   "id": "26a7e9eb",
   "metadata": {},
   "outputs": [],
   "source": [
    "import numpy as np\n",
    "import pandas as pd\n",
    "from matplotlib import pyplot as plt\n",
    "from sklearn.datasets import load_iris\n",
    "from sklearn.tree import DecisionTreeClassifier\n",
    "from sklearn.model_selection import train_test_split\n",
    "from sklearn import tree\n",
    "import matplotlib.font_manager as fm\n",
    "\n",
    "%matplotlib inline\n",
    "\n",
    "# sklearn에 저장된 데이터를 불러 옵니다.\n",
    "X, Y = load_iris(return_X_y = True)\n",
    "\n",
    "# DataFrame으로 변환\n",
    "df = pd.DataFrame(X, columns=['꽃받침 길이','꽃받침 넓이', '꽃잎 길이', '꽃잎 넓이'])\n",
    "df['클래스'] = Y\n",
    "\n",
    "X = df.drop(columns=['클래스'])\n",
    "Y = df['클래스']"
   ]
  },
  {
   "cell_type": "markdown",
   "id": "8b031a83",
   "metadata": {},
   "source": [
    "### 3-1 우선 결정트리 모델 시각화를 하기 위한 작업을 해봅시다. 필요한 라이브러리를 호출하고, 저장된 데이터를 불러왔습니다. train_test_split를 활용하여 학습용, 평가용 데이터로 분리해 봅시다. (random_state = 42, test_size = 0.2)  (5점)"
   ]
  },
  {
   "cell_type": "code",
   "execution_count": 38,
   "id": "58b807fb",
   "metadata": {},
   "outputs": [],
   "source": [
    "# 3-1 답\n",
    "train_X, test_X, train_Y, test_Y = train_test_split(X, Y, test_size=0.2, random_state = 42)"
   ]
  },
  {
   "cell_type": "markdown",
   "id": "0fed7280",
   "metadata": {},
   "source": [
    "## 3-2 DTmodel에 의사결정나무 모델을 초기화 하고 학습합니다.  (5점)"
   ]
  },
  {
   "cell_type": "code",
   "execution_count": 39,
   "id": "370d363b",
   "metadata": {},
   "outputs": [
    {
     "data": {
      "text/plain": [
       "DecisionTreeClassifier()"
      ]
     },
     "execution_count": 39,
     "metadata": {},
     "output_type": "execute_result"
    }
   ],
   "source": [
    "#3-2 답\n",
    "DTmodel = DecisionTreeClassifier()\n",
    "DTmodel.fit(train_X, train_Y)\n"
   ]
  },
  {
   "cell_type": "markdown",
   "id": "ddd813c2",
   "metadata": {},
   "source": [
    "## 3-3 이제 시각화를 해볼겁니다. 아래 코드를 실행하고, C:\\Windows\\Fonts 경로에서 한글 폰트를 찾아 적용해봅시다.  (10점)"
   ]
  },
  {
   "cell_type": "code",
   "execution_count": 40,
   "id": "b0f4bb9e",
   "metadata": {},
   "outputs": [
    {
     "data": {
      "text/plain": [
       "['STIXNonUnicode',\n",
       " 'DejaVu Serif',\n",
       " 'STIXGeneral',\n",
       " 'STIXSizeThreeSym',\n",
       " 'STIXSizeOneSym',\n",
       " 'DejaVu Sans Mono',\n",
       " 'STIXSizeOneSym',\n",
       " 'STIXGeneral',\n",
       " 'DejaVu Serif',\n",
       " 'cmtt10',\n",
       " 'DejaVu Serif',\n",
       " 'cmex10',\n",
       " 'cmss10',\n",
       " 'DejaVu Serif Display',\n",
       " 'cmr10',\n",
       " 'cmmi10',\n",
       " 'STIXSizeTwoSym',\n",
       " 'STIXNonUnicode',\n",
       " 'DejaVu Sans',\n",
       " 'DejaVu Sans Mono',\n",
       " 'STIXSizeTwoSym',\n",
       " 'DejaVu Sans',\n",
       " 'DejaVu Sans',\n",
       " 'cmsy10',\n",
       " 'DejaVu Sans Display',\n",
       " 'STIXGeneral',\n",
       " 'DejaVu Sans',\n",
       " 'DejaVu Serif',\n",
       " 'STIXSizeThreeSym',\n",
       " 'DejaVu Sans Mono',\n",
       " 'STIXNonUnicode',\n",
       " 'STIXSizeFourSym',\n",
       " 'STIXNonUnicode',\n",
       " 'STIXSizeFiveSym',\n",
       " 'STIXSizeFourSym',\n",
       " 'cmb10',\n",
       " 'STIXGeneral',\n",
       " 'DejaVu Sans Mono',\n",
       " 'Mistral',\n",
       " 'Mongolian Baiti',\n",
       " 'Lucida Sans Typewriter',\n",
       " 'Rage Italic',\n",
       " 'OCR A Extended',\n",
       " 'Gill Sans MT Condensed',\n",
       " 'Arial',\n",
       " 'Pyunji R',\n",
       " 'Lucida Sans Typewriter',\n",
       " 'MS Reference Specialty',\n",
       " 'Rockwell Extra Bold',\n",
       " 'Gill Sans MT Ext Condensed Bold',\n",
       " 'Comic Sans MS',\n",
       " 'Lucida Sans',\n",
       " 'V3Detect',\n",
       " 'V3Detect',\n",
       " 'Bookman Old Style',\n",
       " 'Harrington',\n",
       " 'Century',\n",
       " 'Eras Medium ITC',\n",
       " 'Times New Roman',\n",
       " 'Tw Cen MT',\n",
       " 'Lucida Console',\n",
       " 'Century Gothic',\n",
       " 'Franklin Gothic Heavy',\n",
       " 'Georgia',\n",
       " 'Tahoma',\n",
       " 'Bodoni MT',\n",
       " 'Microsoft Yi Baiti',\n",
       " 'Headline R',\n",
       " 'Microsoft YaHei',\n",
       " 'Microsoft Tai Le',\n",
       " 'Malgun Gothic',\n",
       " 'Papyrus',\n",
       " 'Agency FB',\n",
       " 'Symbol',\n",
       " 'Century Gothic',\n",
       " 'Courier New',\n",
       " 'Agency FB',\n",
       " 'Segoe UI',\n",
       " 'Showcard Gothic',\n",
       " 'Californian FB',\n",
       " 'Times New Roman',\n",
       " 'Segoe MDL2 Assets',\n",
       " 'Palatino Linotype',\n",
       " 'Verdana',\n",
       " 'Headline R',\n",
       " 'MS Reference Sans Serif',\n",
       " 'Microsoft Himalaya',\n",
       " 'Rage Italic',\n",
       " 'Segoe UI Historic',\n",
       " 'Bell MT',\n",
       " 'Century Gothic',\n",
       " 'Yu Gothic',\n",
       " 'Lucida Sans Unicode',\n",
       " 'Bodoni MT',\n",
       " 'Hancom Gothic',\n",
       " 'Book Antiqua',\n",
       " 'Lucida Bright',\n",
       " 'Calibri',\n",
       " 'Segoe Print',\n",
       " 'Perpetua',\n",
       " 'Bookman Old Style',\n",
       " 'Jokerman',\n",
       " 'French Script MT',\n",
       " 'Century Schoolbook',\n",
       " 'Bodoni MT',\n",
       " 'Showcard Gothic',\n",
       " 'Berlin Sans FB',\n",
       " 'LG Smart UI',\n",
       " 'Han Santteut Dotum',\n",
       " 'Dubai',\n",
       " 'HCR Batang Ext',\n",
       " 'Microsoft JhengHei',\n",
       " 'Onyx',\n",
       " 'Times New Roman',\n",
       " 'Tempus Sans ITC',\n",
       " 'Chiller',\n",
       " 'Copperplate Gothic Light',\n",
       " 'Forte',\n",
       " 'Papyrus',\n",
       " 'HYPMokGak-Bold',\n",
       " 'Segoe UI',\n",
       " 'Snap ITC',\n",
       " 'Segoe UI',\n",
       " 'Calibri',\n",
       " 'Californian FB',\n",
       " 'Calisto MT',\n",
       " 'Californian FB',\n",
       " 'Vivaldi',\n",
       " 'Gill Sans MT',\n",
       " 'Lucida Calligraphy',\n",
       " 'Wide Latin',\n",
       " 'Segoe Script',\n",
       " 'Bodoni MT',\n",
       " 'Lucida Fax',\n",
       " 'Edwardian Script ITC',\n",
       " 'Yu Gothic',\n",
       " 'Sitka Small',\n",
       " 'Dubai',\n",
       " 'Palace Script MT',\n",
       " 'Segoe MDL2 Assets',\n",
       " 'Bodoni MT',\n",
       " 'Bodoni MT',\n",
       " 'Leelawadee UI',\n",
       " 'Lucida Sans Typewriter',\n",
       " 'Haansoft Dotum',\n",
       " 'Calibri',\n",
       " 'Segoe UI Symbol',\n",
       " 'Arial',\n",
       " 'MT Extra',\n",
       " 'Franklin Gothic Medium',\n",
       " 'Tahoma',\n",
       " 'Gill Sans MT',\n",
       " 'Gill Sans MT',\n",
       " 'Hancom Hoonminjeongeum_H',\n",
       " 'Matura MT Script Capitals',\n",
       " 'Wingdings 3',\n",
       " 'Centaur',\n",
       " 'Franklin Gothic Heavy',\n",
       " 'Bodoni MT',\n",
       " 'Bodoni MT',\n",
       " 'HoloLens MDL2 Assets',\n",
       " 'Calibri',\n",
       " 'Parchment',\n",
       " 'Copperplate Gothic Bold',\n",
       " 'Comic Sans MS',\n",
       " 'Tw Cen MT',\n",
       " 'Trebuchet MS',\n",
       " 'Segoe UI',\n",
       " 'Lucida Sans',\n",
       " 'Baskerville Old Face',\n",
       " 'Courier New',\n",
       " 'Cambria',\n",
       " 'Elephant',\n",
       " 'Hancom Hoonminjeongeum_V',\n",
       " 'Tw Cen MT Condensed',\n",
       " 'Segoe UI',\n",
       " 'Bookshelf Symbol 7',\n",
       " 'Corbel',\n",
       " 'Gulim',\n",
       " 'Gadugi',\n",
       " 'Sitka Small',\n",
       " 'Segoe UI',\n",
       " 'Tw Cen MT Condensed',\n",
       " 'Webdings',\n",
       " 'Cambria',\n",
       " 'Candara',\n",
       " 'Tw Cen MT',\n",
       " 'Courier New',\n",
       " 'Han Santteut Dotum',\n",
       " 'Arial',\n",
       " 'Magic R',\n",
       " 'Microsoft Uighur',\n",
       " 'Cambria',\n",
       " 'Candara',\n",
       " 'Gigi',\n",
       " 'Bradley Hand ITC',\n",
       " 'Yet R',\n",
       " 'Bell MT',\n",
       " 'Microsoft YaHei',\n",
       " 'MingLiU-ExtB',\n",
       " 'Arial',\n",
       " 'Corbel',\n",
       " 'Magic R',\n",
       " 'Ami R',\n",
       " 'Wide Latin',\n",
       " 'Garamond',\n",
       " 'Segoe UI',\n",
       " 'Bradley Hand ITC',\n",
       " 'HYHeadLine M',\n",
       " 'Bahnschrift',\n",
       " 'HCR Batang Ext',\n",
       " 'Arial',\n",
       " 'Goudy Old Style',\n",
       " 'Century Gothic',\n",
       " 'Corbel',\n",
       " 'Leelawadee',\n",
       " 'HYHeadLine M',\n",
       " 'Goudy Old Style',\n",
       " 'Calisto MT',\n",
       " 'Tw Cen MT Condensed Extra Bold',\n",
       " 'Lucida Sans Typewriter',\n",
       " 'Yu Gothic',\n",
       " 'HCR Batang',\n",
       " 'Eras Bold ITC',\n",
       " 'Webdings',\n",
       " 'Bodoni MT',\n",
       " 'Microsoft YaHei',\n",
       " 'HYGraphic-Medium',\n",
       " 'HancomEQN',\n",
       " 'Arial',\n",
       " 'New Gulim',\n",
       " 'Sitka Small',\n",
       " 'Bahnschrift',\n",
       " 'Gabriola',\n",
       " 'LG Smart UI',\n",
       " 'Franklin Gothic Heavy',\n",
       " 'Brush Script MT',\n",
       " 'Microsoft PhagsPa',\n",
       " 'Calisto MT',\n",
       " 'Marlett',\n",
       " 'MV Boli',\n",
       " 'Cambria',\n",
       " 'Constantia',\n",
       " 'LG Smart UI',\n",
       " 'Bodoni MT',\n",
       " 'Trebuchet MS',\n",
       " 'Pyunji R',\n",
       " 'Javanese Text',\n",
       " 'Cambria',\n",
       " 'Cambria',\n",
       " 'Georgia',\n",
       " 'Franklin Gothic Book',\n",
       " 'HYGraphic-Medium',\n",
       " 'Curlz MT',\n",
       " 'Parchment',\n",
       " 'Microsoft JhengHei',\n",
       " 'Arial',\n",
       " 'Comic Sans MS',\n",
       " 'Batang',\n",
       " 'Calibri',\n",
       " 'Franklin Gothic Medium',\n",
       " 'New Gulim',\n",
       " 'Eras Bold ITC',\n",
       " 'Stencil',\n",
       " 'Rockwell',\n",
       " 'Gill Sans MT',\n",
       " 'Consolas',\n",
       " 'Maiandra GD',\n",
       " 'Verdana',\n",
       " 'HYGothic-Extra',\n",
       " 'Georgia',\n",
       " 'Comic Sans MS',\n",
       " 'Calisto MT',\n",
       " 'Franklin Gothic Book',\n",
       " 'Bell MT',\n",
       " 'Elephant',\n",
       " 'Times New Roman',\n",
       " 'Century Schoolbook',\n",
       " 'Times New Roman',\n",
       " 'Segoe UI',\n",
       " 'High Tower Text',\n",
       " 'Microsoft JhengHei',\n",
       " 'Algerian',\n",
       " 'Modern No. 20',\n",
       " 'Courier New',\n",
       " 'Gill Sans MT',\n",
       " 'Poor Richard',\n",
       " 'Sitka Small',\n",
       " 'Magneto',\n",
       " 'Verdana',\n",
       " 'MS Reference Sans Serif',\n",
       " 'Lucida Calligraphy',\n",
       " 'Hancom Hoonminjeongeum_H',\n",
       " 'Perpetua',\n",
       " 'Rockwell Extra Bold',\n",
       " 'Palatino Linotype',\n",
       " 'Cooper Black',\n",
       " 'Tw Cen MT Condensed',\n",
       " 'Segoe UI',\n",
       " 'Book Antiqua',\n",
       " 'LG Smart UI',\n",
       " 'Segoe UI',\n",
       " 'Impact',\n",
       " 'Haan Wing2',\n",
       " 'Consolas',\n",
       " 'Bernard MT Condensed',\n",
       " 'Poor Richard',\n",
       " 'Consolas',\n",
       " 'Engravers MT',\n",
       " 'Segoe UI',\n",
       " 'Verdana',\n",
       " 'Ravie',\n",
       " 'Candara',\n",
       " 'Freestyle Script',\n",
       " 'Microsoft JhengHei',\n",
       " 'Jokerman',\n",
       " 'Sitka Small',\n",
       " 'HYSinMyeongJo-Medium',\n",
       " 'Magneto',\n",
       " 'Lucida Sans',\n",
       " 'Gulim',\n",
       " 'Trebuchet MS',\n",
       " 'Tw Cen MT',\n",
       " 'HCR Dotum Ext',\n",
       " 'Franklin Gothic Demi Cond',\n",
       " 'OCR A Extended',\n",
       " 'HYPMokGak-Bold',\n",
       " 'Lucida Console',\n",
       " 'Franklin Gothic Demi',\n",
       " 'Sylfaen',\n",
       " 'Nirmala UI',\n",
       " 'Palatino Linotype',\n",
       " 'Rockwell',\n",
       " 'Niagara Solid',\n",
       " 'Arial',\n",
       " 'Footlight MT Light',\n",
       " 'HYGothic-Medium',\n",
       " 'Bodoni MT',\n",
       " 'Century',\n",
       " 'Algerian',\n",
       " 'Ebrima',\n",
       " 'Bodoni MT',\n",
       " 'Haettenschweiler',\n",
       " 'Tahoma',\n",
       " 'Yu Gothic',\n",
       " 'Trebuchet MS',\n",
       " 'HYPost-Medium',\n",
       " 'Book Antiqua',\n",
       " 'MS Mincho',\n",
       " 'Garamond',\n",
       " 'Ebrima',\n",
       " 'Constantia',\n",
       " 'Verdana',\n",
       " 'MS Outlook',\n",
       " 'Perpetua',\n",
       " 'Comic Sans MS',\n",
       " 'Forte',\n",
       " 'Comic Sans MS',\n",
       " 'Bodoni MT',\n",
       " 'Dubai',\n",
       " 'Tw Cen MT',\n",
       " 'Felix Titling',\n",
       " 'Hancom MalangMalang',\n",
       " 'Segoe UI',\n",
       " 'Hancom Hoonminjeongeum_V',\n",
       " 'Rockwell',\n",
       " 'Candara',\n",
       " 'Dubai',\n",
       " 'Wingdings 3',\n",
       " 'Dubai',\n",
       " 'Bodoni MT',\n",
       " 'HYShortSamul-Medium',\n",
       " 'MS Outlook',\n",
       " 'MT Extra',\n",
       " 'Microsoft YaHei',\n",
       " 'Lucida Sans Typewriter',\n",
       " 'Goudy Stout',\n",
       " 'Microsoft Sans Serif',\n",
       " 'Courier New',\n",
       " 'HyhwpEQ',\n",
       " 'Book Antiqua',\n",
       " 'Script MT Bold',\n",
       " 'Constantia',\n",
       " 'Harlow Solid Italic',\n",
       " 'Engravers MT',\n",
       " 'Footlight MT Light',\n",
       " 'Bell MT',\n",
       " 'Matura MT Script Capitals',\n",
       " 'Lucida Bright',\n",
       " 'HYGothic-Medium',\n",
       " 'Castellar',\n",
       " 'Gill Sans MT',\n",
       " 'Microsoft JhengHei',\n",
       " 'Ravie',\n",
       " 'Ink Free',\n",
       " 'Lucida Sans',\n",
       " 'LG Smart UI',\n",
       " 'Century Schoolbook',\n",
       " 'Arial',\n",
       " 'Segoe UI',\n",
       " 'Lucida Bright',\n",
       " 'HCR Batang ExtB',\n",
       " 'Candara',\n",
       " 'HYGungSo-Bold',\n",
       " 'Franklin Gothic Demi',\n",
       " 'Book Antiqua',\n",
       " 'Trebuchet MS',\n",
       " 'Informal Roman',\n",
       " 'Lucida Bright',\n",
       " 'Century Schoolbook',\n",
       " 'Arial Unicode MS',\n",
       " 'Century Schoolbook',\n",
       " 'Constantia',\n",
       " 'Yu Gothic',\n",
       " 'Corbel',\n",
       " 'Sitka Small',\n",
       " 'Perpetua Titling MT',\n",
       " 'French Script MT',\n",
       " 'Microsoft PhagsPa',\n",
       " 'Script MT Bold',\n",
       " 'Modern No. 20',\n",
       " 'Impact',\n",
       " 'SimSun-ExtB',\n",
       " 'Bauhaus 93',\n",
       " 'Bell MT',\n",
       " 'Corbel',\n",
       " 'Constantia',\n",
       " 'Lucida Bright',\n",
       " 'Broadway',\n",
       " 'Californian FB',\n",
       " 'Cambria',\n",
       " 'Segoe UI',\n",
       " 'Segoe UI',\n",
       " 'Pristina',\n",
       " 'Lucida Sans',\n",
       " 'Perpetua',\n",
       " 'Dubai',\n",
       " 'Corbel',\n",
       " 'Segoe Print',\n",
       " 'Playbill',\n",
       " 'Calibri',\n",
       " 'Franklin Gothic Demi',\n",
       " 'Gloucester MT Extra Condensed',\n",
       " 'Gill Sans Ultra Bold',\n",
       " 'Segoe UI Emoji',\n",
       " 'Calisto MT',\n",
       " 'Hancom Gothic',\n",
       " 'Arial Rounded MT Bold',\n",
       " 'Leelawadee',\n",
       " 'Courier New',\n",
       " 'Gadugi',\n",
       " 'Agency FB',\n",
       " 'Gadugi',\n",
       " 'Segoe UI',\n",
       " 'Verdana',\n",
       " 'Nirmala UI',\n",
       " 'Palatino Linotype',\n",
       " 'Calibri',\n",
       " 'Segoe UI',\n",
       " 'HYPost-Light',\n",
       " 'Gill Sans MT Ext Condensed Bold',\n",
       " 'Candara',\n",
       " 'Wingdings 2',\n",
       " 'Informal Roman',\n",
       " 'Wingdings 2',\n",
       " 'Century Gothic',\n",
       " 'Times New Roman',\n",
       " 'HCR Dotum',\n",
       " 'Segoe UI',\n",
       " 'Century Schoolbook',\n",
       " 'Bookman Old Style',\n",
       " 'Gloucester MT Extra Condensed',\n",
       " 'Constantia',\n",
       " 'Javanese Text',\n",
       " 'Microsoft PhagsPa',\n",
       " 'Myanmar Text',\n",
       " 'Nirmala UI',\n",
       " 'Lucida Fax',\n",
       " 'Microsoft New Tai Lue',\n",
       " 'Lucida Handwriting',\n",
       " 'Candara',\n",
       " 'Nirmala UI',\n",
       " 'Juice ITC',\n",
       " 'Copperplate Gothic Light',\n",
       " 'Calibri',\n",
       " 'Candara',\n",
       " 'Tempus Sans ITC',\n",
       " 'Segoe Script',\n",
       " 'Microsoft Sans Serif',\n",
       " 'Gill Sans MT',\n",
       " 'Consolas',\n",
       " 'Old English Text MT',\n",
       " 'Arial',\n",
       " 'Bodoni MT',\n",
       " 'Lucida Fax',\n",
       " 'Courier New',\n",
       " 'Blackadder ITC',\n",
       " 'Malgun Gothic',\n",
       " 'SimSun-ExtB',\n",
       " 'Rockwell Condensed',\n",
       " 'Segoe UI Emoji',\n",
       " 'HYPost-Light',\n",
       " 'Trebuchet MS',\n",
       " 'Microsoft Uighur',\n",
       " 'Agency FB',\n",
       " 'Calisto MT',\n",
       " 'Microsoft Yi Baiti',\n",
       " 'Rockwell Condensed',\n",
       " 'HYShortSamul-Medium',\n",
       " 'Rockwell Condensed',\n",
       " 'Berlin Sans FB',\n",
       " 'Maiandra GD',\n",
       " 'Lucida Fax',\n",
       " 'Gill Sans Ultra Bold Condensed',\n",
       " 'Calibri',\n",
       " 'Myanmar Text',\n",
       " 'Garamond',\n",
       " 'Imprint MT Shadow',\n",
       " 'Goudy Stout',\n",
       " 'Berlin Sans FB',\n",
       " 'Elephant',\n",
       " 'Perpetua',\n",
       " 'Arial',\n",
       " 'Mongolian Baiti',\n",
       " 'Vivaldi',\n",
       " 'Myanmar Text',\n",
       " 'Segoe UI',\n",
       " 'Consolas',\n",
       " 'Segoe UI',\n",
       " 'Rockwell',\n",
       " 'Trebuchet MS',\n",
       " 'Corbel',\n",
       " 'Han Santteut Dotum',\n",
       " 'Symbol',\n",
       " 'MS Reference Specialty',\n",
       " 'Segoe UI',\n",
       " 'LG Smart UI',\n",
       " 'Perpetua',\n",
       " 'Corbel',\n",
       " 'Leelawadee UI',\n",
       " 'Microsoft New Tai Lue',\n",
       " 'Leelawadee',\n",
       " 'Lucida Fax',\n",
       " 'Tw Cen MT',\n",
       " 'Perpetua Titling MT',\n",
       " 'Haansoft Dotum',\n",
       " 'Viner Hand ITC',\n",
       " 'Georgia',\n",
       " 'Bodoni MT',\n",
       " 'Felix Titling',\n",
       " 'Century Gothic',\n",
       " 'Georgia',\n",
       " 'Ebrima',\n",
       " 'Microsoft Tai Le',\n",
       " 'Ink Free',\n",
       " 'Leelawadee UI',\n",
       " 'Verdana',\n",
       " 'Perpetua Titling MT',\n",
       " 'Kunstler Script',\n",
       " 'Garamond',\n",
       " 'Microsoft YaHei',\n",
       " 'Vladimir Script',\n",
       " 'HCR Batang ExtB',\n",
       " 'Elephant',\n",
       " 'Ebrima',\n",
       " 'Eras Light ITC',\n",
       " 'Segoe Script',\n",
       " 'Franklin Gothic Heavy',\n",
       " 'MS Gothic',\n",
       " 'Leelawadee',\n",
       " 'Palatino Linotype',\n",
       " 'Courier New',\n",
       " 'Corbel',\n",
       " 'MS Mincho',\n",
       " 'Franklin Gothic Medium',\n",
       " 'Microsoft Uighur',\n",
       " 'Times New Roman',\n",
       " 'Yet R',\n",
       " 'SimSun',\n",
       " 'Corbel',\n",
       " 'Tw Cen MT',\n",
       " 'Sitka Small',\n",
       " 'Juice ITC',\n",
       " 'Sitka Small',\n",
       " 'Consolas',\n",
       " 'Goudy Old Style',\n",
       " 'Goudy Old Style',\n",
       " 'Palatino Linotype',\n",
       " 'HCR Dotum',\n",
       " 'HCR Dotum Ext',\n",
       " 'MV Boli',\n",
       " 'Segoe UI',\n",
       " 'Arial Unicode MS',\n",
       " 'Arial Rounded MT Bold',\n",
       " 'Book Antiqua',\n",
       " 'Microsoft Himalaya',\n",
       " 'Gadugi',\n",
       " 'Dubai',\n",
       " 'HCR Batang ExtB',\n",
       " 'Segoe Print',\n",
       " 'Bookshelf Symbol 7',\n",
       " 'Arial',\n",
       " 'Lucida Sans',\n",
       " 'Segoe UI',\n",
       " 'Yu Gothic',\n",
       " 'Calibri',\n",
       " 'Century Schoolbook',\n",
       " 'NanumGothic',\n",
       " 'Microsoft Tai Le',\n",
       " 'Comic Sans MS',\n",
       " 'Gill Sans Ultra Bold Condensed',\n",
       " 'MingLiU-ExtB',\n",
       " 'Hancom Gothic',\n",
       " 'Candara',\n",
       " 'Rockwell',\n",
       " 'SimSun',\n",
       " 'HYMyeongJo-Extra',\n",
       " 'Microsoft JhengHei',\n",
       " 'Franklin Gothic Demi Cond',\n",
       " 'Segoe Script',\n",
       " 'Leelawadee UI',\n",
       " 'Leelawadee UI',\n",
       " 'Nirmala UI',\n",
       " 'Bauhaus 93',\n",
       " 'Tahoma',\n",
       " 'Sylfaen',\n",
       " 'Palatino Linotype',\n",
       " 'Calisto MT',\n",
       " 'Candara',\n",
       " 'Arial',\n",
       " 'Colonna MT',\n",
       " 'Bodoni MT',\n",
       " 'Cooper Black',\n",
       " 'HCR Batang ExtB',\n",
       " 'Malgun Gothic',\n",
       " 'Tw Cen MT',\n",
       " 'HYMyeongJo-Extra',\n",
       " 'Mistral',\n",
       " 'Arial',\n",
       " 'Franklin Gothic Medium Cond',\n",
       " 'Dubai',\n",
       " 'Rockwell',\n",
       " 'Georgia',\n",
       " 'Kunstler Script',\n",
       " 'Broadway',\n",
       " 'Bookman Old Style',\n",
       " 'Candara',\n",
       " 'Hancom MalangMalang',\n",
       " 'Tw Cen MT Condensed',\n",
       " 'HCR Batang',\n",
       " 'LG Smart UI',\n",
       " 'Brush Script MT',\n",
       " 'Wingdings',\n",
       " 'Gigi',\n",
       " 'Haan Wing2',\n",
       " 'Freestyle Script',\n",
       " 'Rockwell',\n",
       " 'LG Smart UI',\n",
       " 'Tw Cen MT Condensed Extra Bold',\n",
       " 'Playbill',\n",
       " 'Goudy Old Style',\n",
       " 'Monotype Corsiva',\n",
       " 'Kristen ITC',\n",
       " 'Segoe UI Symbol',\n",
       " 'Harrington',\n",
       " 'Segoe UI',\n",
       " 'HoloLens MDL2 Assets',\n",
       " 'Lucida Sans',\n",
       " 'Constantia',\n",
       " 'Rockwell',\n",
       " 'MS Gothic',\n",
       " 'Lucida Bright',\n",
       " 'HYPost-Medium',\n",
       " 'Niagara Solid',\n",
       " 'Goudy Old Style',\n",
       " 'Microsoft PhagsPa',\n",
       " 'Bookman Old Style',\n",
       " 'Copperplate Gothic Bold',\n",
       " 'Bodoni MT',\n",
       " 'Lucida Fax',\n",
       " 'Consolas',\n",
       " 'Batang',\n",
       " 'Yu Gothic',\n",
       " 'Lucida Bright',\n",
       " 'Georgia',\n",
       " 'Eras Light ITC',\n",
       " 'Calibri',\n",
       " 'HyhwpEQ',\n",
       " 'NanumGothic',\n",
       " 'Monotype Corsiva',\n",
       " 'NewJumja',\n",
       " 'LG PC',\n",
       " 'Harlow Solid Italic',\n",
       " 'Old English Text MT',\n",
       " 'High Tower Text',\n",
       " 'Gill Sans MT Condensed',\n",
       " 'Berlin Sans FB Demi',\n",
       " 'Trebuchet MS',\n",
       " 'NewJumja',\n",
       " 'Franklin Gothic Medium',\n",
       " 'MoeumT R',\n",
       " 'Bodoni MT',\n",
       " 'Lucida Sans Typewriter',\n",
       " 'Microsoft New Tai Lue',\n",
       " 'HCR Dotum',\n",
       " 'Vladimir Script',\n",
       " 'HYGothic-Extra',\n",
       " 'Lucida Sans Typewriter',\n",
       " 'Arial',\n",
       " 'Curlz MT',\n",
       " 'MoeumT R',\n",
       " 'Century Schoolbook',\n",
       " 'Microsoft Tai Le',\n",
       " 'Lucida Fax',\n",
       " 'Berlin Sans FB',\n",
       " 'Perpetua',\n",
       " 'Niagara Engraved',\n",
       " 'Hancom MalangMalang',\n",
       " 'Microsoft YaHei',\n",
       " 'Comic Sans MS',\n",
       " 'Lucida Sans Unicode',\n",
       " 'Franklin Gothic Medium Cond',\n",
       " 'Corbel',\n",
       " 'High Tower Text',\n",
       " 'Snap ITC',\n",
       " 'Palatino Linotype',\n",
       " 'Candara',\n",
       " 'Onyx',\n",
       " 'Niagara Engraved',\n",
       " 'Malgun Gothic',\n",
       " 'Britannic Bold',\n",
       " 'Lucida Sans Typewriter',\n",
       " 'Segoe Print',\n",
       " 'Ami R',\n",
       " 'Blackadder ITC',\n",
       " 'Constantia',\n",
       " 'Times New Roman',\n",
       " 'Book Antiqua',\n",
       " 'Bodoni MT',\n",
       " 'Century Gothic',\n",
       " 'Leelawadee UI',\n",
       " 'Nirmala UI',\n",
       " 'Book Antiqua',\n",
       " 'Kristen ITC',\n",
       " 'Gill Sans MT',\n",
       " 'Edwardian Script ITC',\n",
       " 'Californian FB',\n",
       " 'Colonna MT',\n",
       " 'Castellar',\n",
       " 'Perpetua Titling MT',\n",
       " 'Pristina',\n",
       " 'Verdana',\n",
       " 'Bookman Old Style',\n",
       " 'Lucida Handwriting',\n",
       " 'HCR Dotum',\n",
       " 'Centaur',\n",
       " 'HCR Batang',\n",
       " 'Bookman Old Style',\n",
       " 'Californian FB',\n",
       " 'Berlin Sans FB Demi',\n",
       " 'Yu Gothic',\n",
       " 'Stencil',\n",
       " 'Viner Hand ITC',\n",
       " 'Bernard MT Condensed',\n",
       " 'Arial',\n",
       " 'Eras Demi ITC',\n",
       " 'Franklin Gothic Demi',\n",
       " 'Franklin Gothic Book',\n",
       " 'HancomEQN',\n",
       " 'Microsoft Uighur',\n",
       " 'Microsoft New Tai Lue',\n",
       " 'High Tower Text',\n",
       " 'Myanmar Text',\n",
       " 'Bell MT',\n",
       " 'Rockwell Condensed',\n",
       " 'Imprint MT Shadow',\n",
       " 'Baskerville Old Face',\n",
       " 'Garamond',\n",
       " 'Georgia',\n",
       " 'Haettenschweiler',\n",
       " 'Britannic Bold',\n",
       " 'Lucida Bright',\n",
       " 'Century Gothic',\n",
       " 'Lucida Sans',\n",
       " 'Consolas',\n",
       " 'Hancom MalangMalang',\n",
       " 'Cambria',\n",
       " 'Franklin Gothic Book',\n",
       " 'Hancom Gothic',\n",
       " 'Chiller',\n",
       " 'Eras Demi ITC',\n",
       " 'Garamond',\n",
       " 'Eras Medium ITC',\n",
       " 'Segoe UI Historic',\n",
       " 'Palace Script MT',\n",
       " 'LG PC',\n",
       " 'HYSinMyeongJo-Medium',\n",
       " 'Corbel',\n",
       " 'Arial',\n",
       " 'Wingdings',\n",
       " 'Gabriola',\n",
       " 'HYGungSo-Bold',\n",
       " 'Calibri',\n",
       " 'Han Santteut Dotum',\n",
       " 'Calisto MT',\n",
       " 'Bookman Old Style',\n",
       " 'Arial',\n",
       " 'Malgun Gothic',\n",
       " 'Lucida Fax',\n",
       " 'Gill Sans Ultra Bold',\n",
       " 'Perpetua',\n",
       " 'Bodoni MT',\n",
       " 'Malgun Gothic',\n",
       " 'HCR Batang',\n",
       " 'Bodoni MT']"
      ]
     },
     "execution_count": 40,
     "metadata": {},
     "output_type": "execute_result"
    }
   ],
   "source": [
    "import matplotlib.font_manager as fm\n",
    "#아래 코드는 C:\\Windows\\Fonts에 내장되어 있는 폰트를 리스트로 반환해주는 코드입니다.\n",
    "font_list = [font.name for font in fm.fontManager.ttflist]\n",
    "font_list"
   ]
  },
  {
   "cell_type": "code",
   "execution_count": 41,
   "id": "88dc3bb6",
   "metadata": {},
   "outputs": [
    {
     "data": {
      "image/png": "[encoded data removed]",
      "text/plain": [
       "<Figure size 1800x1440 with 1 Axes>"
      ]
     },
     "metadata": {
      "needs_background": "light"
     },
     "output_type": "display_data"
    }
   ],
   "source": [
    "# 3-3 답 None 값을 채워주세요.\n",
    "# !!Hint!! 1번째 None 값에 폰트 이름이 들어갑니다. \n",
    "## 아래 코드는 예시입니다. 한글을 포함하여 결정트리를 시각화 했으면 모두 정답입니다. \n",
    "plt.rc('font', family='HYPost-Light')\n",
    "fig = plt.figure(figsize=(25,20))\n",
    "_ = tree.plot_tree(DTmodel, \n",
    "                   feature_names=['꽃받침 길이','꽃받침 넓이', '꽃잎 길이', '꽃잎 넓이'],  \n",
    "                   class_names=['setosa', 'versicolor', 'virginica'],\n",
    "                   filled=True)\n"
   ]
  },
  {
   "cell_type": "markdown",
   "id": "3117e959",
   "metadata": {},
   "source": [
    "# 4. 결정트리 과적합(20점)"
   ]
  },
  {
   "cell_type": "markdown",
   "id": "0a089d93",
   "metadata": {},
   "source": [
    "### 4-1. make_classification() 함수를 사용해 2개의 피처가 4가지 유형의 클래스 값을 가지는 데이터 세트를 만드시오. (3점) "
   ]
  },
  {
   "cell_type": "code",
   "execution_count": 42,
   "id": "bda799c6",
   "metadata": {},
   "outputs": [],
   "source": [
    "from sklearn.datasets import make_classification\n",
    "import matplotlib.pyplot as plt\n",
    "\n",
    "# 2차원 시각화를 위해서 feature는 2개, 결정값 클래스는 4가지 유형의 classification 샘플 데이터 생성. \n",
    "X_features, y_labels = make_classification(n_features=2, n_redundant=0, n_informative=2,\n",
    "                             n_classes=3, n_clusters_per_class=1,random_state=0)\n"
   ]
  },
  {
   "cell_type": "markdown",
   "id": "c691ee79",
   "metadata": {},
   "source": [
    "### 4-2. plot 형태로 2개의 feature로 2차원 좌표 시각화하고 각 클래스값은 다른 색깔로 표시하여 출력하시오. (4점)\n"
   ]
  },
  {
   "cell_type": "code",
   "execution_count": 43,
   "id": "f3d65d9c",
   "metadata": {},
   "outputs": [
    {
     "name": "stderr",
     "output_type": "stream",
     "text": [
      "C:\\Users\\82107\\anaconda3\\lib\\site-packages\\matplotlib\\backends\\backend_agg.py:240: RuntimeWarning: Glyph 8722 missing from current font.\n",
      "  font.set_text(s, 0.0, flags=flags)\n",
      "C:\\Users\\82107\\anaconda3\\lib\\site-packages\\matplotlib\\backends\\backend_agg.py:203: RuntimeWarning: Glyph 8722 missing from current font.\n",
      "  font.set_text(s, 0, flags=flags)\n"
     ]
    },
    {
     "data": {
      "image/png": "[encoded data removed]",
      "text/plain": [
       "<Figure size 432x288 with 1 Axes>"
      ]
     },
     "metadata": {
      "needs_background": "light"
     },
     "output_type": "display_data"
    }
   ],
   "source": [
    "# 그래프 시각화\n",
    "plt.title(\"4 Class values with 2 Features Sample data creation\")\n",
    "plt.scatter(X_features[:, 0], X_features[:, 1], marker='o', c=y_labels, s=25, edgecolor='k')\n",
    "plt.show()"
   ]
  },
  {
   "cell_type": "markdown",
   "id": "6b737edb",
   "metadata": {},
   "source": [
    "### 4-3. 아래의 셀을 실행시키고 visualize_boundary() 함수의 역할 및 기능을 설명하시오. (3점)"
   ]
  },
  {
   "cell_type": "code",
   "execution_count": 44,
   "id": "f86b3b5a",
   "metadata": {},
   "outputs": [],
   "source": [
    "\n",
    "import numpy as np\n",
    "\n",
    "# Classifier의 Decision Boundary를 시각화 하는 함수\n",
    "def visualize_boundary(model, X, y):\n",
    "    fig,ax = plt.subplots()\n",
    "    \n",
    "    # 학습 데이타 scatter plot으로 나타내기\n",
    "    ax.scatter(X[:, 0], X[:, 1], c=y, s=25, cmap='rainbow', edgecolor='k',\n",
    "               clim=(y.min(), y.max()), zorder=3)\n",
    "    ax.axis('tight')\n",
    "    ax.axis('off')\n",
    "    xlim_start , xlim_end = ax.get_xlim()\n",
    "    ylim_start , ylim_end = ax.get_ylim()\n",
    "    \n",
    "    # 호출 파라미터로 들어온 training 데이타로 model 학습 . \n",
    "    model.fit(X, y)\n",
    "    # meshgrid 형태인 모든 좌표값으로 예측 수행. \n",
    "    xx, yy = np.meshgrid(np.linspace(xlim_start,xlim_end, num=200),np.linspace(ylim_start,ylim_end, num=200))\n",
    "    Z = model.predict(np.c_[xx.ravel(), yy.ravel()]).reshape(xx.shape)\n",
    "    \n",
    "    # contourf() 를 이용하여 class boundary 를 visualization 수행. \n",
    "    n_classes = len(np.unique(y))\n",
    "    contours = ax.contourf(xx, yy, Z, alpha=0.3,\n",
    "                           levels=np.arange(n_classes + 1) - 0.5,\n",
    "                           cmap='rainbow', clim=(y.min(), y.max()),\n",
    "                           zorder=1)"
   ]
  },
  {
   "cell_type": "markdown",
   "id": "b679e411",
   "metadata": {},
   "source": [
    "정답 : 머신러닝 모델이 클래스값을 예측하는 결정 기준을 색상과 경계로 나타내 모델이 어떻게 데이터 세트를 예측분류하는지 특성을 이해하도록 해줌"
   ]
  },
  {
   "cell_type": "markdown",
   "id": "a78a0f62",
   "metadata": {},
   "source": [
    "### 4-4. 특정한 트리 생성 제약이 없는 결정트리의 학습을 시키고 위의 visalize_boundary()함수를 사용하여 결정경계를 시각화 하시오. (3점)"
   ]
  },
  {
   "cell_type": "code",
   "execution_count": 45,
   "id": "879cce9b",
   "metadata": {},
   "outputs": [
    {
     "name": "stderr",
     "output_type": "stream",
     "text": [
      "C:\\Users\\82107\\AppData\\Local\\Temp/ipykernel_20920/1108106523.py:23: UserWarning: The following kwargs were not used by contour: 'clim'\n",
      "  contours = ax.contourf(xx, yy, Z, alpha=0.3,\n"
     ]
    },
    {
     "data": {
      "image/png": "[encoded data removed]",
      "text/plain": [
       "<Figure size 432x288 with 1 Axes>"
      ]
     },
     "metadata": {
      "needs_background": "light"
     },
     "output_type": "display_data"
    }
   ],
   "source": [
    "from sklearn.tree import DecisionTreeClassifier\n",
    "\n",
    "# 특정한 트리 생성 제약없는 결정 트리의 Decsion Boundary 시각화.\n",
    "dt_clf = DecisionTreeClassifier(random_state=156).fit(X_features, y_labels)\n",
    "visualize_boundary(dt_clf, X_features, y_labels)"
   ]
  },
  {
   "cell_type": "markdown",
   "id": "b1e914b5",
   "metadata": {},
   "source": [
    "### 4-5. 7개 이하이 데이터는 리프노드를 생성할 수 있도록 규칙을 변경하고 하이퍼 파라미터를 변경해 결정기준 경계가 어떻게 변하는지 살펴보시오. (3점)"
   ]
  },
  {
   "cell_type": "code",
   "execution_count": 46,
   "id": "79d2b260",
   "metadata": {},
   "outputs": [
    {
     "name": "stderr",
     "output_type": "stream",
     "text": [
      "C:\\Users\\82107\\AppData\\Local\\Temp/ipykernel_20920/1108106523.py:23: UserWarning: The following kwargs were not used by contour: 'clim'\n",
      "  contours = ax.contourf(xx, yy, Z, alpha=0.3,\n"
     ]
    },
    {
     "data": {
      "image/png": "[encoded data removed]",
      "text/plain": [
       "<Figure size 432x288 with 1 Axes>"
      ]
     },
     "metadata": {
      "needs_background": "light"
     },
     "output_type": "display_data"
    }
   ],
   "source": [
    "# min_samples_leaf=6 으로 트리 생성 조건을 제약한 Decision Boundary 시각화\n",
    "dt_clf = DecisionTreeClassifier(min_samples_leaf=7, random_state=156).fit(X_features, y_labels)\n",
    "visualize_boundary(dt_clf, X_features, y_labels)\n"
   ]
  },
  {
   "cell_type": "markdown",
   "id": "278d1c55",
   "metadata": {},
   "source": [
    "### 4-6. 4-4의 출력결과와 4-5의 출력결과를 과적합 측면에서 비교하여 서술하시오(4점)"
   ]
  },
  {
   "cell_type": "markdown",
   "id": "6df298ab",
   "metadata": {},
   "source": [
    "정답 : 4-5의 출력결과는 4-4에 비하여 이상치에 크게 반응하지 않고 일반화된 규칙에 따라 분류된 것을 확인 가능하다.\n",
    "   또한  4-4의 경우 학습데이터 셋에 지나치게 최적화, 즉 과적합 되어 테스트 데이터 셋에서는 정확도가 떨어질 우려가 있다."
   ]
  },
  {
   "cell_type": "markdown",
   "id": "c9f51e7c",
   "metadata": {},
   "source": [
    "# 5. 결정 트리 실습"
   ]
  },
  {
   "cell_type": "markdown",
   "id": "c3433a34",
   "metadata": {},
   "source": [
    "#### 5-1. penguins 데이터셋을 불러오고 간단한 데이터 전처리를 해주겠습니다. 아래 코드를 실행해주세요! (3점)"
   ]
  },
  {
   "cell_type": "code",
   "execution_count": 47,
   "id": "f95ad43c",
   "metadata": {},
   "outputs": [
    {
     "data": {
      "text/plain": [
       "species              0\n",
       "island               0\n",
       "bill_length_mm       0\n",
       "bill_depth_mm        0\n",
       "flipper_length_mm    0\n",
       "body_mass_g          0\n",
       "sex                  0\n",
       "dtype: int64"
      ]
     },
     "execution_count": 47,
     "metadata": {},
     "output_type": "execute_result"
    }
   ],
   "source": [
    "import seaborn as sns\n",
    "import numpy as np\n",
    "import pandas as pd \n",
    "\n",
    "penguins= sns.load_dataset(\"penguins\")\n",
    "\n",
    "# 이상치 처리\n",
    "penguins[\"sex\"] = penguins[\"sex\"].replace(\".\",np.NaN)\n",
    "\n",
    "# 결측치 처리\n",
    "cols=[\"bill_length_mm\",\"bill_depth_mm\",\"flipper_length_mm\",\"body_mass_g\"] # 숫자 데이터 컬럼\n",
    "\n",
    "#1. 숫자데이터로 이루어진 컬럼 결측치 -> 평균값으로 채우기\n",
    "for i in range(len(cols)):\n",
    "    penguins[cols[i]] = penguins[cols[i]].fillna(penguins[cols[i]].mean()) # 평균값으로 결측치를 채운다.\n",
    "\n",
    "#2. 문자 데이터로 이루어진 컬럼 결측치 -> row 제거\n",
    "penguins=penguins.dropna(subset=[\"sex\"])\n",
    "\n",
    "\n",
    "penguins.isna().sum(axis=0)"
   ]
  },
  {
   "cell_type": "code",
   "execution_count": 48,
   "id": "de8a92c5",
   "metadata": {},
   "outputs": [],
   "source": [
    "#피처와 레이블 분리\n",
    "\n",
    "X = penguins.drop([\"species\"],axis=1)\n",
    "y = penguins[\"species\"]"
   ]
  },
  {
   "cell_type": "markdown",
   "id": "2f7ed54e",
   "metadata": {},
   "source": [
    "#### 5-2. train_test_split을 사용하여 학습셋과 테스트셋을 분리해주세요.(test 데이터의 비율이 20%가 되게 분리 해주세요) (3점)"
   ]
  },
  {
   "cell_type": "code",
   "execution_count": 49,
   "id": "811e50f1",
   "metadata": {},
   "outputs": [],
   "source": [
    "from sklearn.model_selection import train_test_split\n",
    "\n",
    "X_train,X_test,y_train,y_test=train_test_split(X,y,test_size=0.2)"
   ]
  },
  {
   "cell_type": "markdown",
   "id": "3dc3a4a5",
   "metadata": {},
   "source": [
    "#### 5-3. 문자데이터로 이루어진 컬럼은 원-핫 인코딩을, 숫자데이터로 이루어진 컬럼은 스케일링을 진행하겠습니다. 아래 코드를 실행시켜주세요. (3점)"
   ]
  },
  {
   "cell_type": "code",
   "execution_count": 55,
   "id": "c5023326",
   "metadata": {},
   "outputs": [],
   "source": [
    "cat_cols = [\"island\",\"sex\"]\n",
    "num_cols =[\"bill_length_mm\",\"bill_depth_mm\",\"flipper_length_mm\",\"body_mass_g\"]\n",
    "           \n",
    "from sklearn.preprocessing import OneHotEncoder\n",
    "\n",
    "oe=OneHotEncoder(sparse=False)\n",
    "X_train_cat = oe.fit_transform(X_train[cat_cols])\n",
    "X_test_cat = oe.fit_transform(X_test[cat_cols])\n",
    "\n",
    "from sklearn.preprocessing import StandardScaler\n",
    "\n",
    "scaler=StandardScaler()\n",
    "X_train_scaler = scaler.fit_transform(X_train[num_cols])\n",
    "X_test_scaler = scaler.fit_transform(X_test[num_cols])\n",
    "\n",
    "# 원-핫 인코딩한 결과와 스케일링한 결과 합치기\n",
    "X_train_s=np.concatenate((X_train_cat,X_train_scaler),axis=1)\n",
    "X_test_s=np.concatenate((X_test_cat,X_test_scaler),axis=1)\n",
    "\n",
    "# y_train은 문자열이기 때문에 레이블 인코딩을 진행해줍니다.\n",
    "from sklearn.preprocessing import LabelEncoder\n",
    "\n",
    "e=LabelEncoder()\n",
    "y_train=e.fit_transform(y_train)\n",
    "y_test=e.fit_transform(y_test)"
   ]
  },
  {
   "cell_type": "markdown",
   "id": "920338a5",
   "metadata": {},
   "source": [
    "#### 5-4. 이제 decisiontree를 활용하여 학습시켜주겠습니다. 먼저 decisiontressClassifier의 하이퍼 파라미터는 모두 디폴트 값으로 설정해 수행하고, 정확도를 확인해주세요. (random_state는 156으로 설정해주세요.) (4점)"
   ]
  },
  {
   "cell_type": "code",
   "execution_count": 56,
   "id": "af1f6900",
   "metadata": {},
   "outputs": [
    {
     "name": "stdout",
     "output_type": "stream",
     "text": [
      "결정 트리 예측 정확도: 0.9552\n"
     ]
    }
   ],
   "source": [
    "from sklearn.tree import DecisionTreeClassifier\n",
    "from sklearn.metrics import accuracy_score\n",
    "\n",
    "dt_clf = DecisionTreeClassifier(random_state=156)\n",
    "dt_clf.fit(X_train_s, y_train)\n",
    "pred = dt_clf.predict(X_test_s)\n",
    "accuracy = accuracy_score(y_test,pred)\n",
    "print('결정 트리 예측 정확도: {0:.4f}'.format(accuracy))"
   ]
  },
  {
   "cell_type": "markdown",
   "id": "30aafda6",
   "metadata": {},
   "source": [
    "#### 5-5. 이번에는 결정 트리의 트리 깊이와 min_samples_leaf가 예측 정확도에 주는 영향을 살펴보겠습니다. (GridSearchCV 사용)  max_depth와 min_samples_leaf는 자유롭게 설정해주시고, scoring은 accuracy, cv는 5로 설정해주세요. 이후 GridSearchCV 최고 평균 정확도 수치와 최적 하이퍼 파라미터를 출력해주세요. (3점)"
   ]
  },
  {
   "cell_type": "code",
   "execution_count": 57,
   "id": "16fd1f05",
   "metadata": {},
   "outputs": [
    {
     "name": "stdout",
     "output_type": "stream",
     "text": [
      "Fitting 5 folds for each of 6 candidates, totalling 30 fits\n",
      "GridSearchCV 최고 평균 정확도 수치: 0.9549\n",
      "GridSearchCV 최적 하이퍼 파라미터: {'max_depth': 3, 'min_samples_leaf': 5}\n"
     ]
    }
   ],
   "source": [
    "from sklearn.model_selection import GridSearchCV\n",
    "\n",
    "params={\n",
    "    \"max_depth\" : [3,4,5],\n",
    "    \"min_samples_leaf\" : [5,6],\n",
    "}\n",
    "\n",
    "grid_cv = GridSearchCV(dt_clf,param_grid=params, scoring='accuracy', cv=5, verbose=1)\n",
    "grid_cv.fit(X_train_s, y_train)\n",
    "print('GridSearchCV 최고 평균 정확도 수치: {0:.4f}'.format(grid_cv.best_score_))\n",
    "print('GridSearchCV 최적 하이퍼 파라미터:',grid_cv.best_params_)"
   ]
  },
  {
   "cell_type": "markdown",
   "id": "f823d38e",
   "metadata": {},
   "source": [
    "#### 5-6. 마지막으로 별도의 테스트 세트에서 결정 트리의 정확도를 측정해보겠습니다. max_depth는 3으로 고정하고, max_leaf_nodes를 자유롭게 변경하며 변화에 따른 정확도를 측정해주세요. (4점)"
   ]
  },
  {
   "cell_type": "code",
   "execution_count": 58,
   "id": "c304b532",
   "metadata": {},
   "outputs": [
    {
     "name": "stdout",
     "output_type": "stream",
     "text": [
      "min_samples_leaf = 5 정확도: 0.9552\n",
      "min_samples_leaf = 6 정확도: 0.9552\n",
      "min_samples_leaf = 7 정확도: 0.9552\n",
      "min_samples_leaf = 8 정확도: 0.9403\n",
      "min_samples_leaf = 9 정확도: 0.9403\n",
      "min_samples_leaf = 10 정확도: 0.9254\n"
     ]
    }
   ],
   "source": [
    "min_samples_leaf=[5,6,7,8,9,10]\n",
    "\n",
    "#min_samples_leaf 값을 변화시키며 그때마다 학습과 테스트 세트에서의 예측 성능 측정\n",
    "\n",
    "for leaf in min_samples_leaf:\n",
    "    dt_clf = DecisionTreeClassifier(max_depth=3, min_samples_leaf=leaf, random_state=156)\n",
    "    dt_clf.fit(X_train_s , y_train)\n",
    "    pred = dt_clf.predict(X_test_s)\n",
    "    accuracy = accuracy_score(y_test , pred)\n",
    "    print('min_samples_leaf = {0} 정확도: {1:.4f}'.format(leaf , accuracy))"
   ]
  },
  {
   "cell_type": "markdown",
   "id": "21b91063",
   "metadata": {},
   "source": [
    "---"
   ]
  }
 ],
 "metadata": {
  "kernelspec": {
   "display_name": "Python 3 (ipykernel)",
   "language": "python",
   "name": "python3"
  },
  "language_info": {
   "codemirror_mode": {
    "name": "ipython",
    "version": 3
   },
   "file_extension": ".py",
   "mimetype": "text/x-python",
   "name": "python",
   "nbconvert_exporter": "python",
   "pygments_lexer": "ipython3",
   "version": "3.9.7"
  },
  "toc": {
   "base_numbering": 1,
   "nav_menu": {},
   "number_sections": true,
   "sideBar": true,
   "skip_h1_title": false,
   "title_cell": "Table of Contents",
   "title_sidebar": "Contents",
   "toc_cell": false,
   "toc_position": {},
   "toc_section_display": true,
   "toc_window_display": false
  }
 },
 "nbformat": 4,
 "nbformat_minor": 5
}
