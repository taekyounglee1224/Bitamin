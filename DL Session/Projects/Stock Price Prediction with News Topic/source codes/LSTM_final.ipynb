{
 "cells": [
  {
   "cell_type": "markdown",
   "id": "fc80feb9",
   "metadata": {},
   "source": [
    "### Import dataset"
   ]
  },
  {
   "cell_type": "code",
   "execution_count": 1,
   "id": "2059c61b",
   "metadata": {
    "ExecuteTime": {
     "end_time": "2024-02-12T16:03:33.651132Z",
     "start_time": "2024-02-12T16:03:30.727316Z"
    },
    "colab": {
     "base_uri": "https://localhost:8080/",
     "height": 617
    },
    "id": "2059c61b",
    "outputId": "576afb16-4157-4337-f4db-d04264361874"
   },
   "outputs": [],
   "source": [
    "import numpy as np\n",
    "import pandas as pd\n",
    "pd.set_option('display.max_rows', 100)\n",
    "import matplotlib.pyplot as plt"
   ]
  },
  {
   "cell_type": "markdown",
   "id": "zVBHDA4xub-S",
   "metadata": {
    "id": "zVBHDA4xub-S"
   },
   "source": [
    "### Merge dataset"
   ]
  },
  {
   "cell_type": "code",
   "execution_count": 2,
   "id": "jPRldaW5c653",
   "metadata": {
    "id": "jPRldaW5c653"
   },
   "outputs": [],
   "source": [
    "class PrepareData():\n",
    "    def __init__(self,stock_fp,news_fp):\n",
    "        self.stock_filepath = stock_fp\n",
    "        self.news_filepath = news_fp\n",
    "        self.topic_classes = ['CEO', 'CFO', 'Layoffs', 'Political', 'PressRelease', 'Undefined',\n",
    "       'cramer', 'earnings', 'gold', 'manda', 'paylimitwall', 'paywall',\n",
    "       'product', 'recession', 'tanalysis'] # undefined의 class가 5\n",
    "\n",
    "    def load_data(self):\n",
    "        stock = pd.read_csv(self.stock_filepath,index_col=0)\n",
    "        news = pd.read_csv(self.news_filepath,index_col=0)\n",
    "        ### parse date manually\n",
    "        stock['Date'] = pd.to_datetime(stock['Date'])\n",
    "        news['date'] = pd.to_datetime(news['date'])\n",
    "        return stock, news\n",
    "\n",
    "    def merging(self, stock, news):\n",
    "        ### fill na value of PINS column\n",
    "#         stock['PINS'] = stock['PINS'].fillna(stock['PINS'].iloc[75])\n",
    "\n",
    "        ### drop 'news_id' column\n",
    "#         news = news.drop(columns=['news_id'])\n",
    "\n",
    "        ### add date range from 18.01.02 to 18.12.31\n",
    "        temp_range = pd.DataFrame(dict(zip(stock.columns,[pd.date_range(start='2018-01-02',end='2018-12-31'),\n",
    "                                0,0,0,0, # 4\n",
    "                                0,0,0,0,\n",
    "                                0,0,0,0,\n",
    "                                0,0,0,0, # 16\n",
    "                                0,0,0,0,\n",
    "                                0,0,0,0,\n",
    "                                0,0,0,0, # 28\n",
    "                                0,0,0,0,\n",
    "                                0,0,0,0, # 36\n",
    "                                0 # 37\n",
    "                            ])))\n",
    "        stock_inc = pd.concat([temp_range,stock],axis=0)\n",
    "\n",
    "        ### merge stock_inc and news\n",
    "        # left = stock_inc\n",
    "        # on = date\n",
    "        # how = left\n",
    "        # rename 'date' to 'Date' of news df\n",
    "        news = news.rename(columns={'date':'Date'})\n",
    "        merged = pd.merge(left=stock_inc,right=news,on='Date',how='left')\n",
    "\n",
    "        ### Cut before 2018-02-13\n",
    "        merged = merged[42:].reset_index(drop=True)\n",
    "\n",
    "        # fill na with latest non-null values\n",
    "        columns_to_fill = ['source_name', 'topics', 'rank_score',\n",
    "                        'sentiment_Negative','sentiment_Neutral',\n",
    "                        'sentiment_Positive', 'type_Article', 'type_Video']\n",
    "        merged_fillna = merged.copy()\n",
    "        for column in columns_to_fill:\n",
    "            merged_fillna[column].fillna(method='ffill',inplace=True)\n",
    "\n",
    "        ### add moving average to sentiments\n",
    "        ma_nums = [5,60,120]\n",
    "        def mode_window(window):\n",
    "            return window.mode().iloc[0] if not len(window.mode())==0 else None\n",
    "        for num in ma_nums:\n",
    "            merged_fillna[f'{num}MA_sent_Neg']=merged_fillna['sentiment_Negative'].rolling(\n",
    "            window=num).mean()\n",
    "            merged_fillna[f'{num}MA_sent_Neu']=merged_fillna['sentiment_Neutral'].rolling(\n",
    "            window=num).mean()\n",
    "            merged_fillna[f'{num}MA_sent_Pos']=merged_fillna['sentiment_Positive'].rolling(\n",
    "            window=num).mean()\n",
    "        ### add moving mode to sentiments\n",
    "        for num in ma_nums:\n",
    "            merged_fillna[f'{num}MM_sent_Neg']=merged_fillna['sentiment_Negative'].rolling(\n",
    "            window=num).apply(mode_window)\n",
    "            merged_fillna[f'{num}MM_sent_Neu']=merged_fillna['sentiment_Neutral'].rolling(\n",
    "            window=num).apply(mode_window)\n",
    "            merged_fillna[f'{num}MM_sent_Pos']=merged_fillna['sentiment_Positive'].rolling(\n",
    "            window=num).apply(mode_window)\n",
    "        ### adding moving mode to topics\n",
    "        for num in ma_nums:\n",
    "            merged_fillna[f'{num}MM_topics']=merged_fillna['topics'].rolling(\n",
    "            window=num).apply(mode_window)\n",
    "\n",
    "        ### drop before 2019-01-02\n",
    "        total_df = merged_fillna.iloc[322:]\n",
    "        total_df = total_df.reset_index(drop=True)\n",
    "\n",
    "        ### drop unnecessaray columns\n",
    "        drop_cols = ['source_name','topics','rank_score',\n",
    "                    'sentiment_Negative','sentiment_Neutral',\n",
    "                    'sentiment_Positive','type_Article','type_Video']\n",
    "        total_df = total_df.drop(columns=drop_cols)\n",
    "\n",
    "        return total_df"
   ]
  },
  {
   "cell_type": "code",
   "execution_count": 3,
   "id": "cXT6Ts-1dPIr",
   "metadata": {
    "id": "cXT6Ts-1dPIr"
   },
   "outputs": [
    {
     "name": "stderr",
     "output_type": "stream",
     "text": [
      "C:\\Users\\sol91\\AppData\\Local\\Temp\\ipykernel_28920\\3770461931.py:56: FutureWarning: Series.fillna with 'method' is deprecated and will raise in a future version. Use obj.ffill() or obj.bfill() instead.\n",
      "  merged_fillna[column].fillna(method='ffill',inplace=True)\n"
     ]
    }
   ],
   "source": [
    "stock_filepath = 'netflix_60.csv' # 각자 파일 경로 설정\n",
    "news_filepath = 'news_processed_filtered_2.csv'\n",
    "loader = PrepareData(stock_filepath, news_filepath)\n",
    "stock_df, news_df=loader.load_data() # >> 감성분석 미포함으로 모델 돌릴 땐 stock_df 바로 사용하면 됨\n",
    "total_df = loader.merging(stock=stock_df, news=news_df) # 주식데이터셋에 감성분석,토픽 포함시킨 전체 데이터셋"
   ]
  },
  {
   "cell_type": "markdown",
   "id": "c4313692",
   "metadata": {},
   "source": [
    "### Choose dataset & Hyperparameter setting"
   ]
  },
  {
   "cell_type": "code",
   "execution_count": 4,
   "id": "56432e2c",
   "metadata": {},
   "outputs": [],
   "source": [
    "data, dataname = total_df, 'total_df' # stock_df / total_df\n",
    "TARGET = \"Close\"                      # \"Close\" / \"1d_ROC\"\n",
    "SEQ_SIZE = 60                         # 30 / 60 / 120\n",
    "PRED_SIZE = 10\n",
    "BATCH_SIZE = 8                        # 1 / 4 / 8\n",
    "HIDDEN_SIZE = 64                      # 64 / 128\n",
    "EPOCHS = 1000"
   ]
  },
  {
   "cell_type": "code",
   "execution_count": 5,
   "id": "75768c12",
   "metadata": {},
   "outputs": [
    {
     "data": {
      "text/html": [
       "<div>\n",
       "<style scoped>\n",
       "    .dataframe tbody tr th:only-of-type {\n",
       "        vertical-align: middle;\n",
       "    }\n",
       "\n",
       "    .dataframe tbody tr th {\n",
       "        vertical-align: top;\n",
       "    }\n",
       "\n",
       "    .dataframe thead th {\n",
       "        text-align: right;\n",
       "    }\n",
       "</style>\n",
       "<table border=\"1\" class=\"dataframe\">\n",
       "  <thead>\n",
       "    <tr style=\"text-align: right;\">\n",
       "      <th></th>\n",
       "      <th>Open</th>\n",
       "      <th>Close</th>\n",
       "      <th>High</th>\n",
       "      <th>Low</th>\n",
       "      <th>Volume</th>\n",
       "      <th>1d_ROC</th>\n",
       "      <th>5d_ROC</th>\n",
       "      <th>5MA</th>\n",
       "      <th>120MA</th>\n",
       "      <th>bol_high</th>\n",
       "      <th>...</th>\n",
       "      <th>5MM_sent_Pos</th>\n",
       "      <th>60MM_sent_Neg</th>\n",
       "      <th>60MM_sent_Neu</th>\n",
       "      <th>60MM_sent_Pos</th>\n",
       "      <th>120MM_sent_Neg</th>\n",
       "      <th>120MM_sent_Neu</th>\n",
       "      <th>120MM_sent_Pos</th>\n",
       "      <th>5MM_topics</th>\n",
       "      <th>60MM_topics</th>\n",
       "      <th>120MM_topics</th>\n",
       "    </tr>\n",
       "    <tr>\n",
       "      <th>Date</th>\n",
       "      <th></th>\n",
       "      <th></th>\n",
       "      <th></th>\n",
       "      <th></th>\n",
       "      <th></th>\n",
       "      <th></th>\n",
       "      <th></th>\n",
       "      <th></th>\n",
       "      <th></th>\n",
       "      <th></th>\n",
       "      <th></th>\n",
       "      <th></th>\n",
       "      <th></th>\n",
       "      <th></th>\n",
       "      <th></th>\n",
       "      <th></th>\n",
       "      <th></th>\n",
       "      <th></th>\n",
       "      <th></th>\n",
       "      <th></th>\n",
       "      <th></th>\n",
       "    </tr>\n",
       "  </thead>\n",
       "  <tbody>\n",
       "    <tr>\n",
       "      <th>2019-01-02</th>\n",
       "      <td>259.28</td>\n",
       "      <td>267.66</td>\n",
       "      <td>269.75</td>\n",
       "      <td>256.58</td>\n",
       "      <td>11642148</td>\n",
       "      <td>0.000000</td>\n",
       "      <td>14.443304</td>\n",
       "      <td>260.128</td>\n",
       "      <td>325.000667</td>\n",
       "      <td>286.872017</td>\n",
       "      <td>...</td>\n",
       "      <td>0.0</td>\n",
       "      <td>0.0</td>\n",
       "      <td>1.0</td>\n",
       "      <td>0.0</td>\n",
       "      <td>0.0</td>\n",
       "      <td>1.0</td>\n",
       "      <td>0.0</td>\n",
       "      <td>7.0</td>\n",
       "      <td>7.0</td>\n",
       "      <td>7.0</td>\n",
       "    </tr>\n",
       "    <tr>\n",
       "      <th>2019-01-03</th>\n",
       "      <td>270.20</td>\n",
       "      <td>271.20</td>\n",
       "      <td>275.79</td>\n",
       "      <td>264.43</td>\n",
       "      <td>14954204</td>\n",
       "      <td>1.322573</td>\n",
       "      <td>6.910553</td>\n",
       "      <td>263.634</td>\n",
       "      <td>323.962333</td>\n",
       "      <td>286.339561</td>\n",
       "      <td>...</td>\n",
       "      <td>0.0</td>\n",
       "      <td>0.0</td>\n",
       "      <td>1.0</td>\n",
       "      <td>0.0</td>\n",
       "      <td>0.0</td>\n",
       "      <td>1.0</td>\n",
       "      <td>0.0</td>\n",
       "      <td>7.0</td>\n",
       "      <td>7.0</td>\n",
       "      <td>7.0</td>\n",
       "    </tr>\n",
       "    <tr>\n",
       "      <th>2019-01-04</th>\n",
       "      <td>281.88</td>\n",
       "      <td>297.57</td>\n",
       "      <td>297.80</td>\n",
       "      <td>278.54</td>\n",
       "      <td>19309374</td>\n",
       "      <td>9.723451</td>\n",
       "      <td>16.433854</td>\n",
       "      <td>272.034</td>\n",
       "      <td>323.104750</td>\n",
       "      <td>291.444515</td>\n",
       "      <td>...</td>\n",
       "      <td>0.0</td>\n",
       "      <td>0.0</td>\n",
       "      <td>1.0</td>\n",
       "      <td>0.0</td>\n",
       "      <td>0.0</td>\n",
       "      <td>1.0</td>\n",
       "      <td>0.0</td>\n",
       "      <td>7.0</td>\n",
       "      <td>7.0</td>\n",
       "      <td>7.0</td>\n",
       "    </tr>\n",
       "    <tr>\n",
       "      <th>2019-01-07</th>\n",
       "      <td>302.10</td>\n",
       "      <td>315.34</td>\n",
       "      <td>316.80</td>\n",
       "      <td>301.65</td>\n",
       "      <td>18598132</td>\n",
       "      <td>5.971704</td>\n",
       "      <td>23.141206</td>\n",
       "      <td>283.886</td>\n",
       "      <td>322.570250</td>\n",
       "      <td>300.275444</td>\n",
       "      <td>...</td>\n",
       "      <td>0.0</td>\n",
       "      <td>0.0</td>\n",
       "      <td>1.0</td>\n",
       "      <td>0.0</td>\n",
       "      <td>0.0</td>\n",
       "      <td>1.0</td>\n",
       "      <td>0.0</td>\n",
       "      <td>7.0</td>\n",
       "      <td>7.0</td>\n",
       "      <td>7.0</td>\n",
       "    </tr>\n",
       "    <tr>\n",
       "      <th>2019-01-08</th>\n",
       "      <td>319.98</td>\n",
       "      <td>320.27</td>\n",
       "      <td>320.59</td>\n",
       "      <td>308.01</td>\n",
       "      <td>15324452</td>\n",
       "      <td>1.563392</td>\n",
       "      <td>19.655533</td>\n",
       "      <td>294.408</td>\n",
       "      <td>322.113083</td>\n",
       "      <td>310.280492</td>\n",
       "      <td>...</td>\n",
       "      <td>0.0</td>\n",
       "      <td>0.0</td>\n",
       "      <td>1.0</td>\n",
       "      <td>0.0</td>\n",
       "      <td>0.0</td>\n",
       "      <td>1.0</td>\n",
       "      <td>0.0</td>\n",
       "      <td>7.0</td>\n",
       "      <td>7.0</td>\n",
       "      <td>7.0</td>\n",
       "    </tr>\n",
       "    <tr>\n",
       "      <th>...</th>\n",
       "      <td>...</td>\n",
       "      <td>...</td>\n",
       "      <td>...</td>\n",
       "      <td>...</td>\n",
       "      <td>...</td>\n",
       "      <td>...</td>\n",
       "      <td>...</td>\n",
       "      <td>...</td>\n",
       "      <td>...</td>\n",
       "      <td>...</td>\n",
       "      <td>...</td>\n",
       "      <td>...</td>\n",
       "      <td>...</td>\n",
       "      <td>...</td>\n",
       "      <td>...</td>\n",
       "      <td>...</td>\n",
       "      <td>...</td>\n",
       "      <td>...</td>\n",
       "      <td>...</td>\n",
       "      <td>...</td>\n",
       "      <td>...</td>\n",
       "    </tr>\n",
       "    <tr>\n",
       "      <th>2023-12-22</th>\n",
       "      <td>494.00</td>\n",
       "      <td>486.76</td>\n",
       "      <td>496.02</td>\n",
       "      <td>485.45</td>\n",
       "      <td>2702672</td>\n",
       "      <td>-0.986554</td>\n",
       "      <td>3.114011</td>\n",
       "      <td>489.756</td>\n",
       "      <td>428.004000</td>\n",
       "      <td>500.053490</td>\n",
       "      <td>...</td>\n",
       "      <td>1.0</td>\n",
       "      <td>0.0</td>\n",
       "      <td>0.0</td>\n",
       "      <td>1.0</td>\n",
       "      <td>0.0</td>\n",
       "      <td>0.0</td>\n",
       "      <td>1.0</td>\n",
       "      <td>7.0</td>\n",
       "      <td>7.0</td>\n",
       "      <td>7.0</td>\n",
       "    </tr>\n",
       "    <tr>\n",
       "      <th>2023-12-26</th>\n",
       "      <td>489.39</td>\n",
       "      <td>491.19</td>\n",
       "      <td>491.48</td>\n",
       "      <td>486.38</td>\n",
       "      <td>2032683</td>\n",
       "      <td>0.910099</td>\n",
       "      <td>1.042952</td>\n",
       "      <td>490.770</td>\n",
       "      <td>428.440250</td>\n",
       "      <td>501.759236</td>\n",
       "      <td>...</td>\n",
       "      <td>1.0</td>\n",
       "      <td>0.0</td>\n",
       "      <td>0.0</td>\n",
       "      <td>1.0</td>\n",
       "      <td>0.0</td>\n",
       "      <td>0.0</td>\n",
       "      <td>1.0</td>\n",
       "      <td>7.0</td>\n",
       "      <td>7.0</td>\n",
       "      <td>7.0</td>\n",
       "    </tr>\n",
       "    <tr>\n",
       "      <th>2023-12-27</th>\n",
       "      <td>491.24</td>\n",
       "      <td>491.79</td>\n",
       "      <td>494.02</td>\n",
       "      <td>489.25</td>\n",
       "      <td>2559832</td>\n",
       "      <td>0.122152</td>\n",
       "      <td>-0.652499</td>\n",
       "      <td>490.124</td>\n",
       "      <td>428.887667</td>\n",
       "      <td>503.497049</td>\n",
       "      <td>...</td>\n",
       "      <td>1.0</td>\n",
       "      <td>0.0</td>\n",
       "      <td>0.0</td>\n",
       "      <td>1.0</td>\n",
       "      <td>0.0</td>\n",
       "      <td>0.0</td>\n",
       "      <td>1.0</td>\n",
       "      <td>7.0</td>\n",
       "      <td>7.0</td>\n",
       "      <td>7.0</td>\n",
       "    </tr>\n",
       "    <tr>\n",
       "      <th>2023-12-28</th>\n",
       "      <td>492.00</td>\n",
       "      <td>490.51</td>\n",
       "      <td>492.89</td>\n",
       "      <td>489.07</td>\n",
       "      <td>1708897</td>\n",
       "      <td>-0.260274</td>\n",
       "      <td>0.253439</td>\n",
       "      <td>490.372</td>\n",
       "      <td>429.294333</td>\n",
       "      <td>505.082300</td>\n",
       "      <td>...</td>\n",
       "      <td>1.0</td>\n",
       "      <td>0.0</td>\n",
       "      <td>0.0</td>\n",
       "      <td>1.0</td>\n",
       "      <td>0.0</td>\n",
       "      <td>0.0</td>\n",
       "      <td>1.0</td>\n",
       "      <td>7.0</td>\n",
       "      <td>7.0</td>\n",
       "      <td>7.0</td>\n",
       "    </tr>\n",
       "    <tr>\n",
       "      <th>2023-12-29</th>\n",
       "      <td>490.37</td>\n",
       "      <td>486.88</td>\n",
       "      <td>492.23</td>\n",
       "      <td>481.93</td>\n",
       "      <td>2740555</td>\n",
       "      <td>-0.740046</td>\n",
       "      <td>-0.962145</td>\n",
       "      <td>489.426</td>\n",
       "      <td>429.683250</td>\n",
       "      <td>506.268495</td>\n",
       "      <td>...</td>\n",
       "      <td>1.0</td>\n",
       "      <td>0.0</td>\n",
       "      <td>0.0</td>\n",
       "      <td>1.0</td>\n",
       "      <td>0.0</td>\n",
       "      <td>0.0</td>\n",
       "      <td>1.0</td>\n",
       "      <td>7.0</td>\n",
       "      <td>7.0</td>\n",
       "      <td>7.0</td>\n",
       "    </tr>\n",
       "  </tbody>\n",
       "</table>\n",
       "<p>1257 rows × 58 columns</p>\n",
       "</div>"
      ],
      "text/plain": [
       "              Open   Close    High     Low    Volume    1d_ROC     5d_ROC  \\\n",
       "Date                                                                        \n",
       "2019-01-02  259.28  267.66  269.75  256.58  11642148  0.000000  14.443304   \n",
       "2019-01-03  270.20  271.20  275.79  264.43  14954204  1.322573   6.910553   \n",
       "2019-01-04  281.88  297.57  297.80  278.54  19309374  9.723451  16.433854   \n",
       "2019-01-07  302.10  315.34  316.80  301.65  18598132  5.971704  23.141206   \n",
       "2019-01-08  319.98  320.27  320.59  308.01  15324452  1.563392  19.655533   \n",
       "...            ...     ...     ...     ...       ...       ...        ...   \n",
       "2023-12-22  494.00  486.76  496.02  485.45   2702672 -0.986554   3.114011   \n",
       "2023-12-26  489.39  491.19  491.48  486.38   2032683  0.910099   1.042952   \n",
       "2023-12-27  491.24  491.79  494.02  489.25   2559832  0.122152  -0.652499   \n",
       "2023-12-28  492.00  490.51  492.89  489.07   1708897 -0.260274   0.253439   \n",
       "2023-12-29  490.37  486.88  492.23  481.93   2740555 -0.740046  -0.962145   \n",
       "\n",
       "                5MA       120MA    bol_high  ...  5MM_sent_Pos  60MM_sent_Neg  \\\n",
       "Date                                         ...                                \n",
       "2019-01-02  260.128  325.000667  286.872017  ...           0.0            0.0   \n",
       "2019-01-03  263.634  323.962333  286.339561  ...           0.0            0.0   \n",
       "2019-01-04  272.034  323.104750  291.444515  ...           0.0            0.0   \n",
       "2019-01-07  283.886  322.570250  300.275444  ...           0.0            0.0   \n",
       "2019-01-08  294.408  322.113083  310.280492  ...           0.0            0.0   \n",
       "...             ...         ...         ...  ...           ...            ...   \n",
       "2023-12-22  489.756  428.004000  500.053490  ...           1.0            0.0   \n",
       "2023-12-26  490.770  428.440250  501.759236  ...           1.0            0.0   \n",
       "2023-12-27  490.124  428.887667  503.497049  ...           1.0            0.0   \n",
       "2023-12-28  490.372  429.294333  505.082300  ...           1.0            0.0   \n",
       "2023-12-29  489.426  429.683250  506.268495  ...           1.0            0.0   \n",
       "\n",
       "            60MM_sent_Neu  60MM_sent_Pos  120MM_sent_Neg  120MM_sent_Neu  \\\n",
       "Date                                                                       \n",
       "2019-01-02            1.0            0.0             0.0             1.0   \n",
       "2019-01-03            1.0            0.0             0.0             1.0   \n",
       "2019-01-04            1.0            0.0             0.0             1.0   \n",
       "2019-01-07            1.0            0.0             0.0             1.0   \n",
       "2019-01-08            1.0            0.0             0.0             1.0   \n",
       "...                   ...            ...             ...             ...   \n",
       "2023-12-22            0.0            1.0             0.0             0.0   \n",
       "2023-12-26            0.0            1.0             0.0             0.0   \n",
       "2023-12-27            0.0            1.0             0.0             0.0   \n",
       "2023-12-28            0.0            1.0             0.0             0.0   \n",
       "2023-12-29            0.0            1.0             0.0             0.0   \n",
       "\n",
       "            120MM_sent_Pos  5MM_topics  60MM_topics  120MM_topics  \n",
       "Date                                                               \n",
       "2019-01-02             0.0         7.0          7.0           7.0  \n",
       "2019-01-03             0.0         7.0          7.0           7.0  \n",
       "2019-01-04             0.0         7.0          7.0           7.0  \n",
       "2019-01-07             0.0         7.0          7.0           7.0  \n",
       "2019-01-08             0.0         7.0          7.0           7.0  \n",
       "...                    ...         ...          ...           ...  \n",
       "2023-12-22             1.0         7.0          7.0           7.0  \n",
       "2023-12-26             1.0         7.0          7.0           7.0  \n",
       "2023-12-27             1.0         7.0          7.0           7.0  \n",
       "2023-12-28             1.0         7.0          7.0           7.0  \n",
       "2023-12-29             1.0         7.0          7.0           7.0  \n",
       "\n",
       "[1257 rows x 58 columns]"
      ]
     },
     "execution_count": 5,
     "metadata": {},
     "output_type": "execute_result"
    }
   ],
   "source": [
    "data.index = data[\"Date\"]\n",
    "data.drop(columns = \"Date\", inplace = True)\n",
    "data[\"PINS\"].fillna(24.99, inplace = True)\n",
    "data"
   ]
  },
  {
   "cell_type": "markdown",
   "id": "rm-R3f2nuoxg",
   "metadata": {
    "id": "rm-R3f2nuoxg"
   },
   "source": [
    "### Make train datset"
   ]
  },
  {
   "cell_type": "code",
   "execution_count": 6,
   "id": "59b63d6f",
   "metadata": {
    "ExecuteTime": {
     "end_time": "2024-02-12T16:03:33.743478Z",
     "start_time": "2024-02-12T16:03:33.726632Z"
    },
    "colab": {
     "base_uri": "https://localhost:8080/"
    },
    "id": "59b63d6f",
    "outputId": "4940f01b-4337-475e-f42e-e07119dac23a"
   },
   "outputs": [
    {
     "name": "stdout",
     "output_type": "stream",
     "text": [
      "[[259.28 267.66 269.75 ...   7.     7.     7.  ]\n",
      " [270.2  271.2  275.79 ...   7.     7.     7.  ]\n",
      " [281.88 297.57 297.8  ...   7.     7.     7.  ]\n",
      " ...\n",
      " [367.87 359.97 368.38 ...   7.     7.     7.  ]\n",
      " [361.   353.37 362.47 ...   7.     7.     7.  ]\n",
      " [354.48 354.61 355.94 ...   7.     7.     7.  ]] \n",
      " [356.56 366.96 367.72 369.75 367.88 365.49 361.41 364.71 363.92 367.65]\n",
      "X size :  (1188, 60, 58)\n",
      "y size :  (1188, 10)\n"
     ]
    }
   ],
   "source": [
    "def split_xy(dataset, time_steps, y_column):\n",
    "    x, y = list(), list()\n",
    "    for i in range(len(dataset)):\n",
    "        x_end_number = i + time_steps\n",
    "        y_end_number = x_end_number + y_column\n",
    "\n",
    "        if y_end_number > len(dataset):\n",
    "            break\n",
    "        tmp_x = dataset.iloc[i:x_end_number, :]  # Adjusted for Pandas\n",
    "        tmp_y = dataset.iloc[x_end_number:y_end_number, :].loc[:, TARGET]\n",
    "        x.append(tmp_x.values)  # Convert to numpy array\n",
    "        y.append(tmp_y.values)  # Convert to numpy array\n",
    "\n",
    "    return np.array(x), np.array(y)\n",
    "\n",
    "X, y = split_xy(data, SEQ_SIZE, PRED_SIZE)\n",
    "print(X[0,:],\"\\n\", y[0])\n",
    "print(\"X size : \", X.shape)\n",
    "print(\"y size : \", y.shape)"
   ]
  },
  {
   "cell_type": "markdown",
   "id": "26bf33a6",
   "metadata": {},
   "source": [
    "### Define X_test"
   ]
  },
  {
   "cell_type": "code",
   "execution_count": 7,
   "id": "e7e9475c",
   "metadata": {},
   "outputs": [
    {
     "name": "stdout",
     "output_type": "stream",
     "text": [
      "[[[378.01 372.59 378.6  ...   7.     7.     7.  ]\n",
      "  [368.43 381.51 382.52 ...   7.     7.     7.  ]\n",
      "  [378.05 385.95 387.17 ...   7.     7.     7.  ]\n",
      "  ...\n",
      "  [491.24 491.79 494.02 ...   7.     7.     7.  ]\n",
      "  [492.   490.51 492.89 ...   7.     7.     7.  ]\n",
      "  [490.37 486.88 492.23 ...   7.     7.     7.  ]]]\n",
      "X_test size :  (1, 60, 58)\n"
     ]
    }
   ],
   "source": [
    "X_test = data.tail(SEQ_SIZE).values.reshape(1, SEQ_SIZE, data.shape[1])\n",
    "print(X_test)\n",
    "print(\"X_test size : \", X_test.shape)"
   ]
  },
  {
   "cell_type": "markdown",
   "id": "dvw92WElvA7x",
   "metadata": {
    "id": "dvw92WElvA7x"
   },
   "source": [
    "### Standardization"
   ]
  },
  {
   "cell_type": "code",
   "execution_count": 8,
   "id": "78ba78ed",
   "metadata": {
    "ExecuteTime": {
     "end_time": "2024-02-12T17:54:28.610736Z",
     "start_time": "2024-02-12T17:54:28.587931Z"
    },
    "id": "78ba78ed"
   },
   "outputs": [
    {
     "name": "stdout",
     "output_type": "stream",
     "text": [
      "X size :  (1188, 60, 58)\n",
      "X_test size :  (1, 60, 58)\n"
     ]
    }
   ],
   "source": [
    "from sklearn.preprocessing import StandardScaler\n",
    "\n",
    "X = X.reshape(X.shape[0], X.shape[1] * X.shape[2])\n",
    "scaler = StandardScaler()\n",
    "scaler.fit(X)\n",
    "X = scaler.transform(X)\n",
    "X = X.reshape(X.shape[0], SEQ_SIZE, data.shape[1])\n",
    "\n",
    "X_test = X_test.reshape(X_test.shape[0], X_test.shape[1] * X_test.shape[2])\n",
    "X_test = scaler.transform(X_test)\n",
    "X_test = X_test.reshape(X_test.shape[0], SEQ_SIZE, data.shape[1])\n",
    "\n",
    "print(\"X size : \", X.shape)\n",
    "print(\"X_test size : \", X_test.shape)"
   ]
  },
  {
   "cell_type": "markdown",
   "id": "bf82a36a",
   "metadata": {},
   "source": [
    "### Split train-validation dataset"
   ]
  },
  {
   "cell_type": "code",
   "execution_count": 9,
   "id": "6c9f6dae",
   "metadata": {
    "ExecuteTime": {
     "end_time": "2024-02-12T17:56:21.092065Z",
     "start_time": "2024-02-12T17:56:21.073821Z"
    },
    "id": "6c9f6dae"
   },
   "outputs": [],
   "source": [
    "# to DataLoader\n",
    "import torch\n",
    "from torch.utils.data import Dataset, DataLoader, TensorDataset\n",
    "from sklearn.model_selection import train_test_split\n",
    "\n",
    "X_train, X_valid, y_train, y_valid = train_test_split(X, y, random_state = 1, test_size = 0.2)\n",
    "\n",
    "# to tensor\n",
    "X_train = torch.tensor(X_train.astype(np.float32), dtype = torch.float32)\n",
    "X_valid = torch.tensor(X_valid.astype(np.float32), dtype = torch.float32)\n",
    "y_train = torch.tensor(y_train.astype(np.float32), dtype = torch.float32)\n",
    "y_valid = torch.tensor(y_valid.astype(np.float32), dtype = torch.float32)\n",
    "\n",
    "# to DataLoader\n",
    "train_loader = DataLoader(TensorDataset(X_train, y_train), batch_size = BATCH_SIZE, shuffle = True)\n",
    "val_loader = DataLoader(TensorDataset(X_valid, y_valid), batch_size = BATCH_SIZE, shuffle = False)"
   ]
  },
  {
   "cell_type": "markdown",
   "id": "2kbCnIxevF36",
   "metadata": {
    "id": "2kbCnIxevF36"
   },
   "source": [
    "### Modeling"
   ]
  },
  {
   "cell_type": "code",
   "execution_count": 10,
   "id": "9e64f645",
   "metadata": {
    "ExecuteTime": {
     "end_time": "2024-02-12T17:56:18.558715Z",
     "start_time": "2024-02-12T17:56:18.538485Z"
    },
    "id": "9e64f645"
   },
   "outputs": [],
   "source": [
    "import torch.nn as nn\n",
    "import torch.nn.functional as F\n",
    "import torch.optim as optim\n",
    "from torch.autograd import Variable\n",
    "from torch.nn import Parameter\n",
    "from torch import Tensor\n",
    "from torch.optim.lr_scheduler import ReduceLROnPlateau\n",
    "\n",
    "import copy\n",
    "class EarlyStopping:\n",
    "    def __init__(self, patience = 5, min_delta = 0, restore_best_weights = True):\n",
    "        self.patience = patience\n",
    "        self.min_delta = min_delta\n",
    "        self.restore_best_weights = restore_best_weights\n",
    "        self.best_model = None\n",
    "        self.best_loss = None\n",
    "        self.counter = 0\n",
    "        self.status = \"\"\n",
    "\n",
    "    def __call__(self, model, val_loss):\n",
    "        if self.best_loss is None:\n",
    "            self.best_loss = val_loss\n",
    "            self.best_model = copy.deepcopy(model.state_dict())\n",
    "        elif self.best_loss - val_loss >= self.min_delta:\n",
    "            self.best_model = copy.deepcopy(model.state_dict())\n",
    "            self.best_loss = val_loss\n",
    "            self.counter = 0\n",
    "            self.status = f\"Improvement found, counter reset to {self.counter}\"\n",
    "        else:\n",
    "            self.counter += 1\n",
    "            self.status = f\"No improvement in the last {self.counter} epochs\"\n",
    "            if self.counter >= self.patience:\n",
    "                self.status = f\"Early stopping triggered after {self.counter} epochs.\"\n",
    "                if self.restore_best_weights:\n",
    "                    model.load_state_dict(self.best_model)\n",
    "                return True\n",
    "        return False\n",
    "\n",
    "class LSTMModel(nn.Module):\n",
    "    def __init__(self,input_dim):\n",
    "        super(LSTMModel,self).__init__()\n",
    "        self.lstm = nn.LSTM(input_dim, hidden_size = HIDDEN_SIZE, batch_first = True)\n",
    "        self.dropout = nn.Dropout(0.2)\n",
    "        self.seq = nn.Sequential(nn.Linear(HIDDEN_SIZE, 32),\n",
    "                                nn.ReLU(),\n",
    "                                nn.Linear(32, 32),\n",
    "                                nn.ReLU(),\n",
    "                                nn.Linear(32, 32),\n",
    "                                nn.ReLU(),\n",
    "                                nn.Linear(32, 32),\n",
    "                                nn.ReLU(),\n",
    "                                nn.Linear(32, PRED_SIZE)\n",
    "                                )\n",
    "\n",
    "    def forward(self,x):\n",
    "        x,_ = self.lstm(x)\n",
    "#         print('output of lstm :',x.size()) # torch.Size([1, 120, 64])\n",
    "        x = self.dropout(x[:,-1,:])\n",
    "#         print('from lstm to linear :',x.size()) # torch.Size([1, 64])\n",
    "        x = self.seq(x)\n",
    "        return x\n",
    "\n",
    "class RMSELoss(nn.Module):\n",
    "    def __init__(self):\n",
    "        super(RMSELoss,self).__init__()\n",
    "        self.mse = nn.MSELoss()\n",
    "\n",
    "    def forward(self,yhat,y):\n",
    "        return torch.sqrt(self.mse(yhat,y))"
   ]
  },
  {
   "cell_type": "code",
   "execution_count": 11,
   "id": "d11f3882",
   "metadata": {
    "ExecuteTime": {
     "end_time": "2024-02-12T17:56:20.405633Z",
     "start_time": "2024-02-12T17:56:20.397917Z"
    },
    "id": "d11f3882"
   },
   "outputs": [],
   "source": [
    "model = LSTMModel(X_train.shape[2])\n",
    "criterion = RMSELoss()\n",
    "optimizer = optim.Adam(model.parameters(), lr = 0.001)\n",
    "scheduler = ReduceLROnPlateau(optimizer, 'min', factor = 0.1, patience = 20, verbose = True)"
   ]
  },
  {
   "cell_type": "markdown",
   "id": "02c1ca85",
   "metadata": {},
   "source": [
    "### RUN!!"
   ]
  },
  {
   "cell_type": "code",
   "execution_count": 12,
   "id": "96bcf3a0",
   "metadata": {
    "ExecuteTime": {
     "end_time": "2024-02-12T17:58:09.984300Z",
     "start_time": "2024-02-12T17:56:21.797763Z"
    },
    "colab": {
     "base_uri": "https://localhost:8080/"
    },
    "id": "96bcf3a0",
    "outputId": "8e6611c8-d91b-4e81-9409-690d192cbc68",
    "scrolled": true
   },
   "outputs": [
    {
     "name": "stdout",
     "output_type": "stream",
     "text": [
      "Epoch 1/1000, Train Loss: 307.4854, Validation Loss: 76.7042\n",
      "Epoch 2/1000, Train Loss: 45.7397, Validation Loss: 28.2554\n",
      "Epoch 3/1000, Train Loss: 41.9365, Validation Loss: 29.2794\n",
      "Epoch 4/1000, Train Loss: 36.6562, Validation Loss: 24.4018\n",
      "Epoch 5/1000, Train Loss: 37.3056, Validation Loss: 23.4248\n",
      "Epoch 6/1000, Train Loss: 34.3078, Validation Loss: 21.3692\n",
      "Epoch 7/1000, Train Loss: 34.1032, Validation Loss: 31.5740\n",
      "Epoch 8/1000, Train Loss: 33.8888, Validation Loss: 19.3776\n",
      "Epoch 9/1000, Train Loss: 33.6168, Validation Loss: 20.9112\n",
      "Epoch 10/1000, Train Loss: 32.4292, Validation Loss: 19.2236\n",
      "Epoch 11/1000, Train Loss: 31.0703, Validation Loss: 20.8034\n",
      "Epoch 12/1000, Train Loss: 31.9798, Validation Loss: 21.8761\n",
      "Epoch 13/1000, Train Loss: 32.0305, Validation Loss: 26.3998\n",
      "Epoch 14/1000, Train Loss: 32.0572, Validation Loss: 18.9660\n",
      "Epoch 15/1000, Train Loss: 31.1683, Validation Loss: 22.6734\n",
      "Epoch 16/1000, Train Loss: 29.5073, Validation Loss: 25.3878\n",
      "Epoch 17/1000, Train Loss: 30.3828, Validation Loss: 19.6076\n",
      "Epoch 18/1000, Train Loss: 31.7495, Validation Loss: 19.5610\n",
      "Epoch 19/1000, Train Loss: 34.2245, Validation Loss: 23.4643\n",
      "Epoch 20/1000, Train Loss: 29.7674, Validation Loss: 18.3817\n",
      "Epoch 21/1000, Train Loss: 28.9795, Validation Loss: 19.6837\n",
      "Epoch 22/1000, Train Loss: 28.6611, Validation Loss: 18.9462\n",
      "Epoch 23/1000, Train Loss: 29.1793, Validation Loss: 20.5697\n",
      "Epoch 24/1000, Train Loss: 28.6475, Validation Loss: 18.5987\n",
      "Epoch 25/1000, Train Loss: 27.9379, Validation Loss: 18.9901\n",
      "Epoch 26/1000, Train Loss: 28.1513, Validation Loss: 18.6460\n",
      "Epoch 27/1000, Train Loss: 27.7878, Validation Loss: 31.6253\n",
      "Epoch 28/1000, Train Loss: 27.4730, Validation Loss: 18.3753\n",
      "Epoch 29/1000, Train Loss: 25.8022, Validation Loss: 22.5994\n",
      "Epoch 30/1000, Train Loss: 26.0866, Validation Loss: 25.1673\n",
      "Epoch 31/1000, Train Loss: 25.9257, Validation Loss: 17.8303\n",
      "Epoch 32/1000, Train Loss: 25.3162, Validation Loss: 24.8461\n",
      "Epoch 33/1000, Train Loss: 25.6824, Validation Loss: 25.2160\n",
      "Epoch 34/1000, Train Loss: 26.4233, Validation Loss: 23.3925\n",
      "Epoch 35/1000, Train Loss: 25.5066, Validation Loss: 23.4764\n",
      "Epoch 36/1000, Train Loss: 25.0031, Validation Loss: 18.7485\n",
      "Epoch 37/1000, Train Loss: 24.7357, Validation Loss: 24.6613\n",
      "Epoch 38/1000, Train Loss: 24.3550, Validation Loss: 22.5261\n",
      "Epoch 39/1000, Train Loss: 24.1357, Validation Loss: 17.6104\n",
      "Epoch 40/1000, Train Loss: 23.3066, Validation Loss: 17.6440\n",
      "Epoch 41/1000, Train Loss: 24.0737, Validation Loss: 19.3470\n",
      "Epoch 42/1000, Train Loss: 23.4395, Validation Loss: 23.6349\n",
      "Epoch 43/1000, Train Loss: 23.3246, Validation Loss: 27.7613\n",
      "Epoch 44/1000, Train Loss: 23.2882, Validation Loss: 23.7408\n",
      "Epoch 45/1000, Train Loss: 23.0245, Validation Loss: 17.6689\n",
      "Epoch 46/1000, Train Loss: 21.6023, Validation Loss: 17.2545\n",
      "Epoch 47/1000, Train Loss: 22.2514, Validation Loss: 17.4042\n",
      "Epoch 48/1000, Train Loss: 21.7875, Validation Loss: 19.0827\n",
      "Epoch 49/1000, Train Loss: 21.3953, Validation Loss: 18.4241\n",
      "Epoch 50/1000, Train Loss: 21.8226, Validation Loss: 16.2468\n",
      "Epoch 51/1000, Train Loss: 21.5662, Validation Loss: 17.7059\n",
      "Epoch 52/1000, Train Loss: 22.1620, Validation Loss: 21.9678\n",
      "Epoch 53/1000, Train Loss: 21.0844, Validation Loss: 15.9610\n",
      "Epoch 54/1000, Train Loss: 22.3359, Validation Loss: 16.4263\n",
      "Epoch 55/1000, Train Loss: 20.8078, Validation Loss: 15.8953\n",
      "Epoch 56/1000, Train Loss: 20.7466, Validation Loss: 16.6258\n",
      "Epoch 57/1000, Train Loss: 20.8676, Validation Loss: 22.1438\n",
      "Epoch 58/1000, Train Loss: 21.5419, Validation Loss: 16.1294\n",
      "Epoch 59/1000, Train Loss: 21.6175, Validation Loss: 21.0802\n",
      "Epoch 60/1000, Train Loss: 21.3862, Validation Loss: 17.0172\n",
      "Epoch 61/1000, Train Loss: 20.4124, Validation Loss: 15.6071\n",
      "Epoch 62/1000, Train Loss: 20.1560, Validation Loss: 19.0660\n",
      "Epoch 63/1000, Train Loss: 22.1268, Validation Loss: 33.1648\n",
      "Epoch 64/1000, Train Loss: 20.9420, Validation Loss: 19.1780\n",
      "Epoch 65/1000, Train Loss: 19.8144, Validation Loss: 16.2349\n",
      "Epoch 66/1000, Train Loss: 19.6687, Validation Loss: 19.7474\n",
      "Epoch 67/1000, Train Loss: 19.5515, Validation Loss: 15.6732\n",
      "Epoch 68/1000, Train Loss: 19.4792, Validation Loss: 19.8802\n",
      "Epoch 69/1000, Train Loss: 19.4045, Validation Loss: 16.5845\n",
      "Epoch 70/1000, Train Loss: 19.5736, Validation Loss: 21.1489\n",
      "Epoch 71/1000, Train Loss: 20.4248, Validation Loss: 17.1530\n",
      "Epoch 72/1000, Train Loss: 19.4050, Validation Loss: 17.8149\n",
      "Epoch 73/1000, Train Loss: 19.5624, Validation Loss: 18.3405\n",
      "Epoch 74/1000, Train Loss: 19.4615, Validation Loss: 17.2197\n",
      "Epoch 75/1000, Train Loss: 19.2405, Validation Loss: 18.7065\n",
      "Epoch 76/1000, Train Loss: 18.7205, Validation Loss: 16.4792\n",
      "Epoch 77/1000, Train Loss: 18.9488, Validation Loss: 16.0571\n",
      "Epoch 78/1000, Train Loss: 18.6140, Validation Loss: 17.1246\n",
      "Epoch 79/1000, Train Loss: 18.9011, Validation Loss: 15.5448\n",
      "Epoch 80/1000, Train Loss: 18.9007, Validation Loss: 17.5283\n",
      "Epoch 81/1000, Train Loss: 18.7725, Validation Loss: 16.1610\n",
      "Epoch 82/1000, Train Loss: 18.1773, Validation Loss: 18.3728\n",
      "Epoch 83/1000, Train Loss: 18.7479, Validation Loss: 15.1934\n",
      "Epoch 84/1000, Train Loss: 18.3470, Validation Loss: 17.2697\n",
      "Epoch 85/1000, Train Loss: 18.0081, Validation Loss: 17.1182\n",
      "Epoch 86/1000, Train Loss: 19.1100, Validation Loss: 17.9058\n",
      "Epoch 87/1000, Train Loss: 18.1628, Validation Loss: 18.2018\n",
      "Epoch 88/1000, Train Loss: 18.1668, Validation Loss: 15.2567\n",
      "Epoch 89/1000, Train Loss: 18.6925, Validation Loss: 15.8977\n",
      "Epoch 90/1000, Train Loss: 18.2807, Validation Loss: 15.5242\n",
      "Epoch 91/1000, Train Loss: 17.5377, Validation Loss: 16.3161\n",
      "Epoch 92/1000, Train Loss: 18.0562, Validation Loss: 15.7007\n",
      "Epoch 93/1000, Train Loss: 18.9249, Validation Loss: 15.1707\n",
      "Epoch 94/1000, Train Loss: 18.0902, Validation Loss: 16.6799\n",
      "Epoch 95/1000, Train Loss: 18.5817, Validation Loss: 15.0121\n",
      "Epoch 96/1000, Train Loss: 17.8789, Validation Loss: 16.1785\n",
      "Epoch 97/1000, Train Loss: 18.2789, Validation Loss: 16.3739\n",
      "Epoch 98/1000, Train Loss: 17.9739, Validation Loss: 14.9509\n",
      "Epoch 99/1000, Train Loss: 17.6896, Validation Loss: 17.6452\n",
      "Epoch 100/1000, Train Loss: 18.4454, Validation Loss: 20.9706\n",
      "Epoch 101/1000, Train Loss: 18.7826, Validation Loss: 19.0050\n",
      "Epoch 102/1000, Train Loss: 18.3620, Validation Loss: 18.3254\n",
      "Epoch 103/1000, Train Loss: 18.2674, Validation Loss: 15.8723\n",
      "Epoch 104/1000, Train Loss: 17.8420, Validation Loss: 17.3965\n",
      "Epoch 105/1000, Train Loss: 17.8549, Validation Loss: 17.1212\n",
      "Epoch 106/1000, Train Loss: 17.8458, Validation Loss: 16.0659\n",
      "Epoch 107/1000, Train Loss: 18.1601, Validation Loss: 17.1418\n",
      "Epoch 108/1000, Train Loss: 18.3596, Validation Loss: 17.9059\n",
      "Epoch 109/1000, Train Loss: 18.2146, Validation Loss: 15.9393\n",
      "Epoch 110/1000, Train Loss: 17.8997, Validation Loss: 14.9894\n",
      "Epoch 111/1000, Train Loss: 17.9643, Validation Loss: 17.5234\n",
      "Epoch 112/1000, Train Loss: 17.5528, Validation Loss: 18.2334\n",
      "Epoch 113/1000, Train Loss: 17.5514, Validation Loss: 15.1991\n",
      "Epoch 114/1000, Train Loss: 17.3460, Validation Loss: 16.3242\n",
      "Epoch 115/1000, Train Loss: 17.6796, Validation Loss: 16.1997\n",
      "Epoch 116/1000, Train Loss: 17.3921, Validation Loss: 20.6716\n",
      "Epoch 117/1000, Train Loss: 17.6800, Validation Loss: 15.7116\n",
      "Epoch 118/1000, Train Loss: 18.1086, Validation Loss: 15.0646\n",
      "Epoch 00119: reducing learning rate of group 0 to 1.0000e-04.\n",
      "Epoch 119/1000, Train Loss: 17.7265, Validation Loss: 15.4544\n",
      "Epoch 120/1000, Train Loss: 16.4789, Validation Loss: 14.5186\n",
      "Epoch 121/1000, Train Loss: 16.4238, Validation Loss: 14.6295\n",
      "Epoch 122/1000, Train Loss: 16.3698, Validation Loss: 14.3638\n",
      "Epoch 123/1000, Train Loss: 16.4469, Validation Loss: 14.3712\n",
      "Epoch 124/1000, Train Loss: 16.1122, Validation Loss: 14.7500\n",
      "Epoch 125/1000, Train Loss: 16.1502, Validation Loss: 14.2086\n",
      "Epoch 126/1000, Train Loss: 16.3921, Validation Loss: 14.6499\n",
      "Epoch 127/1000, Train Loss: 16.0387, Validation Loss: 14.3887\n",
      "Epoch 128/1000, Train Loss: 16.1495, Validation Loss: 14.6682\n",
      "Epoch 129/1000, Train Loss: 16.1127, Validation Loss: 14.5242\n",
      "Epoch 130/1000, Train Loss: 16.2782, Validation Loss: 14.5055\n",
      "Epoch 131/1000, Train Loss: 16.0089, Validation Loss: 15.3352\n",
      "Epoch 132/1000, Train Loss: 16.2128, Validation Loss: 14.7050\n",
      "Epoch 133/1000, Train Loss: 16.5135, Validation Loss: 14.1254\n"
     ]
    },
    {
     "name": "stdout",
     "output_type": "stream",
     "text": [
      "Epoch 134/1000, Train Loss: 16.1862, Validation Loss: 14.7210\n",
      "Epoch 135/1000, Train Loss: 16.2712, Validation Loss: 14.7868\n",
      "Epoch 136/1000, Train Loss: 15.7987, Validation Loss: 14.2237\n",
      "Epoch 137/1000, Train Loss: 15.8598, Validation Loss: 14.1201\n",
      "Epoch 138/1000, Train Loss: 16.1130, Validation Loss: 15.4781\n",
      "Epoch 139/1000, Train Loss: 15.9560, Validation Loss: 14.2838\n",
      "Epoch 140/1000, Train Loss: 15.9334, Validation Loss: 14.3425\n",
      "Epoch 141/1000, Train Loss: 16.0131, Validation Loss: 14.5523\n",
      "Epoch 142/1000, Train Loss: 15.8110, Validation Loss: 15.0497\n",
      "Epoch 143/1000, Train Loss: 16.1467, Validation Loss: 14.3959\n",
      "Epoch 144/1000, Train Loss: 15.9113, Validation Loss: 15.2376\n",
      "Epoch 145/1000, Train Loss: 15.8585, Validation Loss: 14.5613\n",
      "Epoch 146/1000, Train Loss: 15.9558, Validation Loss: 14.8966\n",
      "Epoch 147/1000, Train Loss: 16.0193, Validation Loss: 15.4401\n",
      "Epoch 148/1000, Train Loss: 15.8906, Validation Loss: 14.5840\n",
      "Epoch 149/1000, Train Loss: 16.0922, Validation Loss: 14.6589\n",
      "Epoch 150/1000, Train Loss: 16.1941, Validation Loss: 14.5956\n",
      "Epoch 151/1000, Train Loss: 15.7406, Validation Loss: 14.8311\n",
      "Epoch 152/1000, Train Loss: 16.0747, Validation Loss: 14.6315\n",
      "Epoch 153/1000, Train Loss: 16.0845, Validation Loss: 14.1470\n",
      "Epoch 154/1000, Train Loss: 16.0161, Validation Loss: 14.6406\n",
      "Epoch 155/1000, Train Loss: 15.9289, Validation Loss: 14.3047\n",
      "Epoch 156/1000, Train Loss: 15.7867, Validation Loss: 15.3097\n",
      "Epoch 157/1000, Train Loss: 15.9748, Validation Loss: 14.4525\n",
      "Epoch 00158: reducing learning rate of group 0 to 1.0000e-05.\n",
      "Epoch 158/1000, Train Loss: 15.6368, Validation Loss: 14.6883\n",
      "Epoch 159/1000, Train Loss: 15.7864, Validation Loss: 14.6001\n",
      "Epoch 160/1000, Train Loss: 15.8643, Validation Loss: 14.5082\n",
      "Epoch 161/1000, Train Loss: 15.8266, Validation Loss: 14.6339\n",
      "Epoch 162/1000, Train Loss: 15.8673, Validation Loss: 14.3915\n",
      "Epoch 163/1000, Train Loss: 15.9628, Validation Loss: 14.3684\n",
      "Epoch 164/1000, Train Loss: 15.8508, Validation Loss: 14.5923\n",
      "Epoch 165/1000, Train Loss: 16.0253, Validation Loss: 14.3972\n",
      "Epoch 166/1000, Train Loss: 15.7214, Validation Loss: 14.5885\n",
      "Epoch 167/1000, Train Loss: 15.7872, Validation Loss: 14.4009\n"
     ]
    }
   ],
   "source": [
    "epoch_counter = 0\n",
    "patience = 30\n",
    "best_loss = float('inf')\n",
    "done = False\n",
    "es = EarlyStopping(patience=patience)\n",
    "tr_losses_fp, val_losses_fp = [],[]\n",
    "\n",
    "while not done and epoch_counter<EPOCHS:\n",
    "    epoch_counter+=1\n",
    "\n",
    "    # train\n",
    "    model.train()\n",
    "    train_losses = []\n",
    "    for x_batch,y_batch in train_loader:\n",
    "        optimizer.zero_grad()\n",
    "        output = model(x_batch)\n",
    "        loss = criterion(output,y_batch)\n",
    "        loss.backward()\n",
    "        optimizer.step()\n",
    "        train_losses.append(loss.item())\n",
    "    train_loss = np.mean(train_losses)\n",
    "    tr_losses_fp.append(train_loss)\n",
    "\n",
    "    # validation\n",
    "    model.eval()\n",
    "    val_losses = []\n",
    "    with torch.no_grad():\n",
    "        for x_batch, y_batch in val_loader:\n",
    "            output = model(x_batch)\n",
    "            loss = criterion(output, y_batch)\n",
    "            val_losses.append(loss.item())\n",
    "    val_loss = np.mean(val_losses)\n",
    "    val_losses_fp.append(val_loss)\n",
    "    scheduler.step(val_loss)\n",
    "\n",
    "    if es(model, val_loss):\n",
    "        done = True\n",
    "\n",
    "    if val_loss < best_loss:\n",
    "        best_loss = val_loss\n",
    "        \n",
    "    print(f\"Epoch {epoch_counter}/{EPOCHS}, Train Loss: {train_loss:.4f}, Validation Loss: {val_loss:.4f}\")"
   ]
  },
  {
   "cell_type": "code",
   "execution_count": 13,
   "id": "5b304f54",
   "metadata": {},
   "outputs": [
    {
     "name": "stdout",
     "output_type": "stream",
     "text": [
      "Best validation loss : 14.120079549153646\n"
     ]
    }
   ],
   "source": [
    "print(f\"Best validation loss : {best_loss}\")"
   ]
  },
  {
   "cell_type": "markdown",
   "id": "p35Js3JKvX-b",
   "metadata": {
    "id": "p35Js3JKvX-b"
   },
   "source": [
    "### Visualize train-validation loss"
   ]
  },
  {
   "cell_type": "code",
   "execution_count": 14,
   "id": "c7ecdc23",
   "metadata": {
    "ExecuteTime": {
     "end_time": "2024-02-12T17:58:11.260213Z",
     "start_time": "2024-02-12T17:58:09.987506Z"
    },
    "colab": {
     "base_uri": "https://localhost:8080/",
     "height": 430
    },
    "id": "c7ecdc23",
    "outputId": "33148bb2-2136-4751-d334-f67609352927"
   },
   "outputs": [
    {
     "data": {
      "image/png": "[encoded data removed]",
      "text/plain": [
       "<Figure size 640x480 with 1 Axes>"
      ]
     },
     "metadata": {},
     "output_type": "display_data"
    }
   ],
   "source": [
    "import matplotlib.pyplot as plt\n",
    "plt.plot(range(len(tr_losses_fp)),tr_losses_fp,color='blue',label='train_loss')\n",
    "plt.plot(range(len(val_losses_fp)),val_losses_fp,color='red',label='val_loss')\n",
    "plt.legend()\n",
    "plt.show()"
   ]
  },
  {
   "cell_type": "markdown",
   "id": "GEyCVeaSveqh",
   "metadata": {
    "id": "GEyCVeaSveqh"
   },
   "source": [
    "### Prediction"
   ]
  },
  {
   "cell_type": "code",
   "execution_count": 15,
   "id": "422f4919",
   "metadata": {
    "ExecuteTime": {
     "end_time": "2024-02-12T17:58:11.291597Z",
     "start_time": "2024-02-12T17:58:11.262216Z"
    },
    "id": "422f4919"
   },
   "outputs": [
    {
     "name": "stdout",
     "output_type": "stream",
     "text": [
      "[[470.9289  471.3504  471.40762 471.3727  471.90555 471.60095 471.14545\n",
      "  472.47534 472.7346  472.20914]]\n"
     ]
    }
   ],
   "source": [
    "# evaluation\n",
    "model.eval()\n",
    "with torch.no_grad():\n",
    "    X_test = torch.tensor(X_test.astype(np.float32), dtype = torch.float32)\n",
    "    pred = model(X_test)\n",
    "\n",
    "pred = pred.detach().numpy()\n",
    "print(pred)"
   ]
  },
  {
   "cell_type": "code",
   "execution_count": 16,
   "id": "f48ebd4a",
   "metadata": {},
   "outputs": [],
   "source": [
    "if TARGET == \"1d_ROC\" :\n",
    "    endPrice = data['Close'].iloc[-1]\n",
    "    pred_close = []\n",
    "\n",
    "    for i in pred[0] :\n",
    "        endPrice = endPrice + endPrice*0.01*i\n",
    "        pred_close.append(endPrice)\n",
    "\n",
    "    pred = np.array(pred_close).reshape(1, PRED_SIZE)\n",
    "    pred\n",
    "else :\n",
    "    pass"
   ]
  },
  {
   "cell_type": "code",
   "execution_count": 17,
   "id": "c0128f22",
   "metadata": {
    "ExecuteTime": {
     "end_time": "2024-02-12T17:58:11.493811Z",
     "start_time": "2024-02-12T17:58:11.309357Z"
    },
    "colab": {
     "base_uri": "https://localhost:8080/",
     "height": 430
    },
    "id": "c0128f22",
    "outputId": "7b885602-ad8d-4661-c240-879c5f0ad0ec"
   },
   "outputs": [
    {
     "data": {
      "image/png": "[encoded data removed]",
      "text/plain": [
       "<Figure size 640x480 with 1 Axes>"
      ]
     },
     "metadata": {},
     "output_type": "display_data"
    }
   ],
   "source": [
    "pred_length = len(np.reshape(pred, (-1)))\n",
    "pred_indices = list(range(pred_length))\n",
    "plt.plot(pred_indices, np.reshape(pred, (-1)), color='red', alpha=0.6, label='Prediction')\n",
    "plt.legend()\n",
    "\n",
    "plt.show()"
   ]
  },
  {
   "cell_type": "markdown",
   "id": "px8U_s7cvwZ0",
   "metadata": {
    "id": "px8U_s7cvwZ0"
   },
   "source": [
    "### Evaluation"
   ]
  },
  {
   "cell_type": "code",
   "execution_count": 20,
   "id": "5733ca84",
   "metadata": {
    "colab": {
     "base_uri": "https://localhost:8080/",
     "height": 751
    },
    "id": "5733ca84",
    "outputId": "69de5ace-04f6-4f23-e16c-66d73e48fd2c",
    "scrolled": false
   },
   "outputs": [
    {
     "data": {
      "image/png": "[encoded data removed]",
      "text/plain": [
       "<Figure size 1200x600 with 1 Axes>"
      ]
     },
     "metadata": {},
     "output_type": "display_data"
    },
    {
     "data": {
      "text/plain": [
       "{'2024-01-02': 0.5184405641342049,\n",
       " '2024-01-03': 0.23187233275874178,\n",
       " '2024-01-04': 0.6872936374711676,\n",
       " '2024-01-05': 0.5668668139812212,\n",
       " '2024-01-08': 2.7059051820087108,\n",
       " '2024-01-09': 2.175744747155609,\n",
       " '2024-01-10': 1.5020076563577935,\n",
       " '2024-01-11': 4.01329829614713,\n",
       " '2024-01-12': 3.9469707771767615,\n",
       " '2024-01-16': 1.8765819626609144}"
      ]
     },
     "execution_count": 20,
     "metadata": {},
     "output_type": "execute_result"
    }
   ],
   "source": [
    "# Label\n",
    "label = pd.read_csv('2024_JAN.csv') # 각자 test.csv 파일 경로\n",
    "label = np.array(label.head(PRED_SIZE)[\"Close Price\"])\n",
    "\n",
    "# Prediction\n",
    "pred = np.array(pred).reshape(PRED_SIZE)\n",
    "\n",
    "# 날짜 데이터\n",
    "period = pd.read_csv('2024_JAN.csv')[\"Date\"]\n",
    "period = [d for d in period.head(PRED_SIZE)]\n",
    "\n",
    "# 오차율 계산\n",
    "error_rate = np.abs((label - pred) / label) * 100\n",
    "\n",
    "# 시각화\n",
    "plt.figure(figsize=(12, 6))\n",
    "plt.plot(period, label, marker='o', color='blue', label='Actual Close Price')\n",
    "plt.plot(period, pred, marker='x', color='red', linestyle='--', label='Predicted Close Price')\n",
    "\n",
    "# 오차율을 각 포인트에 텍스트로 표시\n",
    "for date, lbl, prd, err in zip(period, label, pred, error_rate):\n",
    "    plt.text(date, prd, f'{err:.2f}%', color='black', ha='right', va='bottom')\n",
    "\n",
    "plt.xticks(rotation = 45)  # 날짜 레이블 회전\n",
    "plt.xlabel('Date')\n",
    "plt.ylabel('Close Price')\n",
    "plt.title(f'model = LSTM, data = {dataname}, target = {TARGET}, seq_size = {SEQ_SIZE}, pred_size = {PRED_SIZE}, batch_size = {BATCH_SIZE}, model_size = {HIDDEN_SIZE}')\n",
    "plt.legend()\n",
    "plt.tight_layout()  # 레이아웃 조정\n",
    "plt.show()\n",
    "\n",
    "# 오차율을 출력\n",
    "error_rate_dict = dict(zip(period, error_rate))\n",
    "error_rate_dict"
   ]
  },
  {
   "cell_type": "code",
   "execution_count": 19,
   "id": "iPM0up4JhqP-",
   "metadata": {
    "colab": {
     "base_uri": "https://localhost:8080/"
    },
    "id": "iPM0up4JhqP-",
    "outputId": "a118635b-726d-4e6f-c976-50d6e133f128"
   },
   "outputs": [
    {
     "name": "stdout",
     "output_type": "stream",
     "text": [
      "Average Error Rate: 1.82%\n"
     ]
    }
   ],
   "source": [
    "# 평균 오차율 계산\n",
    "average_error_rate = np.mean(error_rate)\n",
    "\n",
    "print(f\"Average Error Rate: {average_error_rate:.2f}%\")"
   ]
  }
 ],
 "metadata": {
  "colab": {
   "provenance": []
  },
  "kernelspec": {
   "display_name": "sol",
   "language": "python",
   "name": "sol"
  },
  "language_info": {
   "codemirror_mode": {
    "name": "ipython",
    "version": 3
   },
   "file_extension": ".py",
   "mimetype": "text/x-python",
   "name": "python",
   "nbconvert_exporter": "python",
   "pygments_lexer": "ipython3",
   "version": "3.10.13"
  },
  "toc": {
   "base_numbering": 1,
   "nav_menu": {},
   "number_sections": false,
   "sideBar": true,
   "skip_h1_title": false,
   "title_cell": "Table of Contents",
   "title_sidebar": "Contents",
   "toc_cell": false,
   "toc_position": {},
   "toc_section_display": true,
   "toc_window_display": false
  }
 },
 "nbformat": 4,
 "nbformat_minor": 5
}
